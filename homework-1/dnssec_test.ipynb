{
 "cells": [
  {
   "cell_type": "code",
   "execution_count": 4,
   "metadata": {
    "collapsed": true
   },
   "outputs": [],
   "source": [
    "import dns.name\n",
    "import dns.query\n",
    "import dns.dnssec\n",
    "import dns.message\n",
    "import dns.resolver\n",
    "import dns.rdatatype\n",
    "import re\n",
    "import ipaddress\n",
    "import time\n",
    "import datetime\n",
    "import random"
   ]
  },
  {
   "cell_type": "code",
   "execution_count": 5,
   "metadata": {
    "collapsed": true
   },
   "outputs": [],
   "source": [
    "rdtype_dic = {\n",
    "    'A': 1      ,\n",
    "    'NS':2      ,\n",
    "    'DS':43     ,\n",
    "    'RRSIG': 46 ,\n",
    "    'DNSKEY':48 ,\n",
    "}"
   ]
  },
  {
   "cell_type": "code",
   "execution_count": 6,
   "metadata": {
    "collapsed": true
   },
   "outputs": [],
   "source": [
    "def print_response(response):\n",
    "    '''Print the response's answer, authority, and additional\n",
    "    \n",
    "    Args:\n",
    "        response (dns.message.Message): a response of a single iterative DNS query\n",
    "    '''\n",
    "    print('\\n', 'QUESTION:')\n",
    "    for i in response.question:\n",
    "        print(i.to_text())\n",
    "    \n",
    "    print('\\n', 'ANSWER:')\n",
    "    for i in response.answer:\n",
    "        print(i.to_text())\n",
    "    \n",
    "    print('\\n', 'AUTHORITY:')\n",
    "    for i in response.authority:\n",
    "        print(i.to_text())\n",
    "        \n",
    "    print('\\n', 'ADDITIONAL:')\n",
    "    for i in response.additional:\n",
    "        print(i.to_text())"
   ]
  },
  {
   "cell_type": "markdown",
   "metadata": {},
   "source": [
    "# Paypal"
   ]
  },
  {
   "cell_type": "code",
   "execution_count": 7,
   "metadata": {},
   "outputs": [
    {
     "name": "stdout",
     "output_type": "stream",
     "text": [
      "\n",
      " QUESTION:\n",
      "paypal.com. IN A\n",
      "\n",
      " ANSWER:\n",
      "\n",
      " AUTHORITY:\n",
      "com. 172800 IN NS a.gtld-servers.net.\n",
      "com. 172800 IN NS b.gtld-servers.net.\n",
      "com. 172800 IN NS c.gtld-servers.net.\n",
      "com. 172800 IN NS d.gtld-servers.net.\n",
      "com. 172800 IN NS e.gtld-servers.net.\n",
      "com. 172800 IN NS f.gtld-servers.net.\n",
      "com. 172800 IN NS g.gtld-servers.net.\n",
      "com. 172800 IN NS h.gtld-servers.net.\n",
      "com. 172800 IN NS i.gtld-servers.net.\n",
      "com. 172800 IN NS j.gtld-servers.net.\n",
      "com. 172800 IN NS k.gtld-servers.net.\n",
      "com. 172800 IN NS l.gtld-servers.net.\n",
      "com. 172800 IN NS m.gtld-servers.net.\n",
      "com. 86400 IN DS 30909 8 2 e2d3c916f6deeac73294e8268fb5885044a833fc5459588f4a9184cfc41a5766\n",
      "com. 86400 IN RRSIG DS 8 1 86400 20180304050000 20180219040000 41824 . c4u9828FARDtrKaT70N1cwIKt7GgEPWW /f97LIq68FmvZguNzyIl83trGYPmcieb rJOpPYay5nF4Qi8eupQ01oVNzJxi7Pb9 oI0DO4vYMpUQGsPn2tGYu8ih+C2uoWgY hWecmfVcR9Ch9IfDlafO1mTezdznLQtl BEQJFaJIHBu1IDsXZmQRdRV2px/lWYSz vuOKl65yRNM599hXwON2HRbOIqhJKOGk K20PaxA8sXfQP2xqscONN49I/N5Doem5 ILc9X6diPYiamvuFe8YLtAVpTxW/vaUN ri/wwmrqQjhOmeQD5tXYyAEULLOeoMzM fMMfZUISsZOnjSR5GAIEkw==\n",
      "\n",
      " ADDITIONAL:\n",
      "a.gtld-servers.net. 172800 IN A 192.5.6.30\n",
      "b.gtld-servers.net. 172800 IN A 192.33.14.30\n",
      "c.gtld-servers.net. 172800 IN A 192.26.92.30\n",
      "d.gtld-servers.net. 172800 IN A 192.31.80.30\n",
      "e.gtld-servers.net. 172800 IN A 192.12.94.30\n",
      "f.gtld-servers.net. 172800 IN A 192.35.51.30\n",
      "g.gtld-servers.net. 172800 IN A 192.42.93.30\n",
      "h.gtld-servers.net. 172800 IN A 192.54.112.30\n",
      "i.gtld-servers.net. 172800 IN A 192.43.172.30\n",
      "j.gtld-servers.net. 172800 IN A 192.48.79.30\n",
      "k.gtld-servers.net. 172800 IN A 192.52.178.30\n",
      "l.gtld-servers.net. 172800 IN A 192.41.162.30\n",
      "m.gtld-servers.net. 172800 IN A 192.55.83.30\n",
      "a.gtld-servers.net. 172800 IN AAAA 2001:503:a83e::2:30\n",
      "b.gtld-servers.net. 172800 IN AAAA 2001:503:231d::2:30\n",
      "c.gtld-servers.net. 172800 IN AAAA 2001:503:83eb::30\n",
      "d.gtld-servers.net. 172800 IN AAAA 2001:500:856e::30\n",
      "e.gtld-servers.net. 172800 IN AAAA 2001:502:1ca1::30\n",
      "f.gtld-servers.net. 172800 IN AAAA 2001:503:d414::30\n",
      "g.gtld-servers.net. 172800 IN AAAA 2001:503:eea3::30\n",
      "h.gtld-servers.net. 172800 IN AAAA 2001:502:8cc::30\n",
      "i.gtld-servers.net. 172800 IN AAAA 2001:503:39c1::30\n",
      "j.gtld-servers.net. 172800 IN AAAA 2001:502:7094::30\n",
      "k.gtld-servers.net. 172800 IN AAAA 2001:503:d2d::30\n",
      "l.gtld-servers.net. 172800 IN AAAA 2001:500:d937::30\n",
      "m.gtld-servers.net. 172800 IN AAAA 2001:501:b1f9::30\n"
     ]
    }
   ],
   "source": [
    "a_query = dns.message.make_query('paypal.com', 'A', want_dnssec=True)\n",
    "response1 = dns.query.udp(a_query, '198.41.0.4')\n",
    "print_response(response1)"
   ]
  },
  {
   "cell_type": "code",
   "execution_count": 8,
   "metadata": {},
   "outputs": [
    {
     "name": "stdout",
     "output_type": "stream",
     "text": [
      "\n",
      " QUESTION:\n",
      ". IN DNSKEY\n",
      "\n",
      " ANSWER:\n",
      ". 172800 IN DNSKEY 257 3 8 AwEAAagAIKlVZrpC6Ia7gEzahOR+9W29 euxhJhVVLOyQbSEW0O8gcCjFFVQUTf6v 58fLjwBd0YI0EzrAcQqBGCzh/RStIoO8 g0NfnfL2MTJRkxoXbfDaUeVPQuYEhg37 NZWAJQ9VnMVDxP/VHL496M/QZxkjf5/E fucp2gaDX6RS6CXpoY68LsvPVjR0ZSwz z1apAzvN9dlzEheX7ICJBBtuA6G3LQpz W5hOA2hzCTMjJPJ8LbqF6dsV6DoBQzgu l0sGIcGOYl7OyQdXfZ57relSQageu+ip AdTTJ25AsRTAoub8ONGcLmqrAmRLKBP1 dfwhYB4N7knNnulqQxA+Uk1ihz0=\n",
      ". 172800 IN DNSKEY 257 3 8 AwEAAaz/tAm8yTn4Mfeh5eyI96WSVexT BAvkMgJzkKTOiW1vkIbzxeF3+/4RgWOq 7HrxRixHlFlExOLAJr5emLvN7SWXgnLh 4+B5xQlNVz8Og8kvArMtNROxVQuCaSnI DdD5LKyWbRd2n9WGe2R8PzgCmr3EgVLr jyBxWezF0jLHwVN8efS3rCj/EWgvIWgb 9tarpVUDK/b58Da+sqqls3eNbuv7pr+e oZG+SrDK6nWeL3c6H5Apxz7LjVc1uTId sIXxuOLYA4/ilBmSVIzuDWfdRUfhHdY6 +cn8HFRm+2hM8AnXGXws9555KrUB5qih ylGa8subX2Nn6UwNR1AkUTV74bU=\n",
      ". 172800 IN DNSKEY 256 3 8 AwEAAaDJd0KOMYGCEF0/cftC2hrFtz5G Sn1HOiaxEp053AfbxQ3pT8BEtahPiUkC o1Qx4PECJ23YwaFhfWWjapr6AFxhD8kl fZGp95ickoRlm91ZzXX/mcfn9vlUpZK2 M8qjljNMzZJSopFY+cxRvib2Irb6YeP2 a0vppaLnvR4BeOyEkQolLqvVHW7UqDFi P/CM15BWBsAIdbyo8L1h3OeP63TaYIrW ttjGBILeZinSaJ39amiVs8t00RjTaKVo 3vY2k6dje1Rh1ELqjNj8+cKA8iWC3VU7 ApkyuGDy631RDILa6wCgcBVCzfFfOthQ ILxQra88tNWzCVoryQ89f1WjBJc=\n",
      ". 172800 IN RRSIG DNSKEY 8 0 172800 20180303000000 20180210000000 19036 . nj9/XRm5qNSJZ8fK5ijoNji4IO+ETor4 A71887PrU9ZyLClfkvONlZPOGw2dm6k5 JxZYGpKllm7YzztUXe50jKcYmvnjunVt 0bgsvA27TirBQ1uqHkNgdKzT3KnTh/lD O6GWOBBtJF12WVNbNuo8ZptOy4LCOAT3 zQVILHkc15u9B4byrwcIYxhKZgfU3Dam b60UG1NNSiK8AiOECAHQwi+4kCfDHzjb 6YorcyEMvZjyo2W/Ins1/b3LsDHh8ZmC CCiC+0EojlQXs7PZqNtMuu6texFDJXWP clX2HrNr+Gy1HyKgRP/sZQvb6QUg5vJZ nMlwPGc2HgxPoJ5Jfd9+VQ==\n",
      "\n",
      " AUTHORITY:\n",
      "\n",
      " ADDITIONAL:\n"
     ]
    }
   ],
   "source": [
    "b_query = dns.message.make_query('.', 'DNSKEY', want_dnssec=True)\n",
    "response2 = dns.query.udp(b_query, '198.41.0.4')\n",
    "print_response(response2)"
   ]
  },
  {
   "cell_type": "code",
   "execution_count": 9,
   "metadata": {
    "collapsed": true
   },
   "outputs": [],
   "source": [
    "def get_rrset(response, rdtype):\n",
    "    '''Get the desired rrset (DNSKEY, DS, A, NS), RRSIG and name from the response, their RRSIG\n",
    "    \n",
    "    Args:\n",
    "        response (dns.message.Message): a response of a single iterative DNS query\n",
    "        rdtype (str): rrset type\n",
    "        \n",
    "    Return:\n",
    "        (rrset, rrsig, name) of desired rdtype\n",
    "    '''\n",
    "    try:\n",
    "        if rdtype == 'DNSKEY' or rdtype == 'A':\n",
    "            dnskey_or_a, rrsig, name = '', '', ''\n",
    "            for rrset in response.answer:      # from observation, DNSKEY and A record is in ANSWER section\n",
    "                if rrset.rdtype == rdtype_dic['RRSIG']:\n",
    "                    rrsig = rrset\n",
    "                else:   # rrset.rdtype == rdtype_dic['DNSKEY'] or ['A']:\n",
    "                    dnskey_or_a = rrset\n",
    "                    name = rrset.name\n",
    "            return dnskey_or_a, rrsig, name\n",
    "        if rdtype == 'DS' or rdtype == 'NS':\n",
    "            ds_or_ns, rrsig, name = '', '', ''\n",
    "            for rrset in response.authority:   # from observation, DS and NS record is in AUTHORITY section\n",
    "                if rrset.rdtype == rdtype_dic['RRSIG']:\n",
    "                    rrsig = rrset\n",
    "                else:\n",
    "                    ds_or_ns = rrset\n",
    "                    name = rrset.name\n",
    "            return ds_or_ns, rrsig, name\n",
    "    except Exception as e:\n",
    "        print('Oops! Bug in get_rrset')\n",
    "        raise e          "
   ]
  },
  {
   "cell_type": "code",
   "execution_count": 10,
   "metadata": {
    "collapsed": true
   },
   "outputs": [],
   "source": [
    "def verify_dnskey(response):\n",
    "    '''Verify the dnskey in response. If success, return name_key and dnskey\n",
    "    \n",
    "    Args:\n",
    "        response (dns.message.Message): a response that contains DNSKEY record\n",
    "        \n",
    "    Return:\n",
    "        return (dnskey, name) if success\n",
    "    '''\n",
    "    try:\n",
    "        dnskey, rrsig_key, name_key = get_rrset(response, 'DNSKEY')\n",
    "        dns.dnssec.validate(dnskey, rrsig_key, {name_key:dnskey})\n",
    "    except Exception as e:\n",
    "        raise e\n",
    "    else:\n",
    "        print('Congrats! DNSKEYs are good~', name_key)\n",
    "        return name_key, dnskey"
   ]
  },
  {
   "cell_type": "code",
   "execution_count": 11,
   "metadata": {},
   "outputs": [
    {
     "name": "stdout",
     "output_type": "stream",
     "text": [
      "Congrats! DNSKEYs are good~ .\n"
     ]
    },
    {
     "data": {
      "text/plain": [
       "(<DNS name .>, <DNS . IN DNSKEY RRset>)"
      ]
     },
     "execution_count": 11,
     "metadata": {},
     "output_type": "execute_result"
    }
   ],
   "source": [
    "verify_dnskey(response2)"
   ]
  },
  {
   "cell_type": "code",
   "execution_count": 12,
   "metadata": {},
   "outputs": [
    {
     "name": "stdout",
     "output_type": "stream",
     "text": [
      "Congrats! DNSKEYs are good~\n"
     ]
    }
   ],
   "source": [
    "# verify the DNSKEY rrset\n",
    "\n",
    "try:\n",
    "    dnskey, rrsig_key, name_key = get_rrset(response2, 'DNSKEY')\n",
    "    dns.dnssec.validate(dnskey, rrsig_key, {name_key:dnskey})\n",
    "except Exception as e:\n",
    "    print('Oops! Validation failure:', e)\n",
    "else:\n",
    "    print('Congrats! DNSKEYs are good~')"
   ]
  },
  {
   "cell_type": "code",
   "execution_count": null,
   "metadata": {},
   "outputs": [],
   "source": []
  },
  {
   "cell_type": "code",
   "execution_count": 13,
   "metadata": {},
   "outputs": [
    {
     "data": {
      "text/plain": [
       "dns.rrset.RRset"
      ]
     },
     "execution_count": 13,
     "metadata": {},
     "output_type": "execute_result"
    }
   ],
   "source": [
    "type(dnskey)"
   ]
  },
  {
   "cell_type": "code",
   "execution_count": 14,
   "metadata": {},
   "outputs": [
    {
     "name": "stdout",
     "output_type": "stream",
     "text": [
      "Congrats! DS is good~\n"
     ]
    }
   ],
   "source": [
    "# verify the DS rrset\n",
    "\n",
    "try:\n",
    "    ds, rrsig_ds, name_ds = get_rrset(response1, 'DS')\n",
    "    dns.dnssec.validate(ds, rrsig_ds, {name_key:dnskey})\n",
    "except Exception as e:\n",
    "    print('Oops! Validation failure:', e)\n",
    "else:\n",
    "    print('Congrats! DS is good~')"
   ]
  },
  {
   "cell_type": "code",
   "execution_count": 15,
   "metadata": {
    "collapsed": true
   },
   "outputs": [],
   "source": [
    "trust_anchors = [\n",
    "    # KSK-2017:\n",
    "    dns.rrset.from_text('.', 1    , 'IN', 'DNSKEY', '257 3 8 AwEAAaz/tAm8yTn4Mfeh5eyI96WSVexTBAvkMgJzkKTOiW1vkIbzxeF3+/4RgWOq7HrxRixHlFlExOLAJr5emLvN7SWXgnLh4+B5xQlNVz8Og8kvArMtNROxVQuCaSnIDdD5LKyWbRd2n9WGe2R8PzgCmr3EgVLrjyBxWezF0jLHwVN8efS3rCj/EWgvIWgb9tarpVUDK/b58Da+sqqls3eNbuv7pr+eoZG+SrDK6nWeL3c6H5Apxz7LjVc1uTIdsIXxuOLYA4/ilBmSVIzuDWfdRUfhHdY6+cn8HFRm+2hM8AnXGXws9555KrUB5qihylGa8subX2Nn6UwNR1AkUTV74bU='),\n",
    "    # KSK-2010:\n",
    "    dns.rrset.from_text('.', 15202, 'IN', 'DNSKEY', '257 3 8 AwEAAagAIKlVZrpC6Ia7gEzahOR+9W29euxhJhVVLOyQbSEW0O8gcCjF FVQUTf6v58fLjwBd0YI0EzrAcQqBGCzh/RStIoO8g0NfnfL2MTJRkxoX bfDaUeVPQuYEhg37NZWAJQ9VnMVDxP/VHL496M/QZxkjf5/Efucp2gaD X6RS6CXpoY68LsvPVjR0ZSwzz1apAzvN9dlzEheX7ICJBBtuA6G3LQpz W5hOA2hzCTMjJPJ8LbqF6dsV6DoBQzgul0sGIcGOYl7OyQdXfZ57relS Qageu+ipAdTTJ25AsRTAoub8ONGcLmqrAmRLKBP1dfwhYB4N7knNnulq QxA+Uk1ihz0='),\n",
    "]"
   ]
  },
  {
   "cell_type": "code",
   "execution_count": 16,
   "metadata": {
    "collapsed": true
   },
   "outputs": [],
   "source": [
    "def get_anchor(year):\n",
    "    ''' There are two anchors, get one of the anchors\n",
    "    \n",
    "    Args:\n",
    "        year (int): 2017 or 2010\n",
    "        \n",
    "    Return:\n",
    "        trusted root key singing key (str)\n",
    "    '''\n",
    "    if year == 2017:\n",
    "        return trust_anchors[0].items[0].to_text()\n",
    "    elif year == 2010:\n",
    "        return trust_anchors[1].items[0].to_text()\n",
    "    else:\n",
    "        raise Exception('Parameter is neither 2017 nor 2010')"
   ]
  },
  {
   "cell_type": "code",
   "execution_count": 17,
   "metadata": {},
   "outputs": [
    {
     "data": {
      "text/plain": [
       "<DNS . IN DNSKEY RRset>"
      ]
     },
     "execution_count": 17,
     "metadata": {},
     "output_type": "execute_result"
    }
   ],
   "source": [
    "response2.answer[0]"
   ]
  },
  {
   "cell_type": "code",
   "execution_count": 18,
   "metadata": {},
   "outputs": [
    {
     "name": "stdout",
     "output_type": "stream",
     "text": [
      "True\n"
     ]
    }
   ],
   "source": [
    "# verify the root: compare the trust_anchors with the root's DNSKEY response\n",
    "\n",
    "dnskeys, rrsig, name = get_rrset(response2, 'DNSKEY')\n",
    "flag_trust = True\n",
    "for dnskey in dnskeys:\n",
    "    if dnskey.flags == 257:\n",
    "        try:\n",
    "            if dnskey.to_text() == get_anchor(2017):\n",
    "                continue\n",
    "            elif dnskey.to_text() == get_anchor(2010):\n",
    "                continue\n",
    "            else:\n",
    "                flag_trust = False\n",
    "                break\n",
    "        except Exception as e:\n",
    "            print(e)\n",
    "            \n",
    "print(flag_trust)"
   ]
  },
  {
   "cell_type": "code",
   "execution_count": 20,
   "metadata": {
    "collapsed": true
   },
   "outputs": [],
   "source": [
    "def verify_root(dnskey):\n",
    "    '''Verify the root by comparing the pubksk in the response and the trusted pubksk\n",
    "    \n",
    "    Args:\n",
    "        dnskey (dns.rrset.RRset)\n",
    "        \n",
    "    \n",
    "    '''\n",
    "    for dnskey in dnskeys:\n",
    "        if dnskey.flags == 257:\n",
    "            if dnskey.to_text() == get_anchor(2017):\n",
    "                continue\n",
    "            elif dnskey.to_text() == get_anchor(2010):\n",
    "                continue\n",
    "            else:\n",
    "                raise Exception('Does not match trusted pubksk')\n",
    "    else:\n",
    "        print('Root verified')"
   ]
  },
  {
   "cell_type": "code",
   "execution_count": 21,
   "metadata": {},
   "outputs": [
    {
     "data": {
      "text/plain": [
       "dns.rrset.RRset"
      ]
     },
     "execution_count": 21,
     "metadata": {},
     "output_type": "execute_result"
    }
   ],
   "source": [
    "type(dnskeys)"
   ]
  },
  {
   "cell_type": "code",
   "execution_count": 22,
   "metadata": {},
   "outputs": [
    {
     "name": "stdout",
     "output_type": "stream",
     "text": [
      "\n",
      " QUESTION:\n",
      "paypal.com. IN A\n",
      "\n",
      " ANSWER:\n",
      "\n",
      " AUTHORITY:\n",
      "paypal.com. 172800 IN NS pdns100.ultradns.net.\n",
      "paypal.com. 172800 IN NS pdns100.ultradns.com.\n",
      "paypal.com. 172800 IN NS ns1.p57.dynect.net.\n",
      "paypal.com. 172800 IN NS ns2.p57.dynect.net.\n",
      "paypal.com. 86400 IN DS 21037 5 2 0df17b28554954d819e0ceeab98fcfcd56572a4cf4f551f0a9be6d04db2f65c3\n",
      "paypal.com. 86400 IN RRSIG DS 8 2 86400 20180225051533 20180218040533 46967 com. EbElQjsNEDtglmyE06dUwNhc3LPxQxNq NslvgrueZy3tMxQlTISyoEVEyrhtX7oV D1VbH5lbOq8IeNpw3sMMMaoxy4q6CBAl AwFYZCqak/bp/d//Yv138JWbiNClmCD/ 9yo11rITR1IHERqtxUQE8aIc8dXO9y8J rSww/oSuZwY=\n",
      "\n",
      " ADDITIONAL:\n",
      "pdns100.ultradns.net. 172800 IN A 156.154.65.100\n",
      "pdns100.ultradns.net. 172800 IN AAAA 2610:a1:1014::88\n",
      "pdns100.ultradns.com. 172800 IN A 156.154.64.100\n",
      "pdns100.ultradns.com. 172800 IN AAAA 2001:502:f3ff::88\n",
      "ns1.p57.dynect.net. 172800 IN A 208.78.70.57\n",
      "ns2.p57.dynect.net. 172800 IN A 204.13.250.57\n"
     ]
    }
   ],
   "source": [
    "response3 = dns.query.udp(a_query, '192.5.6.30')\n",
    "print_response(response3)"
   ]
  },
  {
   "cell_type": "code",
   "execution_count": 23,
   "metadata": {},
   "outputs": [
    {
     "name": "stdout",
     "output_type": "stream",
     "text": [
      "\n",
      " QUESTION:\n",
      "com. IN DNSKEY\n",
      "\n",
      " ANSWER:\n",
      "com. 86400 IN DNSKEY 256 3 8 AQPLmJ3YIDDZPh9wYbc76pe1azHsCyIi DzBgf7fz+k4poMWHzE6f4My3VcPX2SIn /v0jPGBIEVZl2pPdY/IqOd5BfCsjrE+b BUYz6uxWiaT3wMuhfN1LNOazLQRlgU8R rEOgG1L4yFD8m9FVAisWsXLY+WQ8qIyr K/UIUwDmiFC5vQ==\n",
      "com. 86400 IN DNSKEY 257 3 8 AQPDzldNmMvZFX4NcNJ0uEnKDg7tmv/F 3MyQR0lpBmVcNcsIszxNFxsBfKNW9JYC Yqpik8366LE7VbIcNRzfp2h9OO8HRl+H +E08zauK8k7evWEmu/6od+2boggPoiEf GNyvNPaSI7FOIroDsnw/taggzHRX1Z7S OiOiPWPNIwSUyWOZ79VmcQ1GLkC6NlYv G3HwYmynQv6oFwGv/KELSw7ZSdrbTQ0H XvZbqMUI7BaMskmvgm1G7oKZ1YiF7O9i oVNc0+7ASbqmZN7Z98EGU/Qh2K/BgUe8 Hs0XVcdPKrtyYnoQHd2ynKPcMMlTEih2 /2HDHjRPJ2aywIpKNnv4oPo/\n",
      "com. 86400 IN RRSIG DNSKEY 8 1 86400 20180303192533 20180216192033 30909 com. KfTfHhzBbmAT4lLfrR8eSGeXr4QY068j 7gDmr7kW4vmSVoCPxBblazcCtT5Ew2um t0ZmyzkLzgxjjvtt7jgkML3z59HZRHm7 Y4y++xPcOQmK8CkeHhJnkoRdLeKxEZwS tlVBgML/udxBRlTp7c4YL7i62zfDNapa TqLWuXxsgOadOlcNgYRQH9qRWWc5578/ z7oP4NcHugOPCOgMPhXAJwn2Be5I9BZN SjeeJFiaG2xVuxuUqrArEdF6UZi2TB8+ U5Dcu3EGENIucovnt1O574azHclbK++M nvrPTAyUYMk62dU38IrcH/FbJcv2g/RY MOmpjw6pm2QEYO4WG+6wCg==\n",
      "\n",
      " AUTHORITY:\n",
      "\n",
      " ADDITIONAL:\n"
     ]
    }
   ],
   "source": [
    "c_query = dns.message.make_query('com.', 'DNSKEY', want_dnssec=True)\n",
    "response4 = dns.query.udp(c_query, '192.5.6.30')\n",
    "print_response(response4)"
   ]
  },
  {
   "cell_type": "code",
   "execution_count": 24,
   "metadata": {},
   "outputs": [
    {
     "name": "stdout",
     "output_type": "stream",
     "text": [
      "Congrats! DNSKEYs are good~\n"
     ]
    }
   ],
   "source": [
    "# verify the DNSKEY rrset\n",
    "\n",
    "try:\n",
    "    dnskey, rrsig_key, name_key = get_rrset(response4, 'DNSKEY')\n",
    "    dns.dnssec.validate(dnskey, rrsig_key, {name_key:dnskey})\n",
    "except Exception as e:\n",
    "    print('Oops! Validation failure:', e)\n",
    "else:\n",
    "    print('Congrats! DNSKEYs are good~')"
   ]
  },
  {
   "cell_type": "code",
   "execution_count": 25,
   "metadata": {},
   "outputs": [
    {
     "name": "stdout",
     "output_type": "stream",
     "text": [
      "Congrats! DS is good~\n"
     ]
    }
   ],
   "source": [
    "# verify the DS rrset\n",
    "\n",
    "try:\n",
    "    ds, rrsig_ds, name_ds = get_rrset(response3, 'DS')\n",
    "    dns.dnssec.validate(ds, rrsig_ds, {name_key:dnskey})\n",
    "except Exception as e:\n",
    "    print('Oops! Validation failure:', e)\n",
    "else:\n",
    "    print('Congrats! DS is good~')"
   ]
  },
  {
   "cell_type": "code",
   "execution_count": 26,
   "metadata": {},
   "outputs": [
    {
     "name": "stdout",
     "output_type": "stream",
     "text": [
      "True\n"
     ]
    }
   ],
   "source": [
    "# verify the com. zone: do a hash on com's public key signing key, then see if equals to the DS in parent\n",
    "\n",
    "rrset = response1.authority[1]\n",
    "# rrset.rdtype == 43\n",
    "trust_ds = rrset.items[0]\n",
    "algorithm = 'SHA256' if trust_ds.digest_type == 2 else 'SHA1' \n",
    "name = dns.name.from_text('com.')\n",
    "com_pubksk = response4.answer[0].items[1]\n",
    "ds = dns.dnssec.make_ds(name, com_pubksk, algorithm)\n",
    "\n",
    "if ds == trust_ds:\n",
    "    print(True)\n",
    "else:\n",
    "    print(False)"
   ]
  },
  {
   "cell_type": "code",
   "execution_count": 33,
   "metadata": {},
   "outputs": [
    {
     "name": "stdout",
     "output_type": "stream",
     "text": [
      "True\n"
     ]
    }
   ],
   "source": [
    "# verify the com. zone: do a hash on com's public key signing key, then see if equals to the DS in parent\n",
    "\n",
    "trust_ds, name = get_trust_ds(response1)\n",
    "algorithm = 'SHA256' if trust_ds.digest_type == 2 else 'SHA1' \n",
    "pubksk = get_pubksk(response4)\n",
    "ds = dns.dnssec.make_ds(name, pubksk, algorithm)\n",
    "\n",
    "if ds == trust_ds:\n",
    "    print(True)\n",
    "else:\n",
    "    print(False)"
   ]
  },
  {
   "cell_type": "code",
   "execution_count": 32,
   "metadata": {
    "collapsed": true
   },
   "outputs": [],
   "source": [
    "def verify_ds(response, name_key, dnskey):\n",
    "    '''Verify the ds in the response.\n",
    "    \n",
    "    Args:\n",
    "        response (dns.message.Message): a response that contains DS record\n",
    "        name_key (dns.name.Name): name of zone that contains the DNSKEY\n",
    "        dnskey (dns.rrset.RRset): rrset that contains public zone signing key\n",
    "    '''\n",
    "    try:\n",
    "        ds, rrsig_ds, name_ds = get_rrset(response, 'DS')\n",
    "        dns.dnssec.validate(ds, rrsig_ds, {name_key:dnskey})\n",
    "    except Exception as e:\n",
    "        raise e\n",
    "    else:\n",
    "        print('Congrats! DS is good~', name_ds)"
   ]
  },
  {
   "cell_type": "code",
   "execution_count": 31,
   "metadata": {
    "collapsed": true
   },
   "outputs": [],
   "source": [
    "def verify_zone(response, response_parent):\n",
    "    '''Verify the zone: do a hash on the zone's public key signing key, then see if equals to the DS in parent\n",
    "    \n",
    "    Args:\n",
    "        response (dns.message.Message): a response that contains pubksk to verify\n",
    "        response_parent (dns.message.Message): a parent response that has the trusted DS\n",
    "    '''\n",
    "    trust_ds, name = get_trust_ds(response_parent)\n",
    "    algorithm = 'SHA256' if trust_ds.digest_type ==2 else 'SHA1'\n",
    "    pubksk = get_pubksk(response)\n",
    "    ds = dns.dnssec.make_ds(name, pubksk, algorithm)\n",
    "    \n",
    "    if ds != trust_ds:\n",
    "        raise Exception('DS does not match!', name)\n",
    "        print('caitao')\n",
    "    print('zhan')"
   ]
  },
  {
   "cell_type": "code",
   "execution_count": null,
   "metadata": {},
   "outputs": [],
   "source": [
    "verify_zone(response4, response1)"
   ]
  },
  {
   "cell_type": "code",
   "execution_count": 30,
   "metadata": {
    "collapsed": true
   },
   "outputs": [],
   "source": [
    "def get_pubksk(response):\n",
    "    '''Get public key signing key from response\n",
    "    \n",
    "    Args:\n",
    "        response (dns.message.Message) that contains DNSKEY information\n",
    "        \n",
    "    Return:\n",
    "        a (dns.rdtypes.ANY.DNSKEY.DNSKEY) that contains public key signing key\n",
    "    '''\n",
    "    dnskey, rrsig_key, name_key = get_rrset(response, 'DNSKEY')\n",
    "    for item in dnskey:\n",
    "        if item.flags == 257:\n",
    "            return item"
   ]
  },
  {
   "cell_type": "code",
   "execution_count": 28,
   "metadata": {
    "collapsed": true
   },
   "outputs": [],
   "source": [
    "def get_trust_ds(response):\n",
    "    '''Get trust ds digest from parent's response\n",
    "    \n",
    "    Args:\n",
    "        response (dns.message.Message) from parent that contains child's DS information\n",
    "        \n",
    "    Return:\n",
    "        trusted ds digest from parent (dns.rdtypes.ANY.DS.DS), and its name (dns.name.Name)\n",
    "    '''\n",
    "    ds, rrsig_ds, name_ds = get_rrset(response, 'DS')\n",
    "    return ds.items[0], name_ds"
   ]
  },
  {
   "cell_type": "code",
   "execution_count": null,
   "metadata": {},
   "outputs": [],
   "source": [
    "response5 = dns.query.udp(a_query, '156.154.65.100')\n",
    "print_response(response5)"
   ]
  },
  {
   "cell_type": "code",
   "execution_count": null,
   "metadata": {},
   "outputs": [],
   "source": [
    "d_query = dns.message.make_query('paypal.com.', 'DNSKEY', want_dnssec=True)\n",
    "response6 = dns.query.udp(d_query, '156.154.65.100')\n",
    "print_response(response6)"
   ]
  },
  {
   "cell_type": "code",
   "execution_count": null,
   "metadata": {},
   "outputs": [],
   "source": [
    "# verify the DNSKEY rrset\n",
    "\n",
    "try:\n",
    "    dnskey, rrsig_key, name_key = get_rrset(response6, 'DNSKEY')\n",
    "    dns.dnssec.validate(dnskey, rrsig_key, {name_key:dnskey})\n",
    "except Exception as e:\n",
    "    print('Oops! Validation failure:', e)\n",
    "else:\n",
    "    print('Congrats! DNSKEYs are good~')"
   ]
  },
  {
   "cell_type": "code",
   "execution_count": null,
   "metadata": {},
   "outputs": [],
   "source": [
    "# verify the A rrset\n",
    "\n",
    "try:\n",
    "    a, rrsig_a, name_a = get_rrset(response5, 'A')\n",
    "    dns.dnssec.validate(a, rrsig_a, {name_key:dnskey})\n",
    "except Exception as e:\n",
    "    print('Oops! Validation failure:', e)\n",
    "else:\n",
    "    print('Congrats! A records are good~')"
   ]
  },
  {
   "cell_type": "code",
   "execution_count": null,
   "metadata": {},
   "outputs": [],
   "source": [
    "# verify the NS rrset\n",
    "\n",
    "try:\n",
    "    ns, rrsig_ns, name_ns = get_rrset(response5, 'NS')\n",
    "    dns.dnssec.validate(ns, rrsig_ns, {name_key:dnskey})\n",
    "except Exception as e:\n",
    "    print('Oops! Validation failure:', e)\n",
    "else:\n",
    "    print('Congrats! NS records are good~')"
   ]
  },
  {
   "cell_type": "code",
   "execution_count": null,
   "metadata": {},
   "outputs": [],
   "source": [
    "# verify the paypal.com. zone: do a hash on com's public key signing key, then see if equals to the DS in parent\n",
    "\n",
    "trust_ds, name = get_trust_ds(response3)\n",
    "algorithm = 'SHA256' if trust_ds.digest_type == 2 else 'SHA1' \n",
    "pubksk = get_pubksk(response6)\n",
    "ds = dns.dnssec.make_ds(name, pubksk, algorithm)\n",
    "\n",
    "if ds == trust_ds:\n",
    "    print(True)\n",
    "else:\n",
    "    print(False)"
   ]
  },
  {
   "cell_type": "markdown",
   "metadata": {},
   "source": [
    "# CNN"
   ]
  },
  {
   "cell_type": "code",
   "execution_count": null,
   "metadata": {},
   "outputs": [],
   "source": [
    "a_query = dns.message.make_query('cnn.com', 'A', want_dnssec=True)\n",
    "response1 = dns.query.udp(a_query, '198.41.0.4')\n",
    "print_response(response1)"
   ]
  },
  {
   "cell_type": "code",
   "execution_count": null,
   "metadata": {},
   "outputs": [],
   "source": [
    "b_query = dns.message.make_query('.', 'DNSKEY', want_dnssec=True)\n",
    "response2 = dns.query.udp(b_query, '198.41.0.4')\n",
    "print_response(response2)"
   ]
  },
  {
   "cell_type": "code",
   "execution_count": null,
   "metadata": {},
   "outputs": [],
   "source": [
    "response3 = dns.query.udp(a_query, '192.5.6.30')\n",
    "print_response(response3)"
   ]
  },
  {
   "cell_type": "code",
   "execution_count": null,
   "metadata": {
    "collapsed": true
   },
   "outputs": [],
   "source": [
    "def check_ds_exist(response):\n",
    "    '''Check whether DS record exist in the response\n",
    "    \n",
    "    Args:\n",
    "        response (dns.message.Message): a response\n",
    "        \n",
    "    Return:\n",
    "        (bool) True or False\n",
    "    '''\n",
    "    flag = False\n",
    "    for rrset in response.authority:\n",
    "        if rrset.rdtype == rdtype_dic['DS']:\n",
    "            flag = True\n",
    "            break\n",
    "    return flag"
   ]
  },
  {
   "cell_type": "code",
   "execution_count": null,
   "metadata": {},
   "outputs": [],
   "source": [
    "check_ds_exist(response2)"
   ]
  },
  {
   "cell_type": "code",
   "execution_count": null,
   "metadata": {},
   "outputs": [],
   "source": [
    "c_query = dns.message.make_query('com.', 'DNSKEY', want_dnssec=True)\n",
    "response4 = dns.query.udp(c_query, '192.5.6.30')\n",
    "print_response(response4)"
   ]
  },
  {
   "cell_type": "code",
   "execution_count": null,
   "metadata": {},
   "outputs": [],
   "source": [
    "response6 = dns.query.udp(b_query, '205.251.192.47')\n",
    "print_response(response6)"
   ]
  },
  {
   "cell_type": "markdown",
   "metadata": {
    "collapsed": true
   },
   "source": [
    "# dnssec-failed.org"
   ]
  },
  {
   "cell_type": "code",
   "execution_count": null,
   "metadata": {},
   "outputs": [],
   "source": [
    "a_query = dns.message.make_query('dnssec-failed.org', 'A', want_dnssec=True)\n",
    "response1 = dns.query.udp(a_query, '198.41.0.4')\n",
    "print_response(response1)"
   ]
  },
  {
   "cell_type": "code",
   "execution_count": null,
   "metadata": {},
   "outputs": [],
   "source": [
    "b_query = dns.message.make_query('.', 'DNSKEY', want_dnssec=True)\n",
    "response2 = dns.query.udp(b_query, '198.41.0.4')\n",
    "print_response(response2)"
   ]
  },
  {
   "cell_type": "code",
   "execution_count": null,
   "metadata": {},
   "outputs": [],
   "source": [
    "name_key, dnskey = verify_dnskey(response2)\n",
    "verify_ds(response1, name_key, dnskey)\n",
    "verify_root(dnskey)"
   ]
  },
  {
   "cell_type": "code",
   "execution_count": null,
   "metadata": {},
   "outputs": [],
   "source": [
    "response3 = dns.query.udp(a_query, '199.19.56.1')\n",
    "print_response(response3)"
   ]
  },
  {
   "cell_type": "code",
   "execution_count": 47,
   "metadata": {},
   "outputs": [
    {
     "name": "stdout",
     "output_type": "stream",
     "text": [
      "\n",
      " QUESTION:\n",
      "org. IN RRSIG\n",
      "\n",
      " ANSWER:\n",
      "org. 86400 IN RRSIG NS 7 1 86400 20180310152953 20180217142953 1862 org. GHoBxF9AC2tpfGa+R20XzlmFWOT/O+pi s3bH6Tb+Te6p15QfiGwv8IIYhiqH99IW qjvdA3YNnsPSuPaGWVtZ1qHxD9oTk2oo m+hZpSnbSGNCzPiq+T1a2RqGNwUwPYyn U2blrJftFuccDkyKEu8Rch1cbTL1e3qz EHS1gO0ryQI=\n",
      "org. 900 IN RRSIG SOA 7 1 900 20180312132905 20180219122905 1862 org. TgvxKPfc6yecLYTuF1odi5XsNEMuD5Nn oMUHyKgini60QXX7gTY86lbLRWTvd9pH kzfFRX8IUfoSVkGZ3cYt3aDibJP6Lxfd VH+ojYjTHHASdTQdNdN/NvolIxMa7ppQ G4DYkuBefTnsdEyKFlbKk96DE5piuQ7m IL8p7Im0eHU=\n",
      "org. 900 IN RRSIG NSEC3PARAM 7 1 900 20180310152953 20180217142953 1862 org. Mil6FzdZEV90g/vTIq6T+9zF8AWwlp06 uuoCSV9QOflabwZ5TrwrEQvzaw/oitXR SleAP4nSjVX1PN14z5SURCftu6XKwdJJ FKG+LIBbGYW+s2kMKh9UP4VNG46p8JA/ oLTtvF2tqAEN8h9gXCCJIJqQIZXOoziH oQhLiCF63Mg=\n",
      "\n",
      " AUTHORITY:\n",
      "\n",
      " ADDITIONAL:\n"
     ]
    }
   ],
   "source": [
    "c_query = dns.message.make_query('org.', 'RRSIG', want_dnssec=False)\n",
    "response4 = dns.query.udp(c_query, '199.19.57.1')\n",
    "print_response(response4)"
   ]
  },
  {
   "cell_type": "code",
   "execution_count": null,
   "metadata": {
    "collapsed": true
   },
   "outputs": [],
   "source": [
    "def verify_org_dnskey(ip):\n",
    "    '''Zone org. has to query dnskey and rrsig separately. \n",
    "       There are 4 DNSKEYs for org, but you can not get all 4 of them in a single query.\n",
    "       You have to query multiple times and union them until you get all the four. Shit!!!\n",
    "    \n",
    "    Args:\n",
    "        ip (str): one ip of an org name server\n",
    "        \n",
    "    Return:\n",
    "        (dnskey, name) if success\n",
    "    '''\n",
    "    dnskey_org = None\n",
    "    name_org = None\n",
    "    query_org = dns.message.make_query('org.', 'DNSKEY')\n",
    "    response_org = dns.query.udp(query_org, ip)\n",
    "    while len(response_org.answer) == 0:\n",
    "        response_org = dns.query.udp(query_org, ip)\n",
    "    dnskey_org = response_org.answer[0]\n",
    "    name_org = dnskey_org.name\n",
    "    while len(dnskey_org) != 4:\n",
    "        query_org = dns.message.make_query('org.', 'DNSKEY')\n",
    "        response_org = dns.query.udp(query_org, ip)\n",
    "        try:\n",
    "            dnskey_org.union_update(response_org.answer[0])\n",
    "        except:\n",
    "            pass\n",
    "    \n",
    "    rrsig_dnskey_org = None\n",
    "    query_org = dns.message.make_query('org.', 'RRSIG')\n",
    "    response_org = dns.query.udp(query_org, ip)\n",
    "    while len(response_org.answer) == 0:\n",
    "        response_org = dns.query.udp(query_org, ip)\n",
    "    rrsig_dnskey_org = response_org.answer[0]\n",
    "    \n",
    "    try:\n",
    "        dns.dnssec.validate(dnskey_org, rrsig_dnskey_org, {name_org:dnskey_org})\n",
    "    except Exception as e:\n",
    "        raise e\n",
    "    else:\n",
    "        print('Congrats! DNSKEYs are good~', name)\n",
    "        return name_org, dnskey_org"
   ]
  },
  {
   "cell_type": "code",
   "execution_count": null,
   "metadata": {
    "collapsed": true
   },
   "outputs": [],
   "source": [
    "def verify_org_zone(dnskey_org, response_parent):\n",
    "    '''Verify the zone: do a hash on the zone's public key signing key, then see if equals to the DS in parent\n",
    "    \n",
    "    Args:\n",
    "        response (dns.message.Message): a response that contains pubksk to verify\n",
    "        response_parent (dns.message.Message): a parent response that has the trusted DS\n",
    "    '''\n",
    "    trust_ds, name = get_trust_ds(response_parent)\n",
    "    algorithm = 'SHA256' if trust_ds.digest_type ==2 else 'SHA1'\n",
    "    \n",
    "    dnskey_backup = dnskey_org\n",
    "    \n",
    "    for dnskey in dnskey_backup:\n",
    "        if dnskey.flags == 256:\n",
    "            dnskey_org.remove(dnskey)   # remove the public zone signing keys, so the public key signing keys are left\n",
    "    \n",
    "    ds2 = dns.dnssec.make_ds(name, dnskey_org.items[0], algorithm)\n",
    "    ds1 = dns.dnssec.make_ds(name, dnskey_org.items[1], algorithm)\n",
    "    if (ds1 == trust_ds or ds2 == trust_ds) == 0:\n",
    "        raise Exception('DS does not match!', name)\n",
    "    print('Congrads! Zone', name, 'verified')"
   ]
  },
  {
   "cell_type": "code",
   "execution_count": null,
   "metadata": {},
   "outputs": [],
   "source": [
    "name_key, dnskey = verify_org_dnskey('199.19.57.1')\n",
    "verify_ds(response3, name_key, dnskey)\n",
    "verify_org_zone(dnskey, response1)"
   ]
  },
  {
   "cell_type": "code",
   "execution_count": null,
   "metadata": {},
   "outputs": [],
   "source": [
    "response5 = dns.query.udp(a_query, '68.87.72.244')\n",
    "print_response(response5)"
   ]
  },
  {
   "cell_type": "code",
   "execution_count": null,
   "metadata": {},
   "outputs": [],
   "source": [
    "d_query = dns.message.make_query('dnssec-failed.org.', 'DNSKEY', want_dnssec=True)\n",
    "response6 = dns.query.udp(d_query, '68.87.72.244')\n",
    "print_response(response6)"
   ]
  },
  {
   "cell_type": "code",
   "execution_count": null,
   "metadata": {
    "collapsed": true
   },
   "outputs": [],
   "source": [
    "def verify_a(response, name_key, dnskey):\n",
    "    '''Verify the A record in the response.\n",
    "    \n",
    "    Args:\n",
    "        response (dns.message.Message): a response that contains A record\n",
    "        name_key (dns.name.Name): name of zone that contains the DNSKEY\n",
    "        dnskey (dns.rrset.RRset): rrset that contains public zone signing key\n",
    "    '''\n",
    "    try:\n",
    "        a, rrsig_a, name_a = get_rrset(response, 'A')\n",
    "        dns.dnssec.validate(a, rrsig_a, {name_key:dnskey})\n",
    "    except Exception as e:\n",
    "        raise e\n",
    "    else:\n",
    "        print('Congrats! A records are good~')"
   ]
  },
  {
   "cell_type": "code",
   "execution_count": null,
   "metadata": {},
   "outputs": [],
   "source": [
    "name_key, dnskey = verify_dnskey(response6)\n",
    "verify_a(response5, name_key, dnskey)\n",
    "verify_zone(response6, response3)"
   ]
  }
 ],
 "metadata": {
  "kernelspec": {
   "display_name": "Python 3",
   "language": "python",
   "name": "python3"
  },
  "language_info": {
   "codemirror_mode": {
    "name": "ipython",
    "version": 3
   },
   "file_extension": ".py",
   "mimetype": "text/x-python",
   "name": "python",
   "nbconvert_exporter": "python",
   "pygments_lexer": "ipython3",
   "version": "3.6.3"
  }
 },
 "nbformat": 4,
 "nbformat_minor": 2
}
