{
 "cells": [
  {
   "cell_type": "code",
   "execution_count": 3,
   "metadata": {
    "collapsed": true
   },
   "outputs": [],
   "source": [
    "import dns.name\n",
    "import dns.query\n",
    "import dns.dnssec\n",
    "import dns.message\n",
    "import dns.resolver\n",
    "import dns.rdatatype\n",
    "import re\n",
    "import ipaddress\n",
    "import time\n",
    "import datetime\n",
    "import random"
   ]
  },
  {
   "cell_type": "code",
   "execution_count": 331,
   "metadata": {},
   "outputs": [],
   "source": [
    "rdtype_dic = {\n",
    "    'A': 1      ,\n",
    "    'NS':2      ,\n",
    "    'DS':43     ,\n",
    "    'RRSIG': 46 ,\n",
    "    'DNSKEY':48 ,\n",
    "}"
   ]
  },
  {
   "cell_type": "code",
   "execution_count": 4,
   "metadata": {
    "collapsed": true
   },
   "outputs": [],
   "source": [
    "def print_response(response):\n",
    "    '''Print the response's answer, authority, and additional\n",
    "    \n",
    "    Args:\n",
    "        response (dns.message.Message): a response of a single iterative DNS query\n",
    "    '''\n",
    "    print('\\n', 'QUESTION:')\n",
    "    for i in response.question:\n",
    "        print(i.to_text())\n",
    "    \n",
    "    print('\\n', 'ANSWER:')\n",
    "    for i in response.answer:\n",
    "        print(i.to_text())\n",
    "    \n",
    "    print('\\n', 'AUTHORITY:')\n",
    "    for i in response.authority:\n",
    "        print(i.to_text())\n",
    "        \n",
    "    print('\\n', 'ADDITIONAL:')\n",
    "    for i in response.additional:\n",
    "        print(i.to_text())"
   ]
  },
  {
   "cell_type": "markdown",
   "metadata": {},
   "source": [
    "# Paypal"
   ]
  },
  {
   "cell_type": "code",
   "execution_count": 26,
   "metadata": {},
   "outputs": [
    {
     "name": "stdout",
     "output_type": "stream",
     "text": [
      "\n",
      " QUESTION:\n",
      "paypal.com. IN A\n",
      "\n",
      " ANSWER:\n",
      "\n",
      " AUTHORITY:\n",
      "com. 172800 IN NS e.gtld-servers.net.\n",
      "com. 172800 IN NS b.gtld-servers.net.\n",
      "com. 172800 IN NS j.gtld-servers.net.\n",
      "com. 172800 IN NS m.gtld-servers.net.\n",
      "com. 172800 IN NS i.gtld-servers.net.\n",
      "com. 172800 IN NS f.gtld-servers.net.\n",
      "com. 172800 IN NS a.gtld-servers.net.\n",
      "com. 172800 IN NS g.gtld-servers.net.\n",
      "com. 172800 IN NS h.gtld-servers.net.\n",
      "com. 172800 IN NS l.gtld-servers.net.\n",
      "com. 172800 IN NS k.gtld-servers.net.\n",
      "com. 172800 IN NS c.gtld-servers.net.\n",
      "com. 172800 IN NS d.gtld-servers.net.\n",
      "com. 86400 IN DS 30909 8 2 e2d3c916f6deeac73294e8268fb5885044a833fc5459588f4a9184cfc41a5766\n",
      "com. 86400 IN RRSIG DS 8 1 86400 20180301050000 20180216040000 41824 . I2raJjuftL0eqaPhDAjDsEY9Vk3FT/JL PQxSdBc4l9eHRvrcrQyG/k/YC8tieUxX YVWDkf0Ce7IpYwqBGhmitNpKbSppa80U ncojuMmNdWsq/JBk7eTyq1n1czYwCZRy 4iIEqsNkZICwBkXfkkUGe+gowXqpamuZ iCsHIU3Aw1KUtw8+n0bWbpYq+1worduP twhEyZXZd30+7kz3wMUQIABh4jOp3Ckm MDF6cfJssXrweaE+eTtddck86tj0YPgd iJOQcB3fv20BxXYs44HO17phtG0d1gcg xz+zDfE3BEfbrb4SQxoUvqtrQ+Teb7B7 RtLWWhFa3mAaIPTtaQbfDQ==\n",
      "\n",
      " ADDITIONAL:\n",
      "e.gtld-servers.net. 172800 IN A 192.12.94.30\n",
      "e.gtld-servers.net. 172800 IN AAAA 2001:502:1ca1::30\n",
      "b.gtld-servers.net. 172800 IN A 192.33.14.30\n",
      "b.gtld-servers.net. 172800 IN AAAA 2001:503:231d::2:30\n",
      "j.gtld-servers.net. 172800 IN A 192.48.79.30\n",
      "j.gtld-servers.net. 172800 IN AAAA 2001:502:7094::30\n",
      "m.gtld-servers.net. 172800 IN A 192.55.83.30\n",
      "m.gtld-servers.net. 172800 IN AAAA 2001:501:b1f9::30\n",
      "i.gtld-servers.net. 172800 IN A 192.43.172.30\n",
      "i.gtld-servers.net. 172800 IN AAAA 2001:503:39c1::30\n",
      "f.gtld-servers.net. 172800 IN A 192.35.51.30\n",
      "f.gtld-servers.net. 172800 IN AAAA 2001:503:d414::30\n",
      "a.gtld-servers.net. 172800 IN A 192.5.6.30\n",
      "a.gtld-servers.net. 172800 IN AAAA 2001:503:a83e::2:30\n",
      "g.gtld-servers.net. 172800 IN A 192.42.93.30\n",
      "g.gtld-servers.net. 172800 IN AAAA 2001:503:eea3::30\n",
      "h.gtld-servers.net. 172800 IN A 192.54.112.30\n",
      "h.gtld-servers.net. 172800 IN AAAA 2001:502:8cc::30\n",
      "l.gtld-servers.net. 172800 IN A 192.41.162.30\n",
      "l.gtld-servers.net. 172800 IN AAAA 2001:500:d937::30\n",
      "k.gtld-servers.net. 172800 IN A 192.52.178.30\n",
      "k.gtld-servers.net. 172800 IN AAAA 2001:503:d2d::30\n",
      "c.gtld-servers.net. 172800 IN A 192.26.92.30\n",
      "c.gtld-servers.net. 172800 IN AAAA 2001:503:83eb::30\n",
      "d.gtld-servers.net. 172800 IN A 192.31.80.30\n",
      "d.gtld-servers.net. 172800 IN AAAA 2001:500:856e::30\n"
     ]
    }
   ],
   "source": [
    "a_query = dns.message.make_query('paypal.com', 'A', want_dnssec=True)\n",
    "response1 = dns.query.udp(a_query, '198.41.0.4')\n",
    "print_response(response1)"
   ]
  },
  {
   "cell_type": "code",
   "execution_count": 74,
   "metadata": {},
   "outputs": [
    {
     "name": "stdout",
     "output_type": "stream",
     "text": [
      "\n",
      " QUESTION:\n",
      ". IN DNSKEY\n",
      "\n",
      " ANSWER:\n",
      ". 172800 IN DNSKEY 257 3 8 AwEAAagAIKlVZrpC6Ia7gEzahOR+9W29 euxhJhVVLOyQbSEW0O8gcCjFFVQUTf6v 58fLjwBd0YI0EzrAcQqBGCzh/RStIoO8 g0NfnfL2MTJRkxoXbfDaUeVPQuYEhg37 NZWAJQ9VnMVDxP/VHL496M/QZxkjf5/E fucp2gaDX6RS6CXpoY68LsvPVjR0ZSwz z1apAzvN9dlzEheX7ICJBBtuA6G3LQpz W5hOA2hzCTMjJPJ8LbqF6dsV6DoBQzgu l0sGIcGOYl7OyQdXfZ57relSQageu+ip AdTTJ25AsRTAoub8ONGcLmqrAmRLKBP1 dfwhYB4N7knNnulqQxA+Uk1ihz0=\n",
      ". 172800 IN DNSKEY 257 3 8 AwEAAaz/tAm8yTn4Mfeh5eyI96WSVexT BAvkMgJzkKTOiW1vkIbzxeF3+/4RgWOq 7HrxRixHlFlExOLAJr5emLvN7SWXgnLh 4+B5xQlNVz8Og8kvArMtNROxVQuCaSnI DdD5LKyWbRd2n9WGe2R8PzgCmr3EgVLr jyBxWezF0jLHwVN8efS3rCj/EWgvIWgb 9tarpVUDK/b58Da+sqqls3eNbuv7pr+e oZG+SrDK6nWeL3c6H5Apxz7LjVc1uTId sIXxuOLYA4/ilBmSVIzuDWfdRUfhHdY6 +cn8HFRm+2hM8AnXGXws9555KrUB5qih ylGa8subX2Nn6UwNR1AkUTV74bU=\n",
      ". 172800 IN DNSKEY 256 3 8 AwEAAaDJd0KOMYGCEF0/cftC2hrFtz5G Sn1HOiaxEp053AfbxQ3pT8BEtahPiUkC o1Qx4PECJ23YwaFhfWWjapr6AFxhD8kl fZGp95ickoRlm91ZzXX/mcfn9vlUpZK2 M8qjljNMzZJSopFY+cxRvib2Irb6YeP2 a0vppaLnvR4BeOyEkQolLqvVHW7UqDFi P/CM15BWBsAIdbyo8L1h3OeP63TaYIrW ttjGBILeZinSaJ39amiVs8t00RjTaKVo 3vY2k6dje1Rh1ELqjNj8+cKA8iWC3VU7 ApkyuGDy631RDILa6wCgcBVCzfFfOthQ ILxQra88tNWzCVoryQ89f1WjBJc=\n",
      ". 172800 IN RRSIG DNSKEY 8 0 172800 20180303000000 20180210000000 19036 . nj9/XRm5qNSJZ8fK5ijoNji4IO+ETor4 A71887PrU9ZyLClfkvONlZPOGw2dm6k5 JxZYGpKllm7YzztUXe50jKcYmvnjunVt 0bgsvA27TirBQ1uqHkNgdKzT3KnTh/lD O6GWOBBtJF12WVNbNuo8ZptOy4LCOAT3 zQVILHkc15u9B4byrwcIYxhKZgfU3Dam b60UG1NNSiK8AiOECAHQwi+4kCfDHzjb 6YorcyEMvZjyo2W/Ins1/b3LsDHh8ZmC CCiC+0EojlQXs7PZqNtMuu6texFDJXWP clX2HrNr+Gy1HyKgRP/sZQvb6QUg5vJZ nMlwPGc2HgxPoJ5Jfd9+VQ==\n",
      "\n",
      " AUTHORITY:\n",
      "\n",
      " ADDITIONAL:\n"
     ]
    }
   ],
   "source": [
    "b_query = dns.message.make_query('.', 'DNSKEY', want_dnssec=True)\n",
    "response2 = dns.query.udp(b_query, '198.41.0.4')\n",
    "print_response(response2)"
   ]
  },
  {
   "cell_type": "code",
   "execution_count": 233,
   "metadata": {},
   "outputs": [
    {
     "name": "stdout",
     "output_type": "stream",
     "text": [
      "com. 172800 IN NS e.gtld-servers.net.\n",
      "com. 172800 IN NS b.gtld-servers.net.\n",
      "com. 172800 IN NS j.gtld-servers.net.\n",
      "com. 172800 IN NS m.gtld-servers.net.\n",
      "com. 172800 IN NS i.gtld-servers.net.\n",
      "com. 172800 IN NS f.gtld-servers.net.\n",
      "com. 172800 IN NS a.gtld-servers.net.\n",
      "com. 172800 IN NS g.gtld-servers.net.\n",
      "com. 172800 IN NS h.gtld-servers.net.\n",
      "com. 172800 IN NS l.gtld-servers.net.\n",
      "com. 172800 IN NS k.gtld-servers.net.\n",
      "com. 172800 IN NS c.gtld-servers.net.\n",
      "com. 172800 IN NS d.gtld-servers.net.\n",
      "2\n",
      "com.\n",
      "\n",
      "com. 86400 IN DS 30909 8 2 e2d3c916f6deeac73294e8268fb5885044a833fc5459588f4a9184cfc41a5766\n",
      "43\n",
      "com.\n",
      "\n",
      "com. 86400 IN RRSIG DS 8 1 86400 20180301050000 20180216040000 41824 . I2raJjuftL0eqaPhDAjDsEY9Vk3FT/JL PQxSdBc4l9eHRvrcrQyG/k/YC8tieUxX YVWDkf0Ce7IpYwqBGhmitNpKbSppa80U ncojuMmNdWsq/JBk7eTyq1n1czYwCZRy 4iIEqsNkZICwBkXfkkUGe+gowXqpamuZ iCsHIU3Aw1KUtw8+n0bWbpYq+1worduP twhEyZXZd30+7kz3wMUQIABh4jOp3Ckm MDF6cfJssXrweaE+eTtddck86tj0YPgd iJOQcB3fv20BxXYs44HO17phtG0d1gcg xz+zDfE3BEfbrb4SQxoUvqtrQ+Teb7B7 RtLWWhFa3mAaIPTtaQbfDQ==\n",
      "46\n",
      "com.\n",
      "\n"
     ]
    }
   ],
   "source": [
    "for rrset in response1.authority:\n",
    "    print(rrset)\n",
    "    print(rrset.rdtype)\n",
    "    print(rrset.name)\n",
    "    print('')"
   ]
  },
  {
   "cell_type": "code",
   "execution_count": 344,
   "metadata": {},
   "outputs": [],
   "source": [
    "def get_rrset(response, rdtype):\n",
    "    '''Get the desired rrset (DNSKEY, DS, A, NS), RRSIG and name from the response, their RRSIG\n",
    "    \n",
    "    Args:\n",
    "        response (dns.message.Message): a response of a single iterative DNS query\n",
    "        rdtype (str): rrset type\n",
    "        \n",
    "    Return:\n",
    "        (rrset, rrsig, name) of desired rdtype\n",
    "    '''\n",
    "    try:\n",
    "        if rdtype == 'DNSKEY' or rdtype == 'A':\n",
    "            dnskey_or_a, rrsig, name = '', '', ''\n",
    "            for rrset in response.answer:      # from observation, DNSKEY and A record is in ANSWER section\n",
    "                if rrset.rdtype == rdtype_dic['RRSIG']:\n",
    "                    rrsig = rrset\n",
    "                else:   # rrset.rdtype == rdtype_dic['DNSKEY'] or ['A']:\n",
    "                    dnskey_or_a = rrset\n",
    "                    name = rrset.name\n",
    "            return dnskey_or_a, rrsig, name\n",
    "        if rdtype == 'DS' or rdtype == 'NS':\n",
    "            ds_or_ns, rrsig, name = '', '', ''\n",
    "            for rrset in response.authority:   # from observation, DS and NS record is in AUTHORITY section\n",
    "                if rrset.rdtype == rdtype_dic['RRSIG']:\n",
    "                    rrsig = rrset\n",
    "                else:\n",
    "                    ds_or_ns = rrset\n",
    "                    name = rrset.name\n",
    "            return ds_or_ns, rrsig, name\n",
    "    except Exception as e:\n",
    "        print('Oops! Bug in get_rrset')\n",
    "        raise e          "
   ]
  },
  {
   "cell_type": "code",
   "execution_count": 241,
   "metadata": {},
   "outputs": [
    {
     "name": "stdout",
     "output_type": "stream",
     "text": [
      "Congrats! DNSKEYs are good~\n"
     ]
    }
   ],
   "source": [
    "# verify the DNSKEY rrset\n",
    "\n",
    "try:\n",
    "    dnskey, rrsig_key, name_key = get_rrset(response2, 'DNSKEY')\n",
    "    dns.dnssec.validate(dnskey, rrsig_key, {name_key:dnskey})\n",
    "except Exception as e:\n",
    "    print('Oops! Validation failure:', e)\n",
    "else:\n",
    "    print('Congrats! DNSKEYs are good~')"
   ]
  },
  {
   "cell_type": "code",
   "execution_count": 244,
   "metadata": {},
   "outputs": [
    {
     "name": "stdout",
     "output_type": "stream",
     "text": [
      "Congrats! DS is good~\n"
     ]
    }
   ],
   "source": [
    "# verify the DS rrset\n",
    "\n",
    "try:\n",
    "    ds, rrsig_ds, name_ds = get_rrset(response1, 'DS')\n",
    "    dns.dnssec.validate(ds, rrsig_ds, {name_key:dnskey})\n",
    "except Exception as e:\n",
    "    print('Oops! Validation failure:', e)\n",
    "else:\n",
    "    print('Congrats! DS is good~')"
   ]
  },
  {
   "cell_type": "code",
   "execution_count": 162,
   "metadata": {
    "collapsed": true
   },
   "outputs": [],
   "source": [
    "trust_anchors = [\n",
    "    # KSK-2017:\n",
    "    dns.rrset.from_text('.', 1    , 'IN', 'DNSKEY', '257 3 8 AwEAAaz/tAm8yTn4Mfeh5eyI96WSVexTBAvkMgJzkKTOiW1vkIbzxeF3+/4RgWOq7HrxRixHlFlExOLAJr5emLvN7SWXgnLh4+B5xQlNVz8Og8kvArMtNROxVQuCaSnIDdD5LKyWbRd2n9WGe2R8PzgCmr3EgVLrjyBxWezF0jLHwVN8efS3rCj/EWgvIWgb9tarpVUDK/b58Da+sqqls3eNbuv7pr+eoZG+SrDK6nWeL3c6H5Apxz7LjVc1uTIdsIXxuOLYA4/ilBmSVIzuDWfdRUfhHdY6+cn8HFRm+2hM8AnXGXws9555KrUB5qihylGa8subX2Nn6UwNR1AkUTV74bU='),\n",
    "    # KSK-2010:\n",
    "    dns.rrset.from_text('.', 15202, 'IN', 'DNSKEY', '257 3 8 AwEAAagAIKlVZrpC6Ia7gEzahOR+9W29euxhJhVVLOyQbSEW0O8gcCjF FVQUTf6v58fLjwBd0YI0EzrAcQqBGCzh/RStIoO8g0NfnfL2MTJRkxoX bfDaUeVPQuYEhg37NZWAJQ9VnMVDxP/VHL496M/QZxkjf5/Efucp2gaD X6RS6CXpoY68LsvPVjR0ZSwzz1apAzvN9dlzEheX7ICJBBtuA6G3LQpz W5hOA2hzCTMjJPJ8LbqF6dsV6DoBQzgul0sGIcGOYl7OyQdXfZ57relS Qageu+ipAdTTJ25AsRTAoub8ONGcLmqrAmRLKBP1dfwhYB4N7knNnulq QxA+Uk1ihz0='),\n",
    "]"
   ]
  },
  {
   "cell_type": "code",
   "execution_count": 154,
   "metadata": {},
   "outputs": [],
   "source": [
    "def get_anchor(year):\n",
    "    ''' There are two anchors, get one of the anchors\n",
    "    \n",
    "    Args:\n",
    "        year (int): 2017 or 2010\n",
    "        \n",
    "    Return:\n",
    "        trusted root key singing key (str)\n",
    "    '''\n",
    "    if year == 2017:\n",
    "        return trust_anchors[0].items[0].to_text()\n",
    "    elif year == 2010:\n",
    "        return trust_anchors[1].items[0].to_text()\n",
    "    else:\n",
    "        raise Exception('Parameter is neither 2017 nor 2010')"
   ]
  },
  {
   "cell_type": "code",
   "execution_count": 246,
   "metadata": {},
   "outputs": [
    {
     "data": {
      "text/plain": [
       "<DNS . IN DNSKEY RRset>"
      ]
     },
     "execution_count": 246,
     "metadata": {},
     "output_type": "execute_result"
    }
   ],
   "source": [
    "response2.answer[0]"
   ]
  },
  {
   "cell_type": "code",
   "execution_count": 248,
   "metadata": {},
   "outputs": [
    {
     "name": "stdout",
     "output_type": "stream",
     "text": [
      "True\n"
     ]
    }
   ],
   "source": [
    "# verify the root: compare the trust_anchors with the root's DNSKEY response\n",
    "\n",
    "dnskeys, rrsig, name = get_rrset(response2, 'DNSKEY')\n",
    "flag_trust = True\n",
    "for dnskey in dnskeys:\n",
    "    if dnskey.flags == 257:\n",
    "        try:\n",
    "            if dnskey.to_text() == get_anchor(2017):\n",
    "                continue\n",
    "            elif dnskey.to_text() == get_anchor(2010):\n",
    "                continue\n",
    "            else:\n",
    "                flag_trust = False\n",
    "                break\n",
    "        except Exception as e:\n",
    "            print(e)\n",
    "            \n",
    "print(flag_trust)"
   ]
  },
  {
   "cell_type": "code",
   "execution_count": 165,
   "metadata": {},
   "outputs": [
    {
     "name": "stdout",
     "output_type": "stream",
     "text": [
      "\n",
      " QUESTION:\n",
      "paypal.com. IN A\n",
      "\n",
      " ANSWER:\n",
      "\n",
      " AUTHORITY:\n",
      "paypal.com. 172800 IN NS pdns100.ultradns.net.\n",
      "paypal.com. 172800 IN NS pdns100.ultradns.com.\n",
      "paypal.com. 172800 IN NS ns1.p57.dynect.net.\n",
      "paypal.com. 172800 IN NS ns2.p57.dynect.net.\n",
      "paypal.com. 86400 IN DS 21037 5 2 0df17b28554954d819e0ceeab98fcfcd56572a4cf4f551f0a9be6d04db2f65c3\n",
      "paypal.com. 86400 IN RRSIG DS 8 2 86400 20180221051534 20180214040534 46967 com. x/kxI5vzp8cb6XXEKKyGBWz/2ERUzqgs 9W1w+axifzpM3yViJEQIKTbKL2l+1qY+ Myh+F4EndVY9Bq61VLtLpfLMFfD8/c/B s9/kRAnxrGDZL7KBRiikTrMIfbJHFNKw hpVX8vAFuFm/HIr9vYmiohLf59BkTh6B jJ3+vBC+Quw=\n",
      "\n",
      " ADDITIONAL:\n",
      "pdns100.ultradns.net. 172800 IN A 156.154.65.100\n",
      "pdns100.ultradns.net. 172800 IN AAAA 2610:a1:1014::88\n",
      "pdns100.ultradns.com. 172800 IN A 156.154.64.100\n",
      "pdns100.ultradns.com. 172800 IN AAAA 2001:502:f3ff::88\n",
      "ns1.p57.dynect.net. 172800 IN A 208.78.70.57\n",
      "ns2.p57.dynect.net. 172800 IN A 204.13.250.57\n"
     ]
    }
   ],
   "source": [
    "response3 = dns.query.udp(a_query, '192.5.6.30')\n",
    "print_response(response3)"
   ]
  },
  {
   "cell_type": "code",
   "execution_count": 166,
   "metadata": {},
   "outputs": [
    {
     "name": "stdout",
     "output_type": "stream",
     "text": [
      "\n",
      " QUESTION:\n",
      "com. IN DNSKEY\n",
      "\n",
      " ANSWER:\n",
      "com. 86400 IN DNSKEY 256 3 8 AQPLmJ3YIDDZPh9wYbc76pe1azHsCyIi DzBgf7fz+k4poMWHzE6f4My3VcPX2SIn /v0jPGBIEVZl2pPdY/IqOd5BfCsjrE+b BUYz6uxWiaT3wMuhfN1LNOazLQRlgU8R rEOgG1L4yFD8m9FVAisWsXLY+WQ8qIyr K/UIUwDmiFC5vQ==\n",
      "com. 86400 IN DNSKEY 257 3 8 AQPDzldNmMvZFX4NcNJ0uEnKDg7tmv/F 3MyQR0lpBmVcNcsIszxNFxsBfKNW9JYC Yqpik8366LE7VbIcNRzfp2h9OO8HRl+H +E08zauK8k7evWEmu/6od+2boggPoiEf GNyvNPaSI7FOIroDsnw/taggzHRX1Z7S OiOiPWPNIwSUyWOZ79VmcQ1GLkC6NlYv G3HwYmynQv6oFwGv/KELSw7ZSdrbTQ0H XvZbqMUI7BaMskmvgm1G7oKZ1YiF7O9i oVNc0+7ASbqmZN7Z98EGU/Qh2K/BgUe8 Hs0XVcdPKrtyYnoQHd2ynKPcMMlTEih2 /2HDHjRPJ2aywIpKNnv4oPo/\n",
      "com. 86400 IN RRSIG DNSKEY 8 1 86400 20180303192533 20180216192033 30909 com. KfTfHhzBbmAT4lLfrR8eSGeXr4QY068j 7gDmr7kW4vmSVoCPxBblazcCtT5Ew2um t0ZmyzkLzgxjjvtt7jgkML3z59HZRHm7 Y4y++xPcOQmK8CkeHhJnkoRdLeKxEZwS tlVBgML/udxBRlTp7c4YL7i62zfDNapa TqLWuXxsgOadOlcNgYRQH9qRWWc5578/ z7oP4NcHugOPCOgMPhXAJwn2Be5I9BZN SjeeJFiaG2xVuxuUqrArEdF6UZi2TB8+ U5Dcu3EGENIucovnt1O574azHclbK++M nvrPTAyUYMk62dU38IrcH/FbJcv2g/RY MOmpjw6pm2QEYO4WG+6wCg==\n",
      "\n",
      " AUTHORITY:\n",
      "\n",
      " ADDITIONAL:\n"
     ]
    }
   ],
   "source": [
    "c_query = dns.message.make_query('com.', 'DNSKEY', want_dnssec=True)\n",
    "response4 = dns.query.udp(c_query, '192.5.6.30')\n",
    "print_response(response4)"
   ]
  },
  {
   "cell_type": "code",
   "execution_count": 250,
   "metadata": {},
   "outputs": [
    {
     "name": "stdout",
     "output_type": "stream",
     "text": [
      "Congrats! DNSKEYs are good~\n"
     ]
    }
   ],
   "source": [
    "# verify the DNSKEY rrset\n",
    "\n",
    "try:\n",
    "    dnskey, rrsig_key, name_key = get_rrset(response4, 'DNSKEY')\n",
    "    dns.dnssec.validate(dnskey, rrsig_key, {name_key:dnskey})\n",
    "except Exception as e:\n",
    "    print('Oops! Validation failure:', e)\n",
    "else:\n",
    "    print('Congrats! DNSKEYs are good~')"
   ]
  },
  {
   "cell_type": "code",
   "execution_count": 251,
   "metadata": {},
   "outputs": [
    {
     "name": "stdout",
     "output_type": "stream",
     "text": [
      "Congrats! DS is good~\n"
     ]
    }
   ],
   "source": [
    "# verify the DS rrset\n",
    "\n",
    "try:\n",
    "    ds, rrsig_ds, name_ds = get_rrset(response3, 'DS')\n",
    "    dns.dnssec.validate(ds, rrsig_ds, {name_key:dnskey})\n",
    "except Exception as e:\n",
    "    print('Oops! Validation failure:', e)\n",
    "else:\n",
    "    print('Congrats! DS is good~')"
   ]
  },
  {
   "cell_type": "code",
   "execution_count": 272,
   "metadata": {},
   "outputs": [
    {
     "name": "stdout",
     "output_type": "stream",
     "text": [
      "True\n"
     ]
    }
   ],
   "source": [
    "# verify the com. zone: do a hash on com's public key signing key, then see if equals to the DS in parent\n",
    "\n",
    "rrset = response1.authority[1]\n",
    "# rrset.rdtype == 43\n",
    "trust_ds = rrset.items[0]\n",
    "algorithm = 'SHA256' if trust_ds.digest_type == 2 else 'SHA1' \n",
    "name = dns.name.from_text('com.')\n",
    "com_pubksk = response4.answer[0].items[1]\n",
    "ds = dns.dnssec.make_ds(name, com_pubksk, algorithm)\n",
    "\n",
    "if ds == trust_ds:\n",
    "    print(True)\n",
    "else:\n",
    "    print(False)"
   ]
  },
  {
   "cell_type": "code",
   "execution_count": 323,
   "metadata": {},
   "outputs": [
    {
     "name": "stdout",
     "output_type": "stream",
     "text": [
      "True\n"
     ]
    }
   ],
   "source": [
    "# verify the com. zone: do a hash on com's public key signing key, then see if equals to the DS in parent\n",
    "\n",
    "trust_ds, name = get_trust_ds(response1)\n",
    "algorithm = 'SHA256' if trust_ds.digest_type == 2 else 'SHA1' \n",
    "pubksk = get_pubksk(response4)\n",
    "ds = dns.dnssec.make_ds(name, pubksk, algorithm)\n",
    "\n",
    "if ds == trust_ds:\n",
    "    print(True)\n",
    "else:\n",
    "    print(False)"
   ]
  },
  {
   "cell_type": "code",
   "execution_count": 320,
   "metadata": {
    "collapsed": true
   },
   "outputs": [],
   "source": [
    "def get_pubksk(response):\n",
    "    '''Get public key signing key from response\n",
    "    \n",
    "    Args:\n",
    "        response (dns.message.Message) that contains DNSKEY information\n",
    "        \n",
    "    Return:\n",
    "        a (dns.rdtypes.ANY.DNSKEY.DNSKEY) that contains public key signing key\n",
    "    '''\n",
    "    dnskey, rrsig_key, name_key = get_rrset(response, 'DNSKEY')\n",
    "    for item in dnskey:\n",
    "        if item.flags == 257:\n",
    "            return item"
   ]
  },
  {
   "cell_type": "code",
   "execution_count": 301,
   "metadata": {},
   "outputs": [],
   "source": [
    "def get_trust_ds(response):\n",
    "    '''Get trust ds digest from parent's response\n",
    "    \n",
    "    Args:\n",
    "        response (dns.message.Message) from parent that contains child's DS information\n",
    "        \n",
    "    Return:\n",
    "        trusted ds digest from parent (dns.rdtypes.ANY.DS.DS), and its name (dns.name.Name)\n",
    "    '''\n",
    "    ds, rrsig_ds, name_ds = get_rrset(response, 'DS')\n",
    "    return ds.items[0], name_ds"
   ]
  },
  {
   "cell_type": "code",
   "execution_count": 324,
   "metadata": {},
   "outputs": [
    {
     "name": "stdout",
     "output_type": "stream",
     "text": [
      "\n",
      " QUESTION:\n",
      "paypal.com. IN A\n",
      "\n",
      " ANSWER:\n",
      "paypal.com. 300 IN A 64.4.250.33\n",
      "paypal.com. 300 IN A 64.4.250.32\n",
      "paypal.com. 300 IN RRSIG A 5 2 300 20180227181123 20180128174703 11811 paypal.com. zJ22XRBBNn7dQJRrmpuCxuVqe8M8iCiD oQhN8Yi2969m+HbzJnc/3vz4/s6/TCYB w01uS0vclejIXj3VxLd0a06LR183J8GZ 7fneqNOVxuxxaRLSQ9GR4/sIQb4SMOrf UOfSfefCI+B4GV/7FHKGRDZr5LGnBCV5 At4mS4OmsfY=\n",
      "\n",
      " AUTHORITY:\n",
      "paypal.com. 300 IN NS ns2.p57.dynect.net.\n",
      "paypal.com. 300 IN NS pdns100.ultradns.net.\n",
      "paypal.com. 300 IN NS pdns100.ultradns.com.\n",
      "paypal.com. 300 IN NS ns1.p57.dynect.net.\n",
      "paypal.com. 300 IN RRSIG NS 5 2 300 20180309013118 20180207003908 11811 paypal.com. IRK1zCNEdt8omQ8sToyldtkGiScPN58J geN49VpC2uMVe9GvhrC95cM1y0u7XQ07 3ZE+zZupGtux+/2jNs+JJSu9qy3JAQsT B52O8kwSwEt0LUbRqV9qhKj3qJdVbk1J fWaOI9PGaJA/kYcEHl03DzHbh8IaBRih h0r2KV3XWZE=\n",
      "\n",
      " ADDITIONAL:\n"
     ]
    }
   ],
   "source": [
    "response5 = dns.query.udp(a_query, '156.154.65.100')\n",
    "print_response(response5)"
   ]
  },
  {
   "cell_type": "code",
   "execution_count": 326,
   "metadata": {},
   "outputs": [
    {
     "name": "stdout",
     "output_type": "stream",
     "text": [
      "\n",
      " QUESTION:\n",
      "paypal.com. IN DNSKEY\n",
      "\n",
      " ANSWER:\n",
      "paypal.com. 600 IN DNSKEY 256 3 5 AwEAAc/7r7w6qEg59vzyfcKgIm7K3h43 tglKOJjoFyK5lxhl2e7vh8Cwvj3cwKQH ccsvWuvAK0ummTSysxZT0JJgw8gkhIGG iZ63MJTcbocDezgZiA/q4ejpjdrj27gs 5mCHAsyC9BAVZiysfIwqtRFsP0GjivNY zIc6qGWAXcAJKLLX\n",
      "paypal.com. 600 IN DNSKEY 257 3 5 AwEAAdVtmC6yOQb0+5MT5ezC9GJsCb10 WkVE1qMAbilAN5KZ0/wJD+4P1/WB7ctX C0RnEjHzVrKmLsFzRb3mpI9wm0cf5pN8 BHMSVfdDpycjNyGbMy7EKJ77POD7lSim JouMx5Tp+HQaJZeU0MnXJkR4qaAvShr5 iNtVaopOuIXQfRDnLdDoxETw9XplIL9w kpe1gW5uQNk+Fhy4PRyf+e5yhgiZjemm RiEDJH+FxCUAf8ZV+xHSuucWKY3V1tEh eptdUaIAbnCGDWGTbi9ziai6SrLzRrrD eImwm42PkxD5cURMWqHQIBfEJlDB+koq WPm73sDPMlPgoBUyxb/w5JFLV+c=\n",
      "paypal.com. 600 IN RRSIG DNSKEY 5 2 600 20180308213939 20180206210605 11811 paypal.com. foJEGOUbST8u8Y7xbsg0f0xS5EMLNjnw GD+9/eH/VHyaGIDfEXIDbn+5Z5JkUoTv hOrp2aWtF3p13p2kkxXpSBO82lpaEpcF QwawMyEXhhAwzAW91I2hXDIiTKDQvTP5 eN6HTn9hpFLt6iy8GlmKX7j39Rqj8nWx c9w2r0igAbU=\n",
      "paypal.com. 600 IN RRSIG DNSKEY 5 2 600 20180308213939 20180206210605 21037 paypal.com. nrn5Kxq1lTDrroX7IniwIS/Z+eWbyqrc bMt0YzTdB7rjXBaMc/K7wujMACDoY3Em pFjHHr6Msze0oPboeOcib8GXX68sP0zb E1I+oNTThP+QCiKTorhTpaeJ4PDMCmPn SKQBYC+6tCfLXguGh6vRU3K1bpVyUDN7 hZRc1cCchcx1ANwhEvXDezRnJ90C1BZ4 N1FYiAiru8ow4Jft0ZqYfwwC7wZ5mL9V 2NyH1CeKWsLxtzxukBBT5U5HU5bxilBZ zJWDYROse7GLGF9/CrowfYN5wJPBlAZb rbiGPlKA3UAkkbM3/ttVtsWUO5JTt98i wa6c+TlzFGdODXdELaqrKw==\n",
      "\n",
      " AUTHORITY:\n",
      "\n",
      " ADDITIONAL:\n"
     ]
    }
   ],
   "source": [
    "d_query = dns.message.make_query('paypal.com.', 'DNSKEY', want_dnssec=True)\n",
    "response6 = dns.query.udp(d_query, '156.154.65.100')\n",
    "print_response(response6)"
   ]
  },
  {
   "cell_type": "code",
   "execution_count": 327,
   "metadata": {},
   "outputs": [
    {
     "name": "stdout",
     "output_type": "stream",
     "text": [
      "Congrats! DNSKEYs are good~\n"
     ]
    }
   ],
   "source": [
    "# verify the DNSKEY rrset\n",
    "\n",
    "try:\n",
    "    dnskey, rrsig_key, name_key = get_rrset(response6, 'DNSKEY')\n",
    "    dns.dnssec.validate(dnskey, rrsig_key, {name_key:dnskey})\n",
    "except Exception as e:\n",
    "    print('Oops! Validation failure:', e)\n",
    "else:\n",
    "    print('Congrats! DNSKEYs are good~')"
   ]
  },
  {
   "cell_type": "code",
   "execution_count": 335,
   "metadata": {},
   "outputs": [
    {
     "name": "stdout",
     "output_type": "stream",
     "text": [
      "Congrats! A records are good~\n"
     ]
    }
   ],
   "source": [
    "# verify the A rrset\n",
    "\n",
    "try:\n",
    "    a, rrsig_a, name_a = get_rrset(response5, 'A')\n",
    "    dns.dnssec.validate(a, rrsig_a, {name_key:dnskey})\n",
    "except Exception as e:\n",
    "    print('Oops! Validation failure:', e)\n",
    "else:\n",
    "    print('Congrats! A records are good~')"
   ]
  },
  {
   "cell_type": "code",
   "execution_count": 348,
   "metadata": {},
   "outputs": [
    {
     "name": "stdout",
     "output_type": "stream",
     "text": [
      "Congrats! NS records are good~\n"
     ]
    }
   ],
   "source": [
    "# verify the NS rrset\n",
    "\n",
    "try:\n",
    "    ns, rrsig_ns, name_ns = get_rrset(response5, 'NS')\n",
    "    dns.dnssec.validate(ns, rrsig_ns, {name_key:dnskey})\n",
    "except Exception as e:\n",
    "    print('Oops! Validation failure:', e)\n",
    "else:\n",
    "    print('Congrats! NS records are good~')"
   ]
  },
  {
   "cell_type": "markdown",
   "metadata": {},
   "source": [
    "# CNN"
   ]
  },
  {
   "cell_type": "code",
   "execution_count": null,
   "metadata": {
    "collapsed": true
   },
   "outputs": [],
   "source": []
  },
  {
   "cell_type": "code",
   "execution_count": 71,
   "metadata": {},
   "outputs": [
    {
     "name": "stdout",
     "output_type": "stream",
     "text": [
      "id 40956\n",
      "opcode QUERY\n",
      "rcode NOERROR\n",
      "flags QR RD\n",
      ";QUESTION\n",
      "cnn.com. IN A\n",
      ";ANSWER\n",
      ";AUTHORITY\n",
      "com. 172800 IN NS e.gtld-servers.net.\n",
      "com. 172800 IN NS b.gtld-servers.net.\n",
      "com. 172800 IN NS j.gtld-servers.net.\n",
      "com. 172800 IN NS m.gtld-servers.net.\n",
      "com. 172800 IN NS i.gtld-servers.net.\n",
      "com. 172800 IN NS f.gtld-servers.net.\n",
      "com. 172800 IN NS a.gtld-servers.net.\n",
      "com. 172800 IN NS g.gtld-servers.net.\n",
      "com. 172800 IN NS h.gtld-servers.net.\n",
      "com. 172800 IN NS l.gtld-servers.net.\n",
      "com. 172800 IN NS k.gtld-servers.net.\n",
      "com. 172800 IN NS c.gtld-servers.net.\n",
      "com. 172800 IN NS d.gtld-servers.net.\n",
      ";ADDITIONAL\n",
      "e.gtld-servers.net. 172800 IN A 192.12.94.30\n",
      "e.gtld-servers.net. 172800 IN AAAA 2001:502:1ca1::30\n",
      "b.gtld-servers.net. 172800 IN A 192.33.14.30\n",
      "b.gtld-servers.net. 172800 IN AAAA 2001:503:231d::2:30\n",
      "j.gtld-servers.net. 172800 IN A 192.48.79.30\n",
      "j.gtld-servers.net. 172800 IN AAAA 2001:502:7094::30\n",
      "m.gtld-servers.net. 172800 IN A 192.55.83.30\n",
      "m.gtld-servers.net. 172800 IN AAAA 2001:501:b1f9::30\n",
      "i.gtld-servers.net. 172800 IN A 192.43.172.30\n",
      "i.gtld-servers.net. 172800 IN AAAA 2001:503:39c1::30\n",
      "f.gtld-servers.net. 172800 IN A 192.35.51.30\n",
      "a.gtld-servers.net. 172800 IN A 192.5.6.30\n"
     ]
    }
   ],
   "source": [
    "b_query = dns.message.make_query('cnn.com', 'A', want_dnssec=False)\n",
    "response4 = dns.query.udp(b_query, '198.41.0.4')\n",
    "print(response4.to_text())"
   ]
  },
  {
   "cell_type": "code",
   "execution_count": 68,
   "metadata": {},
   "outputs": [
    {
     "name": "stdout",
     "output_type": "stream",
     "text": [
      "\n",
      " QUESTION:\n",
      "cnn.com. IN A\n",
      "\n",
      " ANSWER:\n",
      "\n",
      " AUTHORITY:\n",
      "cnn.com. 172800 IN NS ns-47.awsdns-05.com.\n",
      "cnn.com. 172800 IN NS ns-576.awsdns-08.net.\n",
      "cnn.com. 172800 IN NS ns-1630.awsdns-11.co.uk.\n",
      "cnn.com. 172800 IN NS ns-1086.awsdns-07.org.\n",
      "\n",
      " ADDITIONAL:\n",
      "ns-47.awsdns-05.com. 172800 IN A 205.251.192.47\n",
      "ns-576.awsdns-08.net. 172800 IN A 205.251.194.64\n"
     ]
    }
   ],
   "source": [
    "response5 = dns.query.udp(b_query, '192.5.6.30')\n",
    "print_response(response5)"
   ]
  },
  {
   "cell_type": "code",
   "execution_count": 69,
   "metadata": {},
   "outputs": [
    {
     "name": "stdout",
     "output_type": "stream",
     "text": [
      "\n",
      " QUESTION:\n",
      "cnn.com. IN A\n",
      "\n",
      " ANSWER:\n",
      "cnn.com. 60 IN A 151.101.1.67\n",
      "cnn.com. 60 IN A 151.101.129.67\n",
      "cnn.com. 60 IN A 151.101.193.67\n",
      "cnn.com. 60 IN A 151.101.65.67\n",
      "\n",
      " AUTHORITY:\n",
      "cnn.com. 3600 IN NS ns-1086.awsdns-07.org.\n",
      "cnn.com. 3600 IN NS ns-1630.awsdns-11.co.uk.\n",
      "cnn.com. 3600 IN NS ns-47.awsdns-05.com.\n",
      "cnn.com. 3600 IN NS ns-576.awsdns-08.net.\n",
      "\n",
      " ADDITIONAL:\n"
     ]
    }
   ],
   "source": [
    "response6 = dns.query.udp(b_query, '205.251.192.47')\n",
    "print_response(response6)"
   ]
  },
  {
   "cell_type": "code",
   "execution_count": null,
   "metadata": {
    "collapsed": true
   },
   "outputs": [],
   "source": []
  },
  {
   "cell_type": "code",
   "execution_count": null,
   "metadata": {
    "collapsed": true
   },
   "outputs": [],
   "source": []
  },
  {
   "cell_type": "code",
   "execution_count": 7,
   "metadata": {},
   "outputs": [
    {
     "data": {
      "text/plain": [
       "0"
      ]
     },
     "execution_count": 7,
     "metadata": {},
     "output_type": "execute_result"
    }
   ],
   "source": [
    "response.rcode()"
   ]
  },
  {
   "cell_type": "code",
   "execution_count": 34,
   "metadata": {
    "collapsed": true
   },
   "outputs": [],
   "source": [
    "# get nameservers for target domain\n",
    "response = dns.resolver.query('example.com.',dns.rdatatype.NS)"
   ]
  },
  {
   "cell_type": "code",
   "execution_count": 35,
   "metadata": {},
   "outputs": [
    {
     "data": {
      "text/plain": [
       "'b.iana-servers.net.'"
      ]
     },
     "execution_count": 35,
     "metadata": {},
     "output_type": "execute_result"
    }
   ],
   "source": [
    "nsname = response.rrset[0]\n",
    "nsname.to_text()"
   ]
  },
  {
   "cell_type": "code",
   "execution_count": 39,
   "metadata": {},
   "outputs": [
    {
     "data": {
      "text/plain": [
       "'199.43.133.53'"
      ]
     },
     "execution_count": 39,
     "metadata": {},
     "output_type": "execute_result"
    }
   ],
   "source": [
    "response = dns.resolver.query(nsname.to_text(), dns.rdatatype.A)\n",
    "nsaddr = response.rrset[0].to_text()\n",
    "nsaddr"
   ]
  },
  {
   "cell_type": "code",
   "execution_count": 43,
   "metadata": {
    "collapsed": true
   },
   "outputs": [],
   "source": [
    "request = dns.message.make_query('example.com', dns.rdatatype.DNSKEY, want_dnssec=True)"
   ]
  },
  {
   "cell_type": "code",
   "execution_count": null,
   "metadata": {
    "collapsed": true
   },
   "outputs": [],
   "source": []
  },
  {
   "cell_type": "code",
   "execution_count": 44,
   "metadata": {
    "collapsed": true
   },
   "outputs": [],
   "source": [
    "response = dns.query.udp(request, nsaddr)"
   ]
  },
  {
   "cell_type": "code",
   "execution_count": 45,
   "metadata": {},
   "outputs": [
    {
     "name": "stdout",
     "output_type": "stream",
     "text": [
      "\n",
      " QUESTION:\n",
      "example.com. IN DNSKEY\n",
      "\n",
      " ANSWER:\n",
      "\n",
      " AUTHORITY:\n",
      "\n",
      " ADDITIONAL:\n"
     ]
    }
   ],
   "source": [
    "print_response(response)"
   ]
  },
  {
   "cell_type": "code",
   "execution_count": 22,
   "metadata": {
    "collapsed": true
   },
   "outputs": [
    {
     "name": "stdout",
     "output_type": "stream",
     "text": [
      "\n",
      " QUESTION:\n",
      "example.com. IN NS\n",
      "\n",
      " ANSWER:\n",
      "example.com. 79024 IN NS b.iana-servers.net.\n",
      "example.com. 79024 IN NS a.iana-servers.net.\n",
      "\n",
      " AUTHORITY:\n",
      "\n",
      " ADDITIONAL:\n",
      "b.iana-servers.net. 634 IN A 199.43.133.53\n",
      "b.iana-servers.net. 634 IN AAAA 2001:500:8d::53\n",
      "a.iana-servers.net. 634 IN A 199.43.135.53\n",
      "a.iana-servers.net. 634 IN AAAA 2001:500:8f::53\n"
     ]
    }
   ],
   "source": [
    "print_response(response.response)"
   ]
  },
  {
   "cell_type": "code",
   "execution_count": 20,
   "metadata": {},
   "outputs": [
    {
     "data": {
      "text/plain": [
       "<dns.resolver.Answer at 0x111ab1ef0>"
      ]
     },
     "execution_count": 20,
     "metadata": {},
     "output_type": "execute_result"
    }
   ],
   "source": [
    "response"
   ]
  },
  {
   "cell_type": "code",
   "execution_count": null,
   "metadata": {
    "collapsed": true
   },
   "outputs": [],
   "source": []
  }
 ],
 "metadata": {
  "kernelspec": {
   "display_name": "Python 3",
   "language": "python",
   "name": "python3"
  }
 },
 "nbformat": 4,
 "nbformat_minor": 2
}
