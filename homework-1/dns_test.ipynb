{
 "cells": [
  {
   "cell_type": "code",
   "execution_count": 3,
   "metadata": {},
   "outputs": [],
   "source": [
    "import dns.resolver\n",
    "import dns.query\n",
    "import dns.zone\n",
    "import dns.tsigkeyring\n",
    "import dns.update\n",
    "import sys\n",
    "import dns.ipv4\n",
    "import os.path\n",
    "import dns.reversename\n",
    "import dns.message\n",
    "import dns.rdataclass\n",
    "import dns.rdatatype\n",
    "import random\n",
    "import re\n",
    "import time\n",
    "import datetime"
   ]
  },
  {
   "cell_type": "code",
   "execution_count": 262,
   "metadata": {},
   "outputs": [
    {
     "name": "stdout",
     "output_type": "stream",
     "text": [
      "\n",
      "RTT: 273 msec\n",
      "\n",
      " QUESTION:\n",
      "www.163.com. IN A\n",
      "\n",
      " ANSWER:\n",
      "\n",
      " AUTHORITY:\n",
      "com. 172800 IN NS e.gtld-servers.net.\n",
      "com. 172800 IN NS g.gtld-servers.net.\n",
      "com. 172800 IN NS i.gtld-servers.net.\n",
      "com. 172800 IN NS c.gtld-servers.net.\n",
      "com. 172800 IN NS b.gtld-servers.net.\n",
      "com. 172800 IN NS h.gtld-servers.net.\n",
      "com. 172800 IN NS d.gtld-servers.net.\n",
      "com. 172800 IN NS j.gtld-servers.net.\n",
      "com. 172800 IN NS l.gtld-servers.net.\n",
      "com. 172800 IN NS f.gtld-servers.net.\n",
      "com. 172800 IN NS a.gtld-servers.net.\n",
      "com. 172800 IN NS m.gtld-servers.net.\n",
      "com. 172800 IN NS k.gtld-servers.net.\n",
      "\n",
      " ADDITIONAL:\n",
      "a.gtld-servers.net. 172800 IN A 192.5.6.30\n",
      "b.gtld-servers.net. 172800 IN A 192.33.14.30\n",
      "c.gtld-servers.net. 172800 IN A 192.26.92.30\n",
      "d.gtld-servers.net. 172800 IN A 192.31.80.30\n",
      "e.gtld-servers.net. 172800 IN A 192.12.94.30\n",
      "f.gtld-servers.net. 172800 IN A 192.35.51.30\n",
      "g.gtld-servers.net. 172800 IN A 192.42.93.30\n",
      "h.gtld-servers.net. 172800 IN A 192.54.112.30\n",
      "i.gtld-servers.net. 172800 IN A 192.43.172.30\n",
      "j.gtld-servers.net. 172800 IN A 192.48.79.30\n",
      "k.gtld-servers.net. 172800 IN A 192.52.178.30\n",
      "l.gtld-servers.net. 172800 IN A 192.41.162.30\n",
      "m.gtld-servers.net. 172800 IN A 192.55.83.30\n",
      "a.gtld-servers.net. 172800 IN AAAA 2001:503:a83e::2:30\n"
     ]
    }
   ],
   "source": [
    "start = time.time()\n",
    "a_query = dns.message.make_query('www.163.com', 'A')\n",
    "#response1 = dns.query.udp(a_query, '123.58.173.178')  # hangzhou 163 authoritative server: 400 msec\n",
    "response1 = dns.query.udp(a_query, '202.12.27.33')      # Japan root server: 200 msec\n",
    "#response1 = dns.query.udp(a_query, '199.9.14.201')    # usc root server: 40 msec\n",
    "#response1 = dns.query.udp(a_query, '199.7.91.13')     # umd root server: 10 msec\n",
    "elapsed = time.time() - start\n",
    "print('\\nRTT: ' + str(int(elapsed * 1000)) + ' msec')\n",
    "\n",
    "\n",
    "print_response(response1)"
   ]
  },
  {
   "cell_type": "markdown",
   "metadata": {},
   "source": [
    "# Test MX"
   ]
  },
  {
   "cell_type": "markdown",
   "metadata": {},
   "source": [
    "## 163"
   ]
  },
  {
   "cell_type": "code",
   "execution_count": 114,
   "metadata": {
    "collapsed": true
   },
   "outputs": [],
   "source": [
    "a_query = dns.message.make_query('www.163.com', 'A')"
   ]
  },
  {
   "cell_type": "code",
   "execution_count": 115,
   "metadata": {},
   "outputs": [
    {
     "name": "stdout",
     "output_type": "stream",
     "text": [
      "\n",
      " QUESTION:\n",
      "www.163.com. IN A\n",
      "\n",
      " ANSWER:\n",
      "\n",
      " AUTHORITY:\n",
      "com. 172800 IN NS e.gtld-servers.net.\n",
      "com. 172800 IN NS b.gtld-servers.net.\n",
      "com. 172800 IN NS j.gtld-servers.net.\n",
      "com. 172800 IN NS m.gtld-servers.net.\n",
      "com. 172800 IN NS i.gtld-servers.net.\n",
      "com. 172800 IN NS f.gtld-servers.net.\n",
      "com. 172800 IN NS a.gtld-servers.net.\n",
      "com. 172800 IN NS g.gtld-servers.net.\n",
      "com. 172800 IN NS h.gtld-servers.net.\n",
      "com. 172800 IN NS l.gtld-servers.net.\n",
      "com. 172800 IN NS k.gtld-servers.net.\n",
      "com. 172800 IN NS c.gtld-servers.net.\n",
      "com. 172800 IN NS d.gtld-servers.net.\n",
      "\n",
      " ADDITIONAL:\n",
      "e.gtld-servers.net. 172800 IN A 192.12.94.30\n",
      "e.gtld-servers.net. 172800 IN AAAA 2001:502:1ca1::30\n",
      "b.gtld-servers.net. 172800 IN A 192.33.14.30\n",
      "b.gtld-servers.net. 172800 IN AAAA 2001:503:231d::2:30\n",
      "j.gtld-servers.net. 172800 IN A 192.48.79.30\n",
      "j.gtld-servers.net. 172800 IN AAAA 2001:502:7094::30\n",
      "m.gtld-servers.net. 172800 IN A 192.55.83.30\n",
      "m.gtld-servers.net. 172800 IN AAAA 2001:501:b1f9::30\n",
      "i.gtld-servers.net. 172800 IN A 192.43.172.30\n",
      "i.gtld-servers.net. 172800 IN AAAA 2001:503:39c1::30\n",
      "f.gtld-servers.net. 172800 IN A 192.35.51.30\n",
      "a.gtld-servers.net. 172800 IN A 192.5.6.30\n"
     ]
    }
   ],
   "source": [
    "response1 = dns.query.udp(a_query, '198.41.0.4')\n",
    "print_response(response1)"
   ]
  },
  {
   "cell_type": "code",
   "execution_count": 116,
   "metadata": {},
   "outputs": [
    {
     "name": "stdout",
     "output_type": "stream",
     "text": [
      "\n",
      " QUESTION:\n",
      "www.163.com. IN A\n",
      "\n",
      " ANSWER:\n",
      "\n",
      " AUTHORITY:\n",
      "163.com. 172800 IN NS ns3.nease.net.\n",
      "163.com. 172800 IN NS ns4.nease.net.\n",
      "163.com. 172800 IN NS ns5.nease.net.\n",
      "163.com. 172800 IN NS ns6.nease.net.\n",
      "163.com. 172800 IN NS ns1.nease.net.\n",
      "163.com. 172800 IN NS ns2.166.com.\n",
      "163.com. 172800 IN NS ns8.166.com.\n",
      "\n",
      " ADDITIONAL:\n",
      "ns3.nease.net. 172800 IN A 220.181.36.234\n",
      "ns4.nease.net. 172800 IN A 123.125.48.245\n",
      "ns5.nease.net. 172800 IN A 121.195.179.18\n",
      "ns6.nease.net. 172800 IN A 52.215.24.44\n",
      "ns1.nease.net. 172800 IN A 123.58.173.177\n",
      "ns2.166.com. 172800 IN A 123.58.173.178\n",
      "ns8.166.com. 172800 IN A 52.27.107.218\n",
      "ns8.166.com. 172800 IN A 52.69.168.90\n"
     ]
    }
   ],
   "source": [
    "response2 = dns.query.udp(a_query, '192.5.6.30')\n",
    "print_response(response2)"
   ]
  },
  {
   "cell_type": "code",
   "execution_count": 117,
   "metadata": {},
   "outputs": [
    {
     "name": "stdout",
     "output_type": "stream",
     "text": [
      "\n",
      " QUESTION:\n",
      "www.163.com. IN A\n",
      "\n",
      " ANSWER:\n",
      "www.163.com. 600 IN CNAME www.163.com.lxdns.com.\n",
      "\n",
      " AUTHORITY:\n",
      "\n",
      " ADDITIONAL:\n"
     ]
    }
   ],
   "source": [
    "response3 = dns.query.udp(a_query, '220.181.36.234')\n",
    "print_response(response3)"
   ]
  },
  {
   "cell_type": "code",
   "execution_count": 118,
   "metadata": {},
   "outputs": [
    {
     "name": "stdout",
     "output_type": "stream",
     "text": [
      "\n",
      " QUESTION:\n",
      "www.163.com.lxdns.com. IN A\n",
      "\n",
      " ANSWER:\n",
      "\n",
      " AUTHORITY:\n",
      "com. 172800 IN NS e.gtld-servers.net.\n",
      "com. 172800 IN NS b.gtld-servers.net.\n",
      "com. 172800 IN NS j.gtld-servers.net.\n",
      "com. 172800 IN NS m.gtld-servers.net.\n",
      "com. 172800 IN NS i.gtld-servers.net.\n",
      "com. 172800 IN NS f.gtld-servers.net.\n",
      "com. 172800 IN NS a.gtld-servers.net.\n",
      "com. 172800 IN NS g.gtld-servers.net.\n",
      "com. 172800 IN NS h.gtld-servers.net.\n",
      "com. 172800 IN NS l.gtld-servers.net.\n",
      "com. 172800 IN NS k.gtld-servers.net.\n",
      "com. 172800 IN NS c.gtld-servers.net.\n",
      "com. 172800 IN NS d.gtld-servers.net.\n",
      "\n",
      " ADDITIONAL:\n",
      "e.gtld-servers.net. 172800 IN A 192.12.94.30\n",
      "e.gtld-servers.net. 172800 IN AAAA 2001:502:1ca1::30\n",
      "b.gtld-servers.net. 172800 IN A 192.33.14.30\n",
      "b.gtld-servers.net. 172800 IN AAAA 2001:503:231d::2:30\n",
      "j.gtld-servers.net. 172800 IN A 192.48.79.30\n",
      "j.gtld-servers.net. 172800 IN AAAA 2001:502:7094::30\n",
      "m.gtld-servers.net. 172800 IN A 192.55.83.30\n",
      "m.gtld-servers.net. 172800 IN AAAA 2001:501:b1f9::30\n",
      "i.gtld-servers.net. 172800 IN A 192.43.172.30\n",
      "i.gtld-servers.net. 172800 IN AAAA 2001:503:39c1::30\n",
      "f.gtld-servers.net. 172800 IN A 192.35.51.30\n"
     ]
    }
   ],
   "source": [
    "b_query = dns.message.make_query('www.163.com.lxdns.com.', 'A')\n",
    "response4 = dns.query.udp(b_query, '198.41.0.4')\n",
    "print_response(response4)"
   ]
  },
  {
   "cell_type": "code",
   "execution_count": 537,
   "metadata": {},
   "outputs": [
    {
     "name": "stdout",
     "output_type": "stream",
     "text": [
      "\n",
      " QUESTION:\n",
      "www.163.com.lxdns.com. IN A\n",
      "\n",
      " ANSWER:\n",
      "\n",
      " AUTHORITY:\n",
      "lxdns.com. 172800 IN NS dns2.lxdns.info.\n",
      "lxdns.com. 172800 IN NS dns4.lxdns.info.\n",
      "lxdns.com. 172800 IN NS dns1.lxdns.org.\n",
      "lxdns.com. 172800 IN NS dns3.lxdns.org.\n",
      "lxdns.com. 172800 IN NS dns5.lxdns.org.\n",
      "\n",
      " ADDITIONAL:\n"
     ]
    }
   ],
   "source": [
    "response5 = dns.query.udp(b_query, '192.12.94.30')\n",
    "print_response(response5)"
   ]
  },
  {
   "cell_type": "code",
   "execution_count": 559,
   "metadata": {},
   "outputs": [
    {
     "name": "stdout",
     "output_type": "stream",
     "text": [
      "\n",
      " QUESTION:\n",
      "dns2.lxdns.info. IN A\n",
      "\n",
      " ANSWER:\n",
      "\n",
      " AUTHORITY:\n",
      "info. 172800 IN NS a0.info.afilias-nst.info.\n",
      "info. 172800 IN NS a2.info.afilias-nst.info.\n",
      "info. 172800 IN NS b0.info.afilias-nst.org.\n",
      "info. 172800 IN NS b2.info.afilias-nst.org.\n",
      "info. 172800 IN NS c0.info.afilias-nst.info.\n",
      "info. 172800 IN NS d0.info.afilias-nst.org.\n",
      "\n",
      " ADDITIONAL:\n",
      "a0.info.afilias-nst.info. 172800 IN A 199.254.31.1\n",
      "a2.info.afilias-nst.info. 172800 IN A 199.249.113.1\n",
      "b0.info.afilias-nst.org. 172800 IN A 199.254.48.1\n",
      "b2.info.afilias-nst.org. 172800 IN A 199.249.121.1\n",
      "c0.info.afilias-nst.info. 172800 IN A 199.254.49.1\n",
      "d0.info.afilias-nst.org. 172800 IN A 199.254.50.1\n",
      "a0.info.afilias-nst.info. 172800 IN AAAA 2001:500:19::1\n",
      "a2.info.afilias-nst.info. 172800 IN AAAA 2001:500:41::1\n",
      "b0.info.afilias-nst.org. 172800 IN AAAA 2001:500:1a::1\n",
      "b2.info.afilias-nst.org. 172800 IN AAAA 2001:500:49::1\n",
      "c0.info.afilias-nst.info. 172800 IN AAAA 2001:500:1b::1\n",
      "d0.info.afilias-nst.org. 172800 IN AAAA 2001:500:1c::1\n"
     ]
    }
   ],
   "source": [
    "c_query = dns.message.make_query('dns2.lxdns.info.', 'A')\n",
    "response6 = dns.query.udp(c_query, '198.41.0.4')\n",
    "print_response(response6)"
   ]
  },
  {
   "cell_type": "code",
   "execution_count": 560,
   "metadata": {},
   "outputs": [
    {
     "name": "stdout",
     "output_type": "stream",
     "text": [
      "\n",
      " QUESTION:\n",
      "dns2.lxdns.info. IN A\n",
      "\n",
      " ANSWER:\n",
      "\n",
      " AUTHORITY:\n",
      "lxdns.info. 86400 IN NS ns5.lxdns.info.\n",
      "lxdns.info. 86400 IN NS ns2.lxdns.info.\n",
      "lxdns.info. 86400 IN NS ns3.lxdns.info.\n",
      "lxdns.info. 86400 IN NS ns4.lxdns.info.\n",
      "lxdns.info. 86400 IN NS ns1.lxdns.info.\n",
      "\n",
      " ADDITIONAL:\n",
      "ns1.lxdns.info. 86400 IN A 183.131.192.82\n",
      "ns2.lxdns.info. 86400 IN A 125.46.22.158\n",
      "ns3.lxdns.info. 86400 IN A 113.107.57.74\n",
      "ns4.lxdns.info. 86400 IN A 122.138.54.37\n",
      "ns5.lxdns.info. 86400 IN A 14.119.111.147\n"
     ]
    }
   ],
   "source": [
    "response7 = dns.query.udp(c_query, '199.254.31.1')\n",
    "print_response(response7)"
   ]
  },
  {
   "cell_type": "code",
   "execution_count": 561,
   "metadata": {},
   "outputs": [
    {
     "name": "stdout",
     "output_type": "stream",
     "text": [
      "\n",
      " QUESTION:\n",
      "dns2.lxdns.info. IN A\n",
      "\n",
      " ANSWER:\n",
      "dns2.lxdns.info. 7200 IN A 125.46.22.158\n",
      "\n",
      " AUTHORITY:\n",
      "lxdns.info. 86400 IN NS ns2.lxdns.info.\n",
      "lxdns.info. 86400 IN NS ns5.lxdns.info.\n",
      "lxdns.info. 86400 IN NS ns3.lxdns.info.\n",
      "lxdns.info. 86400 IN NS ns1.lxdns.info.\n",
      "lxdns.info. 86400 IN NS ns4.lxdns.info.\n",
      "\n",
      " ADDITIONAL:\n",
      "ns2.lxdns.info. 7200 IN A 125.46.22.158\n",
      "ns5.lxdns.info. 7200 IN A 14.119.111.147\n",
      "ns3.lxdns.info. 7200 IN A 183.131.192.93\n",
      "ns1.lxdns.info. 7200 IN A 183.131.192.82\n",
      "ns4.lxdns.info. 7200 IN A 111.178.234.69\n"
     ]
    }
   ],
   "source": [
    "response8 = dns.query.udp(c_query, '183.131.192.82')\n",
    "print_response(response8)"
   ]
  },
  {
   "cell_type": "code",
   "execution_count": 562,
   "metadata": {},
   "outputs": [
    {
     "name": "stdout",
     "output_type": "stream",
     "text": [
      "\n",
      " QUESTION:\n",
      "www.163.com.lxdns.com. IN NS\n",
      "\n",
      " ANSWER:\n",
      "\n",
      " AUTHORITY:\n",
      "lxdns.com. 60 IN SOA dns1.lxdns.org. webmaster.lxdns.com. 1107011041 10800 3600 64800 60\n",
      "\n",
      " ADDITIONAL:\n"
     ]
    }
   ],
   "source": [
    "response9 = dns.query.udp(b_query, '125.46.22.158')\n",
    "print_response(response9)"
   ]
  },
  {
   "cell_type": "code",
   "execution_count": 571,
   "metadata": {
    "collapsed": true
   },
   "outputs": [],
   "source": [
    "rrset = response9.authority[0]"
   ]
  },
  {
   "cell_type": "code",
   "execution_count": 574,
   "metadata": {
    "collapsed": true
   },
   "outputs": [],
   "source": [
    "item = rrset.items[0]"
   ]
  },
  {
   "cell_type": "code",
   "execution_count": 575,
   "metadata": {},
   "outputs": [
    {
     "data": {
      "text/plain": [
       "'dns1.lxdns.org. webmaster.lxdns.com. 1107011041 10800 3600 64800 60'"
      ]
     },
     "execution_count": 575,
     "metadata": {},
     "output_type": "execute_result"
    }
   ],
   "source": [
    "item.to_text()"
   ]
  },
  {
   "cell_type": "code",
   "execution_count": 615,
   "metadata": {},
   "outputs": [
    {
     "name": "stdout",
     "output_type": "stream",
     "text": [
      "True\n"
     ]
    }
   ],
   "source": [
    "re_domain = '^(?=.{4,255}$)([a-zA-Z0-9][a-zA-Z0-9-]{,61}[a-zA-Z0-9]\\.)+[a-zA-Z0-9]{2,5}.$'\n",
    "match = re.match(re_domain, 'ns-130.awsdns-16.com.')\n",
    "if match:\n",
    "    print('True')\n",
    "else:\n",
    "    print('False')"
   ]
  },
  {
   "cell_type": "code",
   "execution_count": 544,
   "metadata": {},
   "outputs": [
    {
     "name": "stdout",
     "output_type": "stream",
     "text": [
      "\n",
      " QUESTION:\n",
      "opthw.xdwscache.speedcdns.com. IN A\n",
      "\n",
      " ANSWER:\n",
      "\n",
      " AUTHORITY:\n",
      "com. 172800 IN NS a.gtld-servers.net.\n",
      "com. 172800 IN NS b.gtld-servers.net.\n",
      "com. 172800 IN NS c.gtld-servers.net.\n",
      "com. 172800 IN NS d.gtld-servers.net.\n",
      "com. 172800 IN NS e.gtld-servers.net.\n",
      "com. 172800 IN NS f.gtld-servers.net.\n",
      "com. 172800 IN NS g.gtld-servers.net.\n",
      "com. 172800 IN NS h.gtld-servers.net.\n",
      "com. 172800 IN NS i.gtld-servers.net.\n",
      "com. 172800 IN NS j.gtld-servers.net.\n",
      "com. 172800 IN NS k.gtld-servers.net.\n",
      "com. 172800 IN NS l.gtld-servers.net.\n",
      "com. 172800 IN NS m.gtld-servers.net.\n",
      "\n",
      " ADDITIONAL:\n",
      "a.gtld-servers.net. 172800 IN A 192.5.6.30\n",
      "b.gtld-servers.net. 172800 IN A 192.33.14.30\n",
      "c.gtld-servers.net. 172800 IN A 192.26.92.30\n",
      "d.gtld-servers.net. 172800 IN A 192.31.80.30\n",
      "e.gtld-servers.net. 172800 IN A 192.12.94.30\n",
      "f.gtld-servers.net. 172800 IN A 192.35.51.30\n",
      "g.gtld-servers.net. 172800 IN A 192.42.93.30\n",
      "h.gtld-servers.net. 172800 IN A 192.54.112.30\n",
      "i.gtld-servers.net. 172800 IN A 192.43.172.30\n",
      "j.gtld-servers.net. 172800 IN A 192.48.79.30\n",
      "k.gtld-servers.net. 172800 IN A 192.52.178.30\n",
      "l.gtld-servers.net. 172800 IN A 192.41.162.30\n",
      "m.gtld-servers.net. 172800 IN A 192.55.83.30\n",
      "a.gtld-servers.net. 172800 IN AAAA 2001:503:a83e::2:30\n"
     ]
    }
   ],
   "source": [
    "d_query = dns.message.make_query('opthw.xdwscache.speedcdns.com.', 'A')\n",
    "response10 = dns.query.udp(d_query, '198.41.0.4')\n",
    "print_response(response10)"
   ]
  },
  {
   "cell_type": "code",
   "execution_count": 545,
   "metadata": {},
   "outputs": [
    {
     "name": "stdout",
     "output_type": "stream",
     "text": [
      "\n",
      " QUESTION:\n",
      "opthw.xdwscache.speedcdns.com. IN A\n",
      "\n",
      " ANSWER:\n",
      "\n",
      " AUTHORITY:\n",
      "speedcdns.com. 172800 IN NS dns4.speedcdns.info.\n",
      "speedcdns.com. 172800 IN NS dns5.speedcdns.info.\n",
      "speedcdns.com. 172800 IN NS dns3.speedcdns.info.\n",
      "speedcdns.com. 172800 IN NS dns2.speedcdns.info.\n",
      "speedcdns.com. 172800 IN NS dns1.speedcdns.info.\n",
      "\n",
      " ADDITIONAL:\n"
     ]
    }
   ],
   "source": [
    "response11 = dns.query.udp(d_query, '192.5.6.30')\n",
    "print_response(response11)"
   ]
  },
  {
   "cell_type": "code",
   "execution_count": 546,
   "metadata": {},
   "outputs": [
    {
     "name": "stdout",
     "output_type": "stream",
     "text": [
      "\n",
      " QUESTION:\n",
      "dns4.speedcdns.info. IN A\n",
      "\n",
      " ANSWER:\n",
      "\n",
      " AUTHORITY:\n",
      "info. 172800 IN NS a0.info.afilias-nst.info.\n",
      "info. 172800 IN NS a2.info.afilias-nst.info.\n",
      "info. 172800 IN NS b0.info.afilias-nst.org.\n",
      "info. 172800 IN NS b2.info.afilias-nst.org.\n",
      "info. 172800 IN NS c0.info.afilias-nst.info.\n",
      "info. 172800 IN NS d0.info.afilias-nst.org.\n",
      "\n",
      " ADDITIONAL:\n",
      "a0.info.afilias-nst.info. 172800 IN A 199.254.31.1\n",
      "a2.info.afilias-nst.info. 172800 IN A 199.249.113.1\n",
      "b0.info.afilias-nst.org. 172800 IN A 199.254.48.1\n",
      "b2.info.afilias-nst.org. 172800 IN A 199.249.121.1\n",
      "c0.info.afilias-nst.info. 172800 IN A 199.254.49.1\n",
      "d0.info.afilias-nst.org. 172800 IN A 199.254.50.1\n",
      "a0.info.afilias-nst.info. 172800 IN AAAA 2001:500:19::1\n",
      "a2.info.afilias-nst.info. 172800 IN AAAA 2001:500:41::1\n",
      "b0.info.afilias-nst.org. 172800 IN AAAA 2001:500:1a::1\n",
      "b2.info.afilias-nst.org. 172800 IN AAAA 2001:500:49::1\n",
      "c0.info.afilias-nst.info. 172800 IN AAAA 2001:500:1b::1\n",
      "d0.info.afilias-nst.org. 172800 IN AAAA 2001:500:1c::1\n"
     ]
    }
   ],
   "source": [
    "e_query = dns.message.make_query('dns4.speedcdns.info.', 'A')\n",
    "response12 = dns.query.udp(e_query, '198.41.0.4')\n",
    "print_response(response12)"
   ]
  },
  {
   "cell_type": "code",
   "execution_count": 547,
   "metadata": {},
   "outputs": [
    {
     "name": "stdout",
     "output_type": "stream",
     "text": [
      "\n",
      " QUESTION:\n",
      "dns4.speedcdns.info. IN A\n",
      "\n",
      " ANSWER:\n",
      "\n",
      " AUTHORITY:\n",
      "speedcdns.info. 86400 IN NS ns5.speedcdns.info.\n",
      "speedcdns.info. 86400 IN NS ns3.speedcdns.info.\n",
      "speedcdns.info. 86400 IN NS ns4.speedcdns.info.\n",
      "speedcdns.info. 86400 IN NS ns2.speedcdns.info.\n",
      "speedcdns.info. 86400 IN NS ns1.speedcdns.info.\n",
      "\n",
      " ADDITIONAL:\n",
      "ns1.speedcdns.info. 86400 IN A 220.243.237.83\n",
      "ns2.speedcdns.info. 86400 IN A 203.130.63.64\n",
      "ns3.speedcdns.info. 86400 IN A 203.130.55.52\n",
      "ns4.speedcdns.info. 86400 IN A 203.130.58.104\n",
      "ns5.speedcdns.info. 86400 IN A 220.243.194.17\n"
     ]
    }
   ],
   "source": [
    "response13 = dns.query.udp(e_query, '199.254.31.1')\n",
    "print_response(response13)"
   ]
  },
  {
   "cell_type": "code",
   "execution_count": 549,
   "metadata": {},
   "outputs": [
    {
     "name": "stdout",
     "output_type": "stream",
     "text": [
      "\n",
      " QUESTION:\n",
      "dns4.speedcdns.info. IN A\n",
      "\n",
      " ANSWER:\n",
      "dns4.speedcdns.info. 86400 IN A 157.185.164.91\n",
      "\n",
      " AUTHORITY:\n",
      "speedcdns.info. 86400 IN NS ns1.speedcdns.info.\n",
      "speedcdns.info. 86400 IN NS ns4.speedcdns.info.\n",
      "speedcdns.info. 86400 IN NS ns3.speedcdns.info.\n",
      "speedcdns.info. 86400 IN NS ns2.speedcdns.info.\n",
      "speedcdns.info. 86400 IN NS ns5.speedcdns.info.\n",
      "\n",
      " ADDITIONAL:\n",
      "ns1.speedcdns.info. 7200 IN A 70.39.191.24\n",
      "ns4.speedcdns.info. 7200 IN A 157.185.166.19\n",
      "ns3.speedcdns.info. 7200 IN A 220.243.254.26\n",
      "ns2.speedcdns.info. 7200 IN A 157.185.149.133\n",
      "ns5.speedcdns.info. 86400 IN A 203.130.63.64\n"
     ]
    }
   ],
   "source": [
    "response14 = dns.query.udp(e_query, '203.130.63.64')\n",
    "print_response(response14)"
   ]
  },
  {
   "cell_type": "code",
   "execution_count": 550,
   "metadata": {},
   "outputs": [
    {
     "name": "stdout",
     "output_type": "stream",
     "text": [
      "\n",
      " QUESTION:\n",
      "opthw.xdwscache.speedcdns.com. IN A\n",
      "\n",
      " ANSWER:\n",
      "opthw.xdwscache.speedcdns.com. 60 IN A 203.130.53.126\n",
      "\n",
      " AUTHORITY:\n",
      "speedcdns.com. 86400 IN NS dns3.speedcdns.info.\n",
      "speedcdns.com. 86400 IN NS dns1.speedcdns.info.\n",
      "speedcdns.com. 86400 IN NS dns2.speedcdns.info.\n",
      "speedcdns.com. 86400 IN NS dns5.speedcdns.info.\n",
      "speedcdns.com. 86400 IN NS dns4.speedcdns.info.\n",
      "\n",
      " ADDITIONAL:\n",
      "dns3.speedcdns.info. 7200 IN A 203.130.53.12\n",
      "dns1.speedcdns.info. 7200 IN A 157.185.170.124\n",
      "dns2.speedcdns.info. 7200 IN A 220.243.215.18\n",
      "dns5.speedcdns.info. 86400 IN A 203.130.63.64\n",
      "dns4.speedcdns.info. 86400 IN A 157.185.164.91\n"
     ]
    }
   ],
   "source": [
    "response15 = dns.query.udp(d_query, '157.185.164.91')\n",
    "print_response(response15)"
   ]
  },
  {
   "cell_type": "code",
   "execution_count": 551,
   "metadata": {
    "collapsed": true
   },
   "outputs": [],
   "source": [
    "f_query = dns.message.make_query('opthw.xdwscache.speedcdns.com.', 'NS')"
   ]
  },
  {
   "cell_type": "code",
   "execution_count": 553,
   "metadata": {},
   "outputs": [
    {
     "name": "stdout",
     "output_type": "stream",
     "text": [
      "\n",
      " QUESTION:\n",
      "opthw.xdwscache.speedcdns.com. IN NS\n",
      "\n",
      " ANSWER:\n",
      "\n",
      " AUTHORITY:\n",
      "speedcdns.com. 60 IN SOA dns1.speedcdns.info. webmaster.speedcdns.info. 1107011041 10800 3600 64800 60\n",
      "\n",
      " ADDITIONAL:\n"
     ]
    }
   ],
   "source": [
    "response16 = dns.query.udp(f_query, '157.185.164.91')\n",
    "print_response(response16)"
   ]
  },
  {
   "cell_type": "markdown",
   "metadata": {},
   "source": [
    "# Test MX"
   ]
  },
  {
   "cell_type": "code",
   "execution_count": 616,
   "metadata": {},
   "outputs": [
    {
     "name": "stdout",
     "output_type": "stream",
     "text": [
      "\n",
      " QUESTION:\n",
      "google.com. IN MX\n",
      "\n",
      " ANSWER:\n",
      "\n",
      " AUTHORITY:\n",
      "com. 172800 IN NS a.gtld-servers.net.\n",
      "com. 172800 IN NS b.gtld-servers.net.\n",
      "com. 172800 IN NS c.gtld-servers.net.\n",
      "com. 172800 IN NS d.gtld-servers.net.\n",
      "com. 172800 IN NS e.gtld-servers.net.\n",
      "com. 172800 IN NS f.gtld-servers.net.\n",
      "com. 172800 IN NS g.gtld-servers.net.\n",
      "com. 172800 IN NS h.gtld-servers.net.\n",
      "com. 172800 IN NS i.gtld-servers.net.\n",
      "com. 172800 IN NS j.gtld-servers.net.\n",
      "com. 172800 IN NS k.gtld-servers.net.\n",
      "com. 172800 IN NS l.gtld-servers.net.\n",
      "com. 172800 IN NS m.gtld-servers.net.\n",
      "\n",
      " ADDITIONAL:\n",
      "a.gtld-servers.net. 172800 IN A 192.5.6.30\n",
      "b.gtld-servers.net. 172800 IN A 192.33.14.30\n",
      "c.gtld-servers.net. 172800 IN A 192.26.92.30\n",
      "d.gtld-servers.net. 172800 IN A 192.31.80.30\n",
      "e.gtld-servers.net. 172800 IN A 192.12.94.30\n",
      "f.gtld-servers.net. 172800 IN A 192.35.51.30\n",
      "g.gtld-servers.net. 172800 IN A 192.42.93.30\n",
      "h.gtld-servers.net. 172800 IN A 192.54.112.30\n",
      "i.gtld-servers.net. 172800 IN A 192.43.172.30\n",
      "j.gtld-servers.net. 172800 IN A 192.48.79.30\n",
      "k.gtld-servers.net. 172800 IN A 192.52.178.30\n",
      "l.gtld-servers.net. 172800 IN A 192.41.162.30\n",
      "m.gtld-servers.net. 172800 IN A 192.55.83.30\n",
      "a.gtld-servers.net. 172800 IN AAAA 2001:503:a83e::2:30\n"
     ]
    }
   ],
   "source": [
    "a_query = dns.message.make_query('google.com', 'MX')\n",
    "response1 = dns.query.udp(a_query, '198.41.0.4')\n",
    "print_response(response1)"
   ]
  },
  {
   "cell_type": "code",
   "execution_count": 617,
   "metadata": {},
   "outputs": [
    {
     "name": "stdout",
     "output_type": "stream",
     "text": [
      "\n",
      " QUESTION:\n",
      "google.com. IN MX\n",
      "\n",
      " ANSWER:\n",
      "\n",
      " AUTHORITY:\n",
      "google.com. 172800 IN NS ns2.google.com.\n",
      "google.com. 172800 IN NS ns1.google.com.\n",
      "google.com. 172800 IN NS ns3.google.com.\n",
      "google.com. 172800 IN NS ns4.google.com.\n",
      "\n",
      " ADDITIONAL:\n",
      "ns2.google.com. 172800 IN A 216.239.34.10\n",
      "ns1.google.com. 172800 IN A 216.239.32.10\n",
      "ns3.google.com. 172800 IN A 216.239.36.10\n",
      "ns4.google.com. 172800 IN AAAA 2001:4860:4802:38::a\n",
      "ns4.google.com. 172800 IN A 216.239.38.10\n"
     ]
    }
   ],
   "source": [
    "response2 = dns.query.udp(a_query, '192.5.6.30')\n",
    "print_response(response2)"
   ]
  },
  {
   "cell_type": "code",
   "execution_count": 618,
   "metadata": {},
   "outputs": [
    {
     "name": "stdout",
     "output_type": "stream",
     "text": [
      "\n",
      " QUESTION:\n",
      "google.com. IN MX\n",
      "\n",
      " ANSWER:\n",
      "google.com. 600 IN MX 10 aspmx.l.google.com.\n",
      "google.com. 600 IN MX 50 alt4.aspmx.l.google.com.\n",
      "google.com. 600 IN MX 20 alt1.aspmx.l.google.com.\n",
      "google.com. 600 IN MX 40 alt3.aspmx.l.google.com.\n",
      "google.com. 600 IN MX 30 alt2.aspmx.l.google.com.\n",
      "\n",
      " AUTHORITY:\n",
      "\n",
      " ADDITIONAL:\n",
      "aspmx.l.google.com. 293 IN A 173.194.175.27\n",
      "aspmx.l.google.com. 293 IN AAAA 2607:f8b0:400d:c04::1b\n",
      "alt4.aspmx.l.google.com. 293 IN A 74.125.128.27\n",
      "alt4.aspmx.l.google.com. 293 IN AAAA 2a00:1450:4013:c02::1a\n",
      "alt1.aspmx.l.google.com. 293 IN A 64.233.190.27\n",
      "alt1.aspmx.l.google.com. 293 IN AAAA 2800:3f0:4003:c01::1b\n",
      "alt3.aspmx.l.google.com. 293 IN A 74.125.206.27\n",
      "alt3.aspmx.l.google.com. 293 IN AAAA 2a00:1450:400c:c04::1b\n",
      "alt2.aspmx.l.google.com. 293 IN A 209.85.203.27\n",
      "alt2.aspmx.l.google.com. 293 IN AAAA 2a00:1450:400b:c03::1a\n"
     ]
    }
   ],
   "source": [
    "response3 = dns.query.udp(a_query, '216.239.34.10')\n",
    "print_response(response3)"
   ]
  },
  {
   "cell_type": "code",
   "execution_count": null,
   "metadata": {
    "collapsed": true
   },
   "outputs": [],
   "source": []
  },
  {
   "cell_type": "markdown",
   "metadata": {},
   "source": [
    "## Amazon"
   ]
  },
  {
   "cell_type": "code",
   "execution_count": 494,
   "metadata": {
    "collapsed": true
   },
   "outputs": [],
   "source": [
    "a_query = dns.message.make_query('www.amazon.com', 'NS')"
   ]
  },
  {
   "cell_type": "code",
   "execution_count": 495,
   "metadata": {},
   "outputs": [
    {
     "name": "stdout",
     "output_type": "stream",
     "text": [
      "\n",
      " QUESTION:\n",
      "www.amazon.com. IN NS\n",
      "\n",
      " ANSWER:\n",
      "\n",
      " AUTHORITY:\n",
      "com. 172800 IN NS e.gtld-servers.net.\n",
      "com. 172800 IN NS b.gtld-servers.net.\n",
      "com. 172800 IN NS j.gtld-servers.net.\n",
      "com. 172800 IN NS m.gtld-servers.net.\n",
      "com. 172800 IN NS i.gtld-servers.net.\n",
      "com. 172800 IN NS f.gtld-servers.net.\n",
      "com. 172800 IN NS a.gtld-servers.net.\n",
      "com. 172800 IN NS g.gtld-servers.net.\n",
      "com. 172800 IN NS h.gtld-servers.net.\n",
      "com. 172800 IN NS l.gtld-servers.net.\n",
      "com. 172800 IN NS k.gtld-servers.net.\n",
      "com. 172800 IN NS c.gtld-servers.net.\n",
      "com. 172800 IN NS d.gtld-servers.net.\n",
      "\n",
      " ADDITIONAL:\n",
      "e.gtld-servers.net. 172800 IN A 192.12.94.30\n",
      "e.gtld-servers.net. 172800 IN AAAA 2001:502:1ca1::30\n",
      "b.gtld-servers.net. 172800 IN A 192.33.14.30\n",
      "b.gtld-servers.net. 172800 IN AAAA 2001:503:231d::2:30\n",
      "j.gtld-servers.net. 172800 IN A 192.48.79.30\n",
      "j.gtld-servers.net. 172800 IN AAAA 2001:502:7094::30\n",
      "m.gtld-servers.net. 172800 IN A 192.55.83.30\n",
      "m.gtld-servers.net. 172800 IN AAAA 2001:501:b1f9::30\n",
      "i.gtld-servers.net. 172800 IN A 192.43.172.30\n",
      "i.gtld-servers.net. 172800 IN AAAA 2001:503:39c1::30\n",
      "f.gtld-servers.net. 172800 IN A 192.35.51.30\n",
      "a.gtld-servers.net. 172800 IN A 192.5.6.30\n"
     ]
    }
   ],
   "source": [
    "response1 = dns.query.udp(a_query, '198.41.0.4')\n",
    "print_response(response1)"
   ]
  },
  {
   "cell_type": "code",
   "execution_count": 496,
   "metadata": {},
   "outputs": [
    {
     "name": "stdout",
     "output_type": "stream",
     "text": [
      "\n",
      " QUESTION:\n",
      "www.amazon.com. IN NS\n",
      "\n",
      " ANSWER:\n",
      "\n",
      " AUTHORITY:\n",
      "amazon.com. 172800 IN NS pdns1.ultradns.net.\n",
      "amazon.com. 172800 IN NS pdns6.ultradns.co.uk.\n",
      "amazon.com. 172800 IN NS ns1.p31.dynect.net.\n",
      "amazon.com. 172800 IN NS ns3.p31.dynect.net.\n",
      "amazon.com. 172800 IN NS ns2.p31.dynect.net.\n",
      "amazon.com. 172800 IN NS ns4.p31.dynect.net.\n",
      "\n",
      " ADDITIONAL:\n",
      "pdns1.ultradns.net. 172800 IN AAAA 2001:502:f3ff::1\n",
      "pdns1.ultradns.net. 172800 IN A 204.74.108.1\n",
      "ns1.p31.dynect.net. 172800 IN A 208.78.70.31\n",
      "ns3.p31.dynect.net. 172800 IN A 208.78.71.31\n",
      "ns2.p31.dynect.net. 172800 IN A 204.13.250.31\n",
      "ns4.p31.dynect.net. 172800 IN A 204.13.251.31\n"
     ]
    }
   ],
   "source": [
    "response2 = dns.query.udp(a_query, '192.12.94.30')\n",
    "print_response(response2)"
   ]
  },
  {
   "cell_type": "code",
   "execution_count": 497,
   "metadata": {},
   "outputs": [
    {
     "name": "stdout",
     "output_type": "stream",
     "text": [
      "\n",
      " QUESTION:\n",
      "www.amazon.com. IN NS\n",
      "\n",
      " ANSWER:\n",
      "www.amazon.com. 1800 IN CNAME www.cdn.amazon.com.\n",
      "\n",
      " AUTHORITY:\n",
      "cdn.amazon.com. 900 IN NS ns-1894.awsdns-44.co.uk.\n",
      "cdn.amazon.com. 900 IN NS ns-774.awsdns-32.net.\n",
      "cdn.amazon.com. 900 IN NS ns-61.awsdns-07.com.\n",
      "cdn.amazon.com. 900 IN NS ns-1136.awsdns-14.org.\n",
      "\n",
      " ADDITIONAL:\n"
     ]
    }
   ],
   "source": [
    "response3 = dns.query.udp(a_query, '204.74.108.1')\n",
    "print_response(response3)"
   ]
  },
  {
   "cell_type": "code",
   "execution_count": 461,
   "metadata": {
    "collapsed": true
   },
   "outputs": [],
   "source": [
    "rrset = response3.answer[0].rdtype"
   ]
  },
  {
   "cell_type": "code",
   "execution_count": 463,
   "metadata": {},
   "outputs": [
    {
     "data": {
      "text/plain": [
       "5"
      ]
     },
     "execution_count": 463,
     "metadata": {},
     "output_type": "execute_result"
    }
   ],
   "source": [
    "rrset.rdtype"
   ]
  },
  {
   "cell_type": "code",
   "execution_count": 466,
   "metadata": {
    "collapsed": true
   },
   "outputs": [],
   "source": [
    "rdtype_dic = {}\n",
    "rdtype_dic[1]='A'\n",
    "rdtype_dic[2]='NS'\n",
    "rdtype_dic[5]='CNAME'"
   ]
  },
  {
   "cell_type": "code",
   "execution_count": 475,
   "metadata": {
    "collapsed": true
   },
   "outputs": [],
   "source": [
    "rdtype_dic = {1:'A', 2:'NS', 5:'CNAME'}"
   ]
  },
  {
   "cell_type": "code",
   "execution_count": 480,
   "metadata": {},
   "outputs": [
    {
     "data": {
      "text/plain": [
       "'CNAME'"
      ]
     },
     "execution_count": 480,
     "metadata": {},
     "output_type": "execute_result"
    }
   ],
   "source": [
    "rdtype_dic[response3.answer[0].rdtype]"
   ]
  },
  {
   "cell_type": "code",
   "execution_count": 468,
   "metadata": {},
   "outputs": [
    {
     "ename": "KeyError",
     "evalue": "3",
     "output_type": "error",
     "traceback": [
      "\u001b[0;31m---------------------------------------------------------------------------\u001b[0m",
      "\u001b[0;31mKeyError\u001b[0m                                  Traceback (most recent call last)",
      "\u001b[0;32m<ipython-input-468-e6637ded59bc>\u001b[0m in \u001b[0;36m<module>\u001b[0;34m()\u001b[0m\n\u001b[0;32m----> 1\u001b[0;31m \u001b[0mrdtype_dic\u001b[0m\u001b[0;34m[\u001b[0m\u001b[0;36m3\u001b[0m\u001b[0;34m]\u001b[0m\u001b[0;34m\u001b[0m\u001b[0m\n\u001b[0m",
      "\u001b[0;31mKeyError\u001b[0m: 3"
     ]
    }
   ],
   "source": [
    "rdtype_dic[3]"
   ]
  },
  {
   "cell_type": "code",
   "execution_count": 498,
   "metadata": {},
   "outputs": [
    {
     "name": "stdout",
     "output_type": "stream",
     "text": [
      "\n",
      " QUESTION:\n",
      "www.cdn.amazon.com. IN NS\n",
      "\n",
      " ANSWER:\n",
      "\n",
      " AUTHORITY:\n",
      "com. 172800 IN NS a.gtld-servers.net.\n",
      "com. 172800 IN NS b.gtld-servers.net.\n",
      "com. 172800 IN NS c.gtld-servers.net.\n",
      "com. 172800 IN NS d.gtld-servers.net.\n",
      "com. 172800 IN NS e.gtld-servers.net.\n",
      "com. 172800 IN NS f.gtld-servers.net.\n",
      "com. 172800 IN NS g.gtld-servers.net.\n",
      "com. 172800 IN NS h.gtld-servers.net.\n",
      "com. 172800 IN NS i.gtld-servers.net.\n",
      "com. 172800 IN NS j.gtld-servers.net.\n",
      "com. 172800 IN NS k.gtld-servers.net.\n",
      "com. 172800 IN NS l.gtld-servers.net.\n",
      "com. 172800 IN NS m.gtld-servers.net.\n",
      "\n",
      " ADDITIONAL:\n",
      "a.gtld-servers.net. 172800 IN A 192.5.6.30\n",
      "b.gtld-servers.net. 172800 IN A 192.33.14.30\n",
      "c.gtld-servers.net. 172800 IN A 192.26.92.30\n",
      "d.gtld-servers.net. 172800 IN A 192.31.80.30\n",
      "e.gtld-servers.net. 172800 IN A 192.12.94.30\n",
      "f.gtld-servers.net. 172800 IN A 192.35.51.30\n",
      "g.gtld-servers.net. 172800 IN A 192.42.93.30\n",
      "h.gtld-servers.net. 172800 IN A 192.54.112.30\n",
      "i.gtld-servers.net. 172800 IN A 192.43.172.30\n",
      "j.gtld-servers.net. 172800 IN A 192.48.79.30\n",
      "k.gtld-servers.net. 172800 IN A 192.52.178.30\n",
      "l.gtld-servers.net. 172800 IN A 192.41.162.30\n",
      "m.gtld-servers.net. 172800 IN A 192.55.83.30\n",
      "a.gtld-servers.net. 172800 IN AAAA 2001:503:a83e::2:30\n"
     ]
    }
   ],
   "source": [
    "b_query = dns.message.make_query('www.cdn.amazon.com.', 'NS')\n",
    "response4 = dns.query.udp(b_query, '198.41.0.4')\n",
    "print_response(response4)"
   ]
  },
  {
   "cell_type": "code",
   "execution_count": 499,
   "metadata": {},
   "outputs": [
    {
     "name": "stdout",
     "output_type": "stream",
     "text": [
      "\n",
      " QUESTION:\n",
      "www.cdn.amazon.com. IN NS\n",
      "\n",
      " ANSWER:\n",
      "\n",
      " AUTHORITY:\n",
      "amazon.com. 172800 IN NS pdns1.ultradns.net.\n",
      "amazon.com. 172800 IN NS pdns6.ultradns.co.uk.\n",
      "amazon.com. 172800 IN NS ns1.p31.dynect.net.\n",
      "amazon.com. 172800 IN NS ns3.p31.dynect.net.\n",
      "amazon.com. 172800 IN NS ns2.p31.dynect.net.\n",
      "amazon.com. 172800 IN NS ns4.p31.dynect.net.\n",
      "\n",
      " ADDITIONAL:\n",
      "pdns1.ultradns.net. 172800 IN AAAA 2001:502:f3ff::1\n",
      "pdns1.ultradns.net. 172800 IN A 204.74.108.1\n",
      "ns1.p31.dynect.net. 172800 IN A 208.78.70.31\n",
      "ns3.p31.dynect.net. 172800 IN A 208.78.71.31\n",
      "ns2.p31.dynect.net. 172800 IN A 204.13.250.31\n",
      "ns4.p31.dynect.net. 172800 IN A 204.13.251.31\n"
     ]
    }
   ],
   "source": [
    "response5 = dns.query.udp(b_query, '192.12.94.30')\n",
    "print_response(response5)"
   ]
  },
  {
   "cell_type": "code",
   "execution_count": 500,
   "metadata": {},
   "outputs": [
    {
     "name": "stdout",
     "output_type": "stream",
     "text": [
      "\n",
      " QUESTION:\n",
      "www.cdn.amazon.com. IN NS\n",
      "\n",
      " ANSWER:\n",
      "\n",
      " AUTHORITY:\n",
      "cdn.amazon.com. 900 IN NS ns-1894.awsdns-44.co.uk.\n",
      "cdn.amazon.com. 900 IN NS ns-774.awsdns-32.net.\n",
      "cdn.amazon.com. 900 IN NS ns-61.awsdns-07.com.\n",
      "cdn.amazon.com. 900 IN NS ns-1136.awsdns-14.org.\n",
      "\n",
      " ADDITIONAL:\n"
     ]
    }
   ],
   "source": [
    "response6 = dns.query.udp(b_query, '204.74.108.1')\n",
    "print_response(response6)"
   ]
  },
  {
   "cell_type": "code",
   "execution_count": 501,
   "metadata": {},
   "outputs": [
    {
     "name": "stdout",
     "output_type": "stream",
     "text": [
      "\n",
      " QUESTION:\n",
      "ns-1894.awsdns-44.co.uk. IN A\n",
      "\n",
      " ANSWER:\n",
      "\n",
      " AUTHORITY:\n",
      "uk. 172800 IN NS nsa.nic.uk.\n",
      "uk. 172800 IN NS nsb.nic.uk.\n",
      "uk. 172800 IN NS nsc.nic.uk.\n",
      "uk. 172800 IN NS nsd.nic.uk.\n",
      "uk. 172800 IN NS dns1.nic.uk.\n",
      "uk. 172800 IN NS dns2.nic.uk.\n",
      "uk. 172800 IN NS dns3.nic.uk.\n",
      "uk. 172800 IN NS dns4.nic.uk.\n",
      "\n",
      " ADDITIONAL:\n",
      "nsa.nic.uk. 172800 IN A 156.154.100.3\n",
      "nsb.nic.uk. 172800 IN A 156.154.101.3\n",
      "nsc.nic.uk. 172800 IN A 156.154.102.3\n",
      "nsd.nic.uk. 172800 IN A 156.154.103.3\n",
      "dns1.nic.uk. 172800 IN A 213.248.216.1\n",
      "dns2.nic.uk. 172800 IN A 103.49.80.1\n",
      "dns3.nic.uk. 172800 IN A 213.248.220.1\n",
      "dns4.nic.uk. 172800 IN A 43.230.48.1\n",
      "nsa.nic.uk. 172800 IN AAAA 2001:502:ad09::3\n",
      "dns1.nic.uk. 172800 IN AAAA 2a01:618:400::1\n",
      "dns2.nic.uk. 172800 IN AAAA 2401:fd80:400::1\n",
      "dns3.nic.uk. 172800 IN AAAA 2a01:618:404::1\n",
      "dns4.nic.uk. 172800 IN AAAA 2401:fd80:404::1\n"
     ]
    }
   ],
   "source": [
    "c_query = dns.message.make_query('ns-1894.awsdns-44.co.uk.', 'A')\n",
    "response7 = dns.query.udp(c_query, '198.41.0.4')\n",
    "print_response(response7)"
   ]
  },
  {
   "cell_type": "code",
   "execution_count": 502,
   "metadata": {},
   "outputs": [
    {
     "name": "stdout",
     "output_type": "stream",
     "text": [
      "\n",
      " QUESTION:\n",
      "ns-1894.awsdns-44.co.uk. IN A\n",
      "\n",
      " ANSWER:\n",
      "\n",
      " AUTHORITY:\n",
      "awsdns-44.co.uk. 172800 IN NS g-ns-1840.awsdns-44.co.uk.\n",
      "awsdns-44.co.uk. 172800 IN NS g-ns-364.awsdns-44.co.uk.\n",
      "awsdns-44.co.uk. 172800 IN NS g-ns-1519.awsdns-44.co.uk.\n",
      "awsdns-44.co.uk. 172800 IN NS g-ns-940.awsdns-44.co.uk.\n",
      "\n",
      " ADDITIONAL:\n",
      "g-ns-364.awsdns-44.co.uk. 172800 IN A 205.251.193.108\n",
      "g-ns-940.awsdns-44.co.uk. 172800 IN A 205.251.195.172\n",
      "g-ns-1519.awsdns-44.co.uk. 172800 IN A 205.251.197.239\n",
      "g-ns-1840.awsdns-44.co.uk. 172800 IN A 205.251.199.48\n",
      "g-ns-364.awsdns-44.co.uk. 172800 IN AAAA 2600:9000:5301:6c00::1\n",
      "g-ns-940.awsdns-44.co.uk. 172800 IN AAAA 2600:9000:5303:ac00::1\n",
      "g-ns-1519.awsdns-44.co.uk. 172800 IN AAAA 2600:9000:5305:ef00::1\n",
      "g-ns-1840.awsdns-44.co.uk. 172800 IN AAAA 2600:9000:5307:3000::1\n"
     ]
    }
   ],
   "source": [
    "response8 = dns.query.udp(c_query, '156.154.100.3')\n",
    "print_response(response8)"
   ]
  },
  {
   "cell_type": "code",
   "execution_count": 503,
   "metadata": {},
   "outputs": [
    {
     "name": "stdout",
     "output_type": "stream",
     "text": [
      "\n",
      " QUESTION:\n",
      "ns-1894.awsdns-44.co.uk. IN A\n",
      "\n",
      " ANSWER:\n",
      "ns-1894.awsdns-44.co.uk. 172800 IN A 205.251.199.102\n",
      "\n",
      " AUTHORITY:\n",
      "awsdns-44.co.uk. 172800 IN NS g-ns-1519.awsdns-44.co.uk.\n",
      "awsdns-44.co.uk. 172800 IN NS g-ns-1840.awsdns-44.co.uk.\n",
      "awsdns-44.co.uk. 172800 IN NS g-ns-364.awsdns-44.co.uk.\n",
      "awsdns-44.co.uk. 172800 IN NS g-ns-940.awsdns-44.co.uk.\n",
      "\n",
      " ADDITIONAL:\n",
      "g-ns-1519.awsdns-44.co.uk. 172800 IN A 205.251.197.239\n",
      "g-ns-1519.awsdns-44.co.uk. 172800 IN AAAA 2600:9000:5305:ef00::1\n",
      "g-ns-1840.awsdns-44.co.uk. 172800 IN A 205.251.199.48\n",
      "g-ns-1840.awsdns-44.co.uk. 172800 IN AAAA 2600:9000:5307:3000::1\n",
      "g-ns-364.awsdns-44.co.uk. 172800 IN A 205.251.193.108\n",
      "g-ns-364.awsdns-44.co.uk. 172800 IN AAAA 2600:9000:5301:6c00::1\n",
      "g-ns-940.awsdns-44.co.uk. 172800 IN A 205.251.195.172\n",
      "g-ns-940.awsdns-44.co.uk. 172800 IN AAAA 2600:9000:5303:ac00::1\n"
     ]
    }
   ],
   "source": [
    "response9 = dns.query.udp(c_query, '205.251.193.108')\n",
    "print_response(response9)"
   ]
  },
  {
   "cell_type": "code",
   "execution_count": 504,
   "metadata": {},
   "outputs": [
    {
     "name": "stdout",
     "output_type": "stream",
     "text": [
      "\n",
      " QUESTION:\n",
      "www.cdn.amazon.com. IN NS\n",
      "\n",
      " ANSWER:\n",
      "www.cdn.amazon.com. 60 IN CNAME d3ag4hukkh62yn.cloudfront.net.\n",
      "\n",
      " AUTHORITY:\n",
      "cdn.amazon.com. 172800 IN NS ns-1136.awsdns-14.org.\n",
      "cdn.amazon.com. 172800 IN NS ns-1894.awsdns-44.co.uk.\n",
      "cdn.amazon.com. 172800 IN NS ns-61.awsdns-07.com.\n",
      "cdn.amazon.com. 172800 IN NS ns-774.awsdns-32.net.\n",
      "\n",
      " ADDITIONAL:\n"
     ]
    }
   ],
   "source": [
    "response10 = dns.query.udp(b_query, '205.251.199.102')\n",
    "print_response(response10)"
   ]
  },
  {
   "cell_type": "code",
   "execution_count": 505,
   "metadata": {},
   "outputs": [
    {
     "name": "stdout",
     "output_type": "stream",
     "text": [
      "\n",
      " QUESTION:\n",
      "d3ag4hukkh62yn.cloudfront.net. IN NS\n",
      "\n",
      " ANSWER:\n",
      "\n",
      " AUTHORITY:\n",
      "net. 172800 IN NS a.gtld-servers.net.\n",
      "net. 172800 IN NS b.gtld-servers.net.\n",
      "net. 172800 IN NS c.gtld-servers.net.\n",
      "net. 172800 IN NS d.gtld-servers.net.\n",
      "net. 172800 IN NS e.gtld-servers.net.\n",
      "net. 172800 IN NS f.gtld-servers.net.\n",
      "net. 172800 IN NS g.gtld-servers.net.\n",
      "net. 172800 IN NS h.gtld-servers.net.\n",
      "net. 172800 IN NS i.gtld-servers.net.\n",
      "net. 172800 IN NS j.gtld-servers.net.\n",
      "net. 172800 IN NS k.gtld-servers.net.\n",
      "net. 172800 IN NS l.gtld-servers.net.\n",
      "net. 172800 IN NS m.gtld-servers.net.\n",
      "\n",
      " ADDITIONAL:\n",
      "a.gtld-servers.net. 172800 IN A 192.5.6.30\n",
      "b.gtld-servers.net. 172800 IN A 192.33.14.30\n",
      "c.gtld-servers.net. 172800 IN A 192.26.92.30\n",
      "d.gtld-servers.net. 172800 IN A 192.31.80.30\n",
      "e.gtld-servers.net. 172800 IN A 192.12.94.30\n",
      "f.gtld-servers.net. 172800 IN A 192.35.51.30\n",
      "g.gtld-servers.net. 172800 IN A 192.42.93.30\n",
      "h.gtld-servers.net. 172800 IN A 192.54.112.30\n",
      "i.gtld-servers.net. 172800 IN A 192.43.172.30\n",
      "j.gtld-servers.net. 172800 IN A 192.48.79.30\n",
      "k.gtld-servers.net. 172800 IN A 192.52.178.30\n",
      "l.gtld-servers.net. 172800 IN A 192.41.162.30\n",
      "m.gtld-servers.net. 172800 IN A 192.55.83.30\n",
      "a.gtld-servers.net. 172800 IN AAAA 2001:503:a83e::2:30\n"
     ]
    }
   ],
   "source": [
    "d_query = dns.message.make_query('d3ag4hukkh62yn.cloudfront.net.', 'NS')\n",
    "response11 = dns.query.udp(d_query, '198.41.0.4')\n",
    "print_response(response11)"
   ]
  },
  {
   "cell_type": "code",
   "execution_count": 506,
   "metadata": {},
   "outputs": [
    {
     "name": "stdout",
     "output_type": "stream",
     "text": [
      "\n",
      " QUESTION:\n",
      "d3ag4hukkh62yn.cloudfront.net. IN NS\n",
      "\n",
      " ANSWER:\n",
      "\n",
      " AUTHORITY:\n",
      "cloudfront.net. 172800 IN NS ns-666.awsdns-19.net.\n",
      "cloudfront.net. 172800 IN NS ns-418.awsdns-52.com.\n",
      "cloudfront.net. 172800 IN NS ns-1597.awsdns-07.co.uk.\n",
      "cloudfront.net. 172800 IN NS ns-1306.awsdns-35.org.\n",
      "\n",
      " ADDITIONAL:\n",
      "ns-666.awsdns-19.net. 172800 IN A 205.251.194.154\n",
      "ns-418.awsdns-52.com. 172800 IN A 205.251.193.162\n"
     ]
    }
   ],
   "source": [
    "response12 = dns.query.udp(d_query, '192.12.94.30')\n",
    "print_response(response12)"
   ]
  },
  {
   "cell_type": "code",
   "execution_count": 447,
   "metadata": {},
   "outputs": [
    {
     "name": "stdout",
     "output_type": "stream",
     "text": [
      "\n",
      " QUESTION:\n",
      "d3ag4hukkh62yn.cloudfront.net. IN NS\n",
      "\n",
      " ANSWER:\n",
      "\n",
      " AUTHORITY:\n",
      "d3ag4hukkh62yn.cloudfront.net. 1831 IN NS ns-1144.awsdns-15.org.\n",
      "d3ag4hukkh62yn.cloudfront.net. 1831 IN NS ns-130.awsdns-16.com.\n",
      "d3ag4hukkh62yn.cloudfront.net. 1831 IN NS ns-2021.awsdns-60.co.uk.\n",
      "d3ag4hukkh62yn.cloudfront.net. 1831 IN NS ns-824.awsdns-39.net.\n",
      "\n",
      " ADDITIONAL:\n"
     ]
    }
   ],
   "source": [
    "response13 = dns.query.udp(d_query, '205.251.194.154')\n",
    "print_response(response13)"
   ]
  },
  {
   "cell_type": "code",
   "execution_count": 507,
   "metadata": {},
   "outputs": [
    {
     "name": "stdout",
     "output_type": "stream",
     "text": [
      "\n",
      " QUESTION:\n",
      "ns-1144.awsdns-15.org. IN A\n",
      "\n",
      " ANSWER:\n",
      "\n",
      " AUTHORITY:\n",
      "org. 172800 IN NS d0.org.afilias-nst.org.\n",
      "org. 172800 IN NS a0.org.afilias-nst.info.\n",
      "org. 172800 IN NS c0.org.afilias-nst.info.\n",
      "org. 172800 IN NS a2.org.afilias-nst.info.\n",
      "org. 172800 IN NS b0.org.afilias-nst.org.\n",
      "org. 172800 IN NS b2.org.afilias-nst.org.\n",
      "\n",
      " ADDITIONAL:\n",
      "d0.org.afilias-nst.org. 172800 IN A 199.19.57.1\n",
      "d0.org.afilias-nst.org. 172800 IN AAAA 2001:500:f::1\n",
      "a0.org.afilias-nst.info. 172800 IN A 199.19.56.1\n",
      "a0.org.afilias-nst.info. 172800 IN AAAA 2001:500:e::1\n",
      "c0.org.afilias-nst.info. 172800 IN A 199.19.53.1\n",
      "c0.org.afilias-nst.info. 172800 IN AAAA 2001:500:b::1\n",
      "a2.org.afilias-nst.info. 172800 IN A 199.249.112.1\n",
      "a2.org.afilias-nst.info. 172800 IN AAAA 2001:500:40::1\n",
      "b0.org.afilias-nst.org. 172800 IN A 199.19.54.1\n",
      "b0.org.afilias-nst.org. 172800 IN AAAA 2001:500:c::1\n",
      "b2.org.afilias-nst.org. 172800 IN A 199.249.120.1\n",
      "b2.org.afilias-nst.org. 172800 IN AAAA 2001:500:48::1\n"
     ]
    }
   ],
   "source": [
    "e_query = dns.message.make_query('ns-1144.awsdns-15.org.', 'A')\n",
    "response14 = dns.query.udp(e_query, '198.41.0.4')\n",
    "print_response(response14)"
   ]
  },
  {
   "cell_type": "code",
   "execution_count": 508,
   "metadata": {},
   "outputs": [
    {
     "name": "stdout",
     "output_type": "stream",
     "text": [
      "\n",
      " QUESTION:\n",
      "ns-1144.awsdns-15.org. IN A\n",
      "\n",
      " ANSWER:\n",
      "\n",
      " AUTHORITY:\n",
      "awsdns-15.org. 86400 IN NS g-ns-721.awsdns-15.org.\n",
      "awsdns-15.org. 86400 IN NS g-ns-1042.awsdns-15.org.\n",
      "awsdns-15.org. 86400 IN NS g-ns-1615.awsdns-15.org.\n",
      "awsdns-15.org. 86400 IN NS g-ns-143.awsdns-15.org.\n",
      "\n",
      " ADDITIONAL:\n",
      "g-ns-143.awsdns-15.org. 86400 IN A 205.251.192.143\n",
      "g-ns-721.awsdns-15.org. 86400 IN A 205.251.194.209\n",
      "g-ns-1042.awsdns-15.org. 86400 IN A 205.251.196.18\n",
      "g-ns-1615.awsdns-15.org. 86400 IN A 205.251.198.79\n",
      "g-ns-143.awsdns-15.org. 86400 IN AAAA 2600:9000:5300:8f00::1\n",
      "g-ns-721.awsdns-15.org. 86400 IN AAAA 2600:9000:5302:d100::1\n",
      "g-ns-1042.awsdns-15.org. 86400 IN AAAA 2600:9000:5304:1200::1\n",
      "g-ns-1615.awsdns-15.org. 86400 IN AAAA 2600:9000:5306:4f00::1\n"
     ]
    }
   ],
   "source": [
    "response15 = dns.query.udp(e_query, '199.19.57.1')\n",
    "print_response(response15)"
   ]
  },
  {
   "cell_type": "code",
   "execution_count": 509,
   "metadata": {},
   "outputs": [
    {
     "name": "stdout",
     "output_type": "stream",
     "text": [
      "\n",
      " QUESTION:\n",
      "ns-1144.awsdns-15.org. IN A\n",
      "\n",
      " ANSWER:\n",
      "ns-1144.awsdns-15.org. 172800 IN A 205.251.196.120\n",
      "\n",
      " AUTHORITY:\n",
      "awsdns-15.org. 172800 IN NS g-ns-1042.awsdns-15.org.\n",
      "awsdns-15.org. 172800 IN NS g-ns-143.awsdns-15.org.\n",
      "awsdns-15.org. 172800 IN NS g-ns-1615.awsdns-15.org.\n",
      "awsdns-15.org. 172800 IN NS g-ns-721.awsdns-15.org.\n",
      "\n",
      " ADDITIONAL:\n",
      "g-ns-1042.awsdns-15.org. 172800 IN A 205.251.196.18\n",
      "g-ns-1042.awsdns-15.org. 172800 IN AAAA 2600:9000:5304:1200::1\n",
      "g-ns-143.awsdns-15.org. 172800 IN A 205.251.192.143\n",
      "g-ns-143.awsdns-15.org. 172800 IN AAAA 2600:9000:5300:8f00::1\n",
      "g-ns-1615.awsdns-15.org. 172800 IN A 205.251.198.79\n",
      "g-ns-1615.awsdns-15.org. 172800 IN AAAA 2600:9000:5306:4f00::1\n",
      "g-ns-721.awsdns-15.org. 172800 IN A 205.251.194.209\n",
      "g-ns-721.awsdns-15.org. 172800 IN AAAA 2600:9000:5302:d100::1\n"
     ]
    }
   ],
   "source": [
    "response16 = dns.query.udp(e_query, '205.251.192.143')\n",
    "print_response(response16)"
   ]
  },
  {
   "cell_type": "code",
   "execution_count": 510,
   "metadata": {},
   "outputs": [
    {
     "name": "stdout",
     "output_type": "stream",
     "text": [
      "\n",
      " QUESTION:\n",
      "d3ag4hukkh62yn.cloudfront.net. IN NS\n",
      "\n",
      " ANSWER:\n",
      "d3ag4hukkh62yn.cloudfront.net. 172800 IN NS ns-1144.awsdns-15.org.\n",
      "d3ag4hukkh62yn.cloudfront.net. 172800 IN NS ns-130.awsdns-16.com.\n",
      "d3ag4hukkh62yn.cloudfront.net. 172800 IN NS ns-2021.awsdns-60.co.uk.\n",
      "d3ag4hukkh62yn.cloudfront.net. 172800 IN NS ns-824.awsdns-39.net.\n",
      "\n",
      " AUTHORITY:\n",
      "\n",
      " ADDITIONAL:\n"
     ]
    }
   ],
   "source": [
    "response17 = dns.query.udp(d_query, '205.251.196.120')\n",
    "print_response(response17)"
   ]
  },
  {
   "cell_type": "markdown",
   "metadata": {},
   "source": [
    "# Some test"
   ]
  },
  {
   "cell_type": "code",
   "execution_count": 50,
   "metadata": {},
   "outputs": [
    {
     "name": "stdout",
     "output_type": "stream",
     "text": [
      "The query is:\n",
      "id 63047\n",
      "opcode QUERY\n",
      "rcode NOERROR\n",
      "flags RD\n",
      ";QUESTION\n",
      "amazon.com. IN NS\n",
      ";ANSWER\n",
      ";AUTHORITY\n",
      ";ADDITIONAL\n",
      "\n"
     ]
    }
   ],
   "source": [
    "qname = dns.name.from_text('amazon.com')\n",
    "q = dns.message.make_query(qname, dns.rdatatype.NS)\n",
    "print('The query is:')\n",
    "print(q)\n",
    "print('')"
   ]
  },
  {
   "cell_type": "code",
   "execution_count": 55,
   "metadata": {},
   "outputs": [
    {
     "name": "stdout",
     "output_type": "stream",
     "text": [
      "The response is:\n",
      "id 63047\n",
      "opcode QUERY\n",
      "rcode NOERROR\n",
      "flags QR RD RA\n",
      ";QUESTION\n",
      "amazon.com. IN NS\n",
      ";ANSWER\n",
      "amazon.com. 3465 IN NS pdns1.ultradns.net.\n",
      "amazon.com. 3465 IN NS ns4.p31.dynect.net.\n",
      "amazon.com. 3465 IN NS ns3.p31.dynect.net.\n",
      "amazon.com. 3465 IN NS ns2.p31.dynect.net.\n",
      "amazon.com. 3465 IN NS ns1.p31.dynect.net.\n",
      "amazon.com. 3465 IN NS pdns6.ultradns.co.uk.\n",
      ";AUTHORITY\n",
      ";ADDITIONAL\n",
      "\n"
     ]
    }
   ],
   "source": [
    "r = dns.query.udp(q, '8.8.8.8')\n",
    "print('The response is:')\n",
    "print(r)\n",
    "print('')"
   ]
  },
  {
   "cell_type": "code",
   "execution_count": 58,
   "metadata": {},
   "outputs": [
    {
     "name": "stdout",
     "output_type": "stream",
     "text": [
      "The nameservers are:\n",
      "pdns1.ultradns.net.\n",
      "ns4.p31.dynect.net.\n",
      "ns3.p31.dynect.net.\n",
      "ns2.p31.dynect.net.\n",
      "ns1.p31.dynect.net.\n",
      "pdns6.ultradns.co.uk.\n",
      "\n"
     ]
    }
   ],
   "source": [
    "print('The nameservers are:')\n",
    "ns_rrset = r.find_rrset(r.answer, qname, dns.rdataclass.IN, dns.rdatatype.NS)\n",
    "for rr in ns_rrset:\n",
    "    print(rr.target)\n",
    "print('')"
   ]
  },
  {
   "cell_type": "code",
   "execution_count": 420,
   "metadata": {},
   "outputs": [
    {
     "name": "stdout",
     "output_type": "stream",
     "text": [
      "The nameservers are:\n",
      "ns-1144.awsdns-15.org.\n",
      "ns-130.awsdns-16.com.\n",
      "ns-2021.awsdns-60.co.uk.\n",
      "ns-824.awsdns-39.net.\n"
     ]
    }
   ],
   "source": [
    "resolver = dns.resolver.Resolver(configure=False)\n",
    "resolver.nameservers = ['8.8.8.8']\n",
    "answers = dns.resolver.query('www.amazon.com', 'NS')\n",
    "print('The nameservers are:')\n",
    "for rr in answers:\n",
    "    print(rr.target)"
   ]
  },
  {
   "cell_type": "code",
   "execution_count": 421,
   "metadata": {},
   "outputs": [
    {
     "name": "stdout",
     "output_type": "stream",
     "text": [
      "The nameservers are:\n",
      "ns4.p31.dynect.net.\n",
      "ns2.p31.dynect.net.\n",
      "ns1.p31.dynect.net.\n",
      "pdns6.ultradns.co.uk.\n",
      "pdns1.ultradns.net.\n",
      "ns3.p31.dynect.net.\n"
     ]
    }
   ],
   "source": [
    "resolver = dns.resolver.Resolver(configure=False)\n",
    "resolver.nameservers = ['8.8.8.8']\n",
    "answers = dns.resolver.query('amazon.com', 'NS')\n",
    "print('The nameservers are:')\n",
    "for rr in answers:\n",
    "    print(rr.target)"
   ]
  },
  {
   "cell_type": "markdown",
   "metadata": {},
   "source": [
    "# Test A"
   ]
  },
  {
   "cell_type": "code",
   "execution_count": 5,
   "metadata": {
    "collapsed": true
   },
   "outputs": [],
   "source": [
    "def print_response(response):\n",
    "    '''Print the response's answer, authority, and additional\n",
    "    \n",
    "    Args:\n",
    "        response (dns.message.Message): a response of a single iterative DNS query\n",
    "    '''\n",
    "    print('\\n', 'QUESTION:')\n",
    "    for i in response.question:\n",
    "        print(i.to_text())\n",
    "    \n",
    "    print('\\n', 'ANSWER:')\n",
    "    for i in response.answer:\n",
    "        print(i.to_text())\n",
    "    \n",
    "    print('\\n', 'AUTHORITY:')\n",
    "    for i in response.authority:\n",
    "        print(i.to_text())\n",
    "        \n",
    "    print('\\n', 'ADDITIONAL:')\n",
    "    for i in response.additional:\n",
    "        print(i.to_text())"
   ]
  },
  {
   "cell_type": "code",
   "execution_count": 397,
   "metadata": {
    "collapsed": true
   },
   "outputs": [],
   "source": [
    "a_query = dns.message.make_query('www.163.com', 'A')"
   ]
  },
  {
   "cell_type": "code",
   "execution_count": 398,
   "metadata": {},
   "outputs": [
    {
     "name": "stdout",
     "output_type": "stream",
     "text": [
      "\n",
      " QUESTION:\n",
      "www.163.com. IN A\n",
      "\n",
      " ANSWER:\n",
      "\n",
      " AUTHORITY:\n",
      "com. 172800 IN NS a.gtld-servers.net.\n",
      "com. 172800 IN NS b.gtld-servers.net.\n",
      "com. 172800 IN NS c.gtld-servers.net.\n",
      "com. 172800 IN NS d.gtld-servers.net.\n",
      "com. 172800 IN NS e.gtld-servers.net.\n",
      "com. 172800 IN NS f.gtld-servers.net.\n",
      "com. 172800 IN NS g.gtld-servers.net.\n",
      "com. 172800 IN NS h.gtld-servers.net.\n",
      "com. 172800 IN NS i.gtld-servers.net.\n",
      "com. 172800 IN NS j.gtld-servers.net.\n",
      "com. 172800 IN NS k.gtld-servers.net.\n",
      "com. 172800 IN NS l.gtld-servers.net.\n",
      "com. 172800 IN NS m.gtld-servers.net.\n",
      "\n",
      " ADDITIONAL:\n",
      "a.gtld-servers.net. 172800 IN A 192.5.6.30\n",
      "b.gtld-servers.net. 172800 IN A 192.33.14.30\n",
      "c.gtld-servers.net. 172800 IN A 192.26.92.30\n",
      "d.gtld-servers.net. 172800 IN A 192.31.80.30\n",
      "e.gtld-servers.net. 172800 IN A 192.12.94.30\n",
      "f.gtld-servers.net. 172800 IN A 192.35.51.30\n",
      "g.gtld-servers.net. 172800 IN A 192.42.93.30\n",
      "h.gtld-servers.net. 172800 IN A 192.54.112.30\n",
      "i.gtld-servers.net. 172800 IN A 192.43.172.30\n",
      "j.gtld-servers.net. 172800 IN A 192.48.79.30\n",
      "k.gtld-servers.net. 172800 IN A 192.52.178.30\n",
      "l.gtld-servers.net. 172800 IN A 192.41.162.30\n",
      "m.gtld-servers.net. 172800 IN A 192.55.83.30\n",
      "a.gtld-servers.net. 172800 IN AAAA 2001:503:a83e::2:30\n"
     ]
    }
   ],
   "source": [
    "a_query = dns.message.make_query('www.163.com', 'A')\n",
    "response1 = dns.query.udp(a_query, '198.41.0.4')\n",
    "print_response(response1)"
   ]
  },
  {
   "cell_type": "code",
   "execution_count": 399,
   "metadata": {},
   "outputs": [
    {
     "name": "stdout",
     "output_type": "stream",
     "text": [
      "\n",
      " QUESTION:\n",
      "www.163.com. IN A\n",
      "\n",
      " ANSWER:\n",
      "\n",
      " AUTHORITY:\n",
      "163.com. 172800 IN NS ns3.nease.net.\n",
      "163.com. 172800 IN NS ns4.nease.net.\n",
      "163.com. 172800 IN NS ns5.nease.net.\n",
      "163.com. 172800 IN NS ns6.nease.net.\n",
      "163.com. 172800 IN NS ns1.nease.net.\n",
      "163.com. 172800 IN NS ns2.166.com.\n",
      "163.com. 172800 IN NS ns8.166.com.\n",
      "\n",
      " ADDITIONAL:\n",
      "ns3.nease.net. 172800 IN A 220.181.36.234\n",
      "ns4.nease.net. 172800 IN A 123.125.48.245\n",
      "ns5.nease.net. 172800 IN A 121.195.179.18\n",
      "ns6.nease.net. 172800 IN A 52.215.24.44\n",
      "ns1.nease.net. 172800 IN A 123.58.173.177\n",
      "ns2.166.com. 172800 IN A 123.58.173.178\n",
      "ns8.166.com. 172800 IN A 52.27.107.218\n",
      "ns8.166.com. 172800 IN A 52.69.168.90\n"
     ]
    }
   ],
   "source": [
    "response2 = dns.query.udp(a_query, '192.5.6.30')\n",
    "print_response(response2)"
   ]
  },
  {
   "cell_type": "code",
   "execution_count": 400,
   "metadata": {},
   "outputs": [
    {
     "name": "stdout",
     "output_type": "stream",
     "text": [
      "\n",
      " QUESTION:\n",
      "www.163.com. IN A\n",
      "\n",
      " ANSWER:\n",
      "www.163.com. 600 IN CNAME www.163.com.lxdns.com.\n",
      "\n",
      " AUTHORITY:\n",
      "\n",
      " ADDITIONAL:\n"
     ]
    }
   ],
   "source": [
    "response3 = dns.query.udp(a_query, '220.181.36.234')\n",
    "print_response(response3)"
   ]
  },
  {
   "cell_type": "code",
   "execution_count": 404,
   "metadata": {
    "collapsed": true
   },
   "outputs": [],
   "source": [
    "rrset = response3.answer[0]"
   ]
  },
  {
   "cell_type": "code",
   "execution_count": 406,
   "metadata": {},
   "outputs": [
    {
     "data": {
      "text/plain": [
       "5"
      ]
     },
     "execution_count": 406,
     "metadata": {},
     "output_type": "execute_result"
    }
   ],
   "source": [
    "rrset.rdtype"
   ]
  },
  {
   "cell_type": "code",
   "execution_count": 66,
   "metadata": {
    "collapsed": true
   },
   "outputs": [],
   "source": [
    "def get_cname_from_rrset(rrset):\n",
    "    '''Get CNAME from a RRset (from ANSWER section)\n",
    "    \n",
    "    Args:\n",
    "        rrset (A DNS RRset): contains an CNAME to be extracted\n",
    "        \n",
    "    Returns:\n",
    "        CNAME (str): the CNAME in the RRset\n",
    "    '''\n",
    "    try:\n",
    "        item = rrset.items[0]\n",
    "        return item.to_text()\n",
    "    except Exception as e:\n",
    "        print('Oops! Some issue with rrset: ', e)"
   ]
  },
  {
   "cell_type": "code",
   "execution_count": 107,
   "metadata": {
    "collapsed": true
   },
   "outputs": [],
   "source": [
    "b_query = dns.message.make_query('www.163.com.lxdns.com', 'A')"
   ]
  },
  {
   "cell_type": "code",
   "execution_count": 108,
   "metadata": {},
   "outputs": [
    {
     "name": "stdout",
     "output_type": "stream",
     "text": [
      "\n",
      " QUESTION:\n",
      "www.163.com.lxdns.com. IN A\n",
      "\n",
      " ANSWER:\n",
      "\n",
      " AUTHORITY:\n",
      "com. 172800 IN NS d.gtld-servers.net.\n",
      "com. 172800 IN NS a.gtld-servers.net.\n",
      "com. 172800 IN NS b.gtld-servers.net.\n",
      "com. 172800 IN NS f.gtld-servers.net.\n",
      "com. 172800 IN NS e.gtld-servers.net.\n",
      "com. 172800 IN NS l.gtld-servers.net.\n",
      "com. 172800 IN NS i.gtld-servers.net.\n",
      "com. 172800 IN NS m.gtld-servers.net.\n",
      "com. 172800 IN NS h.gtld-servers.net.\n",
      "com. 172800 IN NS g.gtld-servers.net.\n",
      "com. 172800 IN NS j.gtld-servers.net.\n",
      "com. 172800 IN NS c.gtld-servers.net.\n",
      "com. 172800 IN NS k.gtld-servers.net.\n",
      "\n",
      " ADDITIONAL:\n",
      "a.gtld-servers.net. 172800 IN A 192.5.6.30\n",
      "b.gtld-servers.net. 172800 IN A 192.33.14.30\n",
      "c.gtld-servers.net. 172800 IN A 192.26.92.30\n",
      "d.gtld-servers.net. 172800 IN A 192.31.80.30\n",
      "e.gtld-servers.net. 172800 IN A 192.12.94.30\n",
      "f.gtld-servers.net. 172800 IN A 192.35.51.30\n",
      "g.gtld-servers.net. 172800 IN A 192.42.93.30\n",
      "h.gtld-servers.net. 172800 IN A 192.54.112.30\n",
      "i.gtld-servers.net. 172800 IN A 192.43.172.30\n",
      "j.gtld-servers.net. 172800 IN A 192.48.79.30\n",
      "k.gtld-servers.net. 172800 IN A 192.52.178.30\n",
      "l.gtld-servers.net. 172800 IN A 192.41.162.30\n",
      "m.gtld-servers.net. 172800 IN A 192.55.83.30\n",
      "a.gtld-servers.net. 172800 IN AAAA 2001:503:a83e::2:30\n"
     ]
    }
   ],
   "source": [
    "response4 = dns.query.udp(b_query, '199.9.14.201')\n",
    "print_response(response4)"
   ]
  },
  {
   "cell_type": "code",
   "execution_count": 161,
   "metadata": {},
   "outputs": [
    {
     "data": {
      "text/plain": [
       "0"
      ]
     },
     "execution_count": 161,
     "metadata": {},
     "output_type": "execute_result"
    }
   ],
   "source": [
    "len(response5.additional)"
   ]
  },
  {
   "cell_type": "code",
   "execution_count": 250,
   "metadata": {},
   "outputs": [
    {
     "name": "stdout",
     "output_type": "stream",
     "text": [
      "\n",
      " QUESTION:\n",
      "www.163.com.lxdns.com. IN A\n",
      "\n",
      " ANSWER:\n",
      "\n",
      " AUTHORITY:\n",
      "lxdns.com. 172800 IN NS dns2.lxdns.info.\n",
      "lxdns.com. 172800 IN NS dns4.lxdns.info.\n",
      "lxdns.com. 172800 IN NS dns1.lxdns.org.\n",
      "lxdns.com. 172800 IN NS dns3.lxdns.org.\n",
      "lxdns.com. 172800 IN NS dns5.lxdns.org.\n",
      "\n",
      " ADDITIONAL:\n"
     ]
    }
   ],
   "source": [
    "response5 = dns.query.udp(b_query, '192.55.83.30')\n",
    "print_response(response5)"
   ]
  },
  {
   "cell_type": "code",
   "execution_count": 162,
   "metadata": {
    "collapsed": true
   },
   "outputs": [],
   "source": [
    "def get_ns_from_authority(response):\n",
    "    rrsets = response.authority[0]\n",
    "    return rrsets.items"
   ]
  },
  {
   "cell_type": "code",
   "execution_count": 163,
   "metadata": {
    "collapsed": true
   },
   "outputs": [],
   "source": [
    "ns = get_ns_from_authority(response5)"
   ]
  },
  {
   "cell_type": "code",
   "execution_count": 164,
   "metadata": {},
   "outputs": [
    {
     "data": {
      "text/plain": [
       "[<DNS IN NS rdata: dns2.lxdns.info.>,\n",
       " <DNS IN NS rdata: dns4.lxdns.info.>,\n",
       " <DNS IN NS rdata: dns1.lxdns.org.>,\n",
       " <DNS IN NS rdata: dns3.lxdns.org.>,\n",
       " <DNS IN NS rdata: dns5.lxdns.org.>]"
      ]
     },
     "execution_count": 164,
     "metadata": {},
     "output_type": "execute_result"
    }
   ],
   "source": [
    "ns"
   ]
  },
  {
   "cell_type": "code",
   "execution_count": 153,
   "metadata": {
    "collapsed": true
   },
   "outputs": [],
   "source": [
    "rrset = response5.authority[0]\n",
    "items = rrset.items"
   ]
  },
  {
   "cell_type": "code",
   "execution_count": 158,
   "metadata": {},
   "outputs": [
    {
     "name": "stdout",
     "output_type": "stream",
     "text": [
      "dns2.lxdns.info.\n",
      "dns4.lxdns.info.\n",
      "dns1.lxdns.org.\n",
      "dns3.lxdns.org.\n",
      "dns5.lxdns.org.\n"
     ]
    }
   ],
   "source": [
    "for item in items:\n",
    "    print(item.to_text())"
   ]
  },
  {
   "cell_type": "code",
   "execution_count": 159,
   "metadata": {},
   "outputs": [
    {
     "name": "stdout",
     "output_type": "stream",
     "text": [
      "\n",
      " QUESTION:\n",
      "dns2.lxdns.info. IN A\n",
      "\n",
      " ANSWER:\n",
      "\n",
      " AUTHORITY:\n",
      "info. 172800 IN NS a0.info.afilias-nst.info.\n",
      "info. 172800 IN NS a2.info.afilias-nst.info.\n",
      "info. 172800 IN NS b0.info.afilias-nst.org.\n",
      "info. 172800 IN NS b2.info.afilias-nst.org.\n",
      "info. 172800 IN NS c0.info.afilias-nst.info.\n",
      "info. 172800 IN NS d0.info.afilias-nst.org.\n",
      "\n",
      " ADDITIONAL:\n",
      "a0.info.afilias-nst.info. 172800 IN A 199.254.31.1\n",
      "a2.info.afilias-nst.info. 172800 IN A 199.249.113.1\n",
      "b0.info.afilias-nst.org. 172800 IN A 199.254.48.1\n",
      "b2.info.afilias-nst.org. 172800 IN A 199.249.121.1\n",
      "c0.info.afilias-nst.info. 172800 IN A 199.254.49.1\n",
      "d0.info.afilias-nst.org. 172800 IN A 199.254.50.1\n",
      "a0.info.afilias-nst.info. 172800 IN AAAA 2001:500:19::1\n",
      "a2.info.afilias-nst.info. 172800 IN AAAA 2001:500:41::1\n",
      "b0.info.afilias-nst.org. 172800 IN AAAA 2001:500:1a::1\n",
      "b2.info.afilias-nst.org. 172800 IN AAAA 2001:500:49::1\n",
      "c0.info.afilias-nst.info. 172800 IN AAAA 2001:500:1b::1\n",
      "d0.info.afilias-nst.org. 172800 IN AAAA 2001:500:1c::1\n"
     ]
    }
   ],
   "source": [
    "c_query = dns.message.make_query('dns2.lxdns.info.', 'A')\n",
    "response6 = dns.query.udp(c_query, '198.41.0.4')\n",
    "print_response(response6)"
   ]
  },
  {
   "cell_type": "code",
   "execution_count": 117,
   "metadata": {},
   "outputs": [
    {
     "name": "stdout",
     "output_type": "stream",
     "text": [
      "\n",
      " QUESTION:\n",
      "dns2.lxdns.info. IN A\n",
      "\n",
      " ANSWER:\n",
      "\n",
      " AUTHORITY:\n",
      "lxdns.info. 86400 IN NS ns1.lxdns.info.\n",
      "lxdns.info. 86400 IN NS ns3.lxdns.info.\n",
      "lxdns.info. 86400 IN NS ns2.lxdns.info.\n",
      "lxdns.info. 86400 IN NS ns4.lxdns.info.\n",
      "lxdns.info. 86400 IN NS ns5.lxdns.info.\n",
      "\n",
      " ADDITIONAL:\n",
      "ns1.lxdns.info. 86400 IN A 183.131.192.82\n",
      "ns2.lxdns.info. 86400 IN A 125.46.22.158\n",
      "ns3.lxdns.info. 86400 IN A 113.107.57.74\n",
      "ns4.lxdns.info. 86400 IN A 122.138.54.37\n",
      "ns5.lxdns.info. 86400 IN A 14.119.111.147\n"
     ]
    }
   ],
   "source": [
    "response7 = dns.query.udp(c_query, '199.254.31.1')\n",
    "print_response(response7)"
   ]
  },
  {
   "cell_type": "code",
   "execution_count": 251,
   "metadata": {},
   "outputs": [
    {
     "name": "stdout",
     "output_type": "stream",
     "text": [
      "\n",
      " QUESTION:\n",
      "dns2.lxdns.info. IN A\n",
      "\n",
      " ANSWER:\n",
      "dns2.lxdns.info. 7200 IN A 125.46.22.158\n",
      "\n",
      " AUTHORITY:\n",
      "lxdns.info. 86400 IN NS ns3.lxdns.info.\n",
      "lxdns.info. 86400 IN NS ns1.lxdns.info.\n",
      "lxdns.info. 86400 IN NS ns4.lxdns.info.\n",
      "lxdns.info. 86400 IN NS ns2.lxdns.info.\n",
      "lxdns.info. 86400 IN NS ns5.lxdns.info.\n",
      "\n",
      " ADDITIONAL:\n",
      "ns3.lxdns.info. 7200 IN A 183.131.192.93\n",
      "ns1.lxdns.info. 7200 IN A 183.131.192.82\n",
      "ns4.lxdns.info. 7200 IN A 111.178.234.69\n",
      "ns2.lxdns.info. 7200 IN A 125.46.22.158\n",
      "ns5.lxdns.info. 7200 IN A 14.119.111.147\n"
     ]
    }
   ],
   "source": [
    "response8 = dns.query.udp(c_query, '183.131.192.82')\n",
    "print_response(response8)"
   ]
  },
  {
   "cell_type": "code",
   "execution_count": 328,
   "metadata": {},
   "outputs": [
    {
     "data": {
      "text/plain": [
       "dns.rrset.RRset"
      ]
     },
     "execution_count": 328,
     "metadata": {},
     "output_type": "execute_result"
    }
   ],
   "source": [
    "item = response8.authority[0]\n",
    "type(item)"
   ]
  },
  {
   "cell_type": "code",
   "execution_count": 254,
   "metadata": {},
   "outputs": [
    {
     "data": {
      "text/plain": [
       "'dns2.lxdns.info. 7200 IN A 125.46.22.158'"
      ]
     },
     "execution_count": 254,
     "metadata": {},
     "output_type": "execute_result"
    }
   ],
   "source": [
    "item.to_text()"
   ]
  },
  {
   "cell_type": "code",
   "execution_count": 246,
   "metadata": {
    "collapsed": true
   },
   "outputs": [],
   "source": [
    "response8.additional.append(item)"
   ]
  },
  {
   "cell_type": "code",
   "execution_count": 247,
   "metadata": {},
   "outputs": [
    {
     "name": "stdout",
     "output_type": "stream",
     "text": [
      "\n",
      " QUESTION:\n",
      "dns2.lxdns.info. IN A\n",
      "\n",
      " ANSWER:\n",
      "dns2.lxdns.info. 7200 IN A 125.46.22.158\n",
      "\n",
      " AUTHORITY:\n",
      "lxdns.info. 86400 IN NS ns5.lxdns.info.\n",
      "lxdns.info. 86400 IN NS ns2.lxdns.info.\n",
      "lxdns.info. 86400 IN NS ns1.lxdns.info.\n",
      "lxdns.info. 86400 IN NS ns4.lxdns.info.\n",
      "lxdns.info. 86400 IN NS ns3.lxdns.info.\n",
      "\n",
      " ADDITIONAL:\n",
      "ns5.lxdns.info. 7200 IN A 14.119.111.147\n",
      "ns2.lxdns.info. 7200 IN A 125.46.22.158\n",
      "ns1.lxdns.info. 7200 IN A 183.131.192.82\n",
      "ns4.lxdns.info. 7200 IN A 111.178.234.69\n",
      "ns3.lxdns.info. 7200 IN A 183.131.192.93\n",
      "dns2.lxdns.info. 7200 IN A 125.46.22.158\n"
     ]
    }
   ],
   "source": [
    "print_response(response8)"
   ]
  },
  {
   "cell_type": "code",
   "execution_count": 230,
   "metadata": {},
   "outputs": [
    {
     "data": {
      "text/plain": [
       "'dns2.lxdns.info. 7200 IN A 125.46.22.158'"
      ]
     },
     "execution_count": 230,
     "metadata": {},
     "output_type": "execute_result"
    }
   ],
   "source": [
    "item.to_text()"
   ]
  },
  {
   "cell_type": "code",
   "execution_count": 256,
   "metadata": {
    "collapsed": true
   },
   "outputs": [],
   "source": [
    "response5.additional.append(item)"
   ]
  },
  {
   "cell_type": "code",
   "execution_count": 257,
   "metadata": {},
   "outputs": [
    {
     "name": "stdout",
     "output_type": "stream",
     "text": [
      "\n",
      " QUESTION:\n",
      "www.163.com.lxdns.com. IN A\n",
      "\n",
      " ANSWER:\n",
      "\n",
      " AUTHORITY:\n",
      "lxdns.com. 172800 IN NS dns2.lxdns.info.\n",
      "lxdns.com. 172800 IN NS dns4.lxdns.info.\n",
      "lxdns.com. 172800 IN NS dns1.lxdns.org.\n",
      "lxdns.com. 172800 IN NS dns3.lxdns.org.\n",
      "lxdns.com. 172800 IN NS dns5.lxdns.org.\n",
      "\n",
      " ADDITIONAL:\n",
      "dns2.lxdns.info. 7200 IN A 125.46.22.158\n"
     ]
    }
   ],
   "source": [
    "print_response(response5)"
   ]
  },
  {
   "cell_type": "code",
   "execution_count": 311,
   "metadata": {
    "collapsed": true
   },
   "outputs": [],
   "source": [
    "rrsets = response5.authority[0].items"
   ]
  },
  {
   "cell_type": "code",
   "execution_count": 323,
   "metadata": {},
   "outputs": [
    {
     "data": {
      "text/plain": [
       "'dns1.lxdns.org.'"
      ]
     },
     "execution_count": 323,
     "metadata": {},
     "output_type": "execute_result"
    }
   ],
   "source": [
    "get_ns_from_authority(response5)"
   ]
  },
  {
   "cell_type": "code",
   "execution_count": 316,
   "metadata": {
    "collapsed": true
   },
   "outputs": [],
   "source": [
    "def get_ns_from_authority(response):\n",
    "    '''Get a name server from AUTHORITY.\n",
    "    In some cases, there is no ADDITIONAL section, just AUTHORITY section!\n",
    "    \n",
    "    Args:\n",
    "        response (dns.message.Message)\n",
    "        \n",
    "    Return:\n",
    "        string: A name of ns server\n",
    "    '''\n",
    "    rrsets = response.authority[0].items\n",
    "    index = random.randint(0, len(rrsets)-1)\n",
    "    return rrsets[index].to_text()"
   ]
  },
  {
   "cell_type": "code",
   "execution_count": 235,
   "metadata": {
    "collapsed": true
   },
   "outputs": [],
   "source": [
    "response5.additional.append(item)"
   ]
  },
  {
   "cell_type": "code",
   "execution_count": 262,
   "metadata": {},
   "outputs": [
    {
     "data": {
      "text/plain": [
       "[<DNS IN A rdata: 125.46.22.158>]"
      ]
     },
     "execution_count": 262,
     "metadata": {},
     "output_type": "execute_result"
    }
   ],
   "source": [
    "response5.additional[0].items"
   ]
  },
  {
   "cell_type": "code",
   "execution_count": 249,
   "metadata": {},
   "outputs": [
    {
     "name": "stdout",
     "output_type": "stream",
     "text": [
      "\n",
      " QUESTION:\n",
      "www.163.com.lxdns.com. IN A\n",
      "\n",
      " ANSWER:\n",
      "\n",
      " AUTHORITY:\n",
      "lxdns.com. 172800 IN NS dns2.lxdns.info.\n",
      "lxdns.com. 172800 IN NS dns4.lxdns.info.\n",
      "lxdns.com. 172800 IN NS dns1.lxdns.org.\n",
      "lxdns.com. 172800 IN NS dns3.lxdns.org.\n",
      "lxdns.com. 172800 IN NS dns5.lxdns.org.\n",
      "\n",
      " ADDITIONAL:\n",
      "dns2.lxdns.info. 7200 IN A 125.46.22.158\n"
     ]
    }
   ],
   "source": [
    "print_response(response5)"
   ]
  },
  {
   "cell_type": "code",
   "execution_count": 119,
   "metadata": {},
   "outputs": [
    {
     "name": "stdout",
     "output_type": "stream",
     "text": [
      "\n",
      " QUESTION:\n",
      "www.163.com.lxdns.com. IN A\n",
      "\n",
      " ANSWER:\n",
      "www.163.com.lxdns.com. 600 IN CNAME opthw.xdwscache.speedcdns.com.\n",
      "\n",
      " AUTHORITY:\n",
      "\n",
      " ADDITIONAL:\n"
     ]
    }
   ],
   "source": [
    "response9 = dns.query.udp(b_query, '125.46.22.158')\n",
    "print_response(response9)"
   ]
  },
  {
   "cell_type": "code",
   "execution_count": 120,
   "metadata": {},
   "outputs": [
    {
     "name": "stdout",
     "output_type": "stream",
     "text": [
      "\n",
      " QUESTION:\n",
      "opthw.xdwscache.speedcdns.com. IN A\n",
      "\n",
      " ANSWER:\n",
      "\n",
      " AUTHORITY:\n",
      "com. 172800 IN NS a.gtld-servers.net.\n",
      "com. 172800 IN NS b.gtld-servers.net.\n",
      "com. 172800 IN NS c.gtld-servers.net.\n",
      "com. 172800 IN NS d.gtld-servers.net.\n",
      "com. 172800 IN NS e.gtld-servers.net.\n",
      "com. 172800 IN NS f.gtld-servers.net.\n",
      "com. 172800 IN NS g.gtld-servers.net.\n",
      "com. 172800 IN NS h.gtld-servers.net.\n",
      "com. 172800 IN NS i.gtld-servers.net.\n",
      "com. 172800 IN NS j.gtld-servers.net.\n",
      "com. 172800 IN NS k.gtld-servers.net.\n",
      "com. 172800 IN NS l.gtld-servers.net.\n",
      "com. 172800 IN NS m.gtld-servers.net.\n",
      "\n",
      " ADDITIONAL:\n",
      "a.gtld-servers.net. 172800 IN A 192.5.6.30\n",
      "b.gtld-servers.net. 172800 IN A 192.33.14.30\n",
      "c.gtld-servers.net. 172800 IN A 192.26.92.30\n",
      "d.gtld-servers.net. 172800 IN A 192.31.80.30\n",
      "e.gtld-servers.net. 172800 IN A 192.12.94.30\n",
      "f.gtld-servers.net. 172800 IN A 192.35.51.30\n",
      "g.gtld-servers.net. 172800 IN A 192.42.93.30\n",
      "h.gtld-servers.net. 172800 IN A 192.54.112.30\n",
      "i.gtld-servers.net. 172800 IN A 192.43.172.30\n",
      "j.gtld-servers.net. 172800 IN A 192.48.79.30\n",
      "k.gtld-servers.net. 172800 IN A 192.52.178.30\n",
      "l.gtld-servers.net. 172800 IN A 192.41.162.30\n",
      "m.gtld-servers.net. 172800 IN A 192.55.83.30\n",
      "a.gtld-servers.net. 172800 IN AAAA 2001:503:a83e::2:30\n"
     ]
    }
   ],
   "source": [
    "d_query = dns.message.make_query('opthw.xdwscache.speedcdns.com', 'A')\n",
    "response10 = dns.query.udp(d_query, '198.41.0.4')\n",
    "print_response(response10)"
   ]
  },
  {
   "cell_type": "code",
   "execution_count": 121,
   "metadata": {},
   "outputs": [
    {
     "name": "stdout",
     "output_type": "stream",
     "text": [
      "\n",
      " QUESTION:\n",
      "opthw.xdwscache.speedcdns.com. IN A\n",
      "\n",
      " ANSWER:\n",
      "\n",
      " AUTHORITY:\n",
      "speedcdns.com. 172800 IN NS dns4.speedcdns.info.\n",
      "speedcdns.com. 172800 IN NS dns5.speedcdns.info.\n",
      "speedcdns.com. 172800 IN NS dns3.speedcdns.info.\n",
      "speedcdns.com. 172800 IN NS dns2.speedcdns.info.\n",
      "speedcdns.com. 172800 IN NS dns1.speedcdns.info.\n",
      "\n",
      " ADDITIONAL:\n"
     ]
    }
   ],
   "source": [
    "response11 = dns.query.udp(d_query, '192.5.6.30')\n",
    "print_response(response11)"
   ]
  },
  {
   "cell_type": "code",
   "execution_count": 122,
   "metadata": {},
   "outputs": [
    {
     "name": "stdout",
     "output_type": "stream",
     "text": [
      "\n",
      " QUESTION:\n",
      "dns4.speedcdns.info. IN A\n",
      "\n",
      " ANSWER:\n",
      "\n",
      " AUTHORITY:\n",
      "info. 172800 IN NS a0.info.afilias-nst.info.\n",
      "info. 172800 IN NS a2.info.afilias-nst.info.\n",
      "info. 172800 IN NS b0.info.afilias-nst.org.\n",
      "info. 172800 IN NS b2.info.afilias-nst.org.\n",
      "info. 172800 IN NS c0.info.afilias-nst.info.\n",
      "info. 172800 IN NS d0.info.afilias-nst.org.\n",
      "\n",
      " ADDITIONAL:\n",
      "a0.info.afilias-nst.info. 172800 IN A 199.254.31.1\n",
      "a2.info.afilias-nst.info. 172800 IN A 199.249.113.1\n",
      "b0.info.afilias-nst.org. 172800 IN A 199.254.48.1\n",
      "b2.info.afilias-nst.org. 172800 IN A 199.249.121.1\n",
      "c0.info.afilias-nst.info. 172800 IN A 199.254.49.1\n",
      "d0.info.afilias-nst.org. 172800 IN A 199.254.50.1\n",
      "a0.info.afilias-nst.info. 172800 IN AAAA 2001:500:19::1\n",
      "a2.info.afilias-nst.info. 172800 IN AAAA 2001:500:41::1\n",
      "b0.info.afilias-nst.org. 172800 IN AAAA 2001:500:1a::1\n",
      "b2.info.afilias-nst.org. 172800 IN AAAA 2001:500:49::1\n",
      "c0.info.afilias-nst.info. 172800 IN AAAA 2001:500:1b::1\n",
      "d0.info.afilias-nst.org. 172800 IN AAAA 2001:500:1c::1\n"
     ]
    }
   ],
   "source": [
    "e_query = dns.message.make_query('dns4.speedcdns.info', 'A')\n",
    "response12 = dns.query.udp(e_query, '198.41.0.4')\n",
    "print_response(response12)"
   ]
  },
  {
   "cell_type": "code",
   "execution_count": 124,
   "metadata": {},
   "outputs": [
    {
     "name": "stdout",
     "output_type": "stream",
     "text": [
      "\n",
      " QUESTION:\n",
      "dns4.speedcdns.info. IN A\n",
      "\n",
      " ANSWER:\n",
      "\n",
      " AUTHORITY:\n",
      "speedcdns.info. 86400 IN NS ns3.speedcdns.info.\n",
      "speedcdns.info. 86400 IN NS ns2.speedcdns.info.\n",
      "speedcdns.info. 86400 IN NS ns5.speedcdns.info.\n",
      "speedcdns.info. 86400 IN NS ns4.speedcdns.info.\n",
      "speedcdns.info. 86400 IN NS ns1.speedcdns.info.\n",
      "\n",
      " ADDITIONAL:\n",
      "ns1.speedcdns.info. 86400 IN A 220.243.237.83\n",
      "ns2.speedcdns.info. 86400 IN A 203.130.63.64\n",
      "ns3.speedcdns.info. 86400 IN A 203.130.55.52\n",
      "ns4.speedcdns.info. 86400 IN A 203.130.58.104\n",
      "ns5.speedcdns.info. 86400 IN A 220.243.194.17\n"
     ]
    }
   ],
   "source": [
    "response13 = dns.query.udp(e_query, '199.254.31.1')\n",
    "print_response(response13)"
   ]
  },
  {
   "cell_type": "code",
   "execution_count": 146,
   "metadata": {},
   "outputs": [
    {
     "data": {
      "text/plain": [
       "[<DNS IN A rdata: 203.130.55.52>]"
      ]
     },
     "execution_count": 146,
     "metadata": {},
     "output_type": "execute_result"
    }
   ],
   "source": [
    "response13.additional[2].items"
   ]
  },
  {
   "cell_type": "code",
   "execution_count": 336,
   "metadata": {},
   "outputs": [
    {
     "name": "stdout",
     "output_type": "stream",
     "text": [
      "\n",
      " QUESTION:\n",
      "dns4.speedcdns.info. IN A\n",
      "\n",
      " ANSWER:\n",
      "dns4.speedcdns.info. 86400 IN A 157.185.164.91\n",
      "\n",
      " AUTHORITY:\n",
      "speedcdns.info. 86400 IN NS ns1.speedcdns.info.\n",
      "speedcdns.info. 86400 IN NS ns5.speedcdns.info.\n",
      "speedcdns.info. 86400 IN NS ns2.speedcdns.info.\n",
      "speedcdns.info. 86400 IN NS ns4.speedcdns.info.\n",
      "speedcdns.info. 86400 IN NS ns3.speedcdns.info.\n",
      "\n",
      " ADDITIONAL:\n",
      "ns1.speedcdns.info. 7200 IN A 70.39.191.24\n",
      "ns5.speedcdns.info. 86400 IN A 203.130.63.64\n",
      "ns2.speedcdns.info. 7200 IN A 157.185.149.133\n",
      "ns4.speedcdns.info. 7200 IN A 157.185.166.19\n",
      "ns3.speedcdns.info. 7200 IN A 220.243.254.26\n"
     ]
    }
   ],
   "source": [
    "# 220.243.237.83 time out!\n",
    "# response14 = dns.query.udp(e_query, '220.243.237.83', 5)\n",
    "response14 = dns.query.udp(e_query, '203.130.63.64', 5)\n",
    "\n",
    "print_response(response14)"
   ]
  },
  {
   "cell_type": "code",
   "execution_count": 333,
   "metadata": {},
   "outputs": [
    {
     "name": "stdout",
     "output_type": "stream",
     "text": [
      "\n",
      " QUESTION:\n",
      "opthw.xdwscache.speedcdns.com. IN A\n",
      "\n",
      " ANSWER:\n",
      "opthw.xdwscache.speedcdns.com. 60 IN A 203.130.53.126\n",
      "\n",
      " AUTHORITY:\n",
      "speedcdns.com. 86400 IN NS dns4.speedcdns.info.\n",
      "speedcdns.com. 86400 IN NS dns3.speedcdns.info.\n",
      "speedcdns.com. 86400 IN NS dns2.speedcdns.info.\n",
      "speedcdns.com. 86400 IN NS dns5.speedcdns.info.\n",
      "speedcdns.com. 86400 IN NS dns1.speedcdns.info.\n",
      "\n",
      " ADDITIONAL:\n",
      "dns4.speedcdns.info. 86400 IN A 157.185.164.91\n",
      "dns3.speedcdns.info. 7200 IN A 203.130.53.12\n",
      "dns2.speedcdns.info. 7200 IN A 220.243.215.18\n",
      "dns5.speedcdns.info. 86400 IN A 203.130.63.64\n",
      "dns1.speedcdns.info. 7200 IN A 157.185.170.124\n"
     ]
    }
   ],
   "source": [
    "response15 = dns.query.udp(d_query, '157.185.164.91')\n",
    "print_response(response15)"
   ]
  },
  {
   "cell_type": "code",
   "execution_count": 79,
   "metadata": {
    "collapsed": true
   },
   "outputs": [],
   "source": [
    "def check_response(response):\n",
    "    '''Check whether the response has a valid IP address in its ANSWER section.\n",
    "    \n",
    "    Args:\n",
    "        response (dns.message.Message): the response of a single query\n",
    "    \n",
    "    Return:\n",
    "        True or False\n",
    "    '''\n",
    "    try:\n",
    "        ip = get_ip_from_rrset(response.answer[0])\n",
    "        ipaddress.ip_address(ip)\n",
    "        return True\n",
    "    except:\n",
    "        return False   "
   ]
  },
  {
   "cell_type": "code",
   "execution_count": 85,
   "metadata": {},
   "outputs": [
    {
     "name": "stdout",
     "output_type": "stream",
     "text": [
      "id 30407\n",
      "opcode QUERY\n",
      "rcode NOERROR\n",
      "flags QR AA RD\n",
      ";QUESTION\n",
      "turner-tls.map.fastly.net. IN A\n",
      ";ANSWER\n",
      "turner-tls.map.fastly.net. 30 IN A 151.101.21.67\n",
      ";AUTHORITY\n",
      "fastly.net. 7200 IN NS ns1.fastly.net.\n",
      "fastly.net. 7200 IN NS ns2.fastly.net.\n",
      "fastly.net. 7200 IN NS ns3.fastly.net.\n",
      "fastly.net. 7200 IN NS ns4.fastly.net.\n",
      ";ADDITIONAL\n"
     ]
    }
   ],
   "source": [
    "print(response6)"
   ]
  },
  {
   "cell_type": "code",
   "execution_count": 88,
   "metadata": {},
   "outputs": [
    {
     "name": "stdout",
     "output_type": "stream",
     "text": [
      "caitao\n"
     ]
    }
   ],
   "source": [
    "if check_response(response6):\n",
    "    print('caitao')"
   ]
  },
  {
   "cell_type": "code",
   "execution_count": 83,
   "metadata": {
    "collapsed": true
   },
   "outputs": [],
   "source": [
    "def get_ip_from_rrset(rrset):\n",
    "    ''' Get IP address from a RRset (from ADDITIONAL section)\n",
    "    \n",
    "    Args:\n",
    "        rrset (A DNS RRset ): contains an IP address that needs to be extracted\n",
    "        \n",
    "    Return:\n",
    "        ip (str): the IP address in the RRset\n",
    "    '''\n",
    "    try:\n",
    "        item = rrset.items[0]\n",
    "        return item.to_text()\n",
    "    except Exception as e:\n",
    "        print('Oops! Some issue with rrset: ', e)"
   ]
  },
  {
   "cell_type": "code",
   "execution_count": 78,
   "metadata": {},
   "outputs": [
    {
     "data": {
      "text/plain": [
       "'151.101.21.67'"
      ]
     },
     "execution_count": 78,
     "metadata": {},
     "output_type": "execute_result"
    }
   ],
   "source": [
    "get_ip_from_rrset(response6.answer[0])"
   ]
  },
  {
   "cell_type": "code",
   "execution_count": 13,
   "metadata": {
    "collapsed": true
   },
   "outputs": [],
   "source": [
    "import ipaddress"
   ]
  },
  {
   "cell_type": "code",
   "execution_count": 20,
   "metadata": {},
   "outputs": [
    {
     "name": "stdout",
     "output_type": "stream",
     "text": [
      "True\n",
      "True\n",
      "False\n"
     ]
    }
   ],
   "source": [
    "def valid_ip(address):\n",
    "    try: \n",
    "        ipaddress.ip_address(address)\n",
    "        return True\n",
    "    except:\n",
    "        return False\n",
    "\n",
    "print(valid_ip('10.10.20.30'))\n",
    "print(valid_ip('2001:DB8::1'))\n",
    "print(valid_ip('gibberish'))"
   ]
  },
  {
   "cell_type": "code",
   "execution_count": 339,
   "metadata": {},
   "outputs": [
    {
     "name": "stdout",
     "output_type": "stream",
     "text": [
      "0\n",
      "caitao 0\n",
      "caitao 1\n",
      "2\n",
      "caitao 2\n",
      "3\n",
      "caitao 3\n",
      "caitao 4\n",
      "caitao 5\n",
      "6\n",
      "caitao 6\n",
      "caitao 7\n",
      "caitao 8\n",
      "9\n",
      "caitao 9\n"
     ]
    }
   ],
   "source": [
    "for i in range(0, 10):\n",
    "    try:\n",
    "        raise_exception(i)\n",
    "    except:\n",
    "        continue\n",
    "    print('caitao', i)"
   ]
  },
  {
   "cell_type": "code",
   "execution_count": 338,
   "metadata": {
    "collapsed": true
   },
   "outputs": [],
   "source": [
    "def raise_exception(i):\n",
    "    try:\n",
    "        a, b = 1, 0\n",
    "        if random.randint(0,1) == 1:\n",
    "            c = a/b\n",
    "    except:\n",
    "        print(i)"
   ]
  },
  {
   "cell_type": "code",
   "execution_count": 340,
   "metadata": {},
   "outputs": [
    {
     "name": "stdout",
     "output_type": "stream",
     "text": [
      "\n",
      " QUESTION:\n",
      "dns1.speedcdns.info. IN A\n",
      "\n",
      " ANSWER:\n",
      "\n",
      " AUTHORITY:\n",
      "info. 172800 IN NS a0.info.afilias-nst.info.\n",
      "info. 172800 IN NS a2.info.afilias-nst.info.\n",
      "info. 172800 IN NS b0.info.afilias-nst.org.\n",
      "info. 172800 IN NS b2.info.afilias-nst.org.\n",
      "info. 172800 IN NS c0.info.afilias-nst.info.\n",
      "info. 172800 IN NS d0.info.afilias-nst.org.\n",
      "\n",
      " ADDITIONAL:\n",
      "a0.info.afilias-nst.info. 172800 IN A 199.254.31.1\n",
      "a2.info.afilias-nst.info. 172800 IN A 199.249.113.1\n",
      "b0.info.afilias-nst.org. 172800 IN A 199.254.48.1\n",
      "b2.info.afilias-nst.org. 172800 IN A 199.249.121.1\n",
      "c0.info.afilias-nst.info. 172800 IN A 199.254.49.1\n",
      "d0.info.afilias-nst.org. 172800 IN A 199.254.50.1\n",
      "a0.info.afilias-nst.info. 172800 IN AAAA 2001:500:19::1\n",
      "a2.info.afilias-nst.info. 172800 IN AAAA 2001:500:41::1\n",
      "b0.info.afilias-nst.org. 172800 IN AAAA 2001:500:1a::1\n",
      "b2.info.afilias-nst.org. 172800 IN AAAA 2001:500:49::1\n",
      "c0.info.afilias-nst.info. 172800 IN AAAA 2001:500:1b::1\n",
      "d0.info.afilias-nst.org. 172800 IN AAAA 2001:500:1c::1\n"
     ]
    }
   ],
   "source": [
    "e_query = dns.message.make_query('dns1.speedcdns.info', 'A')\n",
    "response12 = dns.query.udp(e_query, '198.41.0.4')\n",
    "print_response(response12)"
   ]
  },
  {
   "cell_type": "code",
   "execution_count": 341,
   "metadata": {},
   "outputs": [
    {
     "name": "stdout",
     "output_type": "stream",
     "text": [
      "\n",
      " QUESTION:\n",
      "dns1.speedcdns.info. IN A\n",
      "\n",
      " ANSWER:\n",
      "\n",
      " AUTHORITY:\n",
      "speedcdns.info. 86400 IN NS ns1.speedcdns.info.\n",
      "speedcdns.info. 86400 IN NS ns2.speedcdns.info.\n",
      "speedcdns.info. 86400 IN NS ns3.speedcdns.info.\n",
      "speedcdns.info. 86400 IN NS ns4.speedcdns.info.\n",
      "speedcdns.info. 86400 IN NS ns5.speedcdns.info.\n",
      "\n",
      " ADDITIONAL:\n",
      "ns1.speedcdns.info. 86400 IN A 220.243.237.83\n",
      "ns2.speedcdns.info. 86400 IN A 203.130.63.64\n",
      "ns3.speedcdns.info. 86400 IN A 203.130.55.52\n",
      "ns4.speedcdns.info. 86400 IN A 203.130.58.104\n",
      "ns5.speedcdns.info. 86400 IN A 220.243.194.17\n"
     ]
    }
   ],
   "source": [
    "response12 = dns.query.udp(e_query, '199.249.113.1')\n",
    "print_response(response12)"
   ]
  },
  {
   "cell_type": "code",
   "execution_count": 393,
   "metadata": {},
   "outputs": [
    {
     "name": "stdout",
     "output_type": "stream",
     "text": [
      "\n",
      " QUESTION:\n",
      "dns1.speedcdns.info. IN A\n",
      "\n",
      " ANSWER:\n",
      "dns1.speedcdns.info. 7200 IN A 157.185.170.124\n",
      "\n",
      " AUTHORITY:\n",
      "speedcdns.info. 86400 IN NS ns5.speedcdns.info.\n",
      "speedcdns.info. 86400 IN NS ns1.speedcdns.info.\n",
      "speedcdns.info. 86400 IN NS ns3.speedcdns.info.\n",
      "speedcdns.info. 86400 IN NS ns2.speedcdns.info.\n",
      "speedcdns.info. 86400 IN NS ns4.speedcdns.info.\n",
      "\n",
      " ADDITIONAL:\n",
      "ns5.speedcdns.info. 86400 IN A 203.130.63.64\n",
      "ns1.speedcdns.info. 7200 IN A 70.39.191.24\n",
      "ns3.speedcdns.info. 7200 IN A 220.243.254.26\n",
      "ns2.speedcdns.info. 7200 IN A 157.185.149.133\n",
      "ns4.speedcdns.info. 7200 IN A 157.185.166.19\n"
     ]
    }
   ],
   "source": [
    "response13 = dns.query.udp(e_query, '203.130.63.64', 1)\n",
    "print_response(response13)"
   ]
  }
 ],
 "metadata": {
  "kernelspec": {
   "display_name": "Python 3",
   "language": "python",
   "name": "python3"
  },
  "language_info": {
   "codemirror_mode": {
    "name": "ipython",
    "version": 3
   },
   "file_extension": ".py",
   "mimetype": "text/x-python",
   "name": "python",
   "nbconvert_exporter": "python",
   "pygments_lexer": "ipython3",
   "version": "3.6.3"
  }
 },
 "nbformat": 4,
 "nbformat_minor": 2
}
