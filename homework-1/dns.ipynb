{
 "cells": [
  {
   "cell_type": "code",
   "execution_count": 2,
   "metadata": {
    "collapsed": true
   },
   "outputs": [],
   "source": [
    "import dns.query\n",
    "import dns.message\n",
    "import re\n",
    "import ipaddress\n",
    "import time\n",
    "import datetime\n",
    "import random\n",
    "from enum import Enum\n",
    "import pandas"
   ]
  },
  {
   "cell_type": "code",
   "execution_count": 3,
   "metadata": {
    "collapsed": true
   },
   "outputs": [],
   "source": [
    "cache = {}"
   ]
  },
  {
   "cell_type": "code",
   "execution_count": 4,
   "metadata": {
    "collapsed": true
   },
   "outputs": [],
   "source": [
    "root_servers = {}\n",
    "\n",
    "root_servers['a'] = '198.41.0.4'\n",
    "root_servers['b'] = '199.9.14.201'\n",
    "root_servers['c'] = '192.33.4.12'\n",
    "root_servers['d'] = '199.7.91.13'\n",
    "root_servers['e'] = '192.203.230.10'\n",
    "root_servers['f'] = '192.5.5.241'\n",
    "root_servers['g'] = '192.112.36.4'\n",
    "root_servers['h'] = '198.97.190.53'\n",
    "root_servers['i'] = '192.36.148.17'\n",
    "root_servers['j'] = '192.58.128.30'\n",
    "root_servers['k'] = '193.0.14.129'\n",
    "root_servers['l'] = '199.7.83.42'\n",
    "root_servers['n'] = '202.12.27.33'"
   ]
  },
  {
   "cell_type": "code",
   "execution_count": 5,
   "metadata": {
    "collapsed": true
   },
   "outputs": [],
   "source": [
    "def output(hostname, rdtype, myresponse, elapsed, cnames):\n",
    "    '''The output of the program\n",
    "    \n",
    "    Args:\n",
    "        hostname (str): host to be queried\n",
    "        rdtype (str): type A, NS, or MX\n",
    "        myresponse (dns.message.Message): reponse from the DNS query\n",
    "        elapsed (float): time elapsed\n",
    "        cnames (list): cnames during a dns query\n",
    "    '''\n",
    "    \n",
    "    answers = []\n",
    "    for rrset in myresponse.answer:\n",
    "        for item in rrset.items:\n",
    "            answers.append(item.to_text())\n",
    "            \n",
    "    hostname_ = hostname + '.'\n",
    "    \n",
    "    number = str(30)\n",
    "    for answer in answers:\n",
    "        re_number = '(\\d+)(.*)' + answers[0]\n",
    "        match = re.search(re_number, myresponse.to_text())\n",
    "        if match:\n",
    "            number = match.group(1)\n",
    "        number = str(number)\n",
    "        break\n",
    "    \n",
    "    \n",
    "    first_line = 'QUESTION SECTION:\\n'\n",
    "    second_line = hostname_.ljust(39) + 'IN'.ljust(5) + rdtype.ljust(5) + '\\n\\n'\n",
    "    third_line = 'ANSWER SECTION:\\n'\n",
    "    forth_line = ''\n",
    "    \n",
    "    if len(cnames) > 0:\n",
    "        left = hostname_\n",
    "        for cname in cnames:\n",
    "            forth_line = forth_line + left.ljust(33) + number.ljust(6) + 'IN'.ljust(5) + 'CNAME'.ljust(7) + cname + '\\n'\n",
    "            left = cname\n",
    "        for answer in answers:\n",
    "            forth_line = forth_line + left.ljust(33) + number.ljust(6) + 'IN'.ljust(5) + rdtype.ljust(7) + answer + '\\n'\n",
    "    else:    \n",
    "        for answer in answers:\n",
    "            forth_line = forth_line + hostname_.ljust(33) + number.ljust(6) + 'IN'.ljust(5) + rdtype.ljust(7) + answer + '\\n'\n",
    "    \n",
    "    string = first_line + second_line + third_line + forth_line\n",
    "    \n",
    "    print('\\n')\n",
    "    print(string)\n",
    "    \n",
    "    cache[hostname + ' ' + rdtype] = string  # insert into global cache\n",
    "    \n",
    "    msg_size = str(len(string.replace(' ', '')))\n",
    "    print('Query time: ' + str(int(elapsed * 1000)) + ' msec')\n",
    "    print('WHEN:', datetime.datetime.now().strftime(\"%a %b %d %H:%M:%S %Y\"))\n",
    "    print('MSG SIZE rcvd: ', msg_size, '\\n')"
   ]
  },
  {
   "cell_type": "code",
   "execution_count": 6,
   "metadata": {
    "collapsed": true
   },
   "outputs": [],
   "source": [
    "def output_sec(hostname, rdtype, response, elapsed, cnames):\n",
    "    '''The output of the program\n",
    "    \n",
    "    Args:\n",
    "        hostname (str): host to be queried\n",
    "        rdtype (str): type A, NS, or MX\n",
    "        myresponse (dns.message.Message): reponse from the DNS query\n",
    "        elapsed (float): time elapsed\n",
    "        cnames (list): cnames during a dns query\n",
    "    '''\n",
    "  \n",
    "    print('\\n', 'QUESTION:')\n",
    "    for i in response.question:\n",
    "        print(i.to_text())\n",
    "    \n",
    "    print('\\n', 'ANSWER:')\n",
    "    for i in response.answer:\n",
    "        print(i.to_text())\n",
    "        \n",
    "    print('\\n')\n",
    "    \n",
    "    msg_size = str(len(myresponse.to_text()))\n",
    "    print('Query time: ' + str(int(elapsed * 1000)) + ' msec')\n",
    "    print('WHEN:', datetime.datetime.now().strftime(\"%a %b %d %H:%M:%S %Y\"))\n",
    "    print('MSG SIZE rcvd: ', msg_size, '\\n')"
   ]
  },
  {
   "cell_type": "code",
   "execution_count": 7,
   "metadata": {
    "collapsed": true
   },
   "outputs": [],
   "source": [
    "def output_cache(string, elapsed):\n",
    "    print(string)\n",
    "    msg_size = len(string.replace(' ', ''))\n",
    "    print('Query time: ' + str(int(elapsed * 1000)) + ' msec')\n",
    "    print('WHEN:', datetime.datetime.now().strftime(\"%a %b %d %H:%M:%S %Y\"))\n",
    "    print('MSG SIZE rcvd: ', msg_size)"
   ]
  },
  {
   "cell_type": "code",
   "execution_count": 8,
   "metadata": {
    "collapsed": true
   },
   "outputs": [],
   "source": [
    "def get_cname_from_rrset(rrset):\n",
    "    '''Get CNAME from a RRset (from ANSWER section)\n",
    "    \n",
    "    Args:\n",
    "        rrset (A DNS RRset): contains an CNAME to be extracted\n",
    "        \n",
    "    Returns:\n",
    "        CNAME (str): the CNAME in the RRset\n",
    "    '''\n",
    "    try:\n",
    "        item = rrset.items[0]\n",
    "        return item.to_text()\n",
    "    except Exception as e:\n",
    "        print('Oops! Some issue with cname: ', e)"
   ]
  },
  {
   "cell_type": "code",
   "execution_count": 9,
   "metadata": {
    "collapsed": true
   },
   "outputs": [],
   "source": [
    "def get_ip_from_rrset(rrset):\n",
    "    ''' Get IP address from a RRset (from ADDITIONAL section)\n",
    "    \n",
    "    Args:\n",
    "        rrset (A DNS RRset ): contains an IP address to be extracted\n",
    "        \n",
    "    Return:\n",
    "        ip (str): the IP address in the RRset\n",
    "    '''\n",
    "    try:\n",
    "        item = rrset.items[0]\n",
    "        return item.to_text()\n",
    "    except Exception as e:\n",
    "        print('Oops! Some issue with ip: ', e)"
   ]
  },
  {
   "cell_type": "code",
   "execution_count": 10,
   "metadata": {
    "collapsed": true
   },
   "outputs": [],
   "source": [
    "def get_ns_from_authority(response):\n",
    "    '''Get a name server from AUTHORITY.\n",
    "    In some cases, there is no ADDITIONAL section, just AUTHORITY section!\n",
    "    \n",
    "    Args:\n",
    "        response (dns.message.Message)\n",
    "        \n",
    "    Return:\n",
    "        string: A name of ns server\n",
    "    '''\n",
    "    rrsets = response.authority[0].items\n",
    "    index = random.randint(0, len(rrsets)-1)\n",
    "    return rrsets[index].to_text()"
   ]
  },
  {
   "cell_type": "code",
   "execution_count": 11,
   "metadata": {
    "collapsed": true
   },
   "outputs": [],
   "source": [
    "def check_hostname(hostname):\n",
    "    '''Check whether a host is valid.\n",
    "    \n",
    "    Args:\n",
    "        hostname (str): a hostname\n",
    "        \n",
    "    Return:\n",
    "        True or False\n",
    "    '''\n",
    "    re_domain = '^(?=.{4,255}$)([a-zA-Z0-9][a-zA-Z0-9-]{,61}[a-zA-Z0-9]\\.)+[a-zA-Z0-9]{2,5}.$'\n",
    "    match = re.match(re_domain, hostname)\n",
    "    if match:\n",
    "        return True\n",
    "    else:\n",
    "        return False"
   ]
  },
  {
   "cell_type": "code",
   "execution_count": 169,
   "metadata": {
    "collapsed": true
   },
   "outputs": [],
   "source": [
    "def single_iterate(hostname, rdtype, where, timeout=1, dnssec=False):\n",
    "    ''' A single iterative DNS query\n",
    "    \n",
    "    Args:\n",
    "        hostname (str): host to be queried\n",
    "        rdtype (str): type A, NS, or MX\n",
    "        where (str):  IP address of query destination\n",
    "    \n",
    "    Return: \n",
    "        response (dns.message.Message): the response of a single query\n",
    "        \n",
    "    Exception:\n",
    "        May raise an exception\n",
    "    '''\n",
    "    a_query = dns.message.make_query(hostname, rdtype, want_dnssec=dnssec)\n",
    "    try:\n",
    "        #print('single iterate: ', hostname, rdtype, where)\n",
    "        response = dns.query.udp(a_query, where, timeout)\n",
    "        return response\n",
    "    except Exception as e:\n",
    "        raise e  # Let the block who call this function catch the exception"
   ]
  },
  {
   "cell_type": "code",
   "execution_count": 13,
   "metadata": {
    "collapsed": true
   },
   "outputs": [],
   "source": [
    "def check_response(response, rdtype):\n",
    "    '''Check whether the response has a valid IP address in its ANSWER section.\n",
    "    \n",
    "    Args:\n",
    "        response (dns.message.Message): the response of a single query\n",
    "        rdtype (str): type A=1, NS=2, CNAME=5, MX=15\n",
    "    \n",
    "    Return:\n",
    "        True or False\n",
    "    '''\n",
    "    try:\n",
    "        if rdtype == 'A':\n",
    "            ip = get_ip_from_rrset(response.answer[0])\n",
    "            ipaddress.ip_address(ip)\n",
    "            return True\n",
    "        elif rdtype == 'NS':                           # return NS when 'dig cnn.com NS'\n",
    "            answer_type = response.answer[0].rdtype    # return all the CNAMEs when 'dig www.cnn.com NS'\n",
    "            if answer_type == 2:\n",
    "                return True                            # if NS, then return the answer\n",
    "            elif answer_type == 5:\n",
    "                return False                           # if CNAME, then keep looking for its NS\n",
    "            else:\n",
    "                return False                           # not sure if this condtion exist\n",
    "        elif rdtype == 'MX':\n",
    "            answer_type = response.answer[0].rdtype    # if MX, then return the answer\n",
    "            if answer_type == 15:\n",
    "                return True\n",
    "            elif answer_type == 5:                     # if CNAME, then keep looking for its MX\n",
    "                return False\n",
    "            else:\n",
    "                return False                           # not sure if this condtion exist\n",
    "    except Exception as e:\n",
    "        return False            "
   ]
  },
  {
   "cell_type": "code",
   "execution_count": 14,
   "metadata": {
    "collapsed": true
   },
   "outputs": [],
   "source": [
    "def dns_resolver(hostname, rdtype):\n",
    "    ''' My DNS resolver version 0.1\n",
    "    \n",
    "    Args:\n",
    "        hostname (str): target hostname\n",
    "        rdtype (str):   type A, NS, or MX\n",
    "        cnames (list):  a list of CNAMES during a dns query\n",
    "        \n",
    "    Return:\n",
    "        response (dns.message.Message): response of this dns query\n",
    "    '''\n",
    "    for root in root_servers.values():\n",
    "        response = single_iterate(hostname, rdtype, root)\n",
    "        if len(response.additional) == 0:\n",
    "            continue                     # root doesn't have top level domain information\n",
    "        while(len(response.answer)==0):  # answer section is empty, then keep interating\n",
    "            for rrset in response.additional:\n",
    "                next_ip = get_ip_from_rrset(rrset)\n",
    "                response = single_iterate(hostname, rdtype, next_ip)\n",
    "                if len(response.answer)!=0 or len(response.additional)!=0: # if exist answer or exist additional, then the iterate is good\n",
    "                    break  # if both no answer and no additional, then iterate agian using another ip\n",
    "        if check_response(response): # ip is in the response\n",
    "            return response\n",
    "        else:                         # CNAME is in the response\n",
    "            for rrset in response.answer:\n",
    "                cname = get_cname_from_rrset(rrset)\n",
    "                print(cname)\n",
    "                return dns_resolver(cname, rdtype)"
   ]
  },
  {
   "cell_type": "code",
   "execution_count": 15,
   "metadata": {
    "collapsed": true
   },
   "outputs": [],
   "source": [
    "def dns_resolver_2(hostname, rdtype, cnames):\n",
    "    ''' My DNS resolver version 0.2\n",
    "    \n",
    "    Args:\n",
    "        hostname (str): target hostname\n",
    "        rdtype (str):   type A, NS, or MX\n",
    "        cnames (list):  a list of CNAMES during a dns query\n",
    "        \n",
    "    Return:\n",
    "        response (dns.message.Message): response of this dns query\n",
    "    '''\n",
    "    for root in root_servers.values():\n",
    "        try:\n",
    "            response = single_iterate(hostname, rdtype, root, timeout=1)\n",
    "            if len(response.additional) == 0:\n",
    "                continue                           # root doesn't have top level domain information\n",
    "            while(len(response.answer)==0 ):       # if ANSWER section is empty, then keep iterating\n",
    "                if len(response.additional) > 0:   # use the IP in ADDITIONAL section\n",
    "                    for rrset in response.additional:\n",
    "                        next_ip = get_ip_from_rrset(rrset)\n",
    "                        try:\n",
    "                            response2 = single_iterate(hostname, rdtype, next_ip, timeout=1)\n",
    "                            response = response2\n",
    "                            break\n",
    "                        except Exception as e:\n",
    "                            pass  # print('Oops! Authoratative server timeout, try next one. ', e)\n",
    "                else:             # if both ANSWER and ADDITIONAL is empty, then find the IP of AUTHORITY  \n",
    "                    ns = get_ns_from_authority(response)\n",
    "                    response2 = dns_resolver_2(ns, rdtype, cnames)\n",
    "                    authority_answer = response2.answer[0]\n",
    "                    response.additional.append(authority_answer)  # add rrset that contains IP of a AUTHORITY to response\n",
    "            if check_response(response):  # ip is in the response\n",
    "                return response\n",
    "            else:                         # CNAME is in the response\n",
    "                for rrset in response.answer:\n",
    "                    cname = get_cname_from_rrset(rrset)\n",
    "                    cnames.append(cname)\n",
    "                    return dns_resolver_2(cname, rdtype, cnames)\n",
    "            break\n",
    "        except Exception as e:\n",
    "            pass   # print('Oops! Some error, start from a new root server.', e)"
   ]
  },
  {
   "cell_type": "code",
   "execution_count": 31,
   "metadata": {
    "collapsed": true
   },
   "outputs": [],
   "source": [
    "def dns_resolver_3(hostname, rdtype, cnames):\n",
    "    ''' My DNS resolver version 0.3\n",
    "    \n",
    "    Args:\n",
    "        hostname (str): target hostname\n",
    "        rdtype (str):   type A, NS, or MX\n",
    "        cnames (list):  a list of CNAMES during a dns query\n",
    "        \n",
    "    Return:\n",
    "        response (dns.message.Message): response of this dns query\n",
    "    '''\n",
    "    for root in root_servers.values():\n",
    "        try:\n",
    "            print(hostname, rdtype, root)\n",
    "            response = single_iterate(hostname, rdtype, root, timeout=0.5)\n",
    "            if len(response.additional) == 0:\n",
    "                continue                           # root doesn't have top level domain information\n",
    "            while(len(response.answer)==0 ):       # if ANSWER section is empty, then keep iterating\n",
    "                if len(response.additional) > 0:   # use the IP in ADDITIONAL section\n",
    "                    for rrset in response.additional:\n",
    "                        next_ip = get_ip_from_rrset(rrset)\n",
    "                        try:\n",
    "                            response2 = single_iterate(hostname, rdtype, next_ip, timeout=0.5)\n",
    "                            response = response2\n",
    "                            break\n",
    "                        except Exception as e:\n",
    "                            pass  # print('Oops! Authoratative server timeout, try next one. ', e)\n",
    "                else:             # if both ANSWER and ADDITIONAL is empty, then find the IP of AUTHORITY  \n",
    "                    ns = get_ns_from_authority(response)\n",
    "                    if check_hostname(ns):\n",
    "                        response2 = dns_resolver_3(ns, 'A', cnames)\n",
    "                        authority_answer = response2.answer[0]\n",
    "                        response.additional.append(authority_answer)  # add rrset that contains IP of a AUTHORITY to response\n",
    "                    else:\n",
    "                         return response   # hostname in AUTHORITY is not valid\n",
    "            #print('check response-1')\n",
    "            if check_response(response, rdtype):  # ip is in the response\n",
    "                #print('check response-2')\n",
    "                return response\n",
    "            else:                         # CNAME is in the response\n",
    "                for rrset in response.answer:\n",
    "                    cname = get_cname_from_rrset(rrset)\n",
    "                    cnames.append(cname)\n",
    "                    return dns_resolver_3(cname, rdtype, cnames)\n",
    "            break\n",
    "        except Exception as e:\n",
    "            print(e)   # print('Oops! Some error, start from a new root server.', e)"
   ]
  },
  {
   "cell_type": "code",
   "execution_count": 41,
   "metadata": {},
   "outputs": [
    {
     "name": "stdout",
     "output_type": "stream",
     "text": [
      "single iterate:  www.cnn.com A 198.41.0.4\n",
      "single iterate:  www.cnn.com A 192.12.94.30\n",
      "single iterate:  www.cnn.com A 205.251.192.47\n",
      "single iterate:  turner-tls.map.fastly.net. A 198.41.0.4\n",
      "single iterate:  turner-tls.map.fastly.net. A 192.12.94.30\n",
      "single iterate:  turner-tls.map.fastly.net. A 23.235.32.32\n",
      "\n",
      "\n",
      "QUESTION SECTION:\n",
      "www.cnn.com.                           IN   A    \n",
      "\n",
      "ANSWER SECTION:\n",
      "www.cnn.com.                     30    IN   CNAME  turner-tls.map.fastly.net.\n",
      "turner-tls.map.fastly.net.       30    IN   A      151.101.21.67\n",
      "\n",
      "Query time: 347 msec\n",
      "WHEN: Mon Feb 19 07:49:11 2018\n",
      "MSG SIZE rcvd:  142 \n",
      "\n"
     ]
    }
   ],
   "source": [
    "# non-cache version\n",
    "\n",
    "hostname = 'www.cnn.com'\n",
    "rdtype = 'A'\n",
    "cnames = []\n",
    "\n",
    "start = time.time()\n",
    "\n",
    "myresponse = dns_resolver_3(hostname, rdtype, cnames)\n",
    "\n",
    "elapsed = time.time() - start\n",
    "\n",
    "output(hostname, rdtype, myresponse, elapsed, cnames)"
   ]
  },
  {
   "cell_type": "code",
   "execution_count": null,
   "metadata": {
    "collapsed": true
   },
   "outputs": [],
   "source": [
    "# cache version\n",
    "\n",
    "hostname = 'www.google.com'\n",
    "rdtype = 'A'\n",
    "cnames = []\n",
    "\n",
    "start = time.time()\n",
    "\n",
    "if cache.get(hostname + ' ' + rdtype):\n",
    "    string = cache[hostname + ' ' + rdtype]\n",
    "    elapsed = time.time() - start\n",
    "    output_cache(string, elapsed)\n",
    "else:\n",
    "    myresponse = dns_resolver_3(hostname, rdtype, cnames)\n",
    "    elapsed = time.time() - start\n",
    "    output(hostname, rdtype, myresponse, elapsed, cnames)"
   ]
  },
  {
   "cell_type": "code",
   "execution_count": null,
   "metadata": {
    "collapsed": true
   },
   "outputs": [],
   "source": [
    "cache.clear()"
   ]
  },
  {
   "cell_type": "code",
   "execution_count": null,
   "metadata": {
    "collapsed": true
   },
   "outputs": [],
   "source": [
    "for key, value in cache.items():\n",
    "    print(key)\n",
    "    print('\\n')"
   ]
  },
  {
   "cell_type": "markdown",
   "metadata": {
    "collapsed": true
   },
   "source": [
    "# DNSSEC"
   ]
  },
  {
   "cell_type": "code",
   "execution_count": 61,
   "metadata": {
    "collapsed": true
   },
   "outputs": [],
   "source": [
    "trust_anchors = [\n",
    "    # KSK-2017:\n",
    "    dns.rrset.from_text('.', 1    , 'IN', 'DNSKEY', '257 3 8 AwEAAaz/tAm8yTn4Mfeh5eyI96WSVexTBAvkMgJzkKTOiW1vkIbzxeF3+/4RgWOq7HrxRixHlFlExOLAJr5emLvN7SWXgnLh4+B5xQlNVz8Og8kvArMtNROxVQuCaSnIDdD5LKyWbRd2n9WGe2R8PzgCmr3EgVLrjyBxWezF0jLHwVN8efS3rCj/EWgvIWgb9tarpVUDK/b58Da+sqqls3eNbuv7pr+eoZG+SrDK6nWeL3c6H5Apxz7LjVc1uTIdsIXxuOLYA4/ilBmSVIzuDWfdRUfhHdY6+cn8HFRm+2hM8AnXGXws9555KrUB5qihylGa8subX2Nn6UwNR1AkUTV74bU='),\n",
    "    # KSK-2010:\n",
    "    dns.rrset.from_text('.', 15202, 'IN', 'DNSKEY', '257 3 8 AwEAAagAIKlVZrpC6Ia7gEzahOR+9W29euxhJhVVLOyQbSEW0O8gcCjF FVQUTf6v58fLjwBd0YI0EzrAcQqBGCzh/RStIoO8g0NfnfL2MTJRkxoX bfDaUeVPQuYEhg37NZWAJQ9VnMVDxP/VHL496M/QZxkjf5/Efucp2gaD X6RS6CXpoY68LsvPVjR0ZSwzz1apAzvN9dlzEheX7ICJBBtuA6G3LQpz W5hOA2hzCTMjJPJ8LbqF6dsV6DoBQzgul0sGIcGOYl7OyQdXfZ57relS Qageu+ipAdTTJ25AsRTAoub8ONGcLmqrAmRLKBP1dfwhYB4N7knNnulq QxA+Uk1ihz0='),\n",
    "]"
   ]
  },
  {
   "cell_type": "code",
   "execution_count": 62,
   "metadata": {
    "collapsed": true
   },
   "outputs": [],
   "source": [
    "rdtype_dic = {\n",
    "    'A': 1      ,\n",
    "    'NS':2      ,\n",
    "    'DS':43     ,\n",
    "    'RRSIG': 46 ,\n",
    "    'DNSKEY':48 ,\n",
    "}"
   ]
  },
  {
   "cell_type": "code",
   "execution_count": 63,
   "metadata": {
    "collapsed": true
   },
   "outputs": [],
   "source": [
    "def get_anchor(year):\n",
    "    ''' There are two anchors, get one of the anchors\n",
    "    \n",
    "    Args:\n",
    "        year (int): 2017 or 2010\n",
    "        \n",
    "    Return:\n",
    "        trusted root key singing key (str)\n",
    "    '''\n",
    "    if year == 2017:\n",
    "        return trust_anchors[0].items[0].to_text()\n",
    "    elif year == 2010:\n",
    "        return trust_anchors[1].items[0].to_text()\n",
    "    else:\n",
    "        raise Exception('Parameter is neither 2017 nor 2010')"
   ]
  },
  {
   "cell_type": "code",
   "execution_count": 64,
   "metadata": {
    "collapsed": true
   },
   "outputs": [],
   "source": [
    "def get_pubksk(response):\n",
    "    '''Get public key signing key from response\n",
    "    \n",
    "    Args:\n",
    "        response (dns.message.Message) that contains DNSKEY information\n",
    "        \n",
    "    Return:\n",
    "        a (dns.rdtypes.ANY.DNSKEY.DNSKEY) that contains public key signing key\n",
    "    '''\n",
    "    dnskey, rrsig_key, name_key = get_rrset(response, 'DNSKEY')\n",
    "    for item in dnskey:\n",
    "        if item.flags == 257:\n",
    "            return item"
   ]
  },
  {
   "cell_type": "code",
   "execution_count": 65,
   "metadata": {
    "collapsed": true
   },
   "outputs": [],
   "source": [
    "def get_trust_ds(response):\n",
    "    '''Get trust ds digest from parent's response\n",
    "    \n",
    "    Args:\n",
    "        response (dns.message.Message) from parent that contains child's DS information\n",
    "        \n",
    "    Return:\n",
    "        trusted ds digest from parent (dns.rdtypes.ANY.DS.DS), and its name (dns.name.Name)\n",
    "    '''\n",
    "    ds, rrsig_ds, name_ds = get_rrset(response, 'DS')\n",
    "    return ds.items[0], name_ds"
   ]
  },
  {
   "cell_type": "code",
   "execution_count": 66,
   "metadata": {
    "collapsed": true
   },
   "outputs": [],
   "source": [
    "def check_ds_exist(response):\n",
    "    '''Check whether DS record exist in the response\n",
    "    \n",
    "    Args:\n",
    "        response (dns.message.Message): a response\n",
    "        \n",
    "    Return:\n",
    "        (bool) True or False\n",
    "    '''\n",
    "    flag = False\n",
    "    for rrset in response.authority:\n",
    "        if rrset.rdtype == rdtype_dic['DS']:\n",
    "            flag = True\n",
    "            break\n",
    "    return flag"
   ]
  },
  {
   "cell_type": "code",
   "execution_count": 42,
   "metadata": {
    "collapsed": true
   },
   "outputs": [],
   "source": [
    "def get_rrset(response, rdtype):\n",
    "    '''Get the desired rrset (DNSKEY, DS, A, NS), RRSIG and name from the response, their RRSIG\n",
    "    \n",
    "    Args:\n",
    "        response (dns.message.Message): a response of a single iterative DNS query\n",
    "        rdtype (str): rrset type\n",
    "        \n",
    "    Return:\n",
    "        (rrset, rrsig, name) of desired rdtype\n",
    "    '''\n",
    "    try:\n",
    "        if rdtype == 'DNSKEY' or rdtype == 'A':\n",
    "            dnskey_or_a, rrsig, name = '', '', ''\n",
    "            for rrset in response.answer:      # from observation, DNSKEY and A record is in ANSWER section\n",
    "                if rrset.rdtype == rdtype_dic['RRSIG']:\n",
    "                    rrsig = rrset\n",
    "                else:   # rrset.rdtype == rdtype_dic['DNSKEY'] or ['A']:\n",
    "                    dnskey_or_a = rrset\n",
    "                    name = rrset.name\n",
    "            return dnskey_or_a, rrsig, name\n",
    "        if rdtype == 'DS' or rdtype == 'NS':\n",
    "            ds_or_ns, rrsig, name = '', '', ''\n",
    "            for rrset in response.authority:   # from observation, DS and NS record is in AUTHORITY section\n",
    "                if rrset.rdtype == rdtype_dic['RRSIG']:\n",
    "                    rrsig = rrset\n",
    "                else:\n",
    "                    ds_or_ns = rrset\n",
    "                    name = rrset.name\n",
    "            return ds_or_ns, rrsig, name\n",
    "    except Exception as e:\n",
    "        print('Oops! Bug in get_rrset')\n",
    "        raise e  "
   ]
  },
  {
   "cell_type": "code",
   "execution_count": 74,
   "metadata": {},
   "outputs": [],
   "source": [
    "def verify_dnskey(response):\n",
    "    '''Verify the dnskey in response. If success, return name_key and dnskey\n",
    "    \n",
    "    Args:\n",
    "        response (dns.message.Message): a response that contains DNSKEY record\n",
    "        \n",
    "    Return:\n",
    "        (name, dnskey) if success\n",
    "    '''\n",
    "    try:\n",
    "        dnskey, rrsig_key, name_key = get_rrset(response, 'DNSKEY')\n",
    "        dns.dnssec.validate(dnskey, rrsig_key, {name_key:dnskey})\n",
    "    except Exception as e:\n",
    "        raise e\n",
    "    else:\n",
    "        print('Congrats!',name_key, 'DNSKEYs are good')\n",
    "        return name_key, dnskey"
   ]
  },
  {
   "cell_type": "code",
   "execution_count": 72,
   "metadata": {
    "collapsed": true
   },
   "outputs": [],
   "source": [
    "def verify_ds(response, name_key, dnskey):\n",
    "    '''Verify the ds in the response.\n",
    "    \n",
    "    Args:\n",
    "        response (dns.message.Message): a response that contains DS record\n",
    "        name_key (dns.name.Name): name of zone that contains the DNSKEY\n",
    "        dnskey (dns.rrset.RRset): rrset that contains public zone signing key\n",
    "    '''\n",
    "    try:\n",
    "        ds, rrsig_ds, name_ds = get_rrset(response, 'DS')\n",
    "        dns.dnssec.validate(ds, rrsig_ds, {name_key:dnskey})\n",
    "    except Exception as e:\n",
    "        raise e\n",
    "    else:\n",
    "        print('Congrats!',name_ds, 'DS is good~')"
   ]
  },
  {
   "cell_type": "code",
   "execution_count": 45,
   "metadata": {
    "collapsed": true
   },
   "outputs": [],
   "source": [
    "def verify_a(response, name_key, dnskey):\n",
    "    '''Verify the A record in the response.\n",
    "    \n",
    "    Args:\n",
    "        response (dns.message.Message): a response that contains A record\n",
    "        name_key (dns.name.Name): name of zone that contains the DNSKEY\n",
    "        dnskey (dns.rrset.RRset): rrset that contains public zone signing key\n",
    "    '''\n",
    "    try:\n",
    "        a, rrsig_a, name_a = get_rrset(response, 'A')\n",
    "        dns.dnssec.validate(a, rrsig_a, {name_key:dnskey})\n",
    "    except Exception as e:\n",
    "        raise e\n",
    "    else:\n",
    "        print('Congrats! A records are good~')"
   ]
  },
  {
   "cell_type": "code",
   "execution_count": 46,
   "metadata": {
    "collapsed": true
   },
   "outputs": [],
   "source": [
    "def verify_ns(response, name_key, dnskey):\n",
    "    '''Verify the NS record in the response.\n",
    "    \n",
    "    Args:\n",
    "        response (dns.message.Message): a response that contains NS record\n",
    "        name_key (dns.name.Name): name of zone that contains the DNSKEY\n",
    "        dnskey (dns.rrset.RRset): rrset that contains public zone signing key\n",
    "    '''\n",
    "    try:\n",
    "        ns, rrsig_ns, name_ns = get_rrset(response, 'NS')\n",
    "        dns.dnssec.validate(ns, rrsig_ns, {name_key:dnskey})\n",
    "    except Exception as e:\n",
    "        print('Oops! Validation failure:', e)\n",
    "    else:\n",
    "        print('Congrats! NS records are good~')"
   ]
  },
  {
   "cell_type": "code",
   "execution_count": 70,
   "metadata": {
    "collapsed": true
   },
   "outputs": [],
   "source": [
    "def verify_root(dnskeys):\n",
    "    '''Verify the root by comparing the pubksk in the response and the trusted pubksk\n",
    "    \n",
    "    Args:\n",
    "        dnskey (dns.rrset.RRset)\n",
    "    '''\n",
    "    for dnskey in dnskeys:\n",
    "        if dnskey.flags == 257:\n",
    "            if dnskey.to_text() == get_anchor(2017):\n",
    "                continue\n",
    "            elif dnskey.to_text() == get_anchor(2010):\n",
    "                continue\n",
    "            else:\n",
    "                raise Exception('Does not match trusted pubksk')\n",
    "    else:\n",
    "        print('Congrats! Root verified')"
   ]
  },
  {
   "cell_type": "code",
   "execution_count": 174,
   "metadata": {},
   "outputs": [],
   "source": [
    "def verify_zone(response, response_parent):\n",
    "    '''Verify the zone: do a hash on the zone's public key signing key, then see if equals to the DS in parent\n",
    "    \n",
    "    Args:\n",
    "        response (dns.message.Message): a response that contains pubksk to verify\n",
    "        response_parent (dns.message.Message): a parent response that has the trusted DS\n",
    "    '''\n",
    "    trust_ds, name = get_trust_ds(response_parent)\n",
    "    algorithm = 'SHA256' if trust_ds.digest_type ==2 else 'SHA1'\n",
    "    pubksk = get_pubksk(response)\n",
    "    ds = dns.dnssec.make_ds(name, pubksk, algorithm)\n",
    "    \n",
    "    if ds != trust_ds:\n",
    "        raise Exception('Sorry! None of the 2 public key signing keys of {} can be verified by its DS in parent\\'s zone!'.format(name.to_text()))\n",
    "    print('Congrads! Zone', name, 'verified')"
   ]
  },
  {
   "cell_type": "code",
   "execution_count": 49,
   "metadata": {
    "collapsed": true
   },
   "outputs": [],
   "source": [
    "def get_name_from_response(response):\n",
    "    '''Get the next name(zone) in the dns query chain\n",
    "    \n",
    "    Args:\n",
    "        response (dns.message.Message): a response that contains the next name or zone in the query chain\n",
    "        \n",
    "    Return:\n",
    "        (str): next name\n",
    "    '''\n",
    "    name = ''\n",
    "    try:\n",
    "        rrset = response.authority[0]\n",
    "        name = rrset.name.to_text()\n",
    "    except Exception as e:\n",
    "        raise e\n",
    "    else:\n",
    "        return name"
   ]
  },
  {
   "cell_type": "code",
   "execution_count": 50,
   "metadata": {
    "collapsed": true
   },
   "outputs": [],
   "source": [
    "def print_response(response):\n",
    "    '''Print the response's answer, authority, and additional\n",
    "    \n",
    "    Args:\n",
    "        response (dns.message.Message): a response of a single iterative DNS query\n",
    "    '''\n",
    "    print('\\n', 'QUESTION:')\n",
    "    for i in response.question:\n",
    "        print(i.to_text())\n",
    "    \n",
    "    print('\\n', 'ANSWER:')\n",
    "    for i in response.answer:\n",
    "        print(i.to_text())\n",
    "    \n",
    "    print('\\n', 'AUTHORITY:')\n",
    "    for i in response.authority:\n",
    "        print(i.to_text())\n",
    "        \n",
    "    print('\\n', 'ADDITIONAL:')\n",
    "    for i in response.additional:\n",
    "        print(i.to_text())"
   ]
  },
  {
   "cell_type": "code",
   "execution_count": 107,
   "metadata": {
    "collapsed": true
   },
   "outputs": [],
   "source": [
    "def verify_org_dnskey(ip):\n",
    "    '''Zone org. has to query dnskey and rrsig separately. \n",
    "       There are 4 DNSKEYs for org, but you can not get all 4 of them in a single query.\n",
    "       You have to query multiple times and union them until you get all the four. Shit!!!\n",
    "    \n",
    "    Args:\n",
    "        ip (str): one ip of an org name server\n",
    "        \n",
    "    Return:\n",
    "        (dnskey, name) if success\n",
    "    '''\n",
    "    dnskey_org = None\n",
    "    name_org = None\n",
    "    query_org = dns.message.make_query('org.', 'DNSKEY')\n",
    "    response_org = dns.query.udp(query_org, ip)\n",
    "    while len(response_org.answer) == 0:\n",
    "        response_org = dns.query.udp(query_org, ip)\n",
    "    dnskey_org = response_org.answer[0]\n",
    "    name_org = dnskey_org.name\n",
    "    while len(dnskey_org) != 4:\n",
    "        query_org = dns.message.make_query('org.', 'DNSKEY')\n",
    "        response_org = dns.query.udp(query_org, ip)\n",
    "        try:\n",
    "            dnskey_org.union_update(response_org.answer[0])\n",
    "        except:\n",
    "            pass\n",
    "    \n",
    "    rrsig_dnskey_org = None\n",
    "    query_org = dns.message.make_query('org.', 'RRSIG')\n",
    "    response_org = dns.query.udp(query_org, ip)\n",
    "    while len(response_org.answer) == 0:\n",
    "        response_org = dns.query.udp(query_org, ip)\n",
    "    rrsig_dnskey_org = response_org.answer[0]\n",
    "    \n",
    "    try:\n",
    "        dns.dnssec.validate(dnskey_org, rrsig_dnskey_org, {name_org:dnskey_org})\n",
    "    except Exception as e:\n",
    "        raise e\n",
    "    else:\n",
    "        print('Congrats!', name_org, 'DNSKEYs are good~')\n",
    "        return name_org, dnskey_org"
   ]
  },
  {
   "cell_type": "code",
   "execution_count": 135,
   "metadata": {
    "collapsed": true
   },
   "outputs": [],
   "source": [
    "def verify_org_zone(dnskey_org, response_parent):\n",
    "    '''Verify the zone: do a hash on the zone's public key signing key, then see if equals to the DS in parent\n",
    "    \n",
    "    Args:\n",
    "        response (dns.message.Message): a response that contains pubksk to verify\n",
    "        response_parent (dns.message.Message): a parent response that has the trusted DS\n",
    "    '''\n",
    "    trust_ds, name = get_trust_ds(response_parent)\n",
    "    algorithm = 'SHA256' if trust_ds.digest_type ==2 else 'SHA1'\n",
    "    \n",
    "    dnskey_backup = dnskey_org\n",
    "    \n",
    "    for dnskey in dnskey_backup:\n",
    "        if dnskey.flags == 256:\n",
    "            dnskey_org.remove(dnskey)   # remove the public zone signing keys, so the public key signing keys are left\n",
    "    \n",
    "    ds2 = dns.dnssec.make_ds(name, dnskey_org.items[0], algorithm)\n",
    "    ds1 = dns.dnssec.make_ds(name, dnskey_org.items[1], algorithm)\n",
    "    if (ds1 == trust_ds or ds2 == trust_ds) == 0:\n",
    "        raise Exception('DS does not match!', name)\n",
    "    print('Congrads! Zone', name, 'verified')"
   ]
  },
  {
   "cell_type": "code",
   "execution_count": 53,
   "metadata": {
    "collapsed": true
   },
   "outputs": [],
   "source": [
    "class Flag(Enum):\n",
    "    NO_ANSWER = 0\n",
    "    HAVE_ANSWER = 1\n",
    "    NO_DNSSEC = 2\n",
    "    VERIFY_FAIL = 3"
   ]
  },
  {
   "cell_type": "code",
   "execution_count": 185,
   "metadata": {
    "collapsed": true
   },
   "outputs": [],
   "source": [
    "def dns_resolver_sec(hostname, rdtype, cnames):\n",
    "    ''' My DNS resolver version sec\n",
    "    \n",
    "    Args:\n",
    "        hostname (str): target hostname\n",
    "        rdtype (str):   type A, NS, or MX\n",
    "        cnames (list):  a list of CNAMES during a dns query\n",
    "        parent_response (dns.message.Message): a parent response that contains child's DS rrset\n",
    "    Return:\n",
    "        response (dns.message.Message): response of this dns query\n",
    "    '''\n",
    "    for root in root_servers.values():\n",
    "        try:\n",
    "            response = single_iterate(hostname, rdtype, root, timeout=0.5, dnssec=True)\n",
    "            response_dnskey = single_iterate('.', 'DNSKEY', root, timeout=0.5, dnssec=True)\n",
    "            name_key, dnskey = verify_dnskey(response_dnskey)\n",
    "            verify_ds(response, name_key, dnskey)\n",
    "            verify_root(dnskey)\n",
    "            response2 = None\n",
    "            response_dnskey2 = None\n",
    "            if len(response.additional) == 0:\n",
    "                continue                           # root doesn't have top level domain information\n",
    "            flag = Flag.NO_ANSWER            # flag traces whether ANSWER section is empty or not\n",
    "            while flag == Flag.NO_ANSWER:                            \n",
    "                if len(response.additional) > 0:   # use the IP in ADDITIONAL section\n",
    "                    nextname = get_name_from_response(response)\n",
    "                    for rrset in response.additional:\n",
    "                        next_ip = get_ip_from_rrset(rrset)\n",
    "                        try:\n",
    "                            response2 = single_iterate(hostname, rdtype, next_ip, timeout=0.5, dnssec=True)\n",
    "                            response_dnskey2 = single_iterate(nextname, 'DNSKEY', next_ip, timeout=0.5, dnssec=True)\n",
    "\n",
    "                            if len(response2.answer) != 0:\n",
    "                                flag = Flag.HAVE_ANSWER\n",
    "                                break\n",
    "                            if check_ds_exist(response2) == False:\n",
    "                                flag = Flag.NO_DNSSEC\n",
    "                                break\n",
    "                            if nextname == 'org.': # for org. zone, when dnssec=True, DNSKEY response is empty\n",
    "                                name_key, dnskey = verify_org_dnskey(next_ip) # so I wrote special functions for org.\n",
    "                                verify_ds(response2, name_key, dnskey)\n",
    "                                verify_org_zone(dnskey, response)\n",
    "                            else:\n",
    "                                name_key, dnskey = verify_dnskey(response_dnskey2)\n",
    "                                verify_ds(response2, name_key, dnskey)\n",
    "                                verify_zone(response_dnskey2, response)\n",
    "                            \n",
    "                            response = response2\n",
    "                            response_dnskey = response_dnskey2\n",
    "                            break\n",
    "                        except Exception as e:\n",
    "                            pass  #print('Oops!', e)\n",
    "                else:             # if both ANSWER and ADDITIONAL is empty, then find the IP of AUTHORITY  \n",
    "                    ns = get_ns_from_authority(response)\n",
    "                    if check_hostname(ns):\n",
    "                        response2 = dns_resolver_3(ns, 'A', cnames)\n",
    "                        authority_answer = response2.answer[0]\n",
    "                        response.additional.append(authority_answer)  # add rrset that contains IP of a AUTHORITY to response\n",
    "                    else:\n",
    "                         return response   # hostname in AUTHORITY is not valid\n",
    "            if flag == Flag.NO_DNSSEC:\n",
    "                return flag, response2\n",
    "            \n",
    "            if check_response(response2, rdtype):  # ip is in the response\n",
    "                try:\n",
    "                    name_key, dnskey = verify_dnskey(response_dnskey2)\n",
    "                    verify_a(response2, name_key, dnskey)\n",
    "                    verify_zone(response_dnskey2, response)\n",
    "                except Exception as e:\n",
    "                    print(e)\n",
    "                    flag = Flag.VERIFY_FAIL\n",
    "                    return flag, response2\n",
    "                else:\n",
    "                    return flag, response2\n",
    "            else:                         # CNAME is in the response\n",
    "                for rrset in response.answer:\n",
    "                    cname = get_cname_from_rrset(rrset)\n",
    "                    cnames.append(cname)\n",
    "                    return dns_resolver_sec(cname, rdtype, cnames)\n",
    "            break\n",
    "        except Exception as e:\n",
    "            print(e)"
   ]
  },
  {
   "cell_type": "code",
   "execution_count": 121,
   "metadata": {},
   "outputs": [
    {
     "data": {
      "text/plain": [
       "6"
      ]
     },
     "execution_count": 121,
     "metadata": {},
     "output_type": "execute_result"
    }
   ],
   "source": [
    "ipaddress.ip_address('2001:500:f::1').version"
   ]
  },
  {
   "cell_type": "code",
   "execution_count": 122,
   "metadata": {},
   "outputs": [
    {
     "data": {
      "text/plain": [
       "4"
      ]
     },
     "execution_count": 122,
     "metadata": {},
     "output_type": "execute_result"
    }
   ],
   "source": [
    "ipaddress.ip_address('198.41.0.4').version"
   ]
  },
  {
   "cell_type": "code",
   "execution_count": 193,
   "metadata": {},
   "outputs": [
    {
     "name": "stdout",
     "output_type": "stream",
     "text": [
      "Congrats! . DNSKEYs are good\n",
      "Congrats! org. DS is good~\n",
      "Congrats! Root verified\n",
      "Congrats! org. DNSKEYs are good~\n",
      "Congrats! dnssec-failed.org. DS is good~\n",
      "Congrads! Zone org. verified\n",
      "Congrats! dnssec-failed.org. DNSKEYs are good\n",
      "Congrats! A records are good~\n",
      "Sorry! None of the 2 public key signing keys of dnssec-failed.org. can be verified by its DS in parent's zone!\n",
      "\n",
      "Query time: 782 msec\n",
      "WHEN: Mon Feb 19 09:12:52 2018\n",
      "\n",
      "\n",
      "DNSSec Verification failed\n"
     ]
    }
   ],
   "source": [
    "hostname = 'dnssec-failed.org'\n",
    "#hostname = 'paypal.com'\n",
    "#hostname = 'cnn.com'\n",
    "rdtype = 'A'\n",
    "cnames = []\n",
    "\n",
    "start = time.time()\n",
    "\n",
    "flag, myresponse = dns_resolver_sec(hostname, rdtype, cnames)\n",
    "\n",
    "elapsed = time.time() - start\n",
    "\n",
    "if flag == Flag.HAVE_ANSWER:\n",
    "    output_sec(hostname, rdtype, myresponse, elapsed, cnames)\n",
    "elif flag == Flag.NO_DNSSEC:\n",
    "    print('\\nQuery time: ' + str(int(elapsed * 1000)) + ' msec')\n",
    "    print('WHEN:', datetime.datetime.now().strftime(\"%a %b %d %H:%M:%S %Y\"))\n",
    "    print('\\n\\nDNSSEC not supported')\n",
    "elif flag == Flag.VERIFY_FAIL:\n",
    "    print('\\nQuery time: ' + str(int(elapsed * 1000)) + ' msec')\n",
    "    print('WHEN:', datetime.datetime.now().strftime(\"%a %b %d %H:%M:%S %Y\"))\n",
    "    print('\\n\\nDNSSec Verification failed')"
   ]
  },
  {
   "cell_type": "code",
   "execution_count": 188,
   "metadata": {},
   "outputs": [
    {
     "name": "stdout",
     "output_type": "stream",
     "text": [
      "Congrats! . DNSKEYs are good\n",
      "Congrats! com. DS is good~\n",
      "Congrats! Root verified\n",
      "Congrats! com. DNSKEYs are good\n",
      "Congrats! paypal.com. DS is good~\n",
      "Congrads! Zone com. verified\n",
      "Congrats! paypal.com. DNSKEYs are good\n",
      "Congrats! A records are good~\n",
      "Congrads! Zone paypal.com. verified\n",
      "\n",
      " QUESTION:\n",
      "paypal.com. IN A\n",
      "\n",
      " ANSWER:\n",
      "paypal.com. 300 IN A 64.4.250.33\n",
      "paypal.com. 300 IN A 64.4.250.32\n",
      "paypal.com. 300 IN RRSIG A 5 2 300 20180227181123 20180128174703 11811 paypal.com. zJ22XRBBNn7dQJRrmpuCxuVqe8M8iCiD oQhN8Yi2969m+HbzJnc/3vz4/s6/TCYB w01uS0vclejIXj3VxLd0a06LR183J8GZ 7fneqNOVxuxxaRLSQ9GR4/sIQb4SMOrf UOfSfefCI+B4GV/7FHKGRDZr5LGnBCV5 At4mS4OmsfY=\n",
      "\n",
      "\n",
      "Query time: 289 msec\n",
      "WHEN: Mon Feb 19 09:11:21 2018\n",
      "MSG SIZE rcvd:  900 \n",
      "\n"
     ]
    }
   ],
   "source": [
    "hostname = 'paypal.com'\n",
    "rdtype = 'A'\n",
    "cnames = []\n",
    "\n",
    "start = time.time()\n",
    "\n",
    "flag, myresponse = dns_resolver_sec(hostname, rdtype, cnames)\n",
    "\n",
    "elapsed = time.time() - start\n",
    "\n",
    "if flag == Flag.HAVE_ANSWER:\n",
    "    output_sec(hostname, rdtype, myresponse, elapsed, cnames)\n",
    "elif flag == Flag.NO_DNSSEC:\n",
    "    print('\\n\\nQuery time: ' + str(int(elapsed * 1000)) + ' msec')\n",
    "    print('WHEN:', datetime.datetime.now().strftime(\"%a %b %d %H:%M:%S %Y\"))\n",
    "    print('\\nDNSSEC not supported')\n",
    "elif flag == Flag.VERIFY_FAIL:\n",
    "    print('\\n\\nQuery time: ' + str(int(elapsed * 1000)) + ' msec')\n",
    "    print('WHEN:', datetime.datetime.now().strftime(\"%a %b %d %H:%M:%S %Y\"))\n",
    "    print('\\nDNSSec Verification failed')"
   ]
  },
  {
   "cell_type": "code",
   "execution_count": 194,
   "metadata": {},
   "outputs": [
    {
     "name": "stdout",
     "output_type": "stream",
     "text": [
      "Congrats! . DNSKEYs are good\n",
      "Congrats! com. DS is good~\n",
      "Congrats! Root verified\n",
      "\n",
      "Query time: 307 msec\n",
      "WHEN: Mon Feb 19 09:13:06 2018\n",
      "\n",
      "\n",
      "DNSSEC not supported\n"
     ]
    }
   ],
   "source": [
    "hostname = 'cnn.com'\n",
    "rdtype = 'A'\n",
    "cnames = []\n",
    "\n",
    "start = time.time()\n",
    "\n",
    "flag, myresponse = dns_resolver_sec(hostname, rdtype, cnames)\n",
    "\n",
    "elapsed = time.time() - start\n",
    "\n",
    "if flag == Flag.HAVE_ANSWER:\n",
    "    output_sec(hostname, rdtype, myresponse, elapsed, cnames)\n",
    "elif flag == Flag.NO_DNSSEC:\n",
    "    print('\\nQuery time: ' + str(int(elapsed * 1000)) + ' msec')\n",
    "    print('WHEN:', datetime.datetime.now().strftime(\"%a %b %d %H:%M:%S %Y\"))\n",
    "    print('\\n\\nDNSSEC not supported')\n",
    "elif flag == Flag.VERIFY_FAIL:\n",
    "    print('\\nQuery time: ' + str(int(elapsed * 1000)) + ' msec')\n",
    "    print('WHEN:', datetime.datetime.now().strftime(\"%a %b %d %H:%M:%S %Y\"))\n",
    "    print('\\n\\nDNSSec Verification failed')"
   ]
  },
  {
   "cell_type": "code",
   "execution_count": null,
   "metadata": {
    "collapsed": true
   },
   "outputs": [],
   "source": []
  }
 ],
 "metadata": {
  "kernelspec": {
   "display_name": "Python 3",
   "language": "python",
   "name": "python3"
  },
  "language_info": {
   "codemirror_mode": {
    "name": "ipython",
    "version": 3
   },
   "file_extension": ".py",
   "mimetype": "text/x-python",
   "name": "python",
   "nbconvert_exporter": "python",
   "pygments_lexer": "ipython3",
   "version": "3.6.3"
  }
 },
 "nbformat": 4,
 "nbformat_minor": 2
}
