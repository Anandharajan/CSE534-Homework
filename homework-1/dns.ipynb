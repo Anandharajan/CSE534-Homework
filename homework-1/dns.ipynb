{
 "cells": [
  {
   "cell_type": "code",
   "execution_count": 326,
   "metadata": {
    "collapsed": true
   },
   "outputs": [],
   "source": [
    "import dns.query\n",
    "import dns.message\n",
    "import re\n",
    "import ipaddress\n",
    "import time\n",
    "import datetime\n",
    "import random\n",
    "from enum import Enum\n",
    "import pandas as pd\n",
    "import matplotlib.pyplot as plt\n",
    "import numpy as np\n",
    "%matplotlib inline"
   ]
  },
  {
   "cell_type": "code",
   "execution_count": 3,
   "metadata": {
    "collapsed": true
   },
   "outputs": [],
   "source": [
    "cache = {}"
   ]
  },
  {
   "cell_type": "code",
   "execution_count": 4,
   "metadata": {
    "collapsed": true
   },
   "outputs": [],
   "source": [
    "root_servers = {}\n",
    "\n",
    "root_servers['a'] = '198.41.0.4'\n",
    "root_servers['b'] = '199.9.14.201'\n",
    "root_servers['c'] = '192.33.4.12'\n",
    "root_servers['d'] = '199.7.91.13'\n",
    "root_servers['e'] = '192.203.230.10'\n",
    "root_servers['f'] = '192.5.5.241'\n",
    "root_servers['g'] = '192.112.36.4'\n",
    "root_servers['h'] = '198.97.190.53'\n",
    "root_servers['i'] = '192.36.148.17'\n",
    "root_servers['j'] = '192.58.128.30'\n",
    "root_servers['k'] = '193.0.14.129'\n",
    "root_servers['l'] = '199.7.83.42'\n",
    "root_servers['n'] = '202.12.27.33'"
   ]
  },
  {
   "cell_type": "code",
   "execution_count": 5,
   "metadata": {
    "collapsed": true
   },
   "outputs": [],
   "source": [
    "def output(hostname, rdtype, myresponse, elapsed, cnames):\n",
    "    '''The output of the program\n",
    "    \n",
    "    Args:\n",
    "        hostname (str): host to be queried\n",
    "        rdtype (str): type A, NS, or MX\n",
    "        myresponse (dns.message.Message): reponse from the DNS query\n",
    "        elapsed (float): time elapsed\n",
    "        cnames (list): cnames during a dns query\n",
    "    '''\n",
    "    \n",
    "    answers = []\n",
    "    for rrset in myresponse.answer:\n",
    "        for item in rrset.items:\n",
    "            answers.append(item.to_text())\n",
    "            \n",
    "    hostname_ = hostname + '.'\n",
    "    \n",
    "    number = str(30)\n",
    "    for answer in answers:\n",
    "        re_number = '(\\d+)(.*)' + answers[0]\n",
    "        match = re.search(re_number, myresponse.to_text())\n",
    "        if match:\n",
    "            number = match.group(1)\n",
    "        number = str(number)\n",
    "        break\n",
    "    \n",
    "    \n",
    "    first_line = 'QUESTION SECTION:\\n'\n",
    "    second_line = hostname_.ljust(39) + 'IN'.ljust(5) + rdtype.ljust(5) + '\\n\\n'\n",
    "    third_line = 'ANSWER SECTION:\\n'\n",
    "    forth_line = ''\n",
    "    \n",
    "    if len(cnames) > 0:\n",
    "        left = hostname_\n",
    "        for cname in cnames:\n",
    "            forth_line = forth_line + left.ljust(33) + number.ljust(6) + 'IN'.ljust(5) + 'CNAME'.ljust(7) + cname + '\\n'\n",
    "            left = cname\n",
    "        for answer in answers:\n",
    "            forth_line = forth_line + left.ljust(33) + number.ljust(6) + 'IN'.ljust(5) + rdtype.ljust(7) + answer + '\\n'\n",
    "    else:    \n",
    "        for answer in answers:\n",
    "            forth_line = forth_line + hostname_.ljust(33) + number.ljust(6) + 'IN'.ljust(5) + rdtype.ljust(7) + answer + '\\n'\n",
    "    \n",
    "    string = first_line + second_line + third_line + forth_line\n",
    "    \n",
    "    print('\\n')\n",
    "    print(string)\n",
    "    \n",
    "    cache[hostname + ' ' + rdtype] = string  # insert into global cache\n",
    "    \n",
    "    msg_size = str(len(string.replace(' ', '')))\n",
    "    print('Query time: ' + str(int(elapsed * 1000)) + ' msec')\n",
    "    print('WHEN:', datetime.datetime.now().strftime(\"%a %b %d %H:%M:%S %Y\"))\n",
    "    print('MSG SIZE rcvd: ', msg_size, '\\n')"
   ]
  },
  {
   "cell_type": "code",
   "execution_count": 6,
   "metadata": {
    "collapsed": true
   },
   "outputs": [],
   "source": [
    "def output_sec(hostname, rdtype, response, elapsed, cnames):\n",
    "    '''The output of the program\n",
    "    \n",
    "    Args:\n",
    "        hostname (str): host to be queried\n",
    "        rdtype (str): type A, NS, or MX\n",
    "        myresponse (dns.message.Message): reponse from the DNS query\n",
    "        elapsed (float): time elapsed\n",
    "        cnames (list): cnames during a dns query\n",
    "    '''\n",
    "  \n",
    "    print('\\n', 'QUESTION:')\n",
    "    for i in response.question:\n",
    "        print(i.to_text())\n",
    "    \n",
    "    print('\\n', 'ANSWER:')\n",
    "    for i in response.answer:\n",
    "        print(i.to_text())\n",
    "        \n",
    "    print('\\n')\n",
    "    \n",
    "    msg_size = str(len(myresponse.to_text()))\n",
    "    print('Query time: ' + str(int(elapsed * 1000)) + ' msec')\n",
    "    print('WHEN:', datetime.datetime.now().strftime(\"%a %b %d %H:%M:%S %Y\"))\n",
    "    print('MSG SIZE rcvd: ', msg_size, '\\n')"
   ]
  },
  {
   "cell_type": "code",
   "execution_count": 7,
   "metadata": {
    "collapsed": true
   },
   "outputs": [],
   "source": [
    "def output_cache(string, elapsed):\n",
    "    print(string)\n",
    "    msg_size = len(string.replace(' ', ''))\n",
    "    print('Query time: ' + str(int(elapsed * 1000)) + ' msec')\n",
    "    print('WHEN:', datetime.datetime.now().strftime(\"%a %b %d %H:%M:%S %Y\"))\n",
    "    print('MSG SIZE rcvd: ', msg_size)"
   ]
  },
  {
   "cell_type": "code",
   "execution_count": 8,
   "metadata": {
    "collapsed": true
   },
   "outputs": [],
   "source": [
    "def get_cname_from_rrset(rrset):\n",
    "    '''Get CNAME from a RRset (from ANSWER section)\n",
    "    \n",
    "    Args:\n",
    "        rrset (A DNS RRset): contains an CNAME to be extracted\n",
    "        \n",
    "    Returns:\n",
    "        CNAME (str): the CNAME in the RRset\n",
    "    '''\n",
    "    try:\n",
    "        item = rrset.items[0]\n",
    "        return item.to_text()\n",
    "    except Exception as e:\n",
    "        print('Oops! Some issue with cname: ', e)"
   ]
  },
  {
   "cell_type": "code",
   "execution_count": 9,
   "metadata": {
    "collapsed": true
   },
   "outputs": [],
   "source": [
    "def get_ip_from_rrset(rrset):\n",
    "    ''' Get IP address from a RRset (from ADDITIONAL section)\n",
    "    \n",
    "    Args:\n",
    "        rrset (A DNS RRset ): contains an IP address to be extracted\n",
    "        \n",
    "    Return:\n",
    "        ip (str): the IP address in the RRset\n",
    "    '''\n",
    "    try:\n",
    "        item = rrset.items[0]\n",
    "        return item.to_text()\n",
    "    except Exception as e:\n",
    "        print('Oops! Some issue with ip: ', e)"
   ]
  },
  {
   "cell_type": "code",
   "execution_count": 10,
   "metadata": {
    "collapsed": true
   },
   "outputs": [],
   "source": [
    "def get_ns_from_authority(response):\n",
    "    '''Get a name server from AUTHORITY.\n",
    "    In some cases, there is no ADDITIONAL section, just AUTHORITY section!\n",
    "    \n",
    "    Args:\n",
    "        response (dns.message.Message)\n",
    "        \n",
    "    Return:\n",
    "        string: A name of ns server\n",
    "    '''\n",
    "    rrsets = response.authority[0].items\n",
    "    index = random.randint(0, len(rrsets)-1)\n",
    "    return rrsets[index].to_text()"
   ]
  },
  {
   "cell_type": "code",
   "execution_count": 11,
   "metadata": {
    "collapsed": true
   },
   "outputs": [],
   "source": [
    "def check_hostname(hostname):\n",
    "    '''Check whether a host is valid.\n",
    "    \n",
    "    Args:\n",
    "        hostname (str): a hostname\n",
    "        \n",
    "    Return:\n",
    "        True or False\n",
    "    '''\n",
    "    re_domain = '^(?=.{4,255}$)([a-zA-Z0-9][a-zA-Z0-9-]{,61}[a-zA-Z0-9]\\.)+[a-zA-Z0-9]{2,5}.$'\n",
    "    match = re.match(re_domain, hostname)\n",
    "    if match:\n",
    "        return True\n",
    "    else:\n",
    "        return False"
   ]
  },
  {
   "cell_type": "code",
   "execution_count": 169,
   "metadata": {
    "collapsed": true
   },
   "outputs": [],
   "source": [
    "def single_iterate(hostname, rdtype, where, timeout=1, dnssec=False):\n",
    "    ''' A single iterative DNS query\n",
    "    \n",
    "    Args:\n",
    "        hostname (str): host to be queried\n",
    "        rdtype (str): type A, NS, or MX\n",
    "        where (str):  IP address of query destination\n",
    "        dnssec (bool): whether use DNSSEC protocal or not\n",
    "    Return: \n",
    "        response (dns.message.Message): the response of a single query\n",
    "        \n",
    "    Exception:\n",
    "        May raise an exception\n",
    "    '''\n",
    "    a_query = dns.message.make_query(hostname, rdtype, want_dnssec=dnssec)\n",
    "    try:\n",
    "        #print('single iterate: ', hostname, rdtype, where)\n",
    "        response = dns.query.udp(a_query, where, timeout)\n",
    "        return response\n",
    "    except Exception as e:\n",
    "        raise e  # Let the block who call this function catch the exception"
   ]
  },
  {
   "cell_type": "code",
   "execution_count": 13,
   "metadata": {
    "collapsed": true
   },
   "outputs": [],
   "source": [
    "def check_response(response, rdtype):\n",
    "    '''Check whether the response has a valid IP address in its ANSWER section.\n",
    "    \n",
    "    Args:\n",
    "        response (dns.message.Message): the response of a single query\n",
    "        rdtype (str): type A=1, NS=2, CNAME=5, MX=15\n",
    "    \n",
    "    Return:\n",
    "        True or False\n",
    "    '''\n",
    "    try:\n",
    "        if rdtype == 'A':\n",
    "            ip = get_ip_from_rrset(response.answer[0])\n",
    "            ipaddress.ip_address(ip)\n",
    "            return True\n",
    "        elif rdtype == 'NS':                           # return NS when 'dig cnn.com NS'\n",
    "            answer_type = response.answer[0].rdtype    # return all the CNAMEs when 'dig www.cnn.com NS'\n",
    "            if answer_type == 2:\n",
    "                return True                            # if NS, then return the answer\n",
    "            elif answer_type == 5:\n",
    "                return False                           # if CNAME, then keep looking for its NS\n",
    "            else:\n",
    "                return False                           # not sure if this condtion exist\n",
    "        elif rdtype == 'MX':\n",
    "            answer_type = response.answer[0].rdtype    # if MX, then return the answer\n",
    "            if answer_type == 15:\n",
    "                return True\n",
    "            elif answer_type == 5:                     # if CNAME, then keep looking for its MX\n",
    "                return False\n",
    "            else:\n",
    "                return False                           # not sure if this condtion exist\n",
    "    except Exception as e:\n",
    "        return False            "
   ]
  },
  {
   "cell_type": "code",
   "execution_count": 14,
   "metadata": {
    "collapsed": true
   },
   "outputs": [],
   "source": [
    "def dns_resolver(hostname, rdtype):\n",
    "    ''' My DNS resolver version 0.1\n",
    "    \n",
    "    Args:\n",
    "        hostname (str): target hostname\n",
    "        rdtype (str):   type A, NS, or MX\n",
    "        cnames (list):  a list of CNAMES during a dns query\n",
    "        \n",
    "    Return:\n",
    "        response (dns.message.Message): response of this dns query\n",
    "    '''\n",
    "    for root in root_servers.values():\n",
    "        response = single_iterate(hostname, rdtype, root)\n",
    "        if len(response.additional) == 0:\n",
    "            continue                     # root doesn't have top level domain information\n",
    "        while(len(response.answer)==0):  # answer section is empty, then keep interating\n",
    "            for rrset in response.additional:\n",
    "                next_ip = get_ip_from_rrset(rrset)\n",
    "                response = single_iterate(hostname, rdtype, next_ip)\n",
    "                if len(response.answer)!=0 or len(response.additional)!=0: # if exist answer or exist additional, then the iterate is good\n",
    "                    break  # if both no answer and no additional, then iterate agian using another ip\n",
    "        if check_response(response): # ip is in the response\n",
    "            return response\n",
    "        else:                         # CNAME is in the response\n",
    "            for rrset in response.answer:\n",
    "                cname = get_cname_from_rrset(rrset)\n",
    "                print(cname)\n",
    "                return dns_resolver(cname, rdtype)"
   ]
  },
  {
   "cell_type": "code",
   "execution_count": 15,
   "metadata": {
    "collapsed": true
   },
   "outputs": [],
   "source": [
    "def dns_resolver_2(hostname, rdtype, cnames):\n",
    "    ''' My DNS resolver version 0.2\n",
    "    \n",
    "    Args:\n",
    "        hostname (str): target hostname\n",
    "        rdtype (str):   type A, NS, or MX\n",
    "        cnames (list):  a list of CNAMES during a dns query\n",
    "        \n",
    "    Return:\n",
    "        response (dns.message.Message): response of this dns query\n",
    "    '''\n",
    "    for root in root_servers.values():\n",
    "        try:\n",
    "            response = single_iterate(hostname, rdtype, root, timeout=1)\n",
    "            if len(response.additional) == 0:\n",
    "                continue                           # root doesn't have top level domain information\n",
    "            while(len(response.answer)==0 ):       # if ANSWER section is empty, then keep iterating\n",
    "                if len(response.additional) > 0:   # use the IP in ADDITIONAL section\n",
    "                    for rrset in response.additional:\n",
    "                        next_ip = get_ip_from_rrset(rrset)\n",
    "                        try:\n",
    "                            response2 = single_iterate(hostname, rdtype, next_ip, timeout=1)\n",
    "                            response = response2\n",
    "                            break\n",
    "                        except Exception as e:\n",
    "                            pass  # print('Oops! Authoratative server timeout, try next one. ', e)\n",
    "                else:             # if both ANSWER and ADDITIONAL is empty, then find the IP of AUTHORITY  \n",
    "                    ns = get_ns_from_authority(response)\n",
    "                    response2 = dns_resolver_2(ns, rdtype, cnames)\n",
    "                    authority_answer = response2.answer[0]\n",
    "                    response.additional.append(authority_answer)  # add rrset that contains IP of a AUTHORITY to response\n",
    "            if check_response(response):  # ip is in the response\n",
    "                return response\n",
    "            else:                         # CNAME is in the response\n",
    "                for rrset in response.answer:\n",
    "                    cname = get_cname_from_rrset(rrset)\n",
    "                    cnames.append(cname)\n",
    "                    return dns_resolver_2(cname, rdtype, cnames)\n",
    "            break\n",
    "        except Exception as e:\n",
    "            pass   # print('Oops! Some error, start from a new root server.', e)"
   ]
  },
  {
   "cell_type": "code",
   "execution_count": 31,
   "metadata": {
    "collapsed": true
   },
   "outputs": [],
   "source": [
    "def dns_resolver_3(hostname, rdtype, cnames):\n",
    "    ''' My DNS resolver version 0.3\n",
    "    \n",
    "    Args:\n",
    "        hostname (str): target hostname\n",
    "        rdtype (str):   type A, NS, or MX\n",
    "        cnames (list):  a list of CNAMES during a dns query\n",
    "        \n",
    "    Return:\n",
    "        response (dns.message.Message): response of this dns query\n",
    "    '''\n",
    "    for root in root_servers.values():\n",
    "        try:\n",
    "            print(hostname, rdtype, root)\n",
    "            response = single_iterate(hostname, rdtype, root, timeout=0.5)\n",
    "            if len(response.additional) == 0:\n",
    "                continue                           # root doesn't have top level domain information\n",
    "            while(len(response.answer)==0 ):       # if ANSWER section is empty, then keep iterating\n",
    "                if len(response.additional) > 0:   # use the IP in ADDITIONAL section\n",
    "                    for rrset in response.additional:\n",
    "                        next_ip = get_ip_from_rrset(rrset)\n",
    "                        try:\n",
    "                            response2 = single_iterate(hostname, rdtype, next_ip, timeout=0.5)\n",
    "                            response = response2\n",
    "                            break\n",
    "                        except Exception as e:\n",
    "                            pass  # print('Oops! Authoratative server timeout, try next one. ', e)\n",
    "                else:             # if both ANSWER and ADDITIONAL is empty, then find the IP of AUTHORITY  \n",
    "                    ns = get_ns_from_authority(response)\n",
    "                    if check_hostname(ns):\n",
    "                        response2 = dns_resolver_3(ns, 'A', cnames)\n",
    "                        authority_answer = response2.answer[0]\n",
    "                        response.additional.append(authority_answer)  # add rrset that contains IP of a AUTHORITY to response\n",
    "                    else:\n",
    "                         return response   # hostname in AUTHORITY is not valid\n",
    "            #print('check response-1')\n",
    "            if check_response(response, rdtype):  # ip is in the response\n",
    "                #print('check response-2')\n",
    "                return response\n",
    "            else:                         # CNAME is in the response\n",
    "                for rrset in response.answer:\n",
    "                    cname = get_cname_from_rrset(rrset)\n",
    "                    cnames.append(cname)\n",
    "                    return dns_resolver_3(cname, rdtype, cnames)\n",
    "            break\n",
    "        except Exception as e:\n",
    "            print(e)   # print('Oops! Some error, start from a new root server.', e)"
   ]
  },
  {
   "cell_type": "code",
   "execution_count": 41,
   "metadata": {},
   "outputs": [
    {
     "name": "stdout",
     "output_type": "stream",
     "text": [
      "single iterate:  www.cnn.com A 198.41.0.4\n",
      "single iterate:  www.cnn.com A 192.12.94.30\n",
      "single iterate:  www.cnn.com A 205.251.192.47\n",
      "single iterate:  turner-tls.map.fastly.net. A 198.41.0.4\n",
      "single iterate:  turner-tls.map.fastly.net. A 192.12.94.30\n",
      "single iterate:  turner-tls.map.fastly.net. A 23.235.32.32\n",
      "\n",
      "\n",
      "QUESTION SECTION:\n",
      "www.cnn.com.                           IN   A    \n",
      "\n",
      "ANSWER SECTION:\n",
      "www.cnn.com.                     30    IN   CNAME  turner-tls.map.fastly.net.\n",
      "turner-tls.map.fastly.net.       30    IN   A      151.101.21.67\n",
      "\n",
      "Query time: 347 msec\n",
      "WHEN: Mon Feb 19 07:49:11 2018\n",
      "MSG SIZE rcvd:  142 \n",
      "\n"
     ]
    }
   ],
   "source": [
    "# non-cache version\n",
    "\n",
    "hostname = 'www.cnn.com'\n",
    "rdtype = 'A'\n",
    "cnames = []\n",
    "\n",
    "start = time.time()\n",
    "\n",
    "myresponse = dns_resolver_3(hostname, rdtype, cnames)\n",
    "\n",
    "elapsed = time.time() - start\n",
    "\n",
    "output(hostname, rdtype, myresponse, elapsed, cnames)"
   ]
  },
  {
   "cell_type": "code",
   "execution_count": null,
   "metadata": {
    "collapsed": true
   },
   "outputs": [],
   "source": [
    "# cache version\n",
    "\n",
    "hostname = 'www.google.com'\n",
    "rdtype = 'A'\n",
    "cnames = []\n",
    "\n",
    "start = time.time()\n",
    "\n",
    "if cache.get(hostname + ' ' + rdtype):\n",
    "    string = cache[hostname + ' ' + rdtype]\n",
    "    elapsed = time.time() - start\n",
    "    output_cache(string, elapsed)\n",
    "else:\n",
    "    myresponse = dns_resolver_3(hostname, rdtype, cnames)\n",
    "    elapsed = time.time() - start\n",
    "    output(hostname, rdtype, myresponse, elapsed, cnames)"
   ]
  },
  {
   "cell_type": "code",
   "execution_count": null,
   "metadata": {
    "collapsed": true
   },
   "outputs": [],
   "source": [
    "cache.clear()"
   ]
  },
  {
   "cell_type": "code",
   "execution_count": null,
   "metadata": {
    "collapsed": true
   },
   "outputs": [],
   "source": [
    "for key, value in cache.items():\n",
    "    print(key)\n",
    "    print('\\n')"
   ]
  },
  {
   "cell_type": "markdown",
   "metadata": {
    "collapsed": true
   },
   "source": [
    "# DNSSEC"
   ]
  },
  {
   "cell_type": "code",
   "execution_count": 61,
   "metadata": {
    "collapsed": true
   },
   "outputs": [],
   "source": [
    "trust_anchors = [\n",
    "    # KSK-2017:\n",
    "    dns.rrset.from_text('.', 1    , 'IN', 'DNSKEY', '257 3 8 AwEAAaz/tAm8yTn4Mfeh5eyI96WSVexTBAvkMgJzkKTOiW1vkIbzxeF3+/4RgWOq7HrxRixHlFlExOLAJr5emLvN7SWXgnLh4+B5xQlNVz8Og8kvArMtNROxVQuCaSnIDdD5LKyWbRd2n9WGe2R8PzgCmr3EgVLrjyBxWezF0jLHwVN8efS3rCj/EWgvIWgb9tarpVUDK/b58Da+sqqls3eNbuv7pr+eoZG+SrDK6nWeL3c6H5Apxz7LjVc1uTIdsIXxuOLYA4/ilBmSVIzuDWfdRUfhHdY6+cn8HFRm+2hM8AnXGXws9555KrUB5qihylGa8subX2Nn6UwNR1AkUTV74bU='),\n",
    "    # KSK-2010:\n",
    "    dns.rrset.from_text('.', 15202, 'IN', 'DNSKEY', '257 3 8 AwEAAagAIKlVZrpC6Ia7gEzahOR+9W29euxhJhVVLOyQbSEW0O8gcCjF FVQUTf6v58fLjwBd0YI0EzrAcQqBGCzh/RStIoO8g0NfnfL2MTJRkxoX bfDaUeVPQuYEhg37NZWAJQ9VnMVDxP/VHL496M/QZxkjf5/Efucp2gaD X6RS6CXpoY68LsvPVjR0ZSwzz1apAzvN9dlzEheX7ICJBBtuA6G3LQpz W5hOA2hzCTMjJPJ8LbqF6dsV6DoBQzgul0sGIcGOYl7OyQdXfZ57relS Qageu+ipAdTTJ25AsRTAoub8ONGcLmqrAmRLKBP1dfwhYB4N7knNnulq QxA+Uk1ihz0='),\n",
    "]"
   ]
  },
  {
   "cell_type": "code",
   "execution_count": 62,
   "metadata": {
    "collapsed": true
   },
   "outputs": [],
   "source": [
    "rdtype_dic = {\n",
    "    'A': 1      ,\n",
    "    'NS':2      ,\n",
    "    'DS':43     ,\n",
    "    'RRSIG': 46 ,\n",
    "    'DNSKEY':48 ,\n",
    "}"
   ]
  },
  {
   "cell_type": "code",
   "execution_count": 63,
   "metadata": {
    "collapsed": true
   },
   "outputs": [],
   "source": [
    "def get_anchor(year):\n",
    "    ''' There are two anchors, get one of the anchors\n",
    "    \n",
    "    Args:\n",
    "        year (int): 2017 or 2010\n",
    "        \n",
    "    Return:\n",
    "        trusted root key singing key (str)\n",
    "    '''\n",
    "    if year == 2017:\n",
    "        return trust_anchors[0].items[0].to_text()\n",
    "    elif year == 2010:\n",
    "        return trust_anchors[1].items[0].to_text()\n",
    "    else:\n",
    "        raise Exception('Parameter is neither 2017 nor 2010')"
   ]
  },
  {
   "cell_type": "code",
   "execution_count": 64,
   "metadata": {
    "collapsed": true
   },
   "outputs": [],
   "source": [
    "def get_pubksk(response):\n",
    "    '''Get public key signing key from response\n",
    "    \n",
    "    Args:\n",
    "        response (dns.message.Message) that contains DNSKEY information\n",
    "        \n",
    "    Return:\n",
    "        a (dns.rdtypes.ANY.DNSKEY.DNSKEY) that contains public key signing key\n",
    "    '''\n",
    "    dnskey, rrsig_key, name_key = get_rrset(response, 'DNSKEY')\n",
    "    for item in dnskey:\n",
    "        if item.flags == 257:\n",
    "            return item"
   ]
  },
  {
   "cell_type": "code",
   "execution_count": 65,
   "metadata": {
    "collapsed": true
   },
   "outputs": [],
   "source": [
    "def get_trust_ds(response):\n",
    "    '''Get trust ds digest from parent's response\n",
    "    \n",
    "    Args:\n",
    "        response (dns.message.Message) from parent that contains child's DS information\n",
    "        \n",
    "    Return:\n",
    "        trusted ds digest from parent (dns.rdtypes.ANY.DS.DS), and its name (dns.name.Name)\n",
    "    '''\n",
    "    ds, rrsig_ds, name_ds = get_rrset(response, 'DS')\n",
    "    return ds.items[0], name_ds"
   ]
  },
  {
   "cell_type": "code",
   "execution_count": 66,
   "metadata": {
    "collapsed": true
   },
   "outputs": [],
   "source": [
    "def check_ds_exist(response):\n",
    "    '''Check whether DS record exist in the response\n",
    "    \n",
    "    Args:\n",
    "        response (dns.message.Message): a response\n",
    "        \n",
    "    Return:\n",
    "        (bool) True or False\n",
    "    '''\n",
    "    flag = False\n",
    "    for rrset in response.authority:\n",
    "        if rrset.rdtype == rdtype_dic['DS']:\n",
    "            flag = True\n",
    "            break\n",
    "    return flag"
   ]
  },
  {
   "cell_type": "code",
   "execution_count": 42,
   "metadata": {
    "collapsed": true
   },
   "outputs": [],
   "source": [
    "def get_rrset(response, rdtype):\n",
    "    '''Get the desired rrset (DNSKEY, DS, A, NS), RRSIG and name from the response, their RRSIG\n",
    "    \n",
    "    Args:\n",
    "        response (dns.message.Message): a response of a single iterative DNS query\n",
    "        rdtype (str): rrset type\n",
    "        \n",
    "    Return:\n",
    "        (rrset, rrsig, name) of desired rdtype\n",
    "    '''\n",
    "    try:\n",
    "        if rdtype == 'DNSKEY' or rdtype == 'A':\n",
    "            dnskey_or_a, rrsig, name = '', '', ''\n",
    "            for rrset in response.answer:      # from observation, DNSKEY and A record is in ANSWER section\n",
    "                if rrset.rdtype == rdtype_dic['RRSIG']:\n",
    "                    rrsig = rrset\n",
    "                else:   # rrset.rdtype == rdtype_dic['DNSKEY'] or ['A']:\n",
    "                    dnskey_or_a = rrset\n",
    "                    name = rrset.name\n",
    "            return dnskey_or_a, rrsig, name\n",
    "        if rdtype == 'DS' or rdtype == 'NS':\n",
    "            ds_or_ns, rrsig, name = '', '', ''\n",
    "            for rrset in response.authority:   # from observation, DS and NS record is in AUTHORITY section\n",
    "                if rrset.rdtype == rdtype_dic['RRSIG']:\n",
    "                    rrsig = rrset\n",
    "                else:\n",
    "                    ds_or_ns = rrset\n",
    "                    name = rrset.name\n",
    "            return ds_or_ns, rrsig, name\n",
    "    except Exception as e:\n",
    "        print('Oops! Bug in get_rrset')\n",
    "        raise e  "
   ]
  },
  {
   "cell_type": "code",
   "execution_count": 74,
   "metadata": {},
   "outputs": [],
   "source": [
    "def verify_dnskey(response):\n",
    "    '''Verify the dnskey in response. If success, return name_key and dnskey\n",
    "    \n",
    "    Args:\n",
    "        response (dns.message.Message): a response that contains DNSKEY record\n",
    "        \n",
    "    Return:\n",
    "        (name, dnskey) if success\n",
    "    '''\n",
    "    try:\n",
    "        dnskey, rrsig_key, name_key = get_rrset(response, 'DNSKEY')\n",
    "        dns.dnssec.validate(dnskey, rrsig_key, {name_key:dnskey})\n",
    "    except Exception as e:\n",
    "        raise e\n",
    "    else:\n",
    "        print('Congrats!',name_key, 'DNSKEYs are good')\n",
    "        return name_key, dnskey"
   ]
  },
  {
   "cell_type": "code",
   "execution_count": 72,
   "metadata": {
    "collapsed": true
   },
   "outputs": [],
   "source": [
    "def verify_ds(response, name_key, dnskey):\n",
    "    '''Verify the ds in the response.\n",
    "    \n",
    "    Args:\n",
    "        response (dns.message.Message): a response that contains DS record\n",
    "        name_key (dns.name.Name): name of zone that contains the DNSKEY\n",
    "        dnskey (dns.rrset.RRset): rrset that contains public zone signing key\n",
    "    '''\n",
    "    try:\n",
    "        ds, rrsig_ds, name_ds = get_rrset(response, 'DS')\n",
    "        dns.dnssec.validate(ds, rrsig_ds, {name_key:dnskey})\n",
    "    except Exception as e:\n",
    "        raise e\n",
    "    else:\n",
    "        print('Congrats!',name_ds, 'DS is good~')"
   ]
  },
  {
   "cell_type": "code",
   "execution_count": 45,
   "metadata": {
    "collapsed": true
   },
   "outputs": [],
   "source": [
    "def verify_a(response, name_key, dnskey):\n",
    "    '''Verify the A record in the response.\n",
    "    \n",
    "    Args:\n",
    "        response (dns.message.Message): a response that contains A record\n",
    "        name_key (dns.name.Name): name of zone that contains the DNSKEY\n",
    "        dnskey (dns.rrset.RRset): rrset that contains public zone signing key\n",
    "    '''\n",
    "    try:\n",
    "        a, rrsig_a, name_a = get_rrset(response, 'A')\n",
    "        dns.dnssec.validate(a, rrsig_a, {name_key:dnskey})\n",
    "    except Exception as e:\n",
    "        raise e\n",
    "    else:\n",
    "        print('Congrats! A records are good~')"
   ]
  },
  {
   "cell_type": "code",
   "execution_count": 46,
   "metadata": {
    "collapsed": true
   },
   "outputs": [],
   "source": [
    "def verify_ns(response, name_key, dnskey):\n",
    "    '''Verify the NS record in the response.\n",
    "    \n",
    "    Args:\n",
    "        response (dns.message.Message): a response that contains NS record\n",
    "        name_key (dns.name.Name): name of zone that contains the DNSKEY\n",
    "        dnskey (dns.rrset.RRset): rrset that contains public zone signing key\n",
    "    '''\n",
    "    try:\n",
    "        ns, rrsig_ns, name_ns = get_rrset(response, 'NS')\n",
    "        dns.dnssec.validate(ns, rrsig_ns, {name_key:dnskey})\n",
    "    except Exception as e:\n",
    "        print('Oops! Validation failure:', e)\n",
    "    else:\n",
    "        print('Congrats! NS records are good~')"
   ]
  },
  {
   "cell_type": "code",
   "execution_count": 70,
   "metadata": {
    "collapsed": true
   },
   "outputs": [],
   "source": [
    "def verify_root(dnskeys):\n",
    "    '''Verify the root by comparing the pubksk in the response and the trusted pubksk\n",
    "    \n",
    "    Args:\n",
    "        dnskey (dns.rrset.RRset)\n",
    "    '''\n",
    "    for dnskey in dnskeys:\n",
    "        if dnskey.flags == 257:\n",
    "            if dnskey.to_text() == get_anchor(2017):\n",
    "                continue\n",
    "            elif dnskey.to_text() == get_anchor(2010):\n",
    "                continue\n",
    "            else:\n",
    "                raise Exception('Does not match trusted pubksk')\n",
    "    else:\n",
    "        print('Congrats! Root verified')"
   ]
  },
  {
   "cell_type": "code",
   "execution_count": 174,
   "metadata": {},
   "outputs": [],
   "source": [
    "def verify_zone(response, response_parent):\n",
    "    '''Verify the zone: do a hash on the zone's public key signing key, then see if equals to the DS in parent\n",
    "    \n",
    "    Args:\n",
    "        response (dns.message.Message): a response that contains pubksk to verify\n",
    "        response_parent (dns.message.Message): a parent response that has the trusted DS\n",
    "    '''\n",
    "    trust_ds, name = get_trust_ds(response_parent)\n",
    "    algorithm = 'SHA256' if trust_ds.digest_type ==2 else 'SHA1'\n",
    "    pubksk = get_pubksk(response)\n",
    "    ds = dns.dnssec.make_ds(name, pubksk, algorithm)\n",
    "    \n",
    "    if ds != trust_ds:\n",
    "        raise Exception('Sorry! None of the 2 public key signing keys of {} can be verified by its DS in parent\\'s zone!'.format(name.to_text()))\n",
    "    print('Congrads! Zone', name, 'verified')"
   ]
  },
  {
   "cell_type": "code",
   "execution_count": 49,
   "metadata": {
    "collapsed": true
   },
   "outputs": [],
   "source": [
    "def get_name_from_response(response):\n",
    "    '''Get the next name(zone) in the dns query chain\n",
    "    \n",
    "    Args:\n",
    "        response (dns.message.Message): a response that contains the next name or zone in the query chain\n",
    "        \n",
    "    Return:\n",
    "        (str): next name\n",
    "    '''\n",
    "    name = ''\n",
    "    try:\n",
    "        rrset = response.authority[0]\n",
    "        name = rrset.name.to_text()\n",
    "    except Exception as e:\n",
    "        raise e\n",
    "    else:\n",
    "        return name"
   ]
  },
  {
   "cell_type": "code",
   "execution_count": 50,
   "metadata": {
    "collapsed": true
   },
   "outputs": [],
   "source": [
    "def print_response(response):\n",
    "    '''Print the response's answer, authority, and additional\n",
    "    \n",
    "    Args:\n",
    "        response (dns.message.Message): a response of a single iterative DNS query\n",
    "    '''\n",
    "    print('\\n', 'QUESTION:')\n",
    "    for i in response.question:\n",
    "        print(i.to_text())\n",
    "    \n",
    "    print('\\n', 'ANSWER:')\n",
    "    for i in response.answer:\n",
    "        print(i.to_text())\n",
    "    \n",
    "    print('\\n', 'AUTHORITY:')\n",
    "    for i in response.authority:\n",
    "        print(i.to_text())\n",
    "        \n",
    "    print('\\n', 'ADDITIONAL:')\n",
    "    for i in response.additional:\n",
    "        print(i.to_text())"
   ]
  },
  {
   "cell_type": "code",
   "execution_count": 107,
   "metadata": {
    "collapsed": true
   },
   "outputs": [],
   "source": [
    "def verify_org_dnskey(ip):\n",
    "    '''Zone org. has to query dnskey and rrsig separately. \n",
    "       There are 4 DNSKEYs for org, but you can not get all 4 of them in a single query.\n",
    "       You have to query multiple times and union them until you get all the four. Shit!!!\n",
    "    \n",
    "    Args:\n",
    "        ip (str): one ip of an org name server\n",
    "        \n",
    "    Return:\n",
    "        (dnskey, name) if success\n",
    "    '''\n",
    "    dnskey_org = None\n",
    "    name_org = None\n",
    "    query_org = dns.message.make_query('org.', 'DNSKEY')\n",
    "    response_org = dns.query.udp(query_org, ip)\n",
    "    while len(response_org.answer) == 0:\n",
    "        response_org = dns.query.udp(query_org, ip)\n",
    "    dnskey_org = response_org.answer[0]\n",
    "    name_org = dnskey_org.name\n",
    "    while len(dnskey_org) != 4:\n",
    "        query_org = dns.message.make_query('org.', 'DNSKEY')\n",
    "        response_org = dns.query.udp(query_org, ip)\n",
    "        try:\n",
    "            dnskey_org.union_update(response_org.answer[0])\n",
    "        except:\n",
    "            pass\n",
    "    \n",
    "    rrsig_dnskey_org = None\n",
    "    query_org = dns.message.make_query('org.', 'RRSIG')\n",
    "    response_org = dns.query.udp(query_org, ip)\n",
    "    while len(response_org.answer) == 0:\n",
    "        response_org = dns.query.udp(query_org, ip)\n",
    "    rrsig_dnskey_org = response_org.answer[0]\n",
    "    \n",
    "    try:\n",
    "        dns.dnssec.validate(dnskey_org, rrsig_dnskey_org, {name_org:dnskey_org})\n",
    "    except Exception as e:\n",
    "        raise e\n",
    "    else:\n",
    "        print('Congrats!', name_org, 'DNSKEYs are good~')\n",
    "        return name_org, dnskey_org"
   ]
  },
  {
   "cell_type": "code",
   "execution_count": 135,
   "metadata": {
    "collapsed": true
   },
   "outputs": [],
   "source": [
    "def verify_org_zone(dnskey_org, response_parent):\n",
    "    '''Verify the zone: do a hash on the zone's public key signing key, then see if equals to the DS in parent\n",
    "    \n",
    "    Args:\n",
    "        response (dns.message.Message): a response that contains pubksk to verify\n",
    "        response_parent (dns.message.Message): a parent response that has the trusted DS\n",
    "    '''\n",
    "    trust_ds, name = get_trust_ds(response_parent)\n",
    "    algorithm = 'SHA256' if trust_ds.digest_type ==2 else 'SHA1'\n",
    "    \n",
    "    dnskey_backup = dnskey_org\n",
    "    \n",
    "    for dnskey in dnskey_backup:\n",
    "        if dnskey.flags == 256:\n",
    "            dnskey_org.remove(dnskey)   # remove the public zone signing keys, so the public key signing keys are left\n",
    "    \n",
    "    ds2 = dns.dnssec.make_ds(name, dnskey_org.items[0], algorithm)\n",
    "    ds1 = dns.dnssec.make_ds(name, dnskey_org.items[1], algorithm)\n",
    "    if (ds1 == trust_ds or ds2 == trust_ds) == 0:\n",
    "        raise Exception('DS does not match!', name)\n",
    "    print('Congrads! Zone', name, 'verified')"
   ]
  },
  {
   "cell_type": "code",
   "execution_count": 53,
   "metadata": {
    "collapsed": true
   },
   "outputs": [],
   "source": [
    "class Flag(Enum):\n",
    "    NO_ANSWER = 0\n",
    "    HAVE_ANSWER = 1\n",
    "    NO_DNSSEC = 2\n",
    "    VERIFY_FAIL = 3"
   ]
  },
  {
   "cell_type": "code",
   "execution_count": 185,
   "metadata": {
    "collapsed": true
   },
   "outputs": [],
   "source": [
    "def dns_resolver_sec(hostname, rdtype, cnames):\n",
    "    ''' My DNS resolver version sec\n",
    "    \n",
    "    Args:\n",
    "        hostname (str): target hostname\n",
    "        rdtype (str):   type A, NS, or MX\n",
    "        cnames (list):  a list of CNAMES during a dns query\n",
    "        parent_response (dns.message.Message): a parent response that contains child's DS rrset\n",
    "    Return:\n",
    "        response (dns.message.Message): response of this dns query\n",
    "    '''\n",
    "    for root in root_servers.values():\n",
    "        try:\n",
    "            response = single_iterate(hostname, rdtype, root, timeout=0.5, dnssec=True)\n",
    "            response_dnskey = single_iterate('.', 'DNSKEY', root, timeout=0.5, dnssec=True)\n",
    "            name_key, dnskey = verify_dnskey(response_dnskey)\n",
    "            verify_ds(response, name_key, dnskey)\n",
    "            verify_root(dnskey)\n",
    "            response2 = None\n",
    "            response_dnskey2 = None\n",
    "            if len(response.additional) == 0:\n",
    "                continue                           # root doesn't have top level domain information\n",
    "            flag = Flag.NO_ANSWER            # flag traces whether ANSWER section is empty or not\n",
    "            while flag == Flag.NO_ANSWER:                            \n",
    "                if len(response.additional) > 0:   # use the IP in ADDITIONAL section\n",
    "                    nextname = get_name_from_response(response)\n",
    "                    for rrset in response.additional:\n",
    "                        next_ip = get_ip_from_rrset(rrset)\n",
    "                        try:\n",
    "                            response2 = single_iterate(hostname, rdtype, next_ip, timeout=0.5, dnssec=True)\n",
    "                            response_dnskey2 = single_iterate(nextname, 'DNSKEY', next_ip, timeout=0.5, dnssec=True)\n",
    "\n",
    "                            if len(response2.answer) != 0:\n",
    "                                flag = Flag.HAVE_ANSWER\n",
    "                                break\n",
    "                            if check_ds_exist(response2) == False:\n",
    "                                flag = Flag.NO_DNSSEC\n",
    "                                break\n",
    "                            if nextname == 'org.': # for org. zone, when dnssec=True, DNSKEY response is empty\n",
    "                                name_key, dnskey = verify_org_dnskey(next_ip) # so I wrote special functions for org.\n",
    "                                verify_ds(response2, name_key, dnskey)\n",
    "                                verify_org_zone(dnskey, response)\n",
    "                            else:\n",
    "                                name_key, dnskey = verify_dnskey(response_dnskey2)\n",
    "                                verify_ds(response2, name_key, dnskey)\n",
    "                                verify_zone(response_dnskey2, response)\n",
    "                            \n",
    "                            response = response2\n",
    "                            response_dnskey = response_dnskey2\n",
    "                            break\n",
    "                        except Exception as e:\n",
    "                            pass  #print('Oops!', e)\n",
    "                else:             # if both ANSWER and ADDITIONAL is empty, then find the IP of AUTHORITY  \n",
    "                    ns = get_ns_from_authority(response)\n",
    "                    if check_hostname(ns):\n",
    "                        response2 = dns_resolver_3(ns, 'A', cnames)\n",
    "                        authority_answer = response2.answer[0]\n",
    "                        response.additional.append(authority_answer)  # add rrset that contains IP of a AUTHORITY to response\n",
    "                    else:\n",
    "                         return response   # hostname in AUTHORITY is not valid\n",
    "            if flag == Flag.NO_DNSSEC:\n",
    "                return flag, response2\n",
    "            \n",
    "            if check_response(response2, rdtype):  # ip is in the response\n",
    "                try:\n",
    "                    name_key, dnskey = verify_dnskey(response_dnskey2)\n",
    "                    verify_a(response2, name_key, dnskey)\n",
    "                    verify_zone(response_dnskey2, response)\n",
    "                except Exception as e:\n",
    "                    print(e)\n",
    "                    flag = Flag.VERIFY_FAIL\n",
    "                    return flag, response2\n",
    "                else:\n",
    "                    return flag, response2\n",
    "            else:                         # CNAME is in the response\n",
    "                for rrset in response.answer:\n",
    "                    cname = get_cname_from_rrset(rrset)\n",
    "                    cnames.append(cname)\n",
    "                    return dns_resolver_sec(cname, rdtype, cnames)\n",
    "            break\n",
    "        except Exception as e:\n",
    "            print(e)"
   ]
  },
  {
   "cell_type": "code",
   "execution_count": 193,
   "metadata": {},
   "outputs": [
    {
     "name": "stdout",
     "output_type": "stream",
     "text": [
      "Congrats! . DNSKEYs are good\n",
      "Congrats! org. DS is good~\n",
      "Congrats! Root verified\n",
      "Congrats! org. DNSKEYs are good~\n",
      "Congrats! dnssec-failed.org. DS is good~\n",
      "Congrads! Zone org. verified\n",
      "Congrats! dnssec-failed.org. DNSKEYs are good\n",
      "Congrats! A records are good~\n",
      "Sorry! None of the 2 public key signing keys of dnssec-failed.org. can be verified by its DS in parent's zone!\n",
      "\n",
      "Query time: 782 msec\n",
      "WHEN: Mon Feb 19 09:12:52 2018\n",
      "\n",
      "\n",
      "DNSSec Verification failed\n"
     ]
    }
   ],
   "source": [
    "hostname = 'dnssec-failed.org'\n",
    "#hostname = 'paypal.com'\n",
    "#hostname = 'cnn.com'\n",
    "rdtype = 'A'\n",
    "cnames = []\n",
    "\n",
    "start = time.time()\n",
    "\n",
    "flag, myresponse = dns_resolver_sec(hostname, rdtype, cnames)\n",
    "\n",
    "elapsed = time.time() - start\n",
    "\n",
    "if flag == Flag.HAVE_ANSWER:\n",
    "    output_sec(hostname, rdtype, myresponse, elapsed, cnames)\n",
    "elif flag == Flag.NO_DNSSEC:\n",
    "    print('\\nQuery time: ' + str(int(elapsed * 1000)) + ' msec')\n",
    "    print('WHEN:', datetime.datetime.now().strftime(\"%a %b %d %H:%M:%S %Y\"))\n",
    "    print('\\n\\nDNSSEC not supported')\n",
    "elif flag == Flag.VERIFY_FAIL:\n",
    "    print('\\nQuery time: ' + str(int(elapsed * 1000)) + ' msec')\n",
    "    print('WHEN:', datetime.datetime.now().strftime(\"%a %b %d %H:%M:%S %Y\"))\n",
    "    print('\\n\\nDNSSec Verification failed')"
   ]
  },
  {
   "cell_type": "code",
   "execution_count": 188,
   "metadata": {},
   "outputs": [
    {
     "name": "stdout",
     "output_type": "stream",
     "text": [
      "Congrats! . DNSKEYs are good\n",
      "Congrats! com. DS is good~\n",
      "Congrats! Root verified\n",
      "Congrats! com. DNSKEYs are good\n",
      "Congrats! paypal.com. DS is good~\n",
      "Congrads! Zone com. verified\n",
      "Congrats! paypal.com. DNSKEYs are good\n",
      "Congrats! A records are good~\n",
      "Congrads! Zone paypal.com. verified\n",
      "\n",
      " QUESTION:\n",
      "paypal.com. IN A\n",
      "\n",
      " ANSWER:\n",
      "paypal.com. 300 IN A 64.4.250.33\n",
      "paypal.com. 300 IN A 64.4.250.32\n",
      "paypal.com. 300 IN RRSIG A 5 2 300 20180227181123 20180128174703 11811 paypal.com. zJ22XRBBNn7dQJRrmpuCxuVqe8M8iCiD oQhN8Yi2969m+HbzJnc/3vz4/s6/TCYB w01uS0vclejIXj3VxLd0a06LR183J8GZ 7fneqNOVxuxxaRLSQ9GR4/sIQb4SMOrf UOfSfefCI+B4GV/7FHKGRDZr5LGnBCV5 At4mS4OmsfY=\n",
      "\n",
      "\n",
      "Query time: 289 msec\n",
      "WHEN: Mon Feb 19 09:11:21 2018\n",
      "MSG SIZE rcvd:  900 \n",
      "\n"
     ]
    }
   ],
   "source": [
    "hostname = 'paypal.com'\n",
    "rdtype = 'A'\n",
    "cnames = []\n",
    "\n",
    "start = time.time()\n",
    "\n",
    "flag, myresponse = dns_resolver_sec(hostname, rdtype, cnames)\n",
    "\n",
    "elapsed = time.time() - start\n",
    "\n",
    "if flag == Flag.HAVE_ANSWER:\n",
    "    output_sec(hostname, rdtype, myresponse, elapsed, cnames)\n",
    "elif flag == Flag.NO_DNSSEC:\n",
    "    print('\\n\\nQuery time: ' + str(int(elapsed * 1000)) + ' msec')\n",
    "    print('WHEN:', datetime.datetime.now().strftime(\"%a %b %d %H:%M:%S %Y\"))\n",
    "    print('\\nDNSSEC not supported')\n",
    "elif flag == Flag.VERIFY_FAIL:\n",
    "    print('\\n\\nQuery time: ' + str(int(elapsed * 1000)) + ' msec')\n",
    "    print('WHEN:', datetime.datetime.now().strftime(\"%a %b %d %H:%M:%S %Y\"))\n",
    "    print('\\nDNSSec Verification failed')"
   ]
  },
  {
   "cell_type": "code",
   "execution_count": 194,
   "metadata": {},
   "outputs": [
    {
     "name": "stdout",
     "output_type": "stream",
     "text": [
      "Congrats! . DNSKEYs are good\n",
      "Congrats! com. DS is good~\n",
      "Congrats! Root verified\n",
      "\n",
      "Query time: 307 msec\n",
      "WHEN: Mon Feb 19 09:13:06 2018\n",
      "\n",
      "\n",
      "DNSSEC not supported\n"
     ]
    }
   ],
   "source": [
    "hostname = 'cnn.com'\n",
    "rdtype = 'A'\n",
    "cnames = []\n",
    "\n",
    "start = time.time()\n",
    "\n",
    "flag, myresponse = dns_resolver_sec(hostname, rdtype, cnames)\n",
    "\n",
    "elapsed = time.time() - start\n",
    "\n",
    "if flag == Flag.HAVE_ANSWER:\n",
    "    output_sec(hostname, rdtype, myresponse, elapsed, cnames)\n",
    "elif flag == Flag.NO_DNSSEC:\n",
    "    print('\\nQuery time: ' + str(int(elapsed * 1000)) + ' msec')\n",
    "    print('WHEN:', datetime.datetime.now().strftime(\"%a %b %d %H:%M:%S %Y\"))\n",
    "    print('\\n\\nDNSSEC not supported')\n",
    "elif flag == Flag.VERIFY_FAIL:\n",
    "    print('\\nQuery time: ' + str(int(elapsed * 1000)) + ' msec')\n",
    "    print('WHEN:', datetime.datetime.now().strftime(\"%a %b %d %H:%M:%S %Y\"))\n",
    "    print('\\n\\nDNSSec Verification failed')"
   ]
  },
  {
   "cell_type": "markdown",
   "metadata": {
    "collapsed": true
   },
   "source": [
    "# Measure performance"
   ]
  },
  {
   "cell_type": "code",
   "execution_count": 200,
   "metadata": {},
   "outputs": [],
   "source": [
    "topsites = ['google.com', 'youtube.com', 'facebook.com', 'baidu.com', 'wikipedia.org', 'reddit.com', 'yahoo.com', \n",
    "            'google.co.in', 'qq.com', 'taobao.com', 'amazon.com', 'tmall.com', 'twitter.com', 'google.co.jp',\n",
    "            'instagram.com', 'live.com', 'sohu.com', 'vk.com', 'sina.com.cn', 'jd.com']"
   ]
  },
  {
   "cell_type": "code",
   "execution_count": 248,
   "metadata": {
    "collapsed": true
   },
   "outputs": [],
   "source": [
    "cache = {}"
   ]
  },
  {
   "cell_type": "code",
   "execution_count": 246,
   "metadata": {
    "collapsed": true
   },
   "outputs": [],
   "source": [
    "def average_time(website):\n",
    "    start = time.time()\n",
    "    \n",
    "    hostname = website\n",
    "    rdtype = 'A'\n",
    "    cnames = []\n",
    "    for i in range(0, 10):\n",
    "        if cache.get(hostname + ' ' + rdtype):\n",
    "            continue\n",
    "        start_temp = time.time()\n",
    "        myresponse = dns_resolver_3(hostname, rdtype, cnames)\n",
    "        elapsed_temp = time.time() - start_temp\n",
    "        output(hostname, rdtype, myresponse, elapsed_temp, cnames)\n",
    "        \n",
    "    elapsed = time.time() - start\n",
    "    return elapsed * 1000 /10"
   ]
  },
  {
   "cell_type": "code",
   "execution_count": 250,
   "metadata": {
    "collapsed": true
   },
   "outputs": [
    {
     "name": "stdout",
     "output_type": "stream",
     "text": [
      "google.com A QUESTION SECTION:\n",
      "google.com.                            IN   A    \n",
      "\n",
      "ANSWER SECTION:\n",
      "google.com.                      300   IN   A      172.217.11.14\n",
      "\n",
      "youtube.com A QUESTION SECTION:\n",
      "youtube.com.                           IN   A    \n",
      "\n",
      "ANSWER SECTION:\n",
      "youtube.com.                     300   IN   A      172.217.11.14\n",
      "\n",
      "facebook.com A QUESTION SECTION:\n",
      "facebook.com.                          IN   A    \n",
      "\n",
      "ANSWER SECTION:\n",
      "facebook.com.                    300   IN   A      31.13.71.36\n",
      "\n",
      "baidu.com A QUESTION SECTION:\n",
      "baidu.com.                             IN   A    \n",
      "\n",
      "ANSWER SECTION:\n",
      "baidu.com.                       600   IN   A      123.125.114.144\n",
      "baidu.com.                       600   IN   A      220.181.57.216\n",
      "baidu.com.                       600   IN   A      111.13.101.208\n",
      "\n",
      "wikipedia.org A QUESTION SECTION:\n",
      "wikipedia.org.                         IN   A    \n",
      "\n",
      "ANSWER SECTION:\n",
      "wikipedia.org.                   600   IN   A      208.80.154.224\n",
      "\n",
      "reddit.com A QUESTION SECTION:\n",
      "reddit.com.                            IN   A    \n",
      "\n",
      "ANSWER SECTION:\n",
      "reddit.com.                      300   IN   A      151.101.65.140\n",
      "reddit.com.                      300   IN   A      151.101.129.140\n",
      "reddit.com.                      300   IN   A      151.101.193.140\n",
      "reddit.com.                      300   IN   A      151.101.1.140\n",
      "\n",
      "yahoo.com A QUESTION SECTION:\n",
      "yahoo.com.                             IN   A    \n",
      "\n",
      "ANSWER SECTION:\n",
      "yahoo.com.                       1800  IN   A      98.139.180.180\n",
      "yahoo.com.                       1800  IN   A      206.190.39.42\n",
      "yahoo.com.                       1800  IN   A      98.138.252.38\n",
      "\n",
      "google.co.in A QUESTION SECTION:\n",
      "google.co.in.                          IN   A    \n",
      "\n",
      "ANSWER SECTION:\n",
      "google.co.in.                    300   IN   A      172.217.11.3\n",
      "\n",
      "qq.com A QUESTION SECTION:\n",
      "qq.com.                                IN   A    \n",
      "\n",
      "ANSWER SECTION:\n",
      "qq.com.                          600   IN   A      61.135.157.156\n",
      "qq.com.                          600   IN   A      125.39.240.113\n",
      "\n",
      "taobao.com A QUESTION SECTION:\n",
      "taobao.com.                            IN   A    \n",
      "\n",
      "ANSWER SECTION:\n",
      "taobao.com.                      300   IN   A      140.205.220.96\n",
      "taobao.com.                      300   IN   A      140.205.94.189\n",
      "\n",
      "amazon.com A QUESTION SECTION:\n",
      "amazon.com.                            IN   A    \n",
      "\n",
      "ANSWER SECTION:\n",
      "amazon.com.                      60    IN   A      205.251.242.103\n",
      "amazon.com.                      60    IN   A      176.32.98.166\n",
      "amazon.com.                      60    IN   A      176.32.103.205\n",
      "\n",
      "tmall.com A QUESTION SECTION:\n",
      "tmall.com.                             IN   A    \n",
      "\n",
      "ANSWER SECTION:\n",
      "tmall.com.                       300   IN   A      140.205.94.193\n",
      "tmall.com.                       300   IN   A      140.205.130.99\n",
      "\n",
      "twitter.com A QUESTION SECTION:\n",
      "twitter.com.                           IN   A    \n",
      "\n",
      "ANSWER SECTION:\n",
      "twitter.com.                     1800  IN   A      104.244.42.65\n",
      "twitter.com.                     1800  IN   A      104.244.42.129\n",
      "\n",
      "google.co.jp A QUESTION SECTION:\n",
      "google.co.jp.                          IN   A    \n",
      "\n",
      "ANSWER SECTION:\n",
      "google.co.jp.                    300   IN   A      172.217.11.3\n",
      "\n",
      "instagram.com A QUESTION SECTION:\n",
      "instagram.com.                         IN   A    \n",
      "\n",
      "ANSWER SECTION:\n",
      "instagram.com.                   60    IN   A      34.224.11.122\n",
      "instagram.com.                   60    IN   A      52.1.39.225\n",
      "instagram.com.                   60    IN   A      34.194.59.113\n",
      "instagram.com.                   60    IN   A      34.225.221.52\n",
      "instagram.com.                   60    IN   A      52.22.148.68\n",
      "instagram.com.                   60    IN   A      52.206.229.166\n",
      "instagram.com.                   60    IN   A      52.205.79.84\n",
      "instagram.com.                   60    IN   A      34.197.43.75\n",
      "\n",
      "live.com A QUESTION SECTION:\n",
      "live.com.                              IN   A    \n",
      "\n",
      "ANSWER SECTION:\n",
      "live.com.                        3600  IN   A      204.79.197.212\n",
      "\n",
      "sohu.com A QUESTION SECTION:\n",
      "sohu.com.                              IN   A    \n",
      "\n",
      "ANSWER SECTION:\n",
      "sohu.com.                        600   IN   A      220.181.90.20\n",
      "sohu.com.                        600   IN   A      123.125.116.16\n",
      "sohu.com.                        600   IN   A      221.179.178.112\n",
      "\n",
      "vk.com A QUESTION SECTION:\n",
      "vk.com.                                IN   A    \n",
      "\n",
      "ANSWER SECTION:\n",
      "vk.com.                          300   IN   A      87.240.182.224\n",
      "vk.com.                          300   IN   A      87.240.129.72\n",
      "vk.com.                          300   IN   A      87.240.129.71\n",
      "vk.com.                          300   IN   A      87.240.129.133\n",
      "\n",
      "sina.com.cn A QUESTION SECTION:\n",
      "sina.com.cn.                           IN   A    \n",
      "\n",
      "ANSWER SECTION:\n",
      "sina.com.cn.                     60    IN   A      202.108.33.60\n",
      "sina.com.cn.                     60    IN   A      202.108.33.107\n",
      "\n",
      "jd.com A QUESTION SECTION:\n",
      "jd.com.                                IN   A    \n",
      "\n",
      "ANSWER SECTION:\n",
      "jd.com.                          120   IN   A      106.39.167.118\n",
      "\n"
     ]
    }
   ],
   "source": [
    "for key, value in cache.items():\n",
    "    print(key, value)"
   ]
  },
  {
   "cell_type": "code",
   "execution_count": 249,
   "metadata": {
    "collapsed": true
   },
   "outputs": [
    {
     "name": "stdout",
     "output_type": "stream",
     "text": [
      "\n",
      "\n",
      "QUESTION SECTION:\n",
      "google.com.                            IN   A    \n",
      "\n",
      "ANSWER SECTION:\n",
      "google.com.                      300   IN   A      172.217.11.14\n",
      "\n",
      "Query time: 179 msec\n",
      "WHEN: Mon Feb 19 14:55:19 2018\n",
      "MSG SIZE rcvd:  79 \n",
      "\n",
      "google.com 18.016672134399414\n",
      "\n",
      "\n",
      "QUESTION SECTION:\n",
      "youtube.com.                           IN   A    \n",
      "\n",
      "ANSWER SECTION:\n",
      "youtube.com.                     300   IN   A      172.217.11.14\n",
      "\n",
      "Query time: 171 msec\n",
      "WHEN: Mon Feb 19 14:55:19 2018\n",
      "MSG SIZE rcvd:  81 \n",
      "\n",
      "youtube.com 17.158913612365723\n",
      "\n",
      "\n",
      "QUESTION SECTION:\n",
      "facebook.com.                          IN   A    \n",
      "\n",
      "ANSWER SECTION:\n",
      "facebook.com.                    300   IN   A      31.13.71.36\n",
      "\n",
      "Query time: 145 msec\n",
      "WHEN: Mon Feb 19 14:55:19 2018\n",
      "MSG SIZE rcvd:  81 \n",
      "\n",
      "facebook.com 14.663910865783691\n",
      "\n",
      "\n",
      "QUESTION SECTION:\n",
      "baidu.com.                             IN   A    \n",
      "\n",
      "ANSWER SECTION:\n",
      "baidu.com.                       600   IN   A      123.125.114.144\n",
      "baidu.com.                       600   IN   A      220.181.57.216\n",
      "baidu.com.                       600   IN   A      111.13.101.208\n",
      "\n",
      "Query time: 479 msec\n",
      "WHEN: Mon Feb 19 14:55:20 2018\n",
      "MSG SIZE rcvd:  141 \n",
      "\n",
      "baidu.com 48.023414611816406\n",
      "\n",
      "\n",
      "QUESTION SECTION:\n",
      "wikipedia.org.                         IN   A    \n",
      "\n",
      "ANSWER SECTION:\n",
      "wikipedia.org.                   600   IN   A      208.80.154.224\n",
      "\n",
      "Query time: 201 msec\n",
      "WHEN: Mon Feb 19 14:55:20 2018\n",
      "MSG SIZE rcvd:  86 \n",
      "\n",
      "wikipedia.org 20.164179801940918\n",
      "\n",
      "\n",
      "QUESTION SECTION:\n",
      "reddit.com.                            IN   A    \n",
      "\n",
      "ANSWER SECTION:\n",
      "reddit.com.                      300   IN   A      151.101.65.140\n",
      "reddit.com.                      300   IN   A      151.101.129.140\n",
      "reddit.com.                      300   IN   A      151.101.193.140\n",
      "reddit.com.                      300   IN   A      151.101.1.140\n",
      "\n",
      "Query time: 145 msec\n",
      "WHEN: Mon Feb 19 14:55:20 2018\n",
      "MSG SIZE rcvd:  177 \n",
      "\n",
      "reddit.com 14.560222625732422\n",
      "\n",
      "\n",
      "QUESTION SECTION:\n",
      "yahoo.com.                             IN   A    \n",
      "\n",
      "ANSWER SECTION:\n",
      "yahoo.com.                       1800  IN   A      98.139.180.180\n",
      "yahoo.com.                       1800  IN   A      206.190.39.42\n",
      "yahoo.com.                       1800  IN   A      98.138.252.38\n",
      "\n",
      "Query time: 169 msec\n",
      "WHEN: Mon Feb 19 14:55:20 2018\n",
      "MSG SIZE rcvd:  141 \n",
      "\n",
      "yahoo.com 17.037606239318848\n",
      "\n",
      "\n",
      "QUESTION SECTION:\n",
      "google.co.in.                          IN   A    \n",
      "\n",
      "ANSWER SECTION:\n",
      "google.co.in.                    300   IN   A      172.217.11.3\n",
      "\n",
      "Query time: 343 msec\n",
      "WHEN: Mon Feb 19 14:55:21 2018\n",
      "MSG SIZE rcvd:  82 \n",
      "\n",
      "google.co.in 34.43431854248047\n",
      "\n",
      "\n",
      "QUESTION SECTION:\n",
      "qq.com.                                IN   A    \n",
      "\n",
      "ANSWER SECTION:\n",
      "qq.com.                          600   IN   A      61.135.157.156\n",
      "qq.com.                          600   IN   A      125.39.240.113\n",
      "\n",
      "Query time: 465 msec\n",
      "WHEN: Mon Feb 19 14:55:21 2018\n",
      "MSG SIZE rcvd:  100 \n",
      "\n",
      "qq.com 46.67389392852783\n",
      "\n",
      "\n",
      "QUESTION SECTION:\n",
      "taobao.com.                            IN   A    \n",
      "\n",
      "ANSWER SECTION:\n",
      "taobao.com.                      300   IN   A      140.205.220.96\n",
      "taobao.com.                      300   IN   A      140.205.94.189\n",
      "\n",
      "Query time: 219 msec\n",
      "WHEN: Mon Feb 19 14:55:21 2018\n",
      "MSG SIZE rcvd:  112 \n",
      "\n",
      "taobao.com 22.047805786132812\n",
      "\n",
      "\n",
      "QUESTION SECTION:\n",
      "amazon.com.                            IN   A    \n",
      "\n",
      "ANSWER SECTION:\n",
      "amazon.com.                      60    IN   A      205.251.242.103\n",
      "amazon.com.                      60    IN   A      176.32.98.166\n",
      "amazon.com.                      60    IN   A      176.32.103.205\n",
      "\n",
      "Query time: 150 msec\n",
      "WHEN: Mon Feb 19 14:55:21 2018\n",
      "MSG SIZE rcvd:  141 \n",
      "\n",
      "amazon.com 15.213513374328613\n",
      "\n",
      "\n",
      "QUESTION SECTION:\n",
      "tmall.com.                             IN   A    \n",
      "\n",
      "ANSWER SECTION:\n",
      "tmall.com.                       300   IN   A      140.205.94.193\n",
      "tmall.com.                       300   IN   A      140.205.130.99\n",
      "\n",
      "Query time: 209 msec\n",
      "WHEN: Mon Feb 19 14:55:22 2018\n",
      "MSG SIZE rcvd:  109 \n",
      "\n",
      "tmall.com 21.16873264312744\n",
      "\n",
      "\n",
      "QUESTION SECTION:\n",
      "twitter.com.                           IN   A    \n",
      "\n",
      "ANSWER SECTION:\n",
      "twitter.com.                     1800  IN   A      104.244.42.65\n",
      "twitter.com.                     1800  IN   A      104.244.42.129\n",
      "\n",
      "Query time: 147 msec\n",
      "WHEN: Mon Feb 19 14:55:22 2018\n",
      "MSG SIZE rcvd:  116 \n",
      "\n",
      "twitter.com 14.80860710144043\n",
      "\n",
      "\n",
      "QUESTION SECTION:\n",
      "google.co.jp.                          IN   A    \n",
      "\n",
      "ANSWER SECTION:\n",
      "google.co.jp.                    300   IN   A      172.217.11.3\n",
      "\n",
      "Query time: 568 msec\n",
      "WHEN: Mon Feb 19 14:55:22 2018\n",
      "MSG SIZE rcvd:  82 \n",
      "\n",
      "google.co.jp 56.97362422943115\n",
      "\n",
      "\n",
      "QUESTION SECTION:\n",
      "instagram.com.                         IN   A    \n",
      "\n",
      "ANSWER SECTION:\n",
      "instagram.com.                   60    IN   A      34.224.11.122\n",
      "instagram.com.                   60    IN   A      52.1.39.225\n",
      "instagram.com.                   60    IN   A      34.194.59.113\n",
      "instagram.com.                   60    IN   A      34.225.221.52\n",
      "instagram.com.                   60    IN   A      52.22.148.68\n",
      "instagram.com.                   60    IN   A      52.206.229.166\n",
      "instagram.com.                   60    IN   A      52.205.79.84\n",
      "instagram.com.                   60    IN   A      34.197.43.75\n",
      "\n",
      "Query time: 154 msec\n",
      "WHEN: Mon Feb 19 14:55:22 2018\n",
      "MSG SIZE rcvd:  311 \n",
      "\n",
      "instagram.com 15.618419647216797\n",
      "\n",
      "\n",
      "QUESTION SECTION:\n",
      "live.com.                              IN   A    \n",
      "\n",
      "ANSWER SECTION:\n",
      "live.com.                        3600  IN   A      204.79.197.212\n",
      "\n",
      "Query time: 214 msec\n",
      "WHEN: Mon Feb 19 14:55:23 2018\n",
      "MSG SIZE rcvd:  77 \n",
      "\n",
      "live.com 21.572113037109375\n",
      "\n",
      "\n",
      "QUESTION SECTION:\n",
      "sohu.com.                              IN   A    \n",
      "\n",
      "ANSWER SECTION:\n",
      "sohu.com.                        600   IN   A      220.181.90.20\n",
      "sohu.com.                        600   IN   A      123.125.116.16\n",
      "sohu.com.                        600   IN   A      221.179.178.112\n",
      "\n",
      "Query time: 472 msec\n",
      "WHEN: Mon Feb 19 14:55:23 2018\n",
      "MSG SIZE rcvd:  136 \n",
      "\n",
      "sohu.com 47.38938808441162\n",
      "\n",
      "\n",
      "QUESTION SECTION:\n",
      "vk.com.                                IN   A    \n",
      "\n",
      "ANSWER SECTION:\n",
      "vk.com.                          300   IN   A      87.240.182.224\n",
      "vk.com.                          300   IN   A      87.240.129.72\n",
      "vk.com.                          300   IN   A      87.240.129.71\n",
      "vk.com.                          300   IN   A      87.240.129.133\n",
      "\n",
      "Query time: 817 msec\n",
      "WHEN: Mon Feb 19 14:55:24 2018\n",
      "MSG SIZE rcvd:  154 \n",
      "\n",
      "vk.com 81.80861473083496\n",
      "\n",
      "\n",
      "QUESTION SECTION:\n",
      "sina.com.cn.                           IN   A    \n",
      "\n",
      "ANSWER SECTION:\n",
      "sina.com.cn.                     60    IN   A      202.108.33.60\n",
      "sina.com.cn.                     60    IN   A      202.108.33.107\n",
      "\n",
      "Query time: 716 msec\n",
      "WHEN: Mon Feb 19 14:55:25 2018\n",
      "MSG SIZE rcvd:  112 \n",
      "\n",
      "sina.com.cn 71.91338539123535\n",
      "\n",
      "\n",
      "QUESTION SECTION:\n",
      "jd.com.                                IN   A    \n",
      "\n",
      "ANSWER SECTION:\n",
      "jd.com.                          120   IN   A      106.39.167.118\n",
      "\n",
      "Query time: 920 msec\n",
      "WHEN: Mon Feb 19 14:55:26 2018\n",
      "MSG SIZE rcvd:  72 \n",
      "\n",
      "jd.com 92.18730926513672\n"
     ]
    }
   ],
   "source": [
    "for website in topsites:\n",
    "    print(website, average_time(website))"
   ]
  },
  {
   "cell_type": "code",
   "execution_count": 230,
   "metadata": {
    "collapsed": true
   },
   "outputs": [
    {
     "name": "stdout",
     "output_type": "stream",
     "text": [
      "google.com 158.54268074035645\n",
      "youtube.com 157.3296070098877\n",
      "facebook.com 149.82609748840332\n",
      "baidu.com 481.67150020599365\n",
      "wikipedia.org 181.39779567718506\n",
      "reddit.com 154.99372482299805\n",
      "yahoo.com 163.95390033721924\n",
      "google.co.in 330.45949935913086\n",
      "qq.com 530.9247970581055\n",
      "taobao.com 217.87078380584717\n",
      "amazon.com 152.11141109466553\n",
      "tmall.com 218.58360767364502\n",
      "twitter.com 155.4494857788086\n",
      "google.co.jp 501.59616470336914\n",
      "instagram.com 167.39568710327148\n",
      "live.com 221.99528217315674\n",
      "sohu.com 464.1792058944702\n",
      "vk.com 849.9473810195923\n",
      "sina.com.cn 645.0191974639893\n",
      "jd.com 563.3222818374634\n"
     ]
    }
   ],
   "source": [
    "for website in topsites:\n",
    "    print(website, average_time(website))"
   ]
  },
  {
   "cell_type": "code",
   "execution_count": 208,
   "metadata": {
    "collapsed": true
   },
   "outputs": [],
   "source": [
    "import dns.resolver"
   ]
  },
  {
   "cell_type": "code",
   "execution_count": 222,
   "metadata": {
    "collapsed": true
   },
   "outputs": [],
   "source": [
    "def average_time_2(website, resolver):\n",
    "    '''Run ten times, return average.\n",
    "    \n",
    "    Args:\n",
    "        website (str): a hostname\n",
    "        resolver (str): IP of a resolver\n",
    "        \n",
    "    Return:\n",
    "        (float) averge query time\n",
    "    '''\n",
    "    resolver = dns.resolver.Resolver(configure=False)\n",
    "    resolver.nameservers = [resolver]\n",
    "    \n",
    "    start = time.time()\n",
    "    \n",
    "    for i in range(0, 10):\n",
    "        answer = dns.resolver.query(website, 'A')\n",
    "    \n",
    "    elapsed = time.time() - start\n",
    "    return elapsed * 1000 /10"
   ]
  },
  {
   "cell_type": "code",
   "execution_count": 227,
   "metadata": {
    "collapsed": true
   },
   "outputs": [
    {
     "name": "stdout",
     "output_type": "stream",
     "text": [
      "google.com 7.833981513977051\n",
      "youtube.com 5.825304985046387\n",
      "facebook.com 5.600881576538086\n",
      "baidu.com 6.0347795486450195\n",
      "wikipedia.org 5.327200889587402\n",
      "reddit.com 5.754590034484863\n",
      "yahoo.com 5.83949089050293\n",
      "google.co.in 5.764985084533691\n",
      "qq.com 5.597376823425293\n",
      "taobao.com 5.0415754318237305\n",
      "amazon.com 5.983400344848633\n",
      "tmall.com 13.857197761535645\n",
      "twitter.com 5.815291404724121\n",
      "google.co.jp 6.193113327026367\n",
      "instagram.com 6.546616554260254\n",
      "live.com 5.114388465881348\n",
      "sohu.com 6.015110015869141\n",
      "vk.com 5.839991569519043\n",
      "sina.com.cn 5.790209770202637\n",
      "jd.com 4.986786842346191\n"
     ]
    }
   ],
   "source": [
    "for website in topsites:\n",
    "    print(website, average_time_2(website, '8.8.8.8'))"
   ]
  },
  {
   "cell_type": "code",
   "execution_count": 228,
   "metadata": {
    "collapsed": true
   },
   "outputs": [
    {
     "name": "stdout",
     "output_type": "stream",
     "text": [
      "google.com 4.287099838256836\n",
      "youtube.com 4.376697540283203\n",
      "facebook.com 5.410313606262207\n",
      "baidu.com 5.85019588470459\n",
      "wikipedia.org 5.339908599853516\n",
      "reddit.com 5.551600456237793\n",
      "yahoo.com 5.712604522705078\n",
      "google.co.in 5.679416656494141\n",
      "qq.com 6.045007705688477\n",
      "taobao.com 4.915904998779297\n",
      "amazon.com 6.537508964538574\n",
      "tmall.com 5.800318717956543\n",
      "twitter.com 5.20937442779541\n",
      "google.co.jp 5.841493606567383\n",
      "instagram.com 7.119274139404297\n",
      "live.com 5.116510391235352\n",
      "sohu.com 5.369400978088379\n",
      "vk.com 4.919695854187012\n",
      "sina.com.cn 4.592704772949219\n",
      "jd.com 4.082012176513672\n"
     ]
    }
   ],
   "source": [
    "for website in topsites:\n",
    "    print(website, average_time_2(website, '130.245.9.242'))"
   ]
  },
  {
   "cell_type": "code",
   "execution_count": 266,
   "metadata": {
    "collapsed": true
   },
   "outputs": [],
   "source": [
    "df_performance = pd.read_csv('measure_performance.csv')"
   ]
  },
  {
   "cell_type": "code",
   "execution_count": 267,
   "metadata": {},
   "outputs": [
    {
     "data": {
      "text/html": [
       "<div>\n",
       "<style>\n",
       "    .dataframe thead tr:only-child th {\n",
       "        text-align: right;\n",
       "    }\n",
       "\n",
       "    .dataframe thead th {\n",
       "        text-align: left;\n",
       "    }\n",
       "\n",
       "    .dataframe tbody tr th {\n",
       "        vertical-align: top;\n",
       "    }\n",
       "</style>\n",
       "<table border=\"1\" class=\"dataframe\">\n",
       "  <thead>\n",
       "    <tr style=\"text-align: right;\">\n",
       "      <th></th>\n",
       "      <th>Websites</th>\n",
       "      <th>mydig.py(no-cache)</th>\n",
       "      <th>mydig.py(cache)</th>\n",
       "      <th>vmns2.cs.stonybrook.edu.</th>\n",
       "      <th>google-public-dns-a.google.com.</th>\n",
       "    </tr>\n",
       "  </thead>\n",
       "  <tbody>\n",
       "    <tr>\n",
       "      <th>0</th>\n",
       "      <td>google.com</td>\n",
       "      <td>158.54</td>\n",
       "      <td>18.02</td>\n",
       "      <td>4.29</td>\n",
       "      <td>7.83</td>\n",
       "    </tr>\n",
       "    <tr>\n",
       "      <th>1</th>\n",
       "      <td>youtube.com</td>\n",
       "      <td>157.33</td>\n",
       "      <td>17.16</td>\n",
       "      <td>4.38</td>\n",
       "      <td>5.83</td>\n",
       "    </tr>\n",
       "    <tr>\n",
       "      <th>2</th>\n",
       "      <td>facebook.com</td>\n",
       "      <td>149.83</td>\n",
       "      <td>14.66</td>\n",
       "      <td>5.41</td>\n",
       "      <td>5.60</td>\n",
       "    </tr>\n",
       "    <tr>\n",
       "      <th>3</th>\n",
       "      <td>baidu.com</td>\n",
       "      <td>481.67</td>\n",
       "      <td>48.02</td>\n",
       "      <td>5.85</td>\n",
       "      <td>6.03</td>\n",
       "    </tr>\n",
       "    <tr>\n",
       "      <th>4</th>\n",
       "      <td>wikipedia.org</td>\n",
       "      <td>181.40</td>\n",
       "      <td>20.16</td>\n",
       "      <td>5.34</td>\n",
       "      <td>5.33</td>\n",
       "    </tr>\n",
       "    <tr>\n",
       "      <th>5</th>\n",
       "      <td>reddit.com</td>\n",
       "      <td>154.99</td>\n",
       "      <td>14.56</td>\n",
       "      <td>5.55</td>\n",
       "      <td>5.75</td>\n",
       "    </tr>\n",
       "    <tr>\n",
       "      <th>6</th>\n",
       "      <td>yahoo.com</td>\n",
       "      <td>163.95</td>\n",
       "      <td>17.04</td>\n",
       "      <td>5.71</td>\n",
       "      <td>5.84</td>\n",
       "    </tr>\n",
       "    <tr>\n",
       "      <th>7</th>\n",
       "      <td>google.co.in</td>\n",
       "      <td>330.46</td>\n",
       "      <td>34.43</td>\n",
       "      <td>5.68</td>\n",
       "      <td>5.76</td>\n",
       "    </tr>\n",
       "    <tr>\n",
       "      <th>8</th>\n",
       "      <td>qq.com</td>\n",
       "      <td>530.92</td>\n",
       "      <td>46.67</td>\n",
       "      <td>6.05</td>\n",
       "      <td>5.60</td>\n",
       "    </tr>\n",
       "    <tr>\n",
       "      <th>9</th>\n",
       "      <td>taobao.com</td>\n",
       "      <td>217.87</td>\n",
       "      <td>22.05</td>\n",
       "      <td>4.92</td>\n",
       "      <td>5.04</td>\n",
       "    </tr>\n",
       "    <tr>\n",
       "      <th>10</th>\n",
       "      <td>amazon.com</td>\n",
       "      <td>152.11</td>\n",
       "      <td>15.21</td>\n",
       "      <td>6.54</td>\n",
       "      <td>5.98</td>\n",
       "    </tr>\n",
       "    <tr>\n",
       "      <th>11</th>\n",
       "      <td>tmall.com</td>\n",
       "      <td>218.58</td>\n",
       "      <td>21.17</td>\n",
       "      <td>5.80</td>\n",
       "      <td>13.86</td>\n",
       "    </tr>\n",
       "    <tr>\n",
       "      <th>12</th>\n",
       "      <td>twitter.com</td>\n",
       "      <td>155.45</td>\n",
       "      <td>14.81</td>\n",
       "      <td>5.21</td>\n",
       "      <td>5.82</td>\n",
       "    </tr>\n",
       "    <tr>\n",
       "      <th>13</th>\n",
       "      <td>google.co.jp</td>\n",
       "      <td>501.60</td>\n",
       "      <td>56.97</td>\n",
       "      <td>5.84</td>\n",
       "      <td>6.19</td>\n",
       "    </tr>\n",
       "    <tr>\n",
       "      <th>14</th>\n",
       "      <td>instagram.com</td>\n",
       "      <td>167.40</td>\n",
       "      <td>15.62</td>\n",
       "      <td>7.12</td>\n",
       "      <td>6.55</td>\n",
       "    </tr>\n",
       "    <tr>\n",
       "      <th>15</th>\n",
       "      <td>live.com</td>\n",
       "      <td>222.00</td>\n",
       "      <td>21.57</td>\n",
       "      <td>5.12</td>\n",
       "      <td>5.11</td>\n",
       "    </tr>\n",
       "    <tr>\n",
       "      <th>16</th>\n",
       "      <td>sohu.com</td>\n",
       "      <td>464.18</td>\n",
       "      <td>47.39</td>\n",
       "      <td>5.37</td>\n",
       "      <td>6.02</td>\n",
       "    </tr>\n",
       "    <tr>\n",
       "      <th>17</th>\n",
       "      <td>vk.com</td>\n",
       "      <td>849.95</td>\n",
       "      <td>81.81</td>\n",
       "      <td>4.92</td>\n",
       "      <td>5.84</td>\n",
       "    </tr>\n",
       "    <tr>\n",
       "      <th>18</th>\n",
       "      <td>sina.com.cn</td>\n",
       "      <td>645.02</td>\n",
       "      <td>71.91</td>\n",
       "      <td>4.59</td>\n",
       "      <td>5.79</td>\n",
       "    </tr>\n",
       "    <tr>\n",
       "      <th>19</th>\n",
       "      <td>jd.com</td>\n",
       "      <td>563.32</td>\n",
       "      <td>92.19</td>\n",
       "      <td>4.08</td>\n",
       "      <td>4.99</td>\n",
       "    </tr>\n",
       "  </tbody>\n",
       "</table>\n",
       "</div>"
      ],
      "text/plain": [
       "         Websites  mydig.py(no-cache)  mydig.py(cache)  \\\n",
       "0      google.com              158.54            18.02   \n",
       "1     youtube.com              157.33            17.16   \n",
       "2    facebook.com              149.83            14.66   \n",
       "3       baidu.com              481.67            48.02   \n",
       "4   wikipedia.org              181.40            20.16   \n",
       "5      reddit.com              154.99            14.56   \n",
       "6       yahoo.com              163.95            17.04   \n",
       "7    google.co.in              330.46            34.43   \n",
       "8          qq.com              530.92            46.67   \n",
       "9      taobao.com              217.87            22.05   \n",
       "10     amazon.com              152.11            15.21   \n",
       "11      tmall.com              218.58            21.17   \n",
       "12    twitter.com              155.45            14.81   \n",
       "13   google.co.jp              501.60            56.97   \n",
       "14  instagram.com              167.40            15.62   \n",
       "15       live.com              222.00            21.57   \n",
       "16       sohu.com              464.18            47.39   \n",
       "17         vk.com              849.95            81.81   \n",
       "18    sina.com.cn              645.02            71.91   \n",
       "19         jd.com              563.32            92.19   \n",
       "\n",
       "    vmns2.cs.stonybrook.edu.  google-public-dns-a.google.com.  \n",
       "0                       4.29                             7.83  \n",
       "1                       4.38                             5.83  \n",
       "2                       5.41                             5.60  \n",
       "3                       5.85                             6.03  \n",
       "4                       5.34                             5.33  \n",
       "5                       5.55                             5.75  \n",
       "6                       5.71                             5.84  \n",
       "7                       5.68                             5.76  \n",
       "8                       6.05                             5.60  \n",
       "9                       4.92                             5.04  \n",
       "10                      6.54                             5.98  \n",
       "11                      5.80                            13.86  \n",
       "12                      5.21                             5.82  \n",
       "13                      5.84                             6.19  \n",
       "14                      7.12                             6.55  \n",
       "15                      5.12                             5.11  \n",
       "16                      5.37                             6.02  \n",
       "17                      4.92                             5.84  \n",
       "18                      4.59                             5.79  \n",
       "19                      4.08                             4.99  "
      ]
     },
     "execution_count": 267,
     "metadata": {},
     "output_type": "execute_result"
    }
   ],
   "source": [
    "df_performance"
   ]
  },
  {
   "cell_type": "code",
   "execution_count": 321,
   "metadata": {},
   "outputs": [
    {
     "data": {
      "text/plain": [
       "<matplotlib.axes._subplots.AxesSubplot at 0x11e143438>"
      ]
     },
     "execution_count": 321,
     "metadata": {},
     "output_type": "execute_result"
    },
    {
     "data": {
      "image/png": "[encoded data removed]",
      "text/plain": [
       "<matplotlib.figure.Figure at 0x11e146f28>"
      ]
     },
     "metadata": {},
     "output_type": "display_data"
    }
   ],
   "source": [
    "df_performance.plot(figsize=(10,10))"
   ]
  },
  {
   "cell_type": "code",
   "execution_count": 356,
   "metadata": {},
   "outputs": [],
   "source": [
    "mylist = df_performance['mydig.py(no-cache)'].tolist()"
   ]
  },
  {
   "cell_type": "code",
   "execution_count": 358,
   "metadata": {},
   "outputs": [],
   "source": [
    "def cdf_values(mylist):\n",
    "    '''Calculate the values of a CDF, given an arbitrary list of numbers.\n",
    "    \n",
    "    Args:\n",
    "        mylist (list): an arbitrary list of numbers\n",
    "        \n",
    "    Returns:\n",
    "        X, Y (list, list): the corresponding X and Y values of a CDF\n",
    "    '''\n",
    "    mylist.sort()\n",
    "    \n",
    "    low = int(mylist[0])\n",
    "    high = int(mylist[19]) + 1\n",
    "    \n",
    "    X = []\n",
    "    Y = []\n",
    "    y_sum = 0\n",
    "    y_step = 1.0/len(mylist)\n",
    "    mylist_i = 0\n",
    "    \n",
    "    for i in range(low, high+1):\n",
    "        #print('i', i)\n",
    "        X.append(i)\n",
    "        while mylist[mylist_i] < i:\n",
    "            #print('mylist_i', mylist_i)\n",
    "            y_sum = y_sum + y_step\n",
    "            mylist_i = mylist_i + 1\n",
    "            if mylist_i > 19:\n",
    "                break\n",
    "        Y.append(y_sum)\n",
    "    return X, Y"
   ]
  },
  {
   "cell_type": "code",
   "execution_count": 364,
   "metadata": {},
   "outputs": [
    {
     "data": {
      "text/plain": [
       "[<matplotlib.lines.Line2D at 0x11dd0da20>]"
      ]
     },
     "execution_count": 364,
     "metadata": {},
     "output_type": "execute_result"
    },
    {
     "data": {
      "image/png": "[encoded data removed]",
      "text/plain": [
       "<matplotlib.figure.Figure at 0x11dfec128>"
      ]
     },
     "metadata": {},
     "output_type": "display_data"
    }
   ],
   "source": [
    "mylist = df_performance['mydig.py(no-cache)'].tolist()\n",
    "X_mydig, Y_mydig = cdf_values(mylist)\n",
    "plt.plot(X_mydig, Y_mydig)"
   ]
  },
  {
   "cell_type": "code",
   "execution_count": 365,
   "metadata": {},
   "outputs": [
    {
     "data": {
      "text/plain": [
       "[<matplotlib.lines.Line2D at 0x11c065da0>]"
      ]
     },
     "execution_count": 365,
     "metadata": {},
     "output_type": "execute_result"
    },
    {
     "data": {
      "image/png": "[encoded data removed]",
      "text/plain": [
       "<matplotlib.figure.Figure at 0x11df47be0>"
      ]
     },
     "metadata": {},
     "output_type": "display_data"
    }
   ],
   "source": [
    "mylist = df_performance['mydig.py(cache)'].tolist()\n",
    "X_mydig_cache, Y_mydig_cache = cdf_values(mylist)\n",
    "plt.plot(X_mydig_cache, Y_mydig_cache)"
   ]
  },
  {
   "cell_type": "code",
   "execution_count": 368,
   "metadata": {},
   "outputs": [
    {
     "data": {
      "text/plain": [
       "[<matplotlib.lines.Line2D at 0x11e5de128>]"
      ]
     },
     "execution_count": 368,
     "metadata": {},
     "output_type": "execute_result"
    },
    {
     "data": {
      "image/png": "[encoded data removed]",
      "text/plain": [
       "<matplotlib.figure.Figure at 0x11e1c47f0>"
      ]
     },
     "metadata": {},
     "output_type": "display_data"
    }
   ],
   "source": [
    "mylist = df_performance['vmns2.cs.stonybrook.edu.'].tolist()\n",
    "X_cs, Y_cs = cdf_values(mylist)\n",
    "plt.plot(X_cs, Y_cs)"
   ]
  },
  {
   "cell_type": "code",
   "execution_count": 370,
   "metadata": {},
   "outputs": [
    {
     "data": {
      "text/plain": [
       "[<matplotlib.lines.Line2D at 0x11e72f7b8>]"
      ]
     },
     "execution_count": 370,
     "metadata": {},
     "output_type": "execute_result"
    },
    {
     "data": {
      "image/png": "[encoded data removed]",
      "text/plain": [
       "<matplotlib.figure.Figure at 0x11e669860>"
      ]
     },
     "metadata": {},
     "output_type": "display_data"
    }
   ],
   "source": [
    "mylist = df_performance['google-public-dns-a.google.com.'].tolist()\n",
    "X_google, Y_google = cdf_values(mylist)\n",
    "plt.plot(X_google, Y_google)"
   ]
  },
  {
   "cell_type": "code",
   "execution_count": 401,
   "metadata": {},
   "outputs": [
    {
     "data": {
      "text/plain": [
       "([<matplotlib.axis.YTick at 0x120a2b080>,\n",
       "  <matplotlib.axis.YTick at 0x122ad6588>,\n",
       "  <matplotlib.axis.YTick at 0x120c4e550>,\n",
       "  <matplotlib.axis.YTick at 0x1209f2b70>,\n",
       "  <matplotlib.axis.YTick at 0x12095de48>,\n",
       "  <matplotlib.axis.YTick at 0x120a29ac8>,\n",
       "  <matplotlib.axis.YTick at 0x120955470>,\n",
       "  <matplotlib.axis.YTick at 0x1206b9d68>,\n",
       "  <matplotlib.axis.YTick at 0x1206c80f0>,\n",
       "  <matplotlib.axis.YTick at 0x11f6f6860>,\n",
       "  <matplotlib.axis.YTick at 0x11e76f438>],\n",
       " <a list of 11 Text yticklabel objects>)"
      ]
     },
     "execution_count": 401,
     "metadata": {},
     "output_type": "execute_result"
    },
    {
     "data": {
      "image/png": "[encoded data removed]",
      "text/plain": [
       "<matplotlib.figure.Figure at 0x122ad6828>"
      ]
     },
     "metadata": {},
     "output_type": "display_data"
    }
   ],
   "source": [
    "plt.figure(figsize=(16,10))\n",
    "plt.plot(X_mydig, Y_mydig)\n",
    "plt.plot(X_mydig_cache, Y_mydig_cache)\n",
    "plt.plot(X_cs, Y_cs)\n",
    "plt.plot(X_google, Y_google)\n",
    "plt.legend(['mydig(no-cache)', 'mydig(cache)', 'cs.stonybrook', 'google'], prop={'size': 16})\n",
    "plt.xlabel('Time (millisecond)', fontsize=16)\n",
    "plt.ylabel('Pr[X<=x]', fontsize=16)\n",
    "plt.title('DNS Performance CDF', fontsize=20)\n",
    "x_axis = np.arange(0, 900, 50)\n",
    "plt.xticks(x_axis)\n",
    "y_axis = np.arange(0, 1.1, 0.1)\n",
    "plt.yticks(y_axis)"
   ]
  },
  {
   "cell_type": "code",
   "execution_count": null,
   "metadata": {
    "collapsed": true
   },
   "outputs": [],
   "source": []
  }
 ],
 "metadata": {
  "kernelspec": {
   "display_name": "Python 3",
   "language": "python",
   "name": "python3"
  },
  "language_info": {
   "codemirror_mode": {
    "name": "ipython",
    "version": 3
   },
   "file_extension": ".py",
   "mimetype": "text/x-python",
   "name": "python",
   "nbconvert_exporter": "python",
   "pygments_lexer": "ipython3",
   "version": "3.6.3"
  }
 },
 "nbformat": 4,
 "nbformat_minor": 2
}
