{
 "cells": [
  {
   "cell_type": "code",
   "execution_count": 2,
   "metadata": {
    "collapsed": true
   },
   "outputs": [],
   "source": [
    "import dns.query\n",
    "import dns.message\n",
    "import re\n",
    "import ipaddress\n",
    "import time\n",
    "import datetime\n",
    "import random"
   ]
  },
  {
   "cell_type": "code",
   "execution_count": 20,
   "metadata": {
    "collapsed": true
   },
   "outputs": [],
   "source": [
    "cache = {}"
   ]
  },
  {
   "cell_type": "code",
   "execution_count": 3,
   "metadata": {
    "collapsed": true
   },
   "outputs": [],
   "source": [
    "root_servers = {}\n",
    "\n",
    "root_servers['a'] = '198.41.0.4'\n",
    "root_servers['b'] = '199.9.14.201'\n",
    "root_servers['c'] = '192.33.4.12'\n",
    "root_servers['d'] = '199.7.91.13'\n",
    "root_servers['e'] = '192.203.230.10'\n",
    "root_servers['f'] = '192.5.5.241'\n",
    "root_servers['g'] = '192.112.36.4'\n",
    "root_servers['h'] = '198.97.190.53'\n",
    "root_servers['i'] = '192.36.148.17'\n",
    "root_servers['j'] = '192.58.128.30'\n",
    "root_servers['k'] = '193.0.14.129'\n",
    "root_servers['l'] = '199.7.83.42'\n",
    "root_servers['n'] = '202.12.27.33'"
   ]
  },
  {
   "cell_type": "code",
   "execution_count": 5,
   "metadata": {
    "collapsed": true
   },
   "outputs": [],
   "source": [
    "def output(hostname, rdtype, myresponse, elapsed, cnames):\n",
    "    '''The output of the program\n",
    "    \n",
    "    Args:\n",
    "        hostname (str): host to be queried\n",
    "        rdtype (str): type A, NS, or MX\n",
    "        myresponse (dns.message.Message): reponse from the DNS query\n",
    "        elapsed (float): time elapsed\n",
    "        cnames (list): cnames during a dns query\n",
    "    '''\n",
    "    \n",
    "    #rdtype_dic = {1:'A', 2:'NS', 5:'CNAME'}\n",
    "    \n",
    "    \n",
    "    answers = []\n",
    "    for rrset in myresponse.answer:\n",
    "        for item in rrset.items:\n",
    "            answers.append(item.to_text())\n",
    "            \n",
    "    hostname_ = hostname + '.'\n",
    "    \n",
    "    number = str(30)\n",
    "    for answer in answers:\n",
    "        re_number = '(\\d+)(.*)' + answers[0]\n",
    "        match = re.search(re_number, myresponse.to_text())\n",
    "        if match:\n",
    "            number = match.group(1)\n",
    "        number = str(number)\n",
    "        break\n",
    "    \n",
    "    \n",
    "    first_line = 'QUESTION SECTION:\\n'\n",
    "    second_line = hostname_.ljust(39) + 'IN'.ljust(5) + rdtype.ljust(5) + '\\n\\n'\n",
    "    third_line = 'ANSWER SECTION:\\n'\n",
    "    forth_line = ''\n",
    "    \n",
    "    if len(cnames) > 0:\n",
    "        left = hostname_\n",
    "        for cname in cnames:\n",
    "            forth_line = forth_line + left.ljust(33) + number.ljust(6) + 'IN'.ljust(5) + 'CNAME'.ljust(7) + cname + '\\n'\n",
    "            left = cname\n",
    "        for answer in answers:\n",
    "            forth_line = forth_line + left.ljust(33) + number.ljust(6) + 'IN'.ljust(5) + rdtype.ljust(7) + answer + '\\n'\n",
    "    else:    \n",
    "        for answer in answers:\n",
    "            forth_line = forth_line + hostname_.ljust(33) + number.ljust(6) + 'IN'.ljust(5) + rdtype.ljust(7) + answer + '\\n'\n",
    "    \n",
    "    string = first_line + second_line + third_line + forth_line\n",
    "    \n",
    "    print('\\n')\n",
    "    print(string)\n",
    "    \n",
    "    cache[hostname + ' ' + rdtype] = string  # insert into global cache\n",
    "    \n",
    "    msg_size = str(len(string.replace(' ', '')))\n",
    "    print('Query time: ' + str(int(elapsed * 1000)) + ' msec')\n",
    "    print('WHEN:', datetime.datetime.now().strftime(\"%a %b %d %H:%M:%S %Y\"))\n",
    "    print('MSG SIZE rcvd: ', msg_size, '\\n')"
   ]
  },
  {
   "cell_type": "code",
   "execution_count": 6,
   "metadata": {
    "collapsed": true
   },
   "outputs": [],
   "source": [
    "def output_cache(string, elapsed):\n",
    "    print(string)\n",
    "    msg_size = len(string.replace(' ', ''))\n",
    "    print('Query time: ' + str(int(elapsed * 1000)) + ' msec')\n",
    "    print('WHEN:', datetime.datetime.now().strftime(\"%a %b %d %H:%M:%S %Y\"))\n",
    "    print('MSG SIZE rcvd: ', msg_size)"
   ]
  },
  {
   "cell_type": "code",
   "execution_count": 7,
   "metadata": {
    "collapsed": true
   },
   "outputs": [],
   "source": [
    "def get_cname_from_rrset(rrset):\n",
    "    '''Get CNAME from a RRset (from ANSWER section)\n",
    "    \n",
    "    Args:\n",
    "        rrset (A DNS RRset): contains an CNAME to be extracted\n",
    "        \n",
    "    Returns:\n",
    "        CNAME (str): the CNAME in the RRset\n",
    "    '''\n",
    "    try:\n",
    "        item = rrset.items[0]\n",
    "        return item.to_text()\n",
    "    except Exception as e:\n",
    "        print('Oops! Some issue with cname: ', e)"
   ]
  },
  {
   "cell_type": "code",
   "execution_count": 8,
   "metadata": {
    "collapsed": true
   },
   "outputs": [],
   "source": [
    "def get_ip_from_rrset(rrset):\n",
    "    ''' Get IP address from a RRset (from ADDITIONAL section)\n",
    "    \n",
    "    Args:\n",
    "        rrset (A DNS RRset ): contains an IP address to be extracted\n",
    "        \n",
    "    Return:\n",
    "        ip (str): the IP address in the RRset\n",
    "    '''\n",
    "    try:\n",
    "        item = rrset.items[0]\n",
    "        return item.to_text()\n",
    "    except Exception as e:\n",
    "        print('Oops! Some issue with ip: ', e)"
   ]
  },
  {
   "cell_type": "code",
   "execution_count": 9,
   "metadata": {
    "collapsed": true
   },
   "outputs": [],
   "source": [
    "def get_ns_from_authority(response):\n",
    "    '''Get a name server from AUTHORITY.\n",
    "    In some cases, there is no ADDITIONAL section, just AUTHORITY section!\n",
    "    \n",
    "    Args:\n",
    "        response (dns.message.Message)\n",
    "        \n",
    "    Return:\n",
    "        string: A name of ns server\n",
    "    '''\n",
    "    rrsets = response.authority[0].items\n",
    "    index = random.randint(0, len(rrsets)-1)\n",
    "    return rrsets[index].to_text()"
   ]
  },
  {
   "cell_type": "code",
   "execution_count": 10,
   "metadata": {
    "collapsed": true
   },
   "outputs": [],
   "source": [
    "def check_hostname(hostname):\n",
    "    '''Check whether a host is valid.\n",
    "    \n",
    "    Args:\n",
    "        hostname (str): a hostname\n",
    "        \n",
    "    Return:\n",
    "        True or False\n",
    "    '''\n",
    "    re_domain = '^(?=.{4,255}$)([a-zA-Z0-9][a-zA-Z0-9-]{,61}[a-zA-Z0-9]\\.)+[a-zA-Z0-9]{2,5}.$'\n",
    "    match = re.match(re_domain, hostname)\n",
    "    if match:\n",
    "        return True\n",
    "    else:\n",
    "        return False"
   ]
  },
  {
   "cell_type": "code",
   "execution_count": 11,
   "metadata": {
    "collapsed": true
   },
   "outputs": [],
   "source": [
    "def single_iterate(hostname, rdtype, where, timeout=1):\n",
    "    ''' A single iterative DNS query\n",
    "    \n",
    "    Args:\n",
    "        hostname (str): host to be queried\n",
    "        rdtype (str): type A, NS, or MX\n",
    "        where (str):  IP address of query destination\n",
    "    \n",
    "    Return: \n",
    "        response (dns.message.Message): the response of a single query\n",
    "        \n",
    "    Exception:\n",
    "        May raise an exception\n",
    "    '''\n",
    "    a_query = dns.message.make_query(hostname, rdtype)\n",
    "    try:\n",
    "        print('single iterate: ', hostname, rdtype, where)\n",
    "        response = dns.query.udp(a_query, where, timeout)\n",
    "        return response\n",
    "    except Exception as e:\n",
    "        raise e  # Let the block who call this function catch the exception"
   ]
  },
  {
   "cell_type": "code",
   "execution_count": 12,
   "metadata": {
    "collapsed": true
   },
   "outputs": [],
   "source": [
    "def check_response(response, rdtype):\n",
    "    '''Check whether the response has a valid IP address in its ANSWER section.\n",
    "    \n",
    "    Args:\n",
    "        response (dns.message.Message): the response of a single query\n",
    "        rdtype (str): type A=1, NS=2, CNAME=5, MX=15\n",
    "    \n",
    "    Return:\n",
    "        True or False\n",
    "    '''\n",
    "    try:\n",
    "        if rdtype == 'A':\n",
    "            ip = get_ip_from_rrset(response.answer[0])\n",
    "            ipaddress.ip_address(ip)\n",
    "            return True\n",
    "        elif rdtype == 'NS':                           # return NS when 'dig cnn.com NS'\n",
    "            answer_type = response.answer[0].rdtype    # return all the CNAMEs when 'dig www.cnn.com NS'\n",
    "            if answer_type == 2:\n",
    "                return True                            # if NS, then return the answer\n",
    "            elif answer_type == 5:\n",
    "                return False                           # if CNAME, then keep looking for its NS\n",
    "            else:\n",
    "                return False                           # not sure if this condtion exist\n",
    "        elif rdtype == 'MX':\n",
    "            answer_type = response.answer[0].rdtype    # if MX, then return the answer\n",
    "            if answer_type == 15:\n",
    "                return True\n",
    "            elif answer_type == 5:                     # if CNAME, then keep looking for its MX\n",
    "                return False\n",
    "            else:\n",
    "                return False                           # not sure if this condtion exist\n",
    "    except Exception as e:\n",
    "        return False            "
   ]
  },
  {
   "cell_type": "code",
   "execution_count": 13,
   "metadata": {
    "collapsed": true
   },
   "outputs": [],
   "source": [
    "def dns_resolver(hostname, rdtype):\n",
    "    ''' My DNS resolver version 0.1\n",
    "    \n",
    "    Args:\n",
    "        hostname (str): target hostname\n",
    "        rdtype (str):   type A, NS, or MX\n",
    "        cnames (list):  a list of CNAMES during a dns query\n",
    "        \n",
    "    Return:\n",
    "        response (dns.message.Message): response of this dns query\n",
    "    '''\n",
    "    for root in root_servers.values():\n",
    "        response = single_iterate(hostname, rdtype, root)\n",
    "        if len(response.additional) == 0:\n",
    "            continue                     # root doesn't have top level domain information\n",
    "        while(len(response.answer)==0):  # answer section is empty, then keep interating\n",
    "            for rrset in response.additional:\n",
    "                next_ip = get_ip_from_rrset(rrset)\n",
    "                response = single_iterate(hostname, rdtype, next_ip)\n",
    "                if len(response.answer)!=0 or len(response.additional)!=0: # if exist answer or exist additional, then the iterate is good\n",
    "                    break  # if both no answer and no additional, then iterate agian using another ip\n",
    "        if check_response(response): # ip is in the response\n",
    "            return response\n",
    "        else:                         # CNAME is in the response\n",
    "            for rrset in response.answer:\n",
    "                cname = get_cname_from_rrset(rrset)\n",
    "                print(cname)\n",
    "                return dns_resolver(cname, rdtype)"
   ]
  },
  {
   "cell_type": "code",
   "execution_count": 14,
   "metadata": {
    "collapsed": true
   },
   "outputs": [],
   "source": [
    "def dns_resolver_2(hostname, rdtype, cnames):\n",
    "    ''' My DNS resolver version 0.2\n",
    "    \n",
    "    Args:\n",
    "        hostname (str): target hostname\n",
    "        rdtype (str):   type A, NS, or MX\n",
    "        cnames (list):  a list of CNAMES during a dns query\n",
    "        \n",
    "    Return:\n",
    "        response (dns.message.Message): response of this dns query\n",
    "    '''\n",
    "    for root in root_servers.values():\n",
    "        try:\n",
    "            response = single_iterate(hostname, rdtype, root, timeout=1)\n",
    "            if len(response.additional) == 0:\n",
    "                continue                           # root doesn't have top level domain information\n",
    "            while(len(response.answer)==0 ):       # if ANSWER section is empty, then keep iterating\n",
    "                if len(response.additional) > 0:   # use the IP in ADDITIONAL section\n",
    "                    for rrset in response.additional:\n",
    "                        next_ip = get_ip_from_rrset(rrset)\n",
    "                        try:\n",
    "                            response2 = single_iterate(hostname, rdtype, next_ip, timeout=1)\n",
    "                            response = response2\n",
    "                            break\n",
    "                        except Exception as e:\n",
    "                            pass  # print('Oops! Authoratative server timeout, try next one. ', e)\n",
    "                else:             # if both ANSWER and ADDITIONAL is empty, then find the IP of AUTHORITY  \n",
    "                    ns = get_ns_from_authority(response)\n",
    "                    response2 = dns_resolver_2(ns, rdtype, cnames)\n",
    "                    authority_answer = response2.answer[0]\n",
    "                    response.additional.append(authority_answer)  # add rrset that contains IP of a AUTHORITY to response\n",
    "            if check_response(response):  # ip is in the response\n",
    "                return response\n",
    "            else:                         # CNAME is in the response\n",
    "                for rrset in response.answer:\n",
    "                    cname = get_cname_from_rrset(rrset)\n",
    "                    cnames.append(cname)\n",
    "                    return dns_resolver_2(cname, rdtype, cnames)\n",
    "            break\n",
    "        except Exception as e:\n",
    "            pass   # print('Oops! Some error, start from a new root server.', e)"
   ]
  },
  {
   "cell_type": "code",
   "execution_count": 15,
   "metadata": {
    "collapsed": true
   },
   "outputs": [],
   "source": [
    "def dns_resolver_3(hostname, rdtype, cnames):\n",
    "    ''' My DNS resolver version 0.3\n",
    "    \n",
    "    Args:\n",
    "        hostname (str): target hostname\n",
    "        rdtype (str):   type A, NS, or MX\n",
    "        cnames (list):  a list of CNAMES during a dns query\n",
    "        \n",
    "    Return:\n",
    "        response (dns.message.Message): response of this dns query\n",
    "    '''\n",
    "    for root in root_servers.values():\n",
    "        try:\n",
    "            response = single_iterate(hostname, rdtype, root, timeout=0.5)\n",
    "            if len(response.additional) == 0:\n",
    "                continue                           # root doesn't have top level domain information\n",
    "            while(len(response.answer)==0 ):       # if ANSWER section is empty, then keep iterating\n",
    "                if len(response.additional) > 0:   # use the IP in ADDITIONAL section\n",
    "                    for rrset in response.additional:\n",
    "                        next_ip = get_ip_from_rrset(rrset)\n",
    "                        try:\n",
    "                            response2 = single_iterate(hostname, rdtype, next_ip, timeout=0.5)\n",
    "                            response = response2\n",
    "                            break\n",
    "                        except Exception as e:\n",
    "                            pass  # print('Oops! Authoratative server timeout, try next one. ', e)\n",
    "                else:             # if both ANSWER and ADDITIONAL is empty, then find the IP of AUTHORITY  \n",
    "                    ns = get_ns_from_authority(response)\n",
    "                    if check_hostname(ns):\n",
    "                        response2 = dns_resolver_3(ns, 'A', cnames)\n",
    "                        authority_answer = response2.answer[0]\n",
    "                        response.additional.append(authority_answer)  # add rrset that contains IP of a AUTHORITY to response\n",
    "                    else:\n",
    "                         return response   # hostname in AUTHORITY is not valid\n",
    "            #print('check response-1')\n",
    "            if check_response(response, rdtype):  # ip is in the response\n",
    "                #print('check response-2')\n",
    "                return response\n",
    "            else:                         # CNAME is in the response\n",
    "                for rrset in response.answer:\n",
    "                    cname = get_cname_from_rrset(rrset)\n",
    "                    cnames.append(cname)\n",
    "                    return dns_resolver_3(cname, rdtype, cnames)\n",
    "            break\n",
    "        except Exception as e:\n",
    "            pass   # print('Oops! Some error, start from a new root server.', e)"
   ]
  },
  {
   "cell_type": "code",
   "execution_count": 35,
   "metadata": {},
   "outputs": [
    {
     "name": "stdout",
     "output_type": "stream",
     "text": [
      "single iterate:  www.cnn.com A 198.41.0.4\n",
      "single iterate:  www.cnn.com A 192.5.6.30\n",
      "single iterate:  www.cnn.com A 205.251.192.47\n",
      "check response-1\n",
      "single iterate:  turner-tls.map.fastly.net. A 198.41.0.4\n",
      "single iterate:  turner-tls.map.fastly.net. A 192.5.6.30\n",
      "single iterate:  turner-tls.map.fastly.net. A 23.235.32.32\n",
      "check response-1\n",
      "check response-2\n",
      "QUESTION SECTION:\n",
      "www.cnn.com.                           IN   A    \n",
      "\n",
      "ANSWER SECTION:\n",
      "www.cnn.com.                     30    IN   CNAME  turner-tls.map.fastly.net.\n",
      "turner-tls.map.fastly.net.       30    IN   A      151.101.21.67\n",
      "\n",
      "Query time: 322 msec\n",
      "WHEN: Tue Feb 13 22:10:05 2018\n",
      "MSG SIZE rcvd:  142\n"
     ]
    }
   ],
   "source": [
    "# non-cache version\n",
    "\n",
    "hostname = 'www.cnn.com'\n",
    "rdtype = 'A'\n",
    "cnames = []\n",
    "\n",
    "start = time.time()\n",
    "\n",
    "myresponse = dns_resolver_3(hostname, rdtype, cnames)\n",
    "\n",
    "elapsed = time.time() - start\n",
    "\n",
    "output(hostname, rdtype, myresponse, elapsed, cnames)"
   ]
  },
  {
   "cell_type": "code",
   "execution_count": null,
   "metadata": {
    "collapsed": true
   },
   "outputs": [],
   "source": []
  },
  {
   "cell_type": "code",
   "execution_count": 17,
   "metadata": {},
   "outputs": [
    {
     "ename": "NameError",
     "evalue": "name 'cache' is not defined",
     "output_type": "error",
     "traceback": [
      "\u001b[0;31m---------------------------------------------------------------------------\u001b[0m",
      "\u001b[0;31mNameError\u001b[0m                                 Traceback (most recent call last)",
      "\u001b[0;32m<ipython-input-17-45fd02f8309d>\u001b[0m in \u001b[0;36m<module>\u001b[0;34m()\u001b[0m\n\u001b[1;32m      7\u001b[0m \u001b[0mstart\u001b[0m \u001b[0;34m=\u001b[0m \u001b[0mtime\u001b[0m\u001b[0;34m.\u001b[0m\u001b[0mtime\u001b[0m\u001b[0;34m(\u001b[0m\u001b[0;34m)\u001b[0m\u001b[0;34m\u001b[0m\u001b[0m\n\u001b[1;32m      8\u001b[0m \u001b[0;34m\u001b[0m\u001b[0m\n\u001b[0;32m----> 9\u001b[0;31m \u001b[0;32mif\u001b[0m \u001b[0mcache\u001b[0m\u001b[0;34m.\u001b[0m\u001b[0mget\u001b[0m\u001b[0;34m(\u001b[0m\u001b[0mhostname\u001b[0m \u001b[0;34m+\u001b[0m \u001b[0;34m' '\u001b[0m \u001b[0;34m+\u001b[0m \u001b[0mrdtype\u001b[0m\u001b[0;34m)\u001b[0m\u001b[0;34m:\u001b[0m\u001b[0;34m\u001b[0m\u001b[0m\n\u001b[0m\u001b[1;32m     10\u001b[0m     \u001b[0mstring\u001b[0m \u001b[0;34m=\u001b[0m \u001b[0mcache\u001b[0m\u001b[0;34m[\u001b[0m\u001b[0mhostname\u001b[0m \u001b[0;34m+\u001b[0m \u001b[0;34m' '\u001b[0m \u001b[0;34m+\u001b[0m \u001b[0mrdtype\u001b[0m\u001b[0;34m]\u001b[0m\u001b[0;34m\u001b[0m\u001b[0m\n\u001b[1;32m     11\u001b[0m     \u001b[0melapsed\u001b[0m \u001b[0;34m=\u001b[0m \u001b[0mtime\u001b[0m\u001b[0;34m.\u001b[0m\u001b[0mtime\u001b[0m\u001b[0;34m(\u001b[0m\u001b[0;34m)\u001b[0m \u001b[0;34m-\u001b[0m \u001b[0mstart\u001b[0m\u001b[0;34m\u001b[0m\u001b[0m\n",
      "\u001b[0;31mNameError\u001b[0m: name 'cache' is not defined"
     ]
    }
   ],
   "source": [
    "# cache version\n",
    "\n",
    "hostname = 'www.google.com'\n",
    "rdtype = 'A'\n",
    "cnames = []\n",
    "\n",
    "start = time.time()\n",
    "\n",
    "if cache.get(hostname + ' ' + rdtype):\n",
    "    string = cache[hostname + ' ' + rdtype]\n",
    "    elapsed = time.time() - start\n",
    "    output_cache(string, elapsed)\n",
    "else:\n",
    "    myresponse = dns_resolver_3(hostname, rdtype, cnames)\n",
    "    elapsed = time.time() - start\n",
    "    output(hostname, rdtype, myresponse, elapsed, cnames)"
   ]
  },
  {
   "cell_type": "code",
   "execution_count": 81,
   "metadata": {
    "collapsed": true
   },
   "outputs": [],
   "source": [
    "cache.clear()"
   ]
  },
  {
   "cell_type": "code",
   "execution_count": 181,
   "metadata": {},
   "outputs": [
    {
     "name": "stdout",
     "output_type": "stream",
     "text": [
      "www.cnn.com A\n",
      "\n",
      "\n",
      "www.baidu.com A\n",
      "\n",
      "\n",
      "www.cnn.com NS\n",
      "\n",
      "\n",
      "cnn.com NS\n",
      "\n",
      "\n",
      "163.com NS\n",
      "\n",
      "\n",
      "www.163.com NS\n",
      "\n",
      "\n",
      "www.163.com A\n",
      "\n",
      "\n",
      "www.baidu.com NS\n",
      "\n",
      "\n",
      "amazon.com NS\n",
      "\n",
      "\n",
      "www.amazon.com A\n",
      "\n",
      "\n",
      "www.amazon.com NS\n",
      "\n",
      "\n",
      "www.qq.com NS\n",
      "\n",
      "\n",
      "sina.com NS\n",
      "\n",
      "\n",
      "www.sina.com NS\n",
      "\n",
      "\n"
     ]
    }
   ],
   "source": [
    "for key, value in cache.items():\n",
    "    print(key)\n",
    "    print('\\n')"
   ]
  },
  {
   "cell_type": "code",
   "execution_count": null,
   "metadata": {
    "collapsed": true
   },
   "outputs": [],
   "source": []
  }
 ],
 "metadata": {
  "kernelspec": {
   "display_name": "Python 3",
   "language": "python",
   "name": "python3"
  },
  "language_info": {
   "codemirror_mode": {
    "name": "ipython",
    "version": 3
   },
   "file_extension": ".py",
   "mimetype": "text/x-python",
   "name": "python",
   "nbconvert_exporter": "python",
   "pygments_lexer": "ipython3",
   "version": "3.6.3"
  }
 },
 "nbformat": 4,
 "nbformat_minor": 2
}
