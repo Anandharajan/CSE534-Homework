{
 "cells": [
  {
   "cell_type": "code",
   "execution_count": 269,
   "metadata": {
    "collapsed": true
   },
   "outputs": [],
   "source": [
    "import dns.resolver\n",
    "import dns.query\n",
    "import dns.zone\n",
    "import dns.tsigkeyring\n",
    "import dns.update\n",
    "import sys\n",
    "import dns.ipv4\n",
    "import os.path\n",
    "import dns.reversename\n",
    "import dns.message\n",
    "import dns.rdataclass\n",
    "import dns.rdatatype\n",
    "import random"
   ]
  },
  {
   "cell_type": "code",
   "execution_count": 50,
   "metadata": {},
   "outputs": [
    {
     "name": "stdout",
     "output_type": "stream",
     "text": [
      "The query is:\n",
      "id 63047\n",
      "opcode QUERY\n",
      "rcode NOERROR\n",
      "flags RD\n",
      ";QUESTION\n",
      "amazon.com. IN NS\n",
      ";ANSWER\n",
      ";AUTHORITY\n",
      ";ADDITIONAL\n",
      "\n"
     ]
    }
   ],
   "source": [
    "qname = dns.name.from_text('amazon.com')\n",
    "q = dns.message.make_query(qname, dns.rdatatype.NS)\n",
    "print('The query is:')\n",
    "print(q)\n",
    "print('')"
   ]
  },
  {
   "cell_type": "code",
   "execution_count": 55,
   "metadata": {},
   "outputs": [
    {
     "name": "stdout",
     "output_type": "stream",
     "text": [
      "The response is:\n",
      "id 63047\n",
      "opcode QUERY\n",
      "rcode NOERROR\n",
      "flags QR RD RA\n",
      ";QUESTION\n",
      "amazon.com. IN NS\n",
      ";ANSWER\n",
      "amazon.com. 3465 IN NS pdns1.ultradns.net.\n",
      "amazon.com. 3465 IN NS ns4.p31.dynect.net.\n",
      "amazon.com. 3465 IN NS ns3.p31.dynect.net.\n",
      "amazon.com. 3465 IN NS ns2.p31.dynect.net.\n",
      "amazon.com. 3465 IN NS ns1.p31.dynect.net.\n",
      "amazon.com. 3465 IN NS pdns6.ultradns.co.uk.\n",
      ";AUTHORITY\n",
      ";ADDITIONAL\n",
      "\n"
     ]
    }
   ],
   "source": [
    "r = dns.query.udp(q, '8.8.8.8')\n",
    "print('The response is:')\n",
    "print(r)\n",
    "print('')"
   ]
  },
  {
   "cell_type": "code",
   "execution_count": 58,
   "metadata": {},
   "outputs": [
    {
     "name": "stdout",
     "output_type": "stream",
     "text": [
      "The nameservers are:\n",
      "pdns1.ultradns.net.\n",
      "ns4.p31.dynect.net.\n",
      "ns3.p31.dynect.net.\n",
      "ns2.p31.dynect.net.\n",
      "ns1.p31.dynect.net.\n",
      "pdns6.ultradns.co.uk.\n",
      "\n"
     ]
    }
   ],
   "source": [
    "print('The nameservers are:')\n",
    "ns_rrset = r.find_rrset(r.answer, qname, dns.rdataclass.IN, dns.rdatatype.NS)\n",
    "for rr in ns_rrset:\n",
    "    print(rr.target)\n",
    "print('')"
   ]
  },
  {
   "cell_type": "code",
   "execution_count": 63,
   "metadata": {},
   "outputs": [
    {
     "name": "stdout",
     "output_type": "stream",
     "text": [
      "The nameservers are:\n",
      "ns4.p31.dynect.net.\n",
      "ns3.p31.dynect.net.\n",
      "pdns1.ultradns.net.\n",
      "pdns6.ultradns.co.uk.\n",
      "ns2.p31.dynect.net.\n",
      "ns1.p31.dynect.net.\n"
     ]
    }
   ],
   "source": [
    "resolver = dns.resolver.Resolver(configure=False)\n",
    "resolver.nameservers = ['8.8.8.8']\n",
    "answers = dns.resolver.query('amazon.com', 'NS')\n",
    "print('The nameservers are:')\n",
    "for rr in answers:\n",
    "    print(rr.target)"
   ]
  },
  {
   "cell_type": "code",
   "execution_count": 2,
   "metadata": {
    "collapsed": true
   },
   "outputs": [],
   "source": [
    "def print_response(response):\n",
    "    '''Print the response's answer, authority, and additional\n",
    "    \n",
    "    Args:\n",
    "        response (dns.message.Message): a response of a single iterative DNS query\n",
    "    '''\n",
    "    print('\\n', 'QUESTION:')\n",
    "    for i in response.question:\n",
    "        print(i.to_text())\n",
    "    \n",
    "    print('\\n', 'ANSWER:')\n",
    "    for i in response.answer:\n",
    "        print(i.to_text())\n",
    "    \n",
    "    print('\\n', 'AUTHORITY:')\n",
    "    for i in response.authority:\n",
    "        print(i.to_text())\n",
    "        \n",
    "    print('\\n', 'ADDITIONAL:')\n",
    "    for i in response.additional:\n",
    "        print(i.to_text())"
   ]
  },
  {
   "cell_type": "code",
   "execution_count": 344,
   "metadata": {
    "collapsed": true
   },
   "outputs": [],
   "source": [
    "a_query = dns.message.make_query('www.google.co.jp', 'A')"
   ]
  },
  {
   "cell_type": "code",
   "execution_count": 345,
   "metadata": {},
   "outputs": [
    {
     "name": "stdout",
     "output_type": "stream",
     "text": [
      "\n",
      " QUESTION:\n",
      "www.google.co.jp. IN A\n",
      "\n",
      " ANSWER:\n",
      "\n",
      " AUTHORITY:\n",
      "jp. 172800 IN NS a.dns.jp.\n",
      "jp. 172800 IN NS d.dns.jp.\n",
      "jp. 172800 IN NS e.dns.jp.\n",
      "jp. 172800 IN NS f.dns.jp.\n",
      "jp. 172800 IN NS h.dns.jp.\n",
      "jp. 172800 IN NS g.dns.jp.\n",
      "jp. 172800 IN NS c.dns.jp.\n",
      "jp. 172800 IN NS b.dns.jp.\n",
      "\n",
      " ADDITIONAL:\n",
      "a.dns.jp. 172800 IN A 203.119.1.1\n",
      "a.dns.jp. 172800 IN AAAA 2001:dc4::1\n",
      "d.dns.jp. 172800 IN A 210.138.175.244\n",
      "d.dns.jp. 172800 IN AAAA 2001:240::53\n",
      "e.dns.jp. 172800 IN A 192.50.43.53\n",
      "e.dns.jp. 172800 IN AAAA 2001:200:c000::35\n",
      "f.dns.jp. 172800 IN A 150.100.6.8\n",
      "f.dns.jp. 172800 IN AAAA 2001:2f8:0:100::153\n",
      "h.dns.jp. 172800 IN A 65.22.40.25\n",
      "h.dns.jp. 172800 IN AAAA 2a01:8840:1ba::25\n",
      "g.dns.jp. 172800 IN A 203.119.40.1\n",
      "c.dns.jp. 172800 IN A 156.154.100.5\n",
      "c.dns.jp. 172800 IN AAAA 2001:502:ad09::5\n",
      "b.dns.jp. 172800 IN A 202.12.30.131\n",
      "b.dns.jp. 172800 IN AAAA 2001:dc2::1\n"
     ]
    }
   ],
   "source": [
    "response1 = dns.query.udp(a_query, '198.41.0.4')\n",
    "print_response(response1)"
   ]
  },
  {
   "cell_type": "code",
   "execution_count": 346,
   "metadata": {},
   "outputs": [
    {
     "name": "stdout",
     "output_type": "stream",
     "text": [
      "\n",
      " QUESTION:\n",
      "www.google.co.jp. IN A\n",
      "\n",
      " ANSWER:\n",
      "\n",
      " AUTHORITY:\n",
      "google.co.jp. 86400 IN NS ns3.google.net.\n",
      "google.co.jp. 86400 IN NS ns4.google.net.\n",
      "google.co.jp. 86400 IN NS ns2.google.net.\n",
      "google.co.jp. 86400 IN NS ns1.google.net.\n",
      "\n",
      " ADDITIONAL:\n"
     ]
    }
   ],
   "source": [
    "response2 = dns.query.udp(a_query, '203.119.1.1')\n",
    "print_response(response2)"
   ]
  },
  {
   "cell_type": "code",
   "execution_count": 93,
   "metadata": {},
   "outputs": [
    {
     "name": "stdout",
     "output_type": "stream",
     "text": [
      "\n",
      " QUESTION:\n",
      "www.163.com. IN A\n",
      "\n",
      " ANSWER:\n",
      "www.163.com. 600 IN CNAME www.163.com.lxdns.com.\n",
      "\n",
      " AUTHORITY:\n",
      "\n",
      " ADDITIONAL:\n"
     ]
    }
   ],
   "source": [
    "response3 = dns.query.udp(a_query, '220.181.36.234')\n",
    "print_response(response3)"
   ]
  },
  {
   "cell_type": "code",
   "execution_count": 66,
   "metadata": {
    "collapsed": true
   },
   "outputs": [],
   "source": [
    "def get_cname_from_rrset(rrset):\n",
    "    '''Get CNAME from a RRset (from ANSWER section)\n",
    "    \n",
    "    Args:\n",
    "        rrset (A DNS RRset): contains an CNAME to be extracted\n",
    "        \n",
    "    Returns:\n",
    "        CNAME (str): the CNAME in the RRset\n",
    "    '''\n",
    "    try:\n",
    "        item = rrset.items[0]\n",
    "        return item.to_text()\n",
    "    except Exception as e:\n",
    "        print('Oops! Some issue with rrset: ', e)"
   ]
  },
  {
   "cell_type": "code",
   "execution_count": 107,
   "metadata": {
    "collapsed": true
   },
   "outputs": [],
   "source": [
    "b_query = dns.message.make_query('www.163.com.lxdns.com', 'A')"
   ]
  },
  {
   "cell_type": "code",
   "execution_count": 108,
   "metadata": {},
   "outputs": [
    {
     "name": "stdout",
     "output_type": "stream",
     "text": [
      "\n",
      " QUESTION:\n",
      "www.163.com.lxdns.com. IN A\n",
      "\n",
      " ANSWER:\n",
      "\n",
      " AUTHORITY:\n",
      "com. 172800 IN NS d.gtld-servers.net.\n",
      "com. 172800 IN NS a.gtld-servers.net.\n",
      "com. 172800 IN NS b.gtld-servers.net.\n",
      "com. 172800 IN NS f.gtld-servers.net.\n",
      "com. 172800 IN NS e.gtld-servers.net.\n",
      "com. 172800 IN NS l.gtld-servers.net.\n",
      "com. 172800 IN NS i.gtld-servers.net.\n",
      "com. 172800 IN NS m.gtld-servers.net.\n",
      "com. 172800 IN NS h.gtld-servers.net.\n",
      "com. 172800 IN NS g.gtld-servers.net.\n",
      "com. 172800 IN NS j.gtld-servers.net.\n",
      "com. 172800 IN NS c.gtld-servers.net.\n",
      "com. 172800 IN NS k.gtld-servers.net.\n",
      "\n",
      " ADDITIONAL:\n",
      "a.gtld-servers.net. 172800 IN A 192.5.6.30\n",
      "b.gtld-servers.net. 172800 IN A 192.33.14.30\n",
      "c.gtld-servers.net. 172800 IN A 192.26.92.30\n",
      "d.gtld-servers.net. 172800 IN A 192.31.80.30\n",
      "e.gtld-servers.net. 172800 IN A 192.12.94.30\n",
      "f.gtld-servers.net. 172800 IN A 192.35.51.30\n",
      "g.gtld-servers.net. 172800 IN A 192.42.93.30\n",
      "h.gtld-servers.net. 172800 IN A 192.54.112.30\n",
      "i.gtld-servers.net. 172800 IN A 192.43.172.30\n",
      "j.gtld-servers.net. 172800 IN A 192.48.79.30\n",
      "k.gtld-servers.net. 172800 IN A 192.52.178.30\n",
      "l.gtld-servers.net. 172800 IN A 192.41.162.30\n",
      "m.gtld-servers.net. 172800 IN A 192.55.83.30\n",
      "a.gtld-servers.net. 172800 IN AAAA 2001:503:a83e::2:30\n"
     ]
    }
   ],
   "source": [
    "response4 = dns.query.udp(b_query, '199.9.14.201')\n",
    "print_response(response4)"
   ]
  },
  {
   "cell_type": "code",
   "execution_count": 161,
   "metadata": {},
   "outputs": [
    {
     "data": {
      "text/plain": [
       "0"
      ]
     },
     "execution_count": 161,
     "metadata": {},
     "output_type": "execute_result"
    }
   ],
   "source": [
    "len(response5.additional)"
   ]
  },
  {
   "cell_type": "code",
   "execution_count": 250,
   "metadata": {},
   "outputs": [
    {
     "name": "stdout",
     "output_type": "stream",
     "text": [
      "\n",
      " QUESTION:\n",
      "www.163.com.lxdns.com. IN A\n",
      "\n",
      " ANSWER:\n",
      "\n",
      " AUTHORITY:\n",
      "lxdns.com. 172800 IN NS dns2.lxdns.info.\n",
      "lxdns.com. 172800 IN NS dns4.lxdns.info.\n",
      "lxdns.com. 172800 IN NS dns1.lxdns.org.\n",
      "lxdns.com. 172800 IN NS dns3.lxdns.org.\n",
      "lxdns.com. 172800 IN NS dns5.lxdns.org.\n",
      "\n",
      " ADDITIONAL:\n"
     ]
    }
   ],
   "source": [
    "response5 = dns.query.udp(b_query, '192.55.83.30')\n",
    "print_response(response5)"
   ]
  },
  {
   "cell_type": "code",
   "execution_count": 162,
   "metadata": {
    "collapsed": true
   },
   "outputs": [],
   "source": [
    "def get_ns_from_authority(response):\n",
    "    rrsets = response.authority[0]\n",
    "    return rrsets.items"
   ]
  },
  {
   "cell_type": "code",
   "execution_count": 163,
   "metadata": {
    "collapsed": true
   },
   "outputs": [],
   "source": [
    "ns = get_ns_from_authority(response5)"
   ]
  },
  {
   "cell_type": "code",
   "execution_count": 164,
   "metadata": {},
   "outputs": [
    {
     "data": {
      "text/plain": [
       "[<DNS IN NS rdata: dns2.lxdns.info.>,\n",
       " <DNS IN NS rdata: dns4.lxdns.info.>,\n",
       " <DNS IN NS rdata: dns1.lxdns.org.>,\n",
       " <DNS IN NS rdata: dns3.lxdns.org.>,\n",
       " <DNS IN NS rdata: dns5.lxdns.org.>]"
      ]
     },
     "execution_count": 164,
     "metadata": {},
     "output_type": "execute_result"
    }
   ],
   "source": [
    "ns"
   ]
  },
  {
   "cell_type": "code",
   "execution_count": 153,
   "metadata": {},
   "outputs": [],
   "source": [
    "rrset = response5.authority[0]\n",
    "items = rrset.items"
   ]
  },
  {
   "cell_type": "code",
   "execution_count": 158,
   "metadata": {},
   "outputs": [
    {
     "name": "stdout",
     "output_type": "stream",
     "text": [
      "dns2.lxdns.info.\n",
      "dns4.lxdns.info.\n",
      "dns1.lxdns.org.\n",
      "dns3.lxdns.org.\n",
      "dns5.lxdns.org.\n"
     ]
    }
   ],
   "source": [
    "for item in items:\n",
    "    print(item.to_text())"
   ]
  },
  {
   "cell_type": "code",
   "execution_count": 159,
   "metadata": {},
   "outputs": [
    {
     "name": "stdout",
     "output_type": "stream",
     "text": [
      "\n",
      " QUESTION:\n",
      "dns2.lxdns.info. IN A\n",
      "\n",
      " ANSWER:\n",
      "\n",
      " AUTHORITY:\n",
      "info. 172800 IN NS a0.info.afilias-nst.info.\n",
      "info. 172800 IN NS a2.info.afilias-nst.info.\n",
      "info. 172800 IN NS b0.info.afilias-nst.org.\n",
      "info. 172800 IN NS b2.info.afilias-nst.org.\n",
      "info. 172800 IN NS c0.info.afilias-nst.info.\n",
      "info. 172800 IN NS d0.info.afilias-nst.org.\n",
      "\n",
      " ADDITIONAL:\n",
      "a0.info.afilias-nst.info. 172800 IN A 199.254.31.1\n",
      "a2.info.afilias-nst.info. 172800 IN A 199.249.113.1\n",
      "b0.info.afilias-nst.org. 172800 IN A 199.254.48.1\n",
      "b2.info.afilias-nst.org. 172800 IN A 199.249.121.1\n",
      "c0.info.afilias-nst.info. 172800 IN A 199.254.49.1\n",
      "d0.info.afilias-nst.org. 172800 IN A 199.254.50.1\n",
      "a0.info.afilias-nst.info. 172800 IN AAAA 2001:500:19::1\n",
      "a2.info.afilias-nst.info. 172800 IN AAAA 2001:500:41::1\n",
      "b0.info.afilias-nst.org. 172800 IN AAAA 2001:500:1a::1\n",
      "b2.info.afilias-nst.org. 172800 IN AAAA 2001:500:49::1\n",
      "c0.info.afilias-nst.info. 172800 IN AAAA 2001:500:1b::1\n",
      "d0.info.afilias-nst.org. 172800 IN AAAA 2001:500:1c::1\n"
     ]
    }
   ],
   "source": [
    "c_query = dns.message.make_query('dns2.lxdns.info.', 'A')\n",
    "response6 = dns.query.udp(c_query, '198.41.0.4')\n",
    "print_response(response6)"
   ]
  },
  {
   "cell_type": "code",
   "execution_count": 117,
   "metadata": {},
   "outputs": [
    {
     "name": "stdout",
     "output_type": "stream",
     "text": [
      "\n",
      " QUESTION:\n",
      "dns2.lxdns.info. IN A\n",
      "\n",
      " ANSWER:\n",
      "\n",
      " AUTHORITY:\n",
      "lxdns.info. 86400 IN NS ns1.lxdns.info.\n",
      "lxdns.info. 86400 IN NS ns3.lxdns.info.\n",
      "lxdns.info. 86400 IN NS ns2.lxdns.info.\n",
      "lxdns.info. 86400 IN NS ns4.lxdns.info.\n",
      "lxdns.info. 86400 IN NS ns5.lxdns.info.\n",
      "\n",
      " ADDITIONAL:\n",
      "ns1.lxdns.info. 86400 IN A 183.131.192.82\n",
      "ns2.lxdns.info. 86400 IN A 125.46.22.158\n",
      "ns3.lxdns.info. 86400 IN A 113.107.57.74\n",
      "ns4.lxdns.info. 86400 IN A 122.138.54.37\n",
      "ns5.lxdns.info. 86400 IN A 14.119.111.147\n"
     ]
    }
   ],
   "source": [
    "response7 = dns.query.udp(c_query, '199.254.31.1')\n",
    "print_response(response7)"
   ]
  },
  {
   "cell_type": "code",
   "execution_count": 251,
   "metadata": {},
   "outputs": [
    {
     "name": "stdout",
     "output_type": "stream",
     "text": [
      "\n",
      " QUESTION:\n",
      "dns2.lxdns.info. IN A\n",
      "\n",
      " ANSWER:\n",
      "dns2.lxdns.info. 7200 IN A 125.46.22.158\n",
      "\n",
      " AUTHORITY:\n",
      "lxdns.info. 86400 IN NS ns3.lxdns.info.\n",
      "lxdns.info. 86400 IN NS ns1.lxdns.info.\n",
      "lxdns.info. 86400 IN NS ns4.lxdns.info.\n",
      "lxdns.info. 86400 IN NS ns2.lxdns.info.\n",
      "lxdns.info. 86400 IN NS ns5.lxdns.info.\n",
      "\n",
      " ADDITIONAL:\n",
      "ns3.lxdns.info. 7200 IN A 183.131.192.93\n",
      "ns1.lxdns.info. 7200 IN A 183.131.192.82\n",
      "ns4.lxdns.info. 7200 IN A 111.178.234.69\n",
      "ns2.lxdns.info. 7200 IN A 125.46.22.158\n",
      "ns5.lxdns.info. 7200 IN A 14.119.111.147\n"
     ]
    }
   ],
   "source": [
    "response8 = dns.query.udp(c_query, '183.131.192.82')\n",
    "print_response(response8)"
   ]
  },
  {
   "cell_type": "code",
   "execution_count": 328,
   "metadata": {},
   "outputs": [
    {
     "data": {
      "text/plain": [
       "dns.rrset.RRset"
      ]
     },
     "execution_count": 328,
     "metadata": {},
     "output_type": "execute_result"
    }
   ],
   "source": [
    "item = response8.authority[0]\n",
    "type(item)"
   ]
  },
  {
   "cell_type": "code",
   "execution_count": 254,
   "metadata": {},
   "outputs": [
    {
     "data": {
      "text/plain": [
       "'dns2.lxdns.info. 7200 IN A 125.46.22.158'"
      ]
     },
     "execution_count": 254,
     "metadata": {},
     "output_type": "execute_result"
    }
   ],
   "source": [
    "item.to_text()"
   ]
  },
  {
   "cell_type": "code",
   "execution_count": 246,
   "metadata": {},
   "outputs": [],
   "source": [
    "response8.additional.append(item)"
   ]
  },
  {
   "cell_type": "code",
   "execution_count": 247,
   "metadata": {},
   "outputs": [
    {
     "name": "stdout",
     "output_type": "stream",
     "text": [
      "\n",
      " QUESTION:\n",
      "dns2.lxdns.info. IN A\n",
      "\n",
      " ANSWER:\n",
      "dns2.lxdns.info. 7200 IN A 125.46.22.158\n",
      "\n",
      " AUTHORITY:\n",
      "lxdns.info. 86400 IN NS ns5.lxdns.info.\n",
      "lxdns.info. 86400 IN NS ns2.lxdns.info.\n",
      "lxdns.info. 86400 IN NS ns1.lxdns.info.\n",
      "lxdns.info. 86400 IN NS ns4.lxdns.info.\n",
      "lxdns.info. 86400 IN NS ns3.lxdns.info.\n",
      "\n",
      " ADDITIONAL:\n",
      "ns5.lxdns.info. 7200 IN A 14.119.111.147\n",
      "ns2.lxdns.info. 7200 IN A 125.46.22.158\n",
      "ns1.lxdns.info. 7200 IN A 183.131.192.82\n",
      "ns4.lxdns.info. 7200 IN A 111.178.234.69\n",
      "ns3.lxdns.info. 7200 IN A 183.131.192.93\n",
      "dns2.lxdns.info. 7200 IN A 125.46.22.158\n"
     ]
    }
   ],
   "source": [
    "print_response(response8)"
   ]
  },
  {
   "cell_type": "code",
   "execution_count": 230,
   "metadata": {},
   "outputs": [
    {
     "data": {
      "text/plain": [
       "'dns2.lxdns.info. 7200 IN A 125.46.22.158'"
      ]
     },
     "execution_count": 230,
     "metadata": {},
     "output_type": "execute_result"
    }
   ],
   "source": [
    "item.to_text()"
   ]
  },
  {
   "cell_type": "code",
   "execution_count": 256,
   "metadata": {},
   "outputs": [],
   "source": [
    "response5.additional.append(item)"
   ]
  },
  {
   "cell_type": "code",
   "execution_count": 257,
   "metadata": {},
   "outputs": [
    {
     "name": "stdout",
     "output_type": "stream",
     "text": [
      "\n",
      " QUESTION:\n",
      "www.163.com.lxdns.com. IN A\n",
      "\n",
      " ANSWER:\n",
      "\n",
      " AUTHORITY:\n",
      "lxdns.com. 172800 IN NS dns2.lxdns.info.\n",
      "lxdns.com. 172800 IN NS dns4.lxdns.info.\n",
      "lxdns.com. 172800 IN NS dns1.lxdns.org.\n",
      "lxdns.com. 172800 IN NS dns3.lxdns.org.\n",
      "lxdns.com. 172800 IN NS dns5.lxdns.org.\n",
      "\n",
      " ADDITIONAL:\n",
      "dns2.lxdns.info. 7200 IN A 125.46.22.158\n"
     ]
    }
   ],
   "source": [
    "print_response(response5)"
   ]
  },
  {
   "cell_type": "code",
   "execution_count": 311,
   "metadata": {},
   "outputs": [],
   "source": [
    "rrsets = response5.authority[0].items"
   ]
  },
  {
   "cell_type": "code",
   "execution_count": 323,
   "metadata": {},
   "outputs": [
    {
     "data": {
      "text/plain": [
       "'dns1.lxdns.org.'"
      ]
     },
     "execution_count": 323,
     "metadata": {},
     "output_type": "execute_result"
    }
   ],
   "source": [
    "get_ns_from_authority(response5)"
   ]
  },
  {
   "cell_type": "code",
   "execution_count": 316,
   "metadata": {},
   "outputs": [],
   "source": [
    "def get_ns_from_authority(response):\n",
    "    '''Get a name server from AUTHORITY.\n",
    "    In some cases, there is no ADDITIONAL section, just AUTHORITY section!\n",
    "    \n",
    "    Args:\n",
    "        response (dns.message.Message)\n",
    "        \n",
    "    Return:\n",
    "        string: A name of ns server\n",
    "    '''\n",
    "    rrsets = response.authority[0].items\n",
    "    index = random.randint(0, len(rrsets)-1)\n",
    "    return rrsets[index].to_text()"
   ]
  },
  {
   "cell_type": "code",
   "execution_count": 235,
   "metadata": {},
   "outputs": [],
   "source": [
    "response5.additional.append(item)"
   ]
  },
  {
   "cell_type": "code",
   "execution_count": 262,
   "metadata": {},
   "outputs": [
    {
     "data": {
      "text/plain": [
       "[<DNS IN A rdata: 125.46.22.158>]"
      ]
     },
     "execution_count": 262,
     "metadata": {},
     "output_type": "execute_result"
    }
   ],
   "source": [
    "response5.additional[0].items"
   ]
  },
  {
   "cell_type": "code",
   "execution_count": 249,
   "metadata": {},
   "outputs": [
    {
     "name": "stdout",
     "output_type": "stream",
     "text": [
      "\n",
      " QUESTION:\n",
      "www.163.com.lxdns.com. IN A\n",
      "\n",
      " ANSWER:\n",
      "\n",
      " AUTHORITY:\n",
      "lxdns.com. 172800 IN NS dns2.lxdns.info.\n",
      "lxdns.com. 172800 IN NS dns4.lxdns.info.\n",
      "lxdns.com. 172800 IN NS dns1.lxdns.org.\n",
      "lxdns.com. 172800 IN NS dns3.lxdns.org.\n",
      "lxdns.com. 172800 IN NS dns5.lxdns.org.\n",
      "\n",
      " ADDITIONAL:\n",
      "dns2.lxdns.info. 7200 IN A 125.46.22.158\n"
     ]
    }
   ],
   "source": [
    "print_response(response5)"
   ]
  },
  {
   "cell_type": "code",
   "execution_count": 119,
   "metadata": {},
   "outputs": [
    {
     "name": "stdout",
     "output_type": "stream",
     "text": [
      "\n",
      " QUESTION:\n",
      "www.163.com.lxdns.com. IN A\n",
      "\n",
      " ANSWER:\n",
      "www.163.com.lxdns.com. 600 IN CNAME opthw.xdwscache.speedcdns.com.\n",
      "\n",
      " AUTHORITY:\n",
      "\n",
      " ADDITIONAL:\n"
     ]
    }
   ],
   "source": [
    "response9 = dns.query.udp(b_query, '125.46.22.158')\n",
    "print_response(response9)"
   ]
  },
  {
   "cell_type": "code",
   "execution_count": 120,
   "metadata": {},
   "outputs": [
    {
     "name": "stdout",
     "output_type": "stream",
     "text": [
      "\n",
      " QUESTION:\n",
      "opthw.xdwscache.speedcdns.com. IN A\n",
      "\n",
      " ANSWER:\n",
      "\n",
      " AUTHORITY:\n",
      "com. 172800 IN NS a.gtld-servers.net.\n",
      "com. 172800 IN NS b.gtld-servers.net.\n",
      "com. 172800 IN NS c.gtld-servers.net.\n",
      "com. 172800 IN NS d.gtld-servers.net.\n",
      "com. 172800 IN NS e.gtld-servers.net.\n",
      "com. 172800 IN NS f.gtld-servers.net.\n",
      "com. 172800 IN NS g.gtld-servers.net.\n",
      "com. 172800 IN NS h.gtld-servers.net.\n",
      "com. 172800 IN NS i.gtld-servers.net.\n",
      "com. 172800 IN NS j.gtld-servers.net.\n",
      "com. 172800 IN NS k.gtld-servers.net.\n",
      "com. 172800 IN NS l.gtld-servers.net.\n",
      "com. 172800 IN NS m.gtld-servers.net.\n",
      "\n",
      " ADDITIONAL:\n",
      "a.gtld-servers.net. 172800 IN A 192.5.6.30\n",
      "b.gtld-servers.net. 172800 IN A 192.33.14.30\n",
      "c.gtld-servers.net. 172800 IN A 192.26.92.30\n",
      "d.gtld-servers.net. 172800 IN A 192.31.80.30\n",
      "e.gtld-servers.net. 172800 IN A 192.12.94.30\n",
      "f.gtld-servers.net. 172800 IN A 192.35.51.30\n",
      "g.gtld-servers.net. 172800 IN A 192.42.93.30\n",
      "h.gtld-servers.net. 172800 IN A 192.54.112.30\n",
      "i.gtld-servers.net. 172800 IN A 192.43.172.30\n",
      "j.gtld-servers.net. 172800 IN A 192.48.79.30\n",
      "k.gtld-servers.net. 172800 IN A 192.52.178.30\n",
      "l.gtld-servers.net. 172800 IN A 192.41.162.30\n",
      "m.gtld-servers.net. 172800 IN A 192.55.83.30\n",
      "a.gtld-servers.net. 172800 IN AAAA 2001:503:a83e::2:30\n"
     ]
    }
   ],
   "source": [
    "d_query = dns.message.make_query('opthw.xdwscache.speedcdns.com', 'A')\n",
    "response10 = dns.query.udp(d_query, '198.41.0.4')\n",
    "print_response(response10)"
   ]
  },
  {
   "cell_type": "code",
   "execution_count": 121,
   "metadata": {},
   "outputs": [
    {
     "name": "stdout",
     "output_type": "stream",
     "text": [
      "\n",
      " QUESTION:\n",
      "opthw.xdwscache.speedcdns.com. IN A\n",
      "\n",
      " ANSWER:\n",
      "\n",
      " AUTHORITY:\n",
      "speedcdns.com. 172800 IN NS dns4.speedcdns.info.\n",
      "speedcdns.com. 172800 IN NS dns5.speedcdns.info.\n",
      "speedcdns.com. 172800 IN NS dns3.speedcdns.info.\n",
      "speedcdns.com. 172800 IN NS dns2.speedcdns.info.\n",
      "speedcdns.com. 172800 IN NS dns1.speedcdns.info.\n",
      "\n",
      " ADDITIONAL:\n"
     ]
    }
   ],
   "source": [
    "response11 = dns.query.udp(d_query, '192.5.6.30')\n",
    "print_response(response11)"
   ]
  },
  {
   "cell_type": "code",
   "execution_count": 122,
   "metadata": {},
   "outputs": [
    {
     "name": "stdout",
     "output_type": "stream",
     "text": [
      "\n",
      " QUESTION:\n",
      "dns4.speedcdns.info. IN A\n",
      "\n",
      " ANSWER:\n",
      "\n",
      " AUTHORITY:\n",
      "info. 172800 IN NS a0.info.afilias-nst.info.\n",
      "info. 172800 IN NS a2.info.afilias-nst.info.\n",
      "info. 172800 IN NS b0.info.afilias-nst.org.\n",
      "info. 172800 IN NS b2.info.afilias-nst.org.\n",
      "info. 172800 IN NS c0.info.afilias-nst.info.\n",
      "info. 172800 IN NS d0.info.afilias-nst.org.\n",
      "\n",
      " ADDITIONAL:\n",
      "a0.info.afilias-nst.info. 172800 IN A 199.254.31.1\n",
      "a2.info.afilias-nst.info. 172800 IN A 199.249.113.1\n",
      "b0.info.afilias-nst.org. 172800 IN A 199.254.48.1\n",
      "b2.info.afilias-nst.org. 172800 IN A 199.249.121.1\n",
      "c0.info.afilias-nst.info. 172800 IN A 199.254.49.1\n",
      "d0.info.afilias-nst.org. 172800 IN A 199.254.50.1\n",
      "a0.info.afilias-nst.info. 172800 IN AAAA 2001:500:19::1\n",
      "a2.info.afilias-nst.info. 172800 IN AAAA 2001:500:41::1\n",
      "b0.info.afilias-nst.org. 172800 IN AAAA 2001:500:1a::1\n",
      "b2.info.afilias-nst.org. 172800 IN AAAA 2001:500:49::1\n",
      "c0.info.afilias-nst.info. 172800 IN AAAA 2001:500:1b::1\n",
      "d0.info.afilias-nst.org. 172800 IN AAAA 2001:500:1c::1\n"
     ]
    }
   ],
   "source": [
    "e_query = dns.message.make_query('dns4.speedcdns.info', 'A')\n",
    "response12 = dns.query.udp(e_query, '198.41.0.4')\n",
    "print_response(response12)"
   ]
  },
  {
   "cell_type": "code",
   "execution_count": 124,
   "metadata": {},
   "outputs": [
    {
     "name": "stdout",
     "output_type": "stream",
     "text": [
      "\n",
      " QUESTION:\n",
      "dns4.speedcdns.info. IN A\n",
      "\n",
      " ANSWER:\n",
      "\n",
      " AUTHORITY:\n",
      "speedcdns.info. 86400 IN NS ns3.speedcdns.info.\n",
      "speedcdns.info. 86400 IN NS ns2.speedcdns.info.\n",
      "speedcdns.info. 86400 IN NS ns5.speedcdns.info.\n",
      "speedcdns.info. 86400 IN NS ns4.speedcdns.info.\n",
      "speedcdns.info. 86400 IN NS ns1.speedcdns.info.\n",
      "\n",
      " ADDITIONAL:\n",
      "ns1.speedcdns.info. 86400 IN A 220.243.237.83\n",
      "ns2.speedcdns.info. 86400 IN A 203.130.63.64\n",
      "ns3.speedcdns.info. 86400 IN A 203.130.55.52\n",
      "ns4.speedcdns.info. 86400 IN A 203.130.58.104\n",
      "ns5.speedcdns.info. 86400 IN A 220.243.194.17\n"
     ]
    }
   ],
   "source": [
    "response13 = dns.query.udp(e_query, '199.254.31.1')\n",
    "print_response(response13)"
   ]
  },
  {
   "cell_type": "code",
   "execution_count": 146,
   "metadata": {},
   "outputs": [
    {
     "data": {
      "text/plain": [
       "[<DNS IN A rdata: 203.130.55.52>]"
      ]
     },
     "execution_count": 146,
     "metadata": {},
     "output_type": "execute_result"
    }
   ],
   "source": [
    "response13.additional[2].items"
   ]
  },
  {
   "cell_type": "code",
   "execution_count": 336,
   "metadata": {},
   "outputs": [
    {
     "name": "stdout",
     "output_type": "stream",
     "text": [
      "\n",
      " QUESTION:\n",
      "dns4.speedcdns.info. IN A\n",
      "\n",
      " ANSWER:\n",
      "dns4.speedcdns.info. 86400 IN A 157.185.164.91\n",
      "\n",
      " AUTHORITY:\n",
      "speedcdns.info. 86400 IN NS ns1.speedcdns.info.\n",
      "speedcdns.info. 86400 IN NS ns5.speedcdns.info.\n",
      "speedcdns.info. 86400 IN NS ns2.speedcdns.info.\n",
      "speedcdns.info. 86400 IN NS ns4.speedcdns.info.\n",
      "speedcdns.info. 86400 IN NS ns3.speedcdns.info.\n",
      "\n",
      " ADDITIONAL:\n",
      "ns1.speedcdns.info. 7200 IN A 70.39.191.24\n",
      "ns5.speedcdns.info. 86400 IN A 203.130.63.64\n",
      "ns2.speedcdns.info. 7200 IN A 157.185.149.133\n",
      "ns4.speedcdns.info. 7200 IN A 157.185.166.19\n",
      "ns3.speedcdns.info. 7200 IN A 220.243.254.26\n"
     ]
    }
   ],
   "source": [
    "# 220.243.237.83 time out!\n",
    "# response14 = dns.query.udp(e_query, '220.243.237.83', 5)\n",
    "response14 = dns.query.udp(e_query, '203.130.63.64', 5)\n",
    "\n",
    "print_response(response14)"
   ]
  },
  {
   "cell_type": "code",
   "execution_count": 333,
   "metadata": {},
   "outputs": [
    {
     "name": "stdout",
     "output_type": "stream",
     "text": [
      "\n",
      " QUESTION:\n",
      "opthw.xdwscache.speedcdns.com. IN A\n",
      "\n",
      " ANSWER:\n",
      "opthw.xdwscache.speedcdns.com. 60 IN A 203.130.53.126\n",
      "\n",
      " AUTHORITY:\n",
      "speedcdns.com. 86400 IN NS dns4.speedcdns.info.\n",
      "speedcdns.com. 86400 IN NS dns3.speedcdns.info.\n",
      "speedcdns.com. 86400 IN NS dns2.speedcdns.info.\n",
      "speedcdns.com. 86400 IN NS dns5.speedcdns.info.\n",
      "speedcdns.com. 86400 IN NS dns1.speedcdns.info.\n",
      "\n",
      " ADDITIONAL:\n",
      "dns4.speedcdns.info. 86400 IN A 157.185.164.91\n",
      "dns3.speedcdns.info. 7200 IN A 203.130.53.12\n",
      "dns2.speedcdns.info. 7200 IN A 220.243.215.18\n",
      "dns5.speedcdns.info. 86400 IN A 203.130.63.64\n",
      "dns1.speedcdns.info. 7200 IN A 157.185.170.124\n"
     ]
    }
   ],
   "source": [
    "response15 = dns.query.udp(d_query, '157.185.164.91')\n",
    "print_response(response15)"
   ]
  },
  {
   "cell_type": "code",
   "execution_count": 79,
   "metadata": {
    "collapsed": true
   },
   "outputs": [],
   "source": [
    "def check_response(response):\n",
    "    '''Check whether the response has a valid IP address in its ANSWER section.\n",
    "    \n",
    "    Args:\n",
    "        response (dns.message.Message): the response of a single query\n",
    "    \n",
    "    Return:\n",
    "        True or False\n",
    "    '''\n",
    "    try:\n",
    "        ip = get_ip_from_rrset(response.answer[0])\n",
    "        ipaddress.ip_address(ip)\n",
    "        return True\n",
    "    except:\n",
    "        return False   "
   ]
  },
  {
   "cell_type": "code",
   "execution_count": 85,
   "metadata": {},
   "outputs": [
    {
     "name": "stdout",
     "output_type": "stream",
     "text": [
      "id 30407\n",
      "opcode QUERY\n",
      "rcode NOERROR\n",
      "flags QR AA RD\n",
      ";QUESTION\n",
      "turner-tls.map.fastly.net. IN A\n",
      ";ANSWER\n",
      "turner-tls.map.fastly.net. 30 IN A 151.101.21.67\n",
      ";AUTHORITY\n",
      "fastly.net. 7200 IN NS ns1.fastly.net.\n",
      "fastly.net. 7200 IN NS ns2.fastly.net.\n",
      "fastly.net. 7200 IN NS ns3.fastly.net.\n",
      "fastly.net. 7200 IN NS ns4.fastly.net.\n",
      ";ADDITIONAL\n"
     ]
    }
   ],
   "source": [
    "print(response6)"
   ]
  },
  {
   "cell_type": "code",
   "execution_count": 88,
   "metadata": {},
   "outputs": [
    {
     "name": "stdout",
     "output_type": "stream",
     "text": [
      "caitao\n"
     ]
    }
   ],
   "source": [
    "if check_response(response6):\n",
    "    print('caitao')"
   ]
  },
  {
   "cell_type": "code",
   "execution_count": 83,
   "metadata": {
    "collapsed": true
   },
   "outputs": [],
   "source": [
    "def get_ip_from_rrset(rrset):\n",
    "    ''' Get IP address from a RRset (from ADDITIONAL section)\n",
    "    \n",
    "    Args:\n",
    "        rrset (A DNS RRset ): contains an IP address that needs to be extracted\n",
    "        \n",
    "    Return:\n",
    "        ip (str): the IP address in the RRset\n",
    "    '''\n",
    "    try:\n",
    "        item = rrset.items[0]\n",
    "        return item.to_text()\n",
    "    except Exception as e:\n",
    "        print('Oops! Some issue with rrset: ', e)"
   ]
  },
  {
   "cell_type": "code",
   "execution_count": 78,
   "metadata": {},
   "outputs": [
    {
     "data": {
      "text/plain": [
       "'151.101.21.67'"
      ]
     },
     "execution_count": 78,
     "metadata": {},
     "output_type": "execute_result"
    }
   ],
   "source": [
    "get_ip_from_rrset(response6.answer[0])"
   ]
  },
  {
   "cell_type": "code",
   "execution_count": 13,
   "metadata": {
    "collapsed": true
   },
   "outputs": [],
   "source": [
    "import ipaddress"
   ]
  },
  {
   "cell_type": "code",
   "execution_count": 20,
   "metadata": {},
   "outputs": [
    {
     "name": "stdout",
     "output_type": "stream",
     "text": [
      "True\n",
      "True\n",
      "False\n"
     ]
    }
   ],
   "source": [
    "def valid_ip(address):\n",
    "    try: \n",
    "        ipaddress.ip_address(address)\n",
    "        return True\n",
    "    except:\n",
    "        return False\n",
    "\n",
    "print(valid_ip('10.10.20.30'))\n",
    "print(valid_ip('2001:DB8::1'))\n",
    "print(valid_ip('gibberish'))"
   ]
  },
  {
   "cell_type": "code",
   "execution_count": 339,
   "metadata": {},
   "outputs": [
    {
     "name": "stdout",
     "output_type": "stream",
     "text": [
      "0\n",
      "caitao 0\n",
      "caitao 1\n",
      "2\n",
      "caitao 2\n",
      "3\n",
      "caitao 3\n",
      "caitao 4\n",
      "caitao 5\n",
      "6\n",
      "caitao 6\n",
      "caitao 7\n",
      "caitao 8\n",
      "9\n",
      "caitao 9\n"
     ]
    }
   ],
   "source": [
    "for i in range(0, 10):\n",
    "    try:\n",
    "        raise_exception(i)\n",
    "    except:\n",
    "        continue\n",
    "    print('caitao', i)"
   ]
  },
  {
   "cell_type": "code",
   "execution_count": 338,
   "metadata": {
    "collapsed": true
   },
   "outputs": [],
   "source": [
    "def raise_exception(i):\n",
    "    try:\n",
    "        a, b = 1, 0\n",
    "        if random.randint(0,1) == 1:\n",
    "            c = a/b\n",
    "    except:\n",
    "        print(i)"
   ]
  },
  {
   "cell_type": "code",
   "execution_count": 340,
   "metadata": {},
   "outputs": [
    {
     "name": "stdout",
     "output_type": "stream",
     "text": [
      "\n",
      " QUESTION:\n",
      "dns1.speedcdns.info. IN A\n",
      "\n",
      " ANSWER:\n",
      "\n",
      " AUTHORITY:\n",
      "info. 172800 IN NS a0.info.afilias-nst.info.\n",
      "info. 172800 IN NS a2.info.afilias-nst.info.\n",
      "info. 172800 IN NS b0.info.afilias-nst.org.\n",
      "info. 172800 IN NS b2.info.afilias-nst.org.\n",
      "info. 172800 IN NS c0.info.afilias-nst.info.\n",
      "info. 172800 IN NS d0.info.afilias-nst.org.\n",
      "\n",
      " ADDITIONAL:\n",
      "a0.info.afilias-nst.info. 172800 IN A 199.254.31.1\n",
      "a2.info.afilias-nst.info. 172800 IN A 199.249.113.1\n",
      "b0.info.afilias-nst.org. 172800 IN A 199.254.48.1\n",
      "b2.info.afilias-nst.org. 172800 IN A 199.249.121.1\n",
      "c0.info.afilias-nst.info. 172800 IN A 199.254.49.1\n",
      "d0.info.afilias-nst.org. 172800 IN A 199.254.50.1\n",
      "a0.info.afilias-nst.info. 172800 IN AAAA 2001:500:19::1\n",
      "a2.info.afilias-nst.info. 172800 IN AAAA 2001:500:41::1\n",
      "b0.info.afilias-nst.org. 172800 IN AAAA 2001:500:1a::1\n",
      "b2.info.afilias-nst.org. 172800 IN AAAA 2001:500:49::1\n",
      "c0.info.afilias-nst.info. 172800 IN AAAA 2001:500:1b::1\n",
      "d0.info.afilias-nst.org. 172800 IN AAAA 2001:500:1c::1\n"
     ]
    }
   ],
   "source": [
    "e_query = dns.message.make_query('dns1.speedcdns.info', 'A')\n",
    "response12 = dns.query.udp(e_query, '198.41.0.4')\n",
    "print_response(response12)"
   ]
  },
  {
   "cell_type": "code",
   "execution_count": 341,
   "metadata": {},
   "outputs": [
    {
     "name": "stdout",
     "output_type": "stream",
     "text": [
      "\n",
      " QUESTION:\n",
      "dns1.speedcdns.info. IN A\n",
      "\n",
      " ANSWER:\n",
      "\n",
      " AUTHORITY:\n",
      "speedcdns.info. 86400 IN NS ns1.speedcdns.info.\n",
      "speedcdns.info. 86400 IN NS ns2.speedcdns.info.\n",
      "speedcdns.info. 86400 IN NS ns3.speedcdns.info.\n",
      "speedcdns.info. 86400 IN NS ns4.speedcdns.info.\n",
      "speedcdns.info. 86400 IN NS ns5.speedcdns.info.\n",
      "\n",
      " ADDITIONAL:\n",
      "ns1.speedcdns.info. 86400 IN A 220.243.237.83\n",
      "ns2.speedcdns.info. 86400 IN A 203.130.63.64\n",
      "ns3.speedcdns.info. 86400 IN A 203.130.55.52\n",
      "ns4.speedcdns.info. 86400 IN A 203.130.58.104\n",
      "ns5.speedcdns.info. 86400 IN A 220.243.194.17\n"
     ]
    }
   ],
   "source": [
    "response12 = dns.query.udp(e_query, '199.249.113.1')\n",
    "print_response(response12)"
   ]
  },
  {
   "cell_type": "code",
   "execution_count": 343,
   "metadata": {},
   "outputs": [
    {
     "ename": "Timeout",
     "evalue": "The DNS operation timed out.",
     "output_type": "error",
     "traceback": [
      "\u001b[0;31m---------------------------------------------------------------------------\u001b[0m",
      "\u001b[0;31mTimeout\u001b[0m                                   Traceback (most recent call last)",
      "\u001b[0;32m<ipython-input-343-1a6cb144d8ff>\u001b[0m in \u001b[0;36m<module>\u001b[0;34m()\u001b[0m\n\u001b[0;32m----> 1\u001b[0;31m \u001b[0mresponse12\u001b[0m \u001b[0;34m=\u001b[0m \u001b[0mdns\u001b[0m\u001b[0;34m.\u001b[0m\u001b[0mquery\u001b[0m\u001b[0;34m.\u001b[0m\u001b[0mudp\u001b[0m\u001b[0;34m(\u001b[0m\u001b[0me_query\u001b[0m\u001b[0;34m,\u001b[0m \u001b[0;34m'220.243.237.83'\u001b[0m\u001b[0;34m,\u001b[0m \u001b[0;36m1\u001b[0m\u001b[0;34m)\u001b[0m\u001b[0;34m\u001b[0m\u001b[0m\n\u001b[0m\u001b[1;32m      2\u001b[0m \u001b[0mprint_response\u001b[0m\u001b[0;34m(\u001b[0m\u001b[0mresponse12\u001b[0m\u001b[0;34m)\u001b[0m\u001b[0;34m\u001b[0m\u001b[0m\n",
      "\u001b[0;32m/anaconda3/lib/python3.6/site-packages/dns/query.py\u001b[0m in \u001b[0;36mudp\u001b[0;34m(q, where, timeout, port, af, source, source_port, ignore_unexpected, one_rr_per_rrset)\u001b[0m\n\u001b[1;32m    238\u001b[0m         \u001b[0ms\u001b[0m\u001b[0;34m.\u001b[0m\u001b[0msendto\u001b[0m\u001b[0;34m(\u001b[0m\u001b[0mwire\u001b[0m\u001b[0;34m,\u001b[0m \u001b[0mdestination\u001b[0m\u001b[0;34m)\u001b[0m\u001b[0;34m\u001b[0m\u001b[0m\n\u001b[1;32m    239\u001b[0m         \u001b[0;32mwhile\u001b[0m \u001b[0;36m1\u001b[0m\u001b[0;34m:\u001b[0m\u001b[0;34m\u001b[0m\u001b[0m\n\u001b[0;32m--> 240\u001b[0;31m             \u001b[0m_wait_for_readable\u001b[0m\u001b[0;34m(\u001b[0m\u001b[0ms\u001b[0m\u001b[0;34m,\u001b[0m \u001b[0mexpiration\u001b[0m\u001b[0;34m)\u001b[0m\u001b[0;34m\u001b[0m\u001b[0m\n\u001b[0m\u001b[1;32m    241\u001b[0m             \u001b[0;34m(\u001b[0m\u001b[0mwire\u001b[0m\u001b[0;34m,\u001b[0m \u001b[0mfrom_address\u001b[0m\u001b[0;34m)\u001b[0m \u001b[0;34m=\u001b[0m \u001b[0ms\u001b[0m\u001b[0;34m.\u001b[0m\u001b[0mrecvfrom\u001b[0m\u001b[0;34m(\u001b[0m\u001b[0;36m65535\u001b[0m\u001b[0;34m)\u001b[0m\u001b[0;34m\u001b[0m\u001b[0m\n\u001b[1;32m    242\u001b[0m             \u001b[0;32mif\u001b[0m \u001b[0m_addresses_equal\u001b[0m\u001b[0;34m(\u001b[0m\u001b[0maf\u001b[0m\u001b[0;34m,\u001b[0m \u001b[0mfrom_address\u001b[0m\u001b[0;34m,\u001b[0m \u001b[0mdestination\u001b[0m\u001b[0;34m)\u001b[0m \u001b[0;32mor\u001b[0m\u001b[0;31m \u001b[0m\u001b[0;31m\\\u001b[0m\u001b[0;34m\u001b[0m\u001b[0m\n",
      "\u001b[0;32m/anaconda3/lib/python3.6/site-packages/dns/query.py\u001b[0m in \u001b[0;36m_wait_for_readable\u001b[0;34m(s, expiration)\u001b[0m\n\u001b[1;32m    155\u001b[0m \u001b[0;34m\u001b[0m\u001b[0m\n\u001b[1;32m    156\u001b[0m \u001b[0;32mdef\u001b[0m \u001b[0m_wait_for_readable\u001b[0m\u001b[0;34m(\u001b[0m\u001b[0ms\u001b[0m\u001b[0;34m,\u001b[0m \u001b[0mexpiration\u001b[0m\u001b[0;34m)\u001b[0m\u001b[0;34m:\u001b[0m\u001b[0;34m\u001b[0m\u001b[0m\n\u001b[0;32m--> 157\u001b[0;31m     \u001b[0m_wait_for\u001b[0m\u001b[0;34m(\u001b[0m\u001b[0ms\u001b[0m\u001b[0;34m,\u001b[0m \u001b[0;32mTrue\u001b[0m\u001b[0;34m,\u001b[0m \u001b[0;32mFalse\u001b[0m\u001b[0;34m,\u001b[0m \u001b[0;32mTrue\u001b[0m\u001b[0;34m,\u001b[0m \u001b[0mexpiration\u001b[0m\u001b[0;34m)\u001b[0m\u001b[0;34m\u001b[0m\u001b[0m\n\u001b[0m\u001b[1;32m    158\u001b[0m \u001b[0;34m\u001b[0m\u001b[0m\n\u001b[1;32m    159\u001b[0m \u001b[0;34m\u001b[0m\u001b[0m\n",
      "\u001b[0;32m/anaconda3/lib/python3.6/site-packages/dns/query.py\u001b[0m in \u001b[0;36m_wait_for\u001b[0;34m(fd, readable, writable, error, expiration)\u001b[0m\n\u001b[1;32m    130\u001b[0m         \u001b[0;32mtry\u001b[0m\u001b[0;34m:\u001b[0m\u001b[0;34m\u001b[0m\u001b[0m\n\u001b[1;32m    131\u001b[0m             \u001b[0;32mif\u001b[0m \u001b[0;32mnot\u001b[0m \u001b[0m_polling_backend\u001b[0m\u001b[0;34m(\u001b[0m\u001b[0mfd\u001b[0m\u001b[0;34m,\u001b[0m \u001b[0mreadable\u001b[0m\u001b[0;34m,\u001b[0m \u001b[0mwritable\u001b[0m\u001b[0;34m,\u001b[0m \u001b[0merror\u001b[0m\u001b[0;34m,\u001b[0m \u001b[0mtimeout\u001b[0m\u001b[0;34m)\u001b[0m\u001b[0;34m:\u001b[0m\u001b[0;34m\u001b[0m\u001b[0m\n\u001b[0;32m--> 132\u001b[0;31m                 \u001b[0;32mraise\u001b[0m \u001b[0mdns\u001b[0m\u001b[0;34m.\u001b[0m\u001b[0mexception\u001b[0m\u001b[0;34m.\u001b[0m\u001b[0mTimeout\u001b[0m\u001b[0;34m\u001b[0m\u001b[0m\n\u001b[0m\u001b[1;32m    133\u001b[0m         \u001b[0;32mexcept\u001b[0m \u001b[0mselect_error\u001b[0m \u001b[0;32mas\u001b[0m \u001b[0me\u001b[0m\u001b[0;34m:\u001b[0m\u001b[0;34m\u001b[0m\u001b[0m\n\u001b[1;32m    134\u001b[0m             \u001b[0;32mif\u001b[0m \u001b[0me\u001b[0m\u001b[0;34m.\u001b[0m\u001b[0margs\u001b[0m\u001b[0;34m[\u001b[0m\u001b[0;36m0\u001b[0m\u001b[0;34m]\u001b[0m \u001b[0;34m!=\u001b[0m \u001b[0merrno\u001b[0m\u001b[0;34m.\u001b[0m\u001b[0mEINTR\u001b[0m\u001b[0;34m:\u001b[0m\u001b[0;34m\u001b[0m\u001b[0m\n",
      "\u001b[0;31mTimeout\u001b[0m: The DNS operation timed out."
     ]
    }
   ],
   "source": [
    "response12 = dns.query.udp(e_query, '220.243.237.83', 1)\n",
    "print_response(response12)"
   ]
  },
  {
   "cell_type": "code",
   "execution_count": null,
   "metadata": {
    "collapsed": true
   },
   "outputs": [],
   "source": []
  }
 ],
 "metadata": {
  "kernelspec": {
   "display_name": "Python 3",
   "language": "python",
   "name": "python3"
  },
  "language_info": {
   "codemirror_mode": {
    "name": "ipython",
    "version": 3
   },
   "file_extension": ".py",
   "mimetype": "text/x-python",
   "name": "python",
   "nbconvert_exporter": "python",
   "pygments_lexer": "ipython3",
   "version": "3.6.3"
  }
 },
 "nbformat": 4,
 "nbformat_minor": 2
}
