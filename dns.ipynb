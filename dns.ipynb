{
 "cells": [
  {
   "cell_type": "code",
   "execution_count": 2,
   "metadata": {},
   "outputs": [],
   "source": [
    "import dns.query\n",
    "import dns.message\n",
    "import re\n",
    "import ipaddress\n",
    "import time\n",
    "import datetime\n",
    "import random"
   ]
  },
  {
   "cell_type": "code",
   "execution_count": 3,
   "metadata": {
    "collapsed": true
   },
   "outputs": [],
   "source": [
    "cache = {}"
   ]
  },
  {
   "cell_type": "code",
   "execution_count": 4,
   "metadata": {},
   "outputs": [],
   "source": [
    "root_servers = {}\n",
    "\n",
    "root_servers['a'] = '198.41.0.4'\n",
    "root_servers['b'] = '199.9.14.201'\n",
    "root_servers['c'] = '192.33.4.12'\n",
    "root_servers['d'] = '199.7.91.13'\n",
    "root_servers['e'] = '192.203.230.10'\n",
    "root_servers['f'] = '192.5.5.241'\n",
    "root_servers['g'] = '192.112.36.4'\n",
    "root_servers['h'] = '198.97.190.53'\n",
    "root_servers['i'] = '192.36.148.17'\n",
    "root_servers['j'] = '192.58.128.30'\n",
    "root_servers['k'] = '193.0.14.129'\n",
    "root_servers['l'] = '199.7.83.42'\n",
    "root_servers['n'] = '202.12.27.33'"
   ]
  },
  {
   "cell_type": "code",
   "execution_count": 21,
   "metadata": {
    "collapsed": true
   },
   "outputs": [],
   "source": [
    "# parameters\n",
    "\n",
    "hostname = 'www.163.com'\n",
    "rdtype = 'A'"
   ]
  },
  {
   "cell_type": "code",
   "execution_count": 6,
   "metadata": {
    "collapsed": true
   },
   "outputs": [],
   "source": [
    "def find_cache(hostname, rdtype):\n",
    "    ''' Find whether cache already has the record\n",
    "    \n",
    "    Args:\n",
    "        hostname (str): hostname\n",
    "        rdtype (str): type A, NS, or MX\n",
    "    '''\n",
    "    key = hostname + ' ' + rdtype\n",
    "    "
   ]
  },
  {
   "cell_type": "code",
   "execution_count": 7,
   "metadata": {
    "collapsed": true
   },
   "outputs": [],
   "source": [
    "key = hostname + ' ' + rdtype"
   ]
  },
  {
   "cell_type": "code",
   "execution_count": 8,
   "metadata": {
    "collapsed": true
   },
   "outputs": [],
   "source": [
    "cache[key] = '151.101.21.67'"
   ]
  },
  {
   "cell_type": "code",
   "execution_count": 218,
   "metadata": {},
   "outputs": [
    {
     "name": "stdout",
     "output_type": "stream",
     "text": [
      "151.101.21.67\n"
     ]
    }
   ],
   "source": [
    "print(cache.get(key))"
   ]
  },
  {
   "cell_type": "code",
   "execution_count": 49,
   "metadata": {},
   "outputs": [],
   "source": [
    "def single_iterate(hostname, rdtype, where, timeout=1):\n",
    "    ''' A single iterative DNS query\n",
    "    \n",
    "    Args:\n",
    "        hostname (str): host to be queried\n",
    "        rdtype (str): type A, NS, or MX\n",
    "        where (str):  IP address of query destination\n",
    "    \n",
    "    Return: \n",
    "        response (dns.message.Message): the response of a single query\n",
    "        \n",
    "    Exception:\n",
    "        May raise an exception\n",
    "    '''\n",
    "    a_query = dns.message.make_query(hostname, rdtype)\n",
    "    try:\n",
    "        #print('single iterate: ', hostname, rdtype, where)\n",
    "        response = dns.query.udp(a_query, where, timeout)\n",
    "        return response\n",
    "    except Exception as e:\n",
    "        raise e  # Let the block who call this function catch the exception"
   ]
  },
  {
   "cell_type": "code",
   "execution_count": 10,
   "metadata": {
    "collapsed": true
   },
   "outputs": [],
   "source": [
    "def check_response(response):\n",
    "    '''Check whether the response has a valid IP address in its ANSWER section.\n",
    "    \n",
    "    Args:\n",
    "        response (dns.message.Message): the response of a single query\n",
    "    \n",
    "    Return:\n",
    "        True or False\n",
    "    '''\n",
    "    try:\n",
    "        ip = get_ip_from_rrset(response.answer[0])\n",
    "        ipaddress.ip_address(ip)\n",
    "        return True\n",
    "    except Exception as e:\n",
    "        return False            "
   ]
  },
  {
   "cell_type": "code",
   "execution_count": 11,
   "metadata": {},
   "outputs": [],
   "source": [
    "def dns_resolver(hostname, rdtype):\n",
    "    for root in root_servers.values():\n",
    "        response = single_iterate(hostname, rdtype, root)\n",
    "        if len(response.additional) == 0:\n",
    "            continue                     # root doesn't have top level domain information\n",
    "        while(len(response.answer)==0):  # answer section is empty, then keep interating\n",
    "            for rrset in response.additional:\n",
    "                next_ip = get_ip_from_rrset(rrset)\n",
    "                response = single_iterate(hostname, rdtype, next_ip)\n",
    "                if len(response.answer)!=0 or len(response.additional)!=0: # if exist answer or exist additional, then the iterate is good\n",
    "                    break  # if both no answer and no additional, then iterate agian using another ip\n",
    "        if check_response(response): # ip is in the response\n",
    "            return response\n",
    "        else:                         # CNAME is in the response\n",
    "            for rrset in response.answer:\n",
    "                cname = get_cname_from_rrset(rrset)\n",
    "                print(cname)\n",
    "                return dns_resolver(cname, rdtype)"
   ]
  },
  {
   "cell_type": "code",
   "execution_count": 89,
   "metadata": {},
   "outputs": [],
   "source": [
    "def dns_resolver_2(hostname, rdtype, cnames):\n",
    "    ''' My DNS resolver\n",
    "    \n",
    "    Args:\n",
    "        hostname (str): target hostname\n",
    "        rdtype (str):   type A, NS, or MX\n",
    "        cnames (list):  a list of CNAMES during a dns query\n",
    "        \n",
    "    Return:\n",
    "        response (dns.message.Message): response of this dns query\n",
    "    '''\n",
    "    for root in root_servers.values():\n",
    "        try:\n",
    "            response = single_iterate(hostname, rdtype, root, timeout=1)\n",
    "            if len(response.additional) == 0:\n",
    "                continue                           # root doesn't have top level domain information\n",
    "            while(len(response.answer)==0 ):       # if ANSWER section is empty, then keep iterating\n",
    "                if len(response.additional) > 0:   # use the IP in ADDITIONAL section\n",
    "                    for rrset in response.additional:\n",
    "                        next_ip = get_ip_from_rrset(rrset)\n",
    "                        try:\n",
    "                            response2 = single_iterate(hostname, rdtype, next_ip, timeout=1)\n",
    "                            response = response2\n",
    "                            break\n",
    "                        except Exception as e:\n",
    "                            pass  # print('Oops! Authoratative server timeout, try next one. ', e)\n",
    "                else:             # if both ANSWER and ADDITIONAL is empty, then find the IP of AUTHORITY  \n",
    "                    ns = get_ns_from_authority(response)\n",
    "                    response2 = dns_resolver_2(ns, rdtype, cnames)\n",
    "                    authority_answer = response2.answer[0]\n",
    "                    response.additional.append(authority_answer)  # add rrset that contains IP of a AUTHORITY to response\n",
    "            if check_response(response):  # ip is in the response\n",
    "                return response\n",
    "            else:                         # CNAME is in the response\n",
    "                for rrset in response.answer:\n",
    "                    cname = get_cname_from_rrset(rrset)\n",
    "                    cnames.append(cname)\n",
    "                    return dns_resolver_2(cname, rdtype, cnames)\n",
    "            break\n",
    "        except Exception as e:\n",
    "            pass   # print('Oops! Some error, start from a new root server.', e)"
   ]
  },
  {
   "cell_type": "code",
   "execution_count": 13,
   "metadata": {
    "collapsed": true
   },
   "outputs": [],
   "source": [
    "def get_ns_from_authority(response):\n",
    "    '''Get a name server from AUTHORITY.\n",
    "    In some cases, there is no ADDITIONAL section, just AUTHORITY section!\n",
    "    \n",
    "    Args:\n",
    "        response (dns.message.Message)\n",
    "        \n",
    "    Return:\n",
    "        string: A name of ns server\n",
    "    '''\n",
    "    rrsets = response.authority[0].items\n",
    "    index = random.randint(0, len(rrsets)-1)\n",
    "    return rrsets[index].to_text()"
   ]
  },
  {
   "cell_type": "code",
   "execution_count": 88,
   "metadata": {},
   "outputs": [
    {
     "name": "stdout",
     "output_type": "stream",
     "text": [
      "QUESTION SECTION:\n",
      "www.163.com.                           IN   A    \n",
      "\n",
      "ANSWER SECTION:\n",
      "www.163.com.                     60    IN   CNAME  www.163.com.lxdns.com.\n",
      "www.163.com.lxdns.com.           60    IN   CNAME  opthw.xdwscache.speedcdns.com.\n",
      "opthw.xdwscache.speedcdns.com.   60    IN   A      203.130.53.126\n",
      "\n",
      "Query time: 2654 msec\n",
      "WHEN: Mon Feb 12 16:00:42 2018\n",
      "MSG SIZE rcvd:  205\n"
     ]
    }
   ],
   "source": [
    "hostname = 'www.163.com'\n",
    "rdtype = 'A'\n",
    "cnames = []\n",
    "\n",
    "start = time.time()\n",
    "\n",
    "myresponse = dns_resolver_2(hostname, rdtype, cnames)\n",
    "\n",
    "elapsed = time.time() - start\n",
    "\n",
    "output(hostname, rdtype, myresponse, elapsed, cnames)"
   ]
  },
  {
   "cell_type": "code",
   "execution_count": 14,
   "metadata": {
    "collapsed": true
   },
   "outputs": [],
   "source": [
    "def get_cname_from_rrset(rrset):\n",
    "    '''Get CNAME from a RRset (from ANSWER section)\n",
    "    \n",
    "    Args:\n",
    "        rrset (A DNS RRset): contains an CNAME to be extracted\n",
    "        \n",
    "    Returns:\n",
    "        CNAME (str): the CNAME in the RRset\n",
    "    '''\n",
    "    try:\n",
    "        item = rrset.items[0]\n",
    "        return item.to_text()\n",
    "    except Exception as e:\n",
    "        print('Oops! Some issue with cname: ', e)"
   ]
  },
  {
   "cell_type": "code",
   "execution_count": 17,
   "metadata": {
    "collapsed": true
   },
   "outputs": [],
   "source": [
    "def get_ip_from_rrset(rrset):\n",
    "    ''' Get IP address from a RRset (from ADDITIONAL section)\n",
    "    \n",
    "    Args:\n",
    "        rrset (A DNS RRset ): contains an IP address to be extracted\n",
    "        \n",
    "    Return:\n",
    "        ip (str): the IP address in the RRset\n",
    "    '''\n",
    "    try:\n",
    "        item = rrset.items[0]\n",
    "        return item.to_text()\n",
    "    except Exception as e:\n",
    "        print('Oops! Some issue with ip: ', e)"
   ]
  },
  {
   "cell_type": "code",
   "execution_count": 87,
   "metadata": {},
   "outputs": [],
   "source": [
    "def output(hostname, rdtype, myresponse, elapsed, cnames):\n",
    "    '''The output of the program\n",
    "    \n",
    "    Args:\n",
    "        hostname (str): host to be queried\n",
    "        rdtype (str): type A, NS, or MX\n",
    "        myresponse (dns.message.Message): reponse from the DNS query\n",
    "        elapsed (float): time elapsed\n",
    "        cnames (list): cnames during a dns query\n",
    "    '''\n",
    "    answers = []\n",
    "    for rrset in myresponse.answer:\n",
    "        for item in rrset.items:\n",
    "            answers.append(item.to_text())\n",
    "            \n",
    "    hostname_ = hostname + '.'\n",
    "    \n",
    "    number = 30\n",
    "    re_number = '(\\d+)(.*)' + answers[0]\n",
    "    match = re.search(re_number, myresponse.to_text())\n",
    "    if match:\n",
    "        number = match.group(1)\n",
    "    number = str(number)\n",
    "    \n",
    "    \n",
    "    first_line = 'QUESTION SECTION:\\n'\n",
    "    second_line = hostname_.ljust(39) + 'IN'.ljust(5) + rdtype.ljust(5) + '\\n\\n'\n",
    "    third_line = 'ANSWER SECTION:\\n'\n",
    "    forth_line = ''\n",
    "    \n",
    "    if len(cnames) > 0:\n",
    "        left = hostname_\n",
    "        for cname in cnames:\n",
    "            forth_line = forth_line + left.ljust(33) + number.ljust(6) + 'IN'.ljust(5) + 'CNAME'.ljust(7) + cname + '\\n'\n",
    "            left = cname\n",
    "        for answer in answers:\n",
    "            forth_line = forth_line + left.ljust(33) + number.ljust(6) + 'IN'.ljust(5) + rdtype.ljust(7) + answer + '\\n'\n",
    "    else:    \n",
    "        for answer in answers:\n",
    "            forth_line = forth_line + hostname_.ljust(33) + number.ljust(6) + 'IN'.ljust(5) + rdtype.ljust(7) + answer + '\\n'\n",
    "    \n",
    "    string = first_line + second_line + third_line + forth_line\n",
    "    print(string)\n",
    "    msg_size = len(string.replace(' ', ''))\n",
    "    print('Query time: ' + str(int(elapsed * 1000)) + ' msec')\n",
    "    print('WHEN:', datetime.datetime.now().strftime(\"%a %b %d %H:%M:%S %Y\"))\n",
    "    print('MSG SIZE rcvd: ', msg_size)"
   ]
  },
  {
   "cell_type": "code",
   "execution_count": 69,
   "metadata": {},
   "outputs": [
    {
     "name": "stdout",
     "output_type": "stream",
     "text": [
      "Oops! Authoratative server timeout, try next one.  The DNS operation timed out.\n",
      "Oops! Authoratative server timeout, try next one.  [Errno 65] No route to host\n",
      "Oops! Authoratative server timeout, try next one.  [Errno 65] No route to host\n",
      "ns3.google.net. 21600 IN A 216.239.36.10\n",
      "QUESTION SECTION:\n",
      "www.google.co.jp.             IN   A    \n",
      "\n",
      "ANSWER SECTION:\n",
      "www.google.co.jp.       300   IN   A      173.194.206.94\n",
      "\n",
      "Query time: 4063 msec\n",
      "WHEN: Mon Feb 12 15:52:15 2018\n",
      "MSG SIZE rcvd:  92\n"
     ]
    }
   ],
   "source": [
    "hostname = 'www.google.co.jp'\n",
    "rdtype = 'A'\n",
    "cnames = []\n",
    "\n",
    "start = time.time()\n",
    "\n",
    "myresponse = dns_resolver_2(hostname, rdtype, cnames)\n",
    "\n",
    "elapsed = time.time() - start\n",
    "\n",
    "output(hostname, rdtype, myresponse, elapsed, cnames)"
   ]
  },
  {
   "cell_type": "code",
   "execution_count": null,
   "metadata": {
    "collapsed": true
   },
   "outputs": [],
   "source": []
  }
 ],
 "metadata": {
  "kernelspec": {
   "display_name": "Python 3",
   "language": "python",
   "name": "python3"
  },
  "language_info": {
   "codemirror_mode": {
    "name": "ipython",
    "version": 3
   },
   "file_extension": ".py",
   "mimetype": "text/x-python",
   "name": "python",
   "nbconvert_exporter": "python",
   "pygments_lexer": "ipython3",
   "version": "3.6.3"
  }
 },
 "nbformat": 4,
 "nbformat_minor": 2
}
